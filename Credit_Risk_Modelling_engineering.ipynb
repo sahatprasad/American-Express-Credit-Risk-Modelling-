{
 "cells": [
  {
   "cell_type": "code",
   "execution_count": 8162,
   "metadata": {},
   "outputs": [],
   "source": [
    "import numpy as np\n",
    "import pandas as pd\n",
    "import matplotlib.pyplot as plt"
   ]
  },
  {
   "cell_type": "code",
   "execution_count": 8163,
   "metadata": {},
   "outputs": [
    {
     "name": "stderr",
     "output_type": "stream",
     "text": [
      "C:\\Users\\Chirag Garg\\Anaconda3\\lib\\site-packages\\IPython\\core\\interactiveshell.py:2785: DtypeWarning: Columns (19) have mixed types. Specify dtype option on import or set low_memory=False.\n",
      "  interactivity=interactivity, compiler=compiler, result=result)\n"
     ]
    }
   ],
   "source": [
    "df = pd.read_csv('F:/AMEX/Training_dataset_Original.csv')"
   ]
  },
  {
   "cell_type": "code",
   "execution_count": 8164,
   "metadata": {},
   "outputs": [
    {
     "data": {
      "text/html": [
       "<div>\n",
       "<style scoped>\n",
       "    .dataframe tbody tr th:only-of-type {\n",
       "        vertical-align: middle;\n",
       "    }\n",
       "\n",
       "    .dataframe tbody tr th {\n",
       "        vertical-align: top;\n",
       "    }\n",
       "\n",
       "    .dataframe thead th {\n",
       "        text-align: right;\n",
       "    }\n",
       "</style>\n",
       "<table border=\"1\" class=\"dataframe\">\n",
       "  <thead>\n",
       "    <tr style=\"text-align: right;\">\n",
       "      <th></th>\n",
       "      <th>application_key</th>\n",
       "      <th>mvar1</th>\n",
       "      <th>mvar2</th>\n",
       "      <th>mvar3</th>\n",
       "      <th>mvar4</th>\n",
       "      <th>mvar5</th>\n",
       "      <th>mvar6</th>\n",
       "      <th>mvar7</th>\n",
       "      <th>mvar8</th>\n",
       "      <th>mvar9</th>\n",
       "      <th>...</th>\n",
       "      <th>mvar39</th>\n",
       "      <th>mvar40</th>\n",
       "      <th>mvar41</th>\n",
       "      <th>mvar42</th>\n",
       "      <th>mvar43</th>\n",
       "      <th>mvar44</th>\n",
       "      <th>mvar45</th>\n",
       "      <th>mvar46</th>\n",
       "      <th>mvar47</th>\n",
       "      <th>default_ind</th>\n",
       "    </tr>\n",
       "  </thead>\n",
       "  <tbody>\n",
       "    <tr>\n",
       "      <th>0</th>\n",
       "      <td>230032</td>\n",
       "      <td>1696</td>\n",
       "      <td>1.6541</td>\n",
       "      <td>0.000</td>\n",
       "      <td>0.000</td>\n",
       "      <td>0.000</td>\n",
       "      <td>0</td>\n",
       "      <td>6015</td>\n",
       "      <td>322</td>\n",
       "      <td>40369</td>\n",
       "      <td>...</td>\n",
       "      <td>1</td>\n",
       "      <td>73.78</td>\n",
       "      <td>82.547</td>\n",
       "      <td>0.08696</td>\n",
       "      <td>10</td>\n",
       "      <td>0.63899</td>\n",
       "      <td>na</td>\n",
       "      <td>0</td>\n",
       "      <td>C</td>\n",
       "      <td>0</td>\n",
       "    </tr>\n",
       "    <tr>\n",
       "      <th>1</th>\n",
       "      <td>230033</td>\n",
       "      <td>1846</td>\n",
       "      <td>0.8095</td>\n",
       "      <td>0.000</td>\n",
       "      <td>0.000</td>\n",
       "      <td>0.000</td>\n",
       "      <td>102</td>\n",
       "      <td>7532</td>\n",
       "      <td>3171</td>\n",
       "      <td>18234</td>\n",
       "      <td>...</td>\n",
       "      <td>0</td>\n",
       "      <td>99.129</td>\n",
       "      <td>missing</td>\n",
       "      <td>0</td>\n",
       "      <td>13</td>\n",
       "      <td>0.63836</td>\n",
       "      <td>na</td>\n",
       "      <td>na</td>\n",
       "      <td>L</td>\n",
       "      <td>1</td>\n",
       "    </tr>\n",
       "    <tr>\n",
       "      <th>2</th>\n",
       "      <td>230034</td>\n",
       "      <td>1745</td>\n",
       "      <td>0.4001</td>\n",
       "      <td>0.000</td>\n",
       "      <td>0.000</td>\n",
       "      <td>0.000</td>\n",
       "      <td>missing</td>\n",
       "      <td>2536</td>\n",
       "      <td>missing</td>\n",
       "      <td>missing</td>\n",
       "      <td>...</td>\n",
       "      <td>0</td>\n",
       "      <td>missing</td>\n",
       "      <td>29.29</td>\n",
       "      <td>0</td>\n",
       "      <td>1</td>\n",
       "      <td>1.00000</td>\n",
       "      <td>na</td>\n",
       "      <td>0</td>\n",
       "      <td>C</td>\n",
       "      <td>1</td>\n",
       "    </tr>\n",
       "    <tr>\n",
       "      <th>3</th>\n",
       "      <td>230035</td>\n",
       "      <td>1739</td>\n",
       "      <td>0.2193</td>\n",
       "      <td>0.000</td>\n",
       "      <td>0.000</td>\n",
       "      <td>0.000</td>\n",
       "      <td>1982</td>\n",
       "      <td>26440</td>\n",
       "      <td>4955</td>\n",
       "      <td>20316</td>\n",
       "      <td>...</td>\n",
       "      <td>0</td>\n",
       "      <td>96.272</td>\n",
       "      <td>missing</td>\n",
       "      <td>0.15385</td>\n",
       "      <td>3</td>\n",
       "      <td>0.53241</td>\n",
       "      <td>0</td>\n",
       "      <td>0</td>\n",
       "      <td>L</td>\n",
       "      <td>0</td>\n",
       "    </tr>\n",
       "    <tr>\n",
       "      <th>4</th>\n",
       "      <td>230036</td>\n",
       "      <td>1787</td>\n",
       "      <td>0.0118</td>\n",
       "      <td>0.225</td>\n",
       "      <td>0.000</td>\n",
       "      <td>0.000</td>\n",
       "      <td>5451</td>\n",
       "      <td>5494</td>\n",
       "      <td>5494</td>\n",
       "      <td>7987</td>\n",
       "      <td>...</td>\n",
       "      <td>0</td>\n",
       "      <td>115.019</td>\n",
       "      <td>missing</td>\n",
       "      <td>0</td>\n",
       "      <td>1</td>\n",
       "      <td>0.92665</td>\n",
       "      <td>na</td>\n",
       "      <td>na</td>\n",
       "      <td>L</td>\n",
       "      <td>0</td>\n",
       "    </tr>\n",
       "    <tr>\n",
       "      <th>5</th>\n",
       "      <td>230037</td>\n",
       "      <td>1579</td>\n",
       "      <td>NaN</td>\n",
       "      <td>3.502</td>\n",
       "      <td>0.000</td>\n",
       "      <td>0.000</td>\n",
       "      <td>missing</td>\n",
       "      <td>missing</td>\n",
       "      <td>missing</td>\n",
       "      <td>missing</td>\n",
       "      <td>...</td>\n",
       "      <td>na</td>\n",
       "      <td>missing</td>\n",
       "      <td>missing</td>\n",
       "      <td>1.5</td>\n",
       "      <td>0</td>\n",
       "      <td>NaN</td>\n",
       "      <td>na</td>\n",
       "      <td>na</td>\n",
       "      <td>C</td>\n",
       "      <td>1</td>\n",
       "    </tr>\n",
       "    <tr>\n",
       "      <th>6</th>\n",
       "      <td>230038</td>\n",
       "      <td>1818</td>\n",
       "      <td>0.4001</td>\n",
       "      <td>0.000</td>\n",
       "      <td>0.000</td>\n",
       "      <td>0.000</td>\n",
       "      <td>missing</td>\n",
       "      <td>1088</td>\n",
       "      <td>missing</td>\n",
       "      <td>1536</td>\n",
       "      <td>...</td>\n",
       "      <td>0</td>\n",
       "      <td>88.171</td>\n",
       "      <td>missing</td>\n",
       "      <td>0</td>\n",
       "      <td>2</td>\n",
       "      <td>0.87224</td>\n",
       "      <td>na</td>\n",
       "      <td>0</td>\n",
       "      <td>C</td>\n",
       "      <td>1</td>\n",
       "    </tr>\n",
       "    <tr>\n",
       "      <th>7</th>\n",
       "      <td>230039</td>\n",
       "      <td>na</td>\n",
       "      <td>NaN</td>\n",
       "      <td>NaN</td>\n",
       "      <td>NaN</td>\n",
       "      <td>NaN</td>\n",
       "      <td>missing</td>\n",
       "      <td>missing</td>\n",
       "      <td>missing</td>\n",
       "      <td>missing</td>\n",
       "      <td>...</td>\n",
       "      <td>na</td>\n",
       "      <td>missing</td>\n",
       "      <td>missing</td>\n",
       "      <td>missing</td>\n",
       "      <td>na</td>\n",
       "      <td>NaN</td>\n",
       "      <td>na</td>\n",
       "      <td>na</td>\n",
       "      <td>C</td>\n",
       "      <td>0</td>\n",
       "    </tr>\n",
       "    <tr>\n",
       "      <th>8</th>\n",
       "      <td>230040</td>\n",
       "      <td>1836</td>\n",
       "      <td>0.1358</td>\n",
       "      <td>0.000</td>\n",
       "      <td>0.000</td>\n",
       "      <td>0.000</td>\n",
       "      <td>347</td>\n",
       "      <td>38964</td>\n",
       "      <td>17828</td>\n",
       "      <td>70729</td>\n",
       "      <td>...</td>\n",
       "      <td>0</td>\n",
       "      <td>missing</td>\n",
       "      <td>missing</td>\n",
       "      <td>0</td>\n",
       "      <td>10</td>\n",
       "      <td>0.89868</td>\n",
       "      <td>0</td>\n",
       "      <td>0</td>\n",
       "      <td>L</td>\n",
       "      <td>0</td>\n",
       "    </tr>\n",
       "    <tr>\n",
       "      <th>9</th>\n",
       "      <td>230041</td>\n",
       "      <td>1839</td>\n",
       "      <td>0.1981</td>\n",
       "      <td>0.000</td>\n",
       "      <td>0.000</td>\n",
       "      <td>0.000</td>\n",
       "      <td>793</td>\n",
       "      <td>6131</td>\n",
       "      <td>6045</td>\n",
       "      <td>48959</td>\n",
       "      <td>...</td>\n",
       "      <td>0</td>\n",
       "      <td>missing</td>\n",
       "      <td>45.59</td>\n",
       "      <td>0.08824</td>\n",
       "      <td>14</td>\n",
       "      <td>0.33834</td>\n",
       "      <td>na</td>\n",
       "      <td>0</td>\n",
       "      <td>L</td>\n",
       "      <td>0</td>\n",
       "    </tr>\n",
       "    <tr>\n",
       "      <th>10</th>\n",
       "      <td>230042</td>\n",
       "      <td>1903</td>\n",
       "      <td>0.0000</td>\n",
       "      <td>0.000</td>\n",
       "      <td>0.000</td>\n",
       "      <td>0.000</td>\n",
       "      <td>22</td>\n",
       "      <td>19518</td>\n",
       "      <td>9910</td>\n",
       "      <td>90618</td>\n",
       "      <td>...</td>\n",
       "      <td>0</td>\n",
       "      <td>missing</td>\n",
       "      <td>missing</td>\n",
       "      <td>0</td>\n",
       "      <td>17</td>\n",
       "      <td>0.80620</td>\n",
       "      <td>0</td>\n",
       "      <td>0</td>\n",
       "      <td>L</td>\n",
       "      <td>0</td>\n",
       "    </tr>\n",
       "    <tr>\n",
       "      <th>11</th>\n",
       "      <td>230043</td>\n",
       "      <td>1681</td>\n",
       "      <td>1.5888</td>\n",
       "      <td>5.685</td>\n",
       "      <td>3.566</td>\n",
       "      <td>0.000</td>\n",
       "      <td>93</td>\n",
       "      <td>3554</td>\n",
       "      <td>439</td>\n",
       "      <td>2527</td>\n",
       "      <td>...</td>\n",
       "      <td>1</td>\n",
       "      <td>missing</td>\n",
       "      <td>missing</td>\n",
       "      <td>0.61111</td>\n",
       "      <td>7</td>\n",
       "      <td>0.81172</td>\n",
       "      <td>0</td>\n",
       "      <td>0</td>\n",
       "      <td>C</td>\n",
       "      <td>0</td>\n",
       "    </tr>\n",
       "    <tr>\n",
       "      <th>12</th>\n",
       "      <td>230044</td>\n",
       "      <td>1841</td>\n",
       "      <td>0.5388</td>\n",
       "      <td>0.000</td>\n",
       "      <td>0.000</td>\n",
       "      <td>0.000</td>\n",
       "      <td>1487</td>\n",
       "      <td>19449</td>\n",
       "      <td>19449</td>\n",
       "      <td>6739</td>\n",
       "      <td>...</td>\n",
       "      <td>0</td>\n",
       "      <td>missing</td>\n",
       "      <td>missing</td>\n",
       "      <td>0</td>\n",
       "      <td>5</td>\n",
       "      <td>0.98031</td>\n",
       "      <td>na</td>\n",
       "      <td>na</td>\n",
       "      <td>C</td>\n",
       "      <td>0</td>\n",
       "    </tr>\n",
       "    <tr>\n",
       "      <th>13</th>\n",
       "      <td>230045</td>\n",
       "      <td>1794</td>\n",
       "      <td>1.9684</td>\n",
       "      <td>0.000</td>\n",
       "      <td>0.000</td>\n",
       "      <td>0.000</td>\n",
       "      <td>856</td>\n",
       "      <td>8609</td>\n",
       "      <td>8609</td>\n",
       "      <td>60545</td>\n",
       "      <td>...</td>\n",
       "      <td>0</td>\n",
       "      <td>missing</td>\n",
       "      <td>missing</td>\n",
       "      <td>0</td>\n",
       "      <td>13</td>\n",
       "      <td>0.35724</td>\n",
       "      <td>na</td>\n",
       "      <td>0</td>\n",
       "      <td>C</td>\n",
       "      <td>0</td>\n",
       "    </tr>\n",
       "    <tr>\n",
       "      <th>14</th>\n",
       "      <td>230046</td>\n",
       "      <td>1669</td>\n",
       "      <td>3.8558</td>\n",
       "      <td>18.465</td>\n",
       "      <td>6.292</td>\n",
       "      <td>1.200</td>\n",
       "      <td>missing</td>\n",
       "      <td>142</td>\n",
       "      <td>missing</td>\n",
       "      <td>38</td>\n",
       "      <td>...</td>\n",
       "      <td>0</td>\n",
       "      <td>107.825</td>\n",
       "      <td>98.664</td>\n",
       "      <td>0.56</td>\n",
       "      <td>11</td>\n",
       "      <td>0.29169</td>\n",
       "      <td>na</td>\n",
       "      <td>1</td>\n",
       "      <td>C</td>\n",
       "      <td>0</td>\n",
       "    </tr>\n",
       "    <tr>\n",
       "      <th>15</th>\n",
       "      <td>230047</td>\n",
       "      <td>1583</td>\n",
       "      <td>3.0284</td>\n",
       "      <td>16.325</td>\n",
       "      <td>0.000</td>\n",
       "      <td>0.000</td>\n",
       "      <td>missing</td>\n",
       "      <td>missing</td>\n",
       "      <td>missing</td>\n",
       "      <td>51450</td>\n",
       "      <td>...</td>\n",
       "      <td>0</td>\n",
       "      <td>missing</td>\n",
       "      <td>missing</td>\n",
       "      <td>0.32353</td>\n",
       "      <td>2</td>\n",
       "      <td>NaN</td>\n",
       "      <td>0</td>\n",
       "      <td>na</td>\n",
       "      <td>C</td>\n",
       "      <td>0</td>\n",
       "    </tr>\n",
       "    <tr>\n",
       "      <th>16</th>\n",
       "      <td>230048</td>\n",
       "      <td>1899</td>\n",
       "      <td>0.0970</td>\n",
       "      <td>0.000</td>\n",
       "      <td>0.000</td>\n",
       "      <td>0.000</td>\n",
       "      <td>1015</td>\n",
       "      <td>13379</td>\n",
       "      <td>13379</td>\n",
       "      <td>246906</td>\n",
       "      <td>...</td>\n",
       "      <td>0</td>\n",
       "      <td>10.384</td>\n",
       "      <td>missing</td>\n",
       "      <td>0</td>\n",
       "      <td>19</td>\n",
       "      <td>0.47480</td>\n",
       "      <td>0</td>\n",
       "      <td>0</td>\n",
       "      <td>L</td>\n",
       "      <td>0</td>\n",
       "    </tr>\n",
       "    <tr>\n",
       "      <th>17</th>\n",
       "      <td>230049</td>\n",
       "      <td>1690</td>\n",
       "      <td>8.7747</td>\n",
       "      <td>10.437</td>\n",
       "      <td>0.000</td>\n",
       "      <td>0.000</td>\n",
       "      <td>122</td>\n",
       "      <td>623</td>\n",
       "      <td>299</td>\n",
       "      <td>1140</td>\n",
       "      <td>...</td>\n",
       "      <td>0</td>\n",
       "      <td>missing</td>\n",
       "      <td>missing</td>\n",
       "      <td>0.63636</td>\n",
       "      <td>5</td>\n",
       "      <td>0.94951</td>\n",
       "      <td>na</td>\n",
       "      <td>0</td>\n",
       "      <td>L</td>\n",
       "      <td>0</td>\n",
       "    </tr>\n",
       "    <tr>\n",
       "      <th>18</th>\n",
       "      <td>230050</td>\n",
       "      <td>1599</td>\n",
       "      <td>0.8601</td>\n",
       "      <td>1.525</td>\n",
       "      <td>1.525</td>\n",
       "      <td>0.000</td>\n",
       "      <td>missing</td>\n",
       "      <td>878</td>\n",
       "      <td>missing</td>\n",
       "      <td>missing</td>\n",
       "      <td>...</td>\n",
       "      <td>1</td>\n",
       "      <td>missing</td>\n",
       "      <td>91.175</td>\n",
       "      <td>0.8</td>\n",
       "      <td>0</td>\n",
       "      <td>1.00000</td>\n",
       "      <td>na</td>\n",
       "      <td>0</td>\n",
       "      <td>C</td>\n",
       "      <td>1</td>\n",
       "    </tr>\n",
       "    <tr>\n",
       "      <th>19</th>\n",
       "      <td>230051</td>\n",
       "      <td>1859</td>\n",
       "      <td>0.0155</td>\n",
       "      <td>0.368</td>\n",
       "      <td>0.000</td>\n",
       "      <td>0.000</td>\n",
       "      <td>424</td>\n",
       "      <td>86509</td>\n",
       "      <td>12451</td>\n",
       "      <td>86635</td>\n",
       "      <td>...</td>\n",
       "      <td>0</td>\n",
       "      <td>missing</td>\n",
       "      <td>missing</td>\n",
       "      <td>0</td>\n",
       "      <td>12</td>\n",
       "      <td>0.34730</td>\n",
       "      <td>0</td>\n",
       "      <td>0</td>\n",
       "      <td>L</td>\n",
       "      <td>0</td>\n",
       "    </tr>\n",
       "    <tr>\n",
       "      <th>20</th>\n",
       "      <td>230052</td>\n",
       "      <td>1880</td>\n",
       "      <td>2.6101</td>\n",
       "      <td>0.000</td>\n",
       "      <td>0.000</td>\n",
       "      <td>0.000</td>\n",
       "      <td>0</td>\n",
       "      <td>19252</td>\n",
       "      <td>6342</td>\n",
       "      <td>59601</td>\n",
       "      <td>...</td>\n",
       "      <td>0</td>\n",
       "      <td>missing</td>\n",
       "      <td>72.497</td>\n",
       "      <td>0</td>\n",
       "      <td>14</td>\n",
       "      <td>0.28708</td>\n",
       "      <td>na</td>\n",
       "      <td>0</td>\n",
       "      <td>L</td>\n",
       "      <td>0</td>\n",
       "    </tr>\n",
       "    <tr>\n",
       "      <th>21</th>\n",
       "      <td>230053</td>\n",
       "      <td>1852</td>\n",
       "      <td>3.6201</td>\n",
       "      <td>0.000</td>\n",
       "      <td>0.000</td>\n",
       "      <td>0.000</td>\n",
       "      <td>799</td>\n",
       "      <td>16515</td>\n",
       "      <td>16515</td>\n",
       "      <td>110651</td>\n",
       "      <td>...</td>\n",
       "      <td>0</td>\n",
       "      <td>missing</td>\n",
       "      <td>missing</td>\n",
       "      <td>0</td>\n",
       "      <td>13</td>\n",
       "      <td>0.75349</td>\n",
       "      <td>na</td>\n",
       "      <td>na</td>\n",
       "      <td>L</td>\n",
       "      <td>0</td>\n",
       "    </tr>\n",
       "    <tr>\n",
       "      <th>22</th>\n",
       "      <td>230054</td>\n",
       "      <td>1655</td>\n",
       "      <td>3.0268</td>\n",
       "      <td>14.748</td>\n",
       "      <td>0.000</td>\n",
       "      <td>0.000</td>\n",
       "      <td>48</td>\n",
       "      <td>48</td>\n",
       "      <td>48</td>\n",
       "      <td>198</td>\n",
       "      <td>...</td>\n",
       "      <td>0</td>\n",
       "      <td>missing</td>\n",
       "      <td>missing</td>\n",
       "      <td>1</td>\n",
       "      <td>1</td>\n",
       "      <td>1.00000</td>\n",
       "      <td>na</td>\n",
       "      <td>na</td>\n",
       "      <td>C</td>\n",
       "      <td>1</td>\n",
       "    </tr>\n",
       "    <tr>\n",
       "      <th>23</th>\n",
       "      <td>230055</td>\n",
       "      <td>1863</td>\n",
       "      <td>0.0401</td>\n",
       "      <td>0.000</td>\n",
       "      <td>0.000</td>\n",
       "      <td>0.000</td>\n",
       "      <td>1487</td>\n",
       "      <td>4955</td>\n",
       "      <td>4955</td>\n",
       "      <td>22902</td>\n",
       "      <td>...</td>\n",
       "      <td>0</td>\n",
       "      <td>96.895</td>\n",
       "      <td>missing</td>\n",
       "      <td>0</td>\n",
       "      <td>12</td>\n",
       "      <td>0.40853</td>\n",
       "      <td>na</td>\n",
       "      <td>0</td>\n",
       "      <td>L</td>\n",
       "      <td>0</td>\n",
       "    </tr>\n",
       "    <tr>\n",
       "      <th>24</th>\n",
       "      <td>230056</td>\n",
       "      <td>1753</td>\n",
       "      <td>0.2251</td>\n",
       "      <td>0.000</td>\n",
       "      <td>0.000</td>\n",
       "      <td>0.000</td>\n",
       "      <td>1124</td>\n",
       "      <td>1124</td>\n",
       "      <td>1124</td>\n",
       "      <td>0</td>\n",
       "      <td>...</td>\n",
       "      <td>0</td>\n",
       "      <td>missing</td>\n",
       "      <td>missing</td>\n",
       "      <td>missing</td>\n",
       "      <td>0</td>\n",
       "      <td>1.00000</td>\n",
       "      <td>na</td>\n",
       "      <td>na</td>\n",
       "      <td>C</td>\n",
       "      <td>1</td>\n",
       "    </tr>\n",
       "    <tr>\n",
       "      <th>25</th>\n",
       "      <td>230057</td>\n",
       "      <td>1894</td>\n",
       "      <td>0.0318</td>\n",
       "      <td>0.000</td>\n",
       "      <td>0.000</td>\n",
       "      <td>0.000</td>\n",
       "      <td>4655</td>\n",
       "      <td>7433</td>\n",
       "      <td>7433</td>\n",
       "      <td>25667</td>\n",
       "      <td>...</td>\n",
       "      <td>0</td>\n",
       "      <td>missing</td>\n",
       "      <td>0</td>\n",
       "      <td>0</td>\n",
       "      <td>3</td>\n",
       "      <td>0.99419</td>\n",
       "      <td>0</td>\n",
       "      <td>0</td>\n",
       "      <td>L</td>\n",
       "      <td>0</td>\n",
       "    </tr>\n",
       "    <tr>\n",
       "      <th>26</th>\n",
       "      <td>230058</td>\n",
       "      <td>1803</td>\n",
       "      <td>0.3993</td>\n",
       "      <td>0.000</td>\n",
       "      <td>0.000</td>\n",
       "      <td>0.000</td>\n",
       "      <td>496</td>\n",
       "      <td>10505</td>\n",
       "      <td>496</td>\n",
       "      <td>991</td>\n",
       "      <td>...</td>\n",
       "      <td>0</td>\n",
       "      <td>91.752</td>\n",
       "      <td>87.306</td>\n",
       "      <td>0.2</td>\n",
       "      <td>5</td>\n",
       "      <td>0.75289</td>\n",
       "      <td>0</td>\n",
       "      <td>0</td>\n",
       "      <td>L</td>\n",
       "      <td>0</td>\n",
       "    </tr>\n",
       "    <tr>\n",
       "      <th>27</th>\n",
       "      <td>230059</td>\n",
       "      <td>1932</td>\n",
       "      <td>0.3276</td>\n",
       "      <td>0.000</td>\n",
       "      <td>0.000</td>\n",
       "      <td>0.000</td>\n",
       "      <td>6982</td>\n",
       "      <td>21569</td>\n",
       "      <td>18829</td>\n",
       "      <td>187209</td>\n",
       "      <td>...</td>\n",
       "      <td>0</td>\n",
       "      <td>missing</td>\n",
       "      <td>missing</td>\n",
       "      <td>0</td>\n",
       "      <td>11</td>\n",
       "      <td>0.99710</td>\n",
       "      <td>0</td>\n",
       "      <td>0</td>\n",
       "      <td>C</td>\n",
       "      <td>0</td>\n",
       "    </tr>\n",
       "    <tr>\n",
       "      <th>28</th>\n",
       "      <td>230060</td>\n",
       "      <td>1714</td>\n",
       "      <td>5.1904</td>\n",
       "      <td>0.770</td>\n",
       "      <td>0.000</td>\n",
       "      <td>0.000</td>\n",
       "      <td>0</td>\n",
       "      <td>1889</td>\n",
       "      <td>595</td>\n",
       "      <td>12574</td>\n",
       "      <td>...</td>\n",
       "      <td>0</td>\n",
       "      <td>missing</td>\n",
       "      <td>missing</td>\n",
       "      <td>0.35714</td>\n",
       "      <td>6</td>\n",
       "      <td>0.85082</td>\n",
       "      <td>0</td>\n",
       "      <td>0</td>\n",
       "      <td>L</td>\n",
       "      <td>0</td>\n",
       "    </tr>\n",
       "    <tr>\n",
       "      <th>29</th>\n",
       "      <td>230061</td>\n",
       "      <td>na</td>\n",
       "      <td>2.0457</td>\n",
       "      <td>4.514</td>\n",
       "      <td>0.000</td>\n",
       "      <td>0.000</td>\n",
       "      <td>missing</td>\n",
       "      <td>missing</td>\n",
       "      <td>missing</td>\n",
       "      <td>missing</td>\n",
       "      <td>...</td>\n",
       "      <td>na</td>\n",
       "      <td>missing</td>\n",
       "      <td>missing</td>\n",
       "      <td>1.16667</td>\n",
       "      <td>0</td>\n",
       "      <td>NaN</td>\n",
       "      <td>na</td>\n",
       "      <td>na</td>\n",
       "      <td>L</td>\n",
       "      <td>0</td>\n",
       "    </tr>\n",
       "    <tr>\n",
       "      <th>30</th>\n",
       "      <td>230062</td>\n",
       "      <td>1768</td>\n",
       "      <td>2.4194</td>\n",
       "      <td>0.243</td>\n",
       "      <td>0.243</td>\n",
       "      <td>0.000</td>\n",
       "      <td>215</td>\n",
       "      <td>24501</td>\n",
       "      <td>2973</td>\n",
       "      <td>71725</td>\n",
       "      <td>...</td>\n",
       "      <td>0</td>\n",
       "      <td>missing</td>\n",
       "      <td>89.135</td>\n",
       "      <td>0.06061</td>\n",
       "      <td>18</td>\n",
       "      <td>0.89232</td>\n",
       "      <td>0</td>\n",
       "      <td>0</td>\n",
       "      <td>C</td>\n",
       "      <td>0</td>\n",
       "    </tr>\n",
       "    <tr>\n",
       "      <th>31</th>\n",
       "      <td>230063</td>\n",
       "      <td>1834</td>\n",
       "      <td>0.0651</td>\n",
       "      <td>0.000</td>\n",
       "      <td>0.000</td>\n",
       "      <td>0.000</td>\n",
       "      <td>2378</td>\n",
       "      <td>14944</td>\n",
       "      <td>13874</td>\n",
       "      <td>333795</td>\n",
       "      <td>...</td>\n",
       "      <td>1</td>\n",
       "      <td>missing</td>\n",
       "      <td>38.544</td>\n",
       "      <td>0</td>\n",
       "      <td>24</td>\n",
       "      <td>0.78792</td>\n",
       "      <td>0</td>\n",
       "      <td>0</td>\n",
       "      <td>L</td>\n",
       "      <td>0</td>\n",
       "    </tr>\n",
       "    <tr>\n",
       "      <th>32</th>\n",
       "      <td>230064</td>\n",
       "      <td>1837</td>\n",
       "      <td>0.0234</td>\n",
       "      <td>0.000</td>\n",
       "      <td>0.000</td>\n",
       "      <td>0.000</td>\n",
       "      <td>missing</td>\n",
       "      <td>700</td>\n",
       "      <td>missing</td>\n",
       "      <td>8275</td>\n",
       "      <td>...</td>\n",
       "      <td>0</td>\n",
       "      <td>missing</td>\n",
       "      <td>missing</td>\n",
       "      <td>0</td>\n",
       "      <td>5</td>\n",
       "      <td>1.00000</td>\n",
       "      <td>na</td>\n",
       "      <td>0</td>\n",
       "      <td>L</td>\n",
       "      <td>0</td>\n",
       "    </tr>\n",
       "    <tr>\n",
       "      <th>33</th>\n",
       "      <td>230065</td>\n",
       "      <td>1785</td>\n",
       "      <td>0.2497</td>\n",
       "      <td>0.000</td>\n",
       "      <td>0.000</td>\n",
       "      <td>0.000</td>\n",
       "      <td>0</td>\n",
       "      <td>13243</td>\n",
       "      <td>1231</td>\n",
       "      <td>18246</td>\n",
       "      <td>...</td>\n",
       "      <td>0</td>\n",
       "      <td>116.148</td>\n",
       "      <td>79.695</td>\n",
       "      <td>0</td>\n",
       "      <td>14</td>\n",
       "      <td>0.76360</td>\n",
       "      <td>0</td>\n",
       "      <td>0</td>\n",
       "      <td>C</td>\n",
       "      <td>0</td>\n",
       "    </tr>\n",
       "    <tr>\n",
       "      <th>34</th>\n",
       "      <td>230066</td>\n",
       "      <td>1889</td>\n",
       "      <td>NaN</td>\n",
       "      <td>0.000</td>\n",
       "      <td>0.000</td>\n",
       "      <td>0.000</td>\n",
       "      <td>297</td>\n",
       "      <td>19033</td>\n",
       "      <td>19033</td>\n",
       "      <td>38054</td>\n",
       "      <td>...</td>\n",
       "      <td>0</td>\n",
       "      <td>missing</td>\n",
       "      <td>missing</td>\n",
       "      <td>0</td>\n",
       "      <td>4</td>\n",
       "      <td>1.00000</td>\n",
       "      <td>0</td>\n",
       "      <td>0</td>\n",
       "      <td>L</td>\n",
       "      <td>0</td>\n",
       "    </tr>\n",
       "    <tr>\n",
       "      <th>35</th>\n",
       "      <td>230067</td>\n",
       "      <td>1714</td>\n",
       "      <td>0.3262</td>\n",
       "      <td>13.494</td>\n",
       "      <td>0.000</td>\n",
       "      <td>0.000</td>\n",
       "      <td>50</td>\n",
       "      <td>35735</td>\n",
       "      <td>396</td>\n",
       "      <td>27609</td>\n",
       "      <td>...</td>\n",
       "      <td>1</td>\n",
       "      <td>29.368</td>\n",
       "      <td>missing</td>\n",
       "      <td>0.21212</td>\n",
       "      <td>4</td>\n",
       "      <td>0.54951</td>\n",
       "      <td>2</td>\n",
       "      <td>0</td>\n",
       "      <td>C</td>\n",
       "      <td>0</td>\n",
       "    </tr>\n",
       "    <tr>\n",
       "      <th>36</th>\n",
       "      <td>230068</td>\n",
       "      <td>1751</td>\n",
       "      <td>1.2501</td>\n",
       "      <td>9.125</td>\n",
       "      <td>0.000</td>\n",
       "      <td>0.000</td>\n",
       "      <td>242</td>\n",
       "      <td>14748</td>\n",
       "      <td>2335</td>\n",
       "      <td>31106</td>\n",
       "      <td>...</td>\n",
       "      <td>0</td>\n",
       "      <td>97.029</td>\n",
       "      <td>missing</td>\n",
       "      <td>0.31034</td>\n",
       "      <td>5</td>\n",
       "      <td>0.52563</td>\n",
       "      <td>0</td>\n",
       "      <td>na</td>\n",
       "      <td>C</td>\n",
       "      <td>0</td>\n",
       "    </tr>\n",
       "    <tr>\n",
       "      <th>37</th>\n",
       "      <td>230069</td>\n",
       "      <td>1907</td>\n",
       "      <td>0.4734</td>\n",
       "      <td>0.000</td>\n",
       "      <td>0.000</td>\n",
       "      <td>0.000</td>\n",
       "      <td>14865</td>\n",
       "      <td>29714</td>\n",
       "      <td>14865</td>\n",
       "      <td>31415</td>\n",
       "      <td>...</td>\n",
       "      <td>0</td>\n",
       "      <td>missing</td>\n",
       "      <td>missing</td>\n",
       "      <td>0</td>\n",
       "      <td>4</td>\n",
       "      <td>1.00000</td>\n",
       "      <td>0</td>\n",
       "      <td>0</td>\n",
       "      <td>L</td>\n",
       "      <td>0</td>\n",
       "    </tr>\n",
       "    <tr>\n",
       "      <th>38</th>\n",
       "      <td>230070</td>\n",
       "      <td>1765</td>\n",
       "      <td>NaN</td>\n",
       "      <td>0.368</td>\n",
       "      <td>0.000</td>\n",
       "      <td>0.000</td>\n",
       "      <td>0</td>\n",
       "      <td>13880</td>\n",
       "      <td>4905</td>\n",
       "      <td>14994</td>\n",
       "      <td>...</td>\n",
       "      <td>0</td>\n",
       "      <td>missing</td>\n",
       "      <td>96.814</td>\n",
       "      <td>0.05556</td>\n",
       "      <td>8</td>\n",
       "      <td>0.75267</td>\n",
       "      <td>0</td>\n",
       "      <td>0</td>\n",
       "      <td>C</td>\n",
       "      <td>0</td>\n",
       "    </tr>\n",
       "    <tr>\n",
       "      <th>39</th>\n",
       "      <td>230071</td>\n",
       "      <td>1724</td>\n",
       "      <td>0.0000</td>\n",
       "      <td>12.719</td>\n",
       "      <td>0.000</td>\n",
       "      <td>0.000</td>\n",
       "      <td>71</td>\n",
       "      <td>16621</td>\n",
       "      <td>1487</td>\n",
       "      <td>6878</td>\n",
       "      <td>...</td>\n",
       "      <td>0</td>\n",
       "      <td>missing</td>\n",
       "      <td>missing</td>\n",
       "      <td>0.21739</td>\n",
       "      <td>7</td>\n",
       "      <td>0.59257</td>\n",
       "      <td>1</td>\n",
       "      <td>0</td>\n",
       "      <td>C</td>\n",
       "      <td>0</td>\n",
       "    </tr>\n",
       "    <tr>\n",
       "      <th>40</th>\n",
       "      <td>230072</td>\n",
       "      <td>1721</td>\n",
       "      <td>1.9276</td>\n",
       "      <td>12.936</td>\n",
       "      <td>0.000</td>\n",
       "      <td>0.000</td>\n",
       "      <td>160</td>\n",
       "      <td>67262</td>\n",
       "      <td>25667</td>\n",
       "      <td>66236</td>\n",
       "      <td>...</td>\n",
       "      <td>0</td>\n",
       "      <td>100</td>\n",
       "      <td>missing</td>\n",
       "      <td>0.25</td>\n",
       "      <td>8</td>\n",
       "      <td>0.51334</td>\n",
       "      <td>0</td>\n",
       "      <td>0</td>\n",
       "      <td>C</td>\n",
       "      <td>0</td>\n",
       "    </tr>\n",
       "    <tr>\n",
       "      <th>41</th>\n",
       "      <td>230073</td>\n",
       "      <td>1858</td>\n",
       "      <td>NaN</td>\n",
       "      <td>0.000</td>\n",
       "      <td>0.000</td>\n",
       "      <td>0.000</td>\n",
       "      <td>missing</td>\n",
       "      <td>39557</td>\n",
       "      <td>missing</td>\n",
       "      <td>27550</td>\n",
       "      <td>...</td>\n",
       "      <td>0</td>\n",
       "      <td>missing</td>\n",
       "      <td>missing</td>\n",
       "      <td>0</td>\n",
       "      <td>1</td>\n",
       "      <td>1.00000</td>\n",
       "      <td>0</td>\n",
       "      <td>na</td>\n",
       "      <td>L</td>\n",
       "      <td>0</td>\n",
       "    </tr>\n",
       "    <tr>\n",
       "      <th>42</th>\n",
       "      <td>230074</td>\n",
       "      <td>1899</td>\n",
       "      <td>0.6101</td>\n",
       "      <td>0.000</td>\n",
       "      <td>0.000</td>\n",
       "      <td>0.000</td>\n",
       "      <td>991</td>\n",
       "      <td>5946</td>\n",
       "      <td>5946</td>\n",
       "      <td>83446</td>\n",
       "      <td>...</td>\n",
       "      <td>0</td>\n",
       "      <td>missing</td>\n",
       "      <td>missing</td>\n",
       "      <td>0</td>\n",
       "      <td>6</td>\n",
       "      <td>1.00000</td>\n",
       "      <td>na</td>\n",
       "      <td>na</td>\n",
       "      <td>L</td>\n",
       "      <td>0</td>\n",
       "    </tr>\n",
       "    <tr>\n",
       "      <th>43</th>\n",
       "      <td>230075</td>\n",
       "      <td>1797</td>\n",
       "      <td>0.0767</td>\n",
       "      <td>0.977</td>\n",
       "      <td>0.000</td>\n",
       "      <td>0.000</td>\n",
       "      <td>1288</td>\n",
       "      <td>9644</td>\n",
       "      <td>1288</td>\n",
       "      <td>7234</td>\n",
       "      <td>...</td>\n",
       "      <td>0</td>\n",
       "      <td>missing</td>\n",
       "      <td>missing</td>\n",
       "      <td>0</td>\n",
       "      <td>5</td>\n",
       "      <td>0.93684</td>\n",
       "      <td>0</td>\n",
       "      <td>0</td>\n",
       "      <td>L</td>\n",
       "      <td>0</td>\n",
       "    </tr>\n",
       "    <tr>\n",
       "      <th>44</th>\n",
       "      <td>230076</td>\n",
       "      <td>1817</td>\n",
       "      <td>0.3401</td>\n",
       "      <td>0.000</td>\n",
       "      <td>0.000</td>\n",
       "      <td>0.000</td>\n",
       "      <td>480</td>\n",
       "      <td>6914</td>\n",
       "      <td>480</td>\n",
       "      <td>54802</td>\n",
       "      <td>...</td>\n",
       "      <td>0</td>\n",
       "      <td>missing</td>\n",
       "      <td>missing</td>\n",
       "      <td>0</td>\n",
       "      <td>4</td>\n",
       "      <td>0.97644</td>\n",
       "      <td>0</td>\n",
       "      <td>na</td>\n",
       "      <td>L</td>\n",
       "      <td>0</td>\n",
       "    </tr>\n",
       "    <tr>\n",
       "      <th>45</th>\n",
       "      <td>230077</td>\n",
       "      <td>na</td>\n",
       "      <td>0.3880</td>\n",
       "      <td>2.031</td>\n",
       "      <td>0.000</td>\n",
       "      <td>0.000</td>\n",
       "      <td>missing</td>\n",
       "      <td>missing</td>\n",
       "      <td>missing</td>\n",
       "      <td>missing</td>\n",
       "      <td>...</td>\n",
       "      <td>na</td>\n",
       "      <td>missing</td>\n",
       "      <td>missing</td>\n",
       "      <td>1.2</td>\n",
       "      <td>0</td>\n",
       "      <td>NaN</td>\n",
       "      <td>na</td>\n",
       "      <td>na</td>\n",
       "      <td>C</td>\n",
       "      <td>1</td>\n",
       "    </tr>\n",
       "    <tr>\n",
       "      <th>46</th>\n",
       "      <td>230078</td>\n",
       "      <td>1650</td>\n",
       "      <td>2.5058</td>\n",
       "      <td>16.191</td>\n",
       "      <td>0.000</td>\n",
       "      <td>10.106</td>\n",
       "      <td>missing</td>\n",
       "      <td>859</td>\n",
       "      <td>missing</td>\n",
       "      <td>missing</td>\n",
       "      <td>...</td>\n",
       "      <td>0</td>\n",
       "      <td>100</td>\n",
       "      <td>84.931</td>\n",
       "      <td>0.56522</td>\n",
       "      <td>4</td>\n",
       "      <td>0.38864</td>\n",
       "      <td>na</td>\n",
       "      <td>0</td>\n",
       "      <td>C</td>\n",
       "      <td>0</td>\n",
       "    </tr>\n",
       "    <tr>\n",
       "      <th>47</th>\n",
       "      <td>230079</td>\n",
       "      <td>1712</td>\n",
       "      <td>NaN</td>\n",
       "      <td>11.893</td>\n",
       "      <td>0.000</td>\n",
       "      <td>0.000</td>\n",
       "      <td>116</td>\n",
       "      <td>116</td>\n",
       "      <td>116</td>\n",
       "      <td>694</td>\n",
       "      <td>...</td>\n",
       "      <td>0</td>\n",
       "      <td>missing</td>\n",
       "      <td>missing</td>\n",
       "      <td>0.75</td>\n",
       "      <td>0</td>\n",
       "      <td>0.99844</td>\n",
       "      <td>1</td>\n",
       "      <td>na</td>\n",
       "      <td>C</td>\n",
       "      <td>1</td>\n",
       "    </tr>\n",
       "    <tr>\n",
       "      <th>48</th>\n",
       "      <td>230080</td>\n",
       "      <td>na</td>\n",
       "      <td>0.0000</td>\n",
       "      <td>0.000</td>\n",
       "      <td>0.000</td>\n",
       "      <td>0.000</td>\n",
       "      <td>missing</td>\n",
       "      <td>missing</td>\n",
       "      <td>missing</td>\n",
       "      <td>494</td>\n",
       "      <td>...</td>\n",
       "      <td>0</td>\n",
       "      <td>missing</td>\n",
       "      <td>missing</td>\n",
       "      <td>0.5</td>\n",
       "      <td>0</td>\n",
       "      <td>NaN</td>\n",
       "      <td>na</td>\n",
       "      <td>0</td>\n",
       "      <td>C</td>\n",
       "      <td>0</td>\n",
       "    </tr>\n",
       "    <tr>\n",
       "      <th>49</th>\n",
       "      <td>230081</td>\n",
       "      <td>1868</td>\n",
       "      <td>0.0761</td>\n",
       "      <td>0.000</td>\n",
       "      <td>0.000</td>\n",
       "      <td>0.000</td>\n",
       "      <td>5888</td>\n",
       "      <td>6769</td>\n",
       "      <td>6769</td>\n",
       "      <td>18135</td>\n",
       "      <td>...</td>\n",
       "      <td>0</td>\n",
       "      <td>missing</td>\n",
       "      <td>missing</td>\n",
       "      <td>0</td>\n",
       "      <td>2</td>\n",
       "      <td>0.74236</td>\n",
       "      <td>na</td>\n",
       "      <td>na</td>\n",
       "      <td>C</td>\n",
       "      <td>0</td>\n",
       "    </tr>\n",
       "  </tbody>\n",
       "</table>\n",
       "<p>50 rows × 49 columns</p>\n",
       "</div>"
      ],
      "text/plain": [
       "    application_key mvar1   mvar2   mvar3  mvar4   mvar5    mvar6    mvar7  \\\n",
       "0            230032  1696  1.6541   0.000  0.000   0.000        0     6015   \n",
       "1            230033  1846  0.8095   0.000  0.000   0.000      102     7532   \n",
       "2            230034  1745  0.4001   0.000  0.000   0.000  missing     2536   \n",
       "3            230035  1739  0.2193   0.000  0.000   0.000     1982    26440   \n",
       "4            230036  1787  0.0118   0.225  0.000   0.000     5451     5494   \n",
       "5            230037  1579     NaN   3.502  0.000   0.000  missing  missing   \n",
       "6            230038  1818  0.4001   0.000  0.000   0.000  missing     1088   \n",
       "7            230039    na     NaN     NaN    NaN     NaN  missing  missing   \n",
       "8            230040  1836  0.1358   0.000  0.000   0.000      347    38964   \n",
       "9            230041  1839  0.1981   0.000  0.000   0.000      793     6131   \n",
       "10           230042  1903  0.0000   0.000  0.000   0.000       22    19518   \n",
       "11           230043  1681  1.5888   5.685  3.566   0.000       93     3554   \n",
       "12           230044  1841  0.5388   0.000  0.000   0.000     1487    19449   \n",
       "13           230045  1794  1.9684   0.000  0.000   0.000      856     8609   \n",
       "14           230046  1669  3.8558  18.465  6.292   1.200  missing      142   \n",
       "15           230047  1583  3.0284  16.325  0.000   0.000  missing  missing   \n",
       "16           230048  1899  0.0970   0.000  0.000   0.000     1015    13379   \n",
       "17           230049  1690  8.7747  10.437  0.000   0.000      122      623   \n",
       "18           230050  1599  0.8601   1.525  1.525   0.000  missing      878   \n",
       "19           230051  1859  0.0155   0.368  0.000   0.000      424    86509   \n",
       "20           230052  1880  2.6101   0.000  0.000   0.000        0    19252   \n",
       "21           230053  1852  3.6201   0.000  0.000   0.000      799    16515   \n",
       "22           230054  1655  3.0268  14.748  0.000   0.000       48       48   \n",
       "23           230055  1863  0.0401   0.000  0.000   0.000     1487     4955   \n",
       "24           230056  1753  0.2251   0.000  0.000   0.000     1124     1124   \n",
       "25           230057  1894  0.0318   0.000  0.000   0.000     4655     7433   \n",
       "26           230058  1803  0.3993   0.000  0.000   0.000      496    10505   \n",
       "27           230059  1932  0.3276   0.000  0.000   0.000     6982    21569   \n",
       "28           230060  1714  5.1904   0.770  0.000   0.000        0     1889   \n",
       "29           230061    na  2.0457   4.514  0.000   0.000  missing  missing   \n",
       "30           230062  1768  2.4194   0.243  0.243   0.000      215    24501   \n",
       "31           230063  1834  0.0651   0.000  0.000   0.000     2378    14944   \n",
       "32           230064  1837  0.0234   0.000  0.000   0.000  missing      700   \n",
       "33           230065  1785  0.2497   0.000  0.000   0.000        0    13243   \n",
       "34           230066  1889     NaN   0.000  0.000   0.000      297    19033   \n",
       "35           230067  1714  0.3262  13.494  0.000   0.000       50    35735   \n",
       "36           230068  1751  1.2501   9.125  0.000   0.000      242    14748   \n",
       "37           230069  1907  0.4734   0.000  0.000   0.000    14865    29714   \n",
       "38           230070  1765     NaN   0.368  0.000   0.000        0    13880   \n",
       "39           230071  1724  0.0000  12.719  0.000   0.000       71    16621   \n",
       "40           230072  1721  1.9276  12.936  0.000   0.000      160    67262   \n",
       "41           230073  1858     NaN   0.000  0.000   0.000  missing    39557   \n",
       "42           230074  1899  0.6101   0.000  0.000   0.000      991     5946   \n",
       "43           230075  1797  0.0767   0.977  0.000   0.000     1288     9644   \n",
       "44           230076  1817  0.3401   0.000  0.000   0.000      480     6914   \n",
       "45           230077    na  0.3880   2.031  0.000   0.000  missing  missing   \n",
       "46           230078  1650  2.5058  16.191  0.000  10.106  missing      859   \n",
       "47           230079  1712     NaN  11.893  0.000   0.000      116      116   \n",
       "48           230080    na  0.0000   0.000  0.000   0.000  missing  missing   \n",
       "49           230081  1868  0.0761   0.000  0.000   0.000     5888     6769   \n",
       "\n",
       "      mvar8    mvar9     ...     mvar39   mvar40   mvar41   mvar42  mvar43  \\\n",
       "0       322    40369     ...          1    73.78   82.547  0.08696      10   \n",
       "1      3171    18234     ...          0   99.129  missing        0      13   \n",
       "2   missing  missing     ...          0  missing    29.29        0       1   \n",
       "3      4955    20316     ...          0   96.272  missing  0.15385       3   \n",
       "4      5494     7987     ...          0  115.019  missing        0       1   \n",
       "5   missing  missing     ...         na  missing  missing      1.5       0   \n",
       "6   missing     1536     ...          0   88.171  missing        0       2   \n",
       "7   missing  missing     ...         na  missing  missing  missing      na   \n",
       "8     17828    70729     ...          0  missing  missing        0      10   \n",
       "9      6045    48959     ...          0  missing    45.59  0.08824      14   \n",
       "10     9910    90618     ...          0  missing  missing        0      17   \n",
       "11      439     2527     ...          1  missing  missing  0.61111       7   \n",
       "12    19449     6739     ...          0  missing  missing        0       5   \n",
       "13     8609    60545     ...          0  missing  missing        0      13   \n",
       "14  missing       38     ...          0  107.825   98.664     0.56      11   \n",
       "15  missing    51450     ...          0  missing  missing  0.32353       2   \n",
       "16    13379   246906     ...          0   10.384  missing        0      19   \n",
       "17      299     1140     ...          0  missing  missing  0.63636       5   \n",
       "18  missing  missing     ...          1  missing   91.175      0.8       0   \n",
       "19    12451    86635     ...          0  missing  missing        0      12   \n",
       "20     6342    59601     ...          0  missing   72.497        0      14   \n",
       "21    16515   110651     ...          0  missing  missing        0      13   \n",
       "22       48      198     ...          0  missing  missing        1       1   \n",
       "23     4955    22902     ...          0   96.895  missing        0      12   \n",
       "24     1124        0     ...          0  missing  missing  missing       0   \n",
       "25     7433    25667     ...          0  missing        0        0       3   \n",
       "26      496      991     ...          0   91.752   87.306      0.2       5   \n",
       "27    18829   187209     ...          0  missing  missing        0      11   \n",
       "28      595    12574     ...          0  missing  missing  0.35714       6   \n",
       "29  missing  missing     ...         na  missing  missing  1.16667       0   \n",
       "30     2973    71725     ...          0  missing   89.135  0.06061      18   \n",
       "31    13874   333795     ...          1  missing   38.544        0      24   \n",
       "32  missing     8275     ...          0  missing  missing        0       5   \n",
       "33     1231    18246     ...          0  116.148   79.695        0      14   \n",
       "34    19033    38054     ...          0  missing  missing        0       4   \n",
       "35      396    27609     ...          1   29.368  missing  0.21212       4   \n",
       "36     2335    31106     ...          0   97.029  missing  0.31034       5   \n",
       "37    14865    31415     ...          0  missing  missing        0       4   \n",
       "38     4905    14994     ...          0  missing   96.814  0.05556       8   \n",
       "39     1487     6878     ...          0  missing  missing  0.21739       7   \n",
       "40    25667    66236     ...          0      100  missing     0.25       8   \n",
       "41  missing    27550     ...          0  missing  missing        0       1   \n",
       "42     5946    83446     ...          0  missing  missing        0       6   \n",
       "43     1288     7234     ...          0  missing  missing        0       5   \n",
       "44      480    54802     ...          0  missing  missing        0       4   \n",
       "45  missing  missing     ...         na  missing  missing      1.2       0   \n",
       "46  missing  missing     ...          0      100   84.931  0.56522       4   \n",
       "47      116      694     ...          0  missing  missing     0.75       0   \n",
       "48  missing      494     ...          0  missing  missing      0.5       0   \n",
       "49     6769    18135     ...          0  missing  missing        0       2   \n",
       "\n",
       "     mvar44 mvar45 mvar46 mvar47 default_ind  \n",
       "0   0.63899     na      0      C           0  \n",
       "1   0.63836     na     na      L           1  \n",
       "2   1.00000     na      0      C           1  \n",
       "3   0.53241      0      0      L           0  \n",
       "4   0.92665     na     na      L           0  \n",
       "5       NaN     na     na      C           1  \n",
       "6   0.87224     na      0      C           1  \n",
       "7       NaN     na     na      C           0  \n",
       "8   0.89868      0      0      L           0  \n",
       "9   0.33834     na      0      L           0  \n",
       "10  0.80620      0      0      L           0  \n",
       "11  0.81172      0      0      C           0  \n",
       "12  0.98031     na     na      C           0  \n",
       "13  0.35724     na      0      C           0  \n",
       "14  0.29169     na      1      C           0  \n",
       "15      NaN      0     na      C           0  \n",
       "16  0.47480      0      0      L           0  \n",
       "17  0.94951     na      0      L           0  \n",
       "18  1.00000     na      0      C           1  \n",
       "19  0.34730      0      0      L           0  \n",
       "20  0.28708     na      0      L           0  \n",
       "21  0.75349     na     na      L           0  \n",
       "22  1.00000     na     na      C           1  \n",
       "23  0.40853     na      0      L           0  \n",
       "24  1.00000     na     na      C           1  \n",
       "25  0.99419      0      0      L           0  \n",
       "26  0.75289      0      0      L           0  \n",
       "27  0.99710      0      0      C           0  \n",
       "28  0.85082      0      0      L           0  \n",
       "29      NaN     na     na      L           0  \n",
       "30  0.89232      0      0      C           0  \n",
       "31  0.78792      0      0      L           0  \n",
       "32  1.00000     na      0      L           0  \n",
       "33  0.76360      0      0      C           0  \n",
       "34  1.00000      0      0      L           0  \n",
       "35  0.54951      2      0      C           0  \n",
       "36  0.52563      0     na      C           0  \n",
       "37  1.00000      0      0      L           0  \n",
       "38  0.75267      0      0      C           0  \n",
       "39  0.59257      1      0      C           0  \n",
       "40  0.51334      0      0      C           0  \n",
       "41  1.00000      0     na      L           0  \n",
       "42  1.00000     na     na      L           0  \n",
       "43  0.93684      0      0      L           0  \n",
       "44  0.97644      0     na      L           0  \n",
       "45      NaN     na     na      C           1  \n",
       "46  0.38864     na      0      C           0  \n",
       "47  0.99844      1     na      C           1  \n",
       "48      NaN     na      0      C           0  \n",
       "49  0.74236     na     na      C           0  \n",
       "\n",
       "[50 rows x 49 columns]"
      ]
     },
     "execution_count": 8164,
     "metadata": {},
     "output_type": "execute_result"
    }
   ],
   "source": [
    "df.head(50)"
   ]
  },
  {
   "cell_type": "code",
   "execution_count": 8165,
   "metadata": {},
   "outputs": [
    {
     "name": "stdout",
     "output_type": "stream",
     "text": [
      "<class 'pandas.core.frame.DataFrame'>\n",
      "RangeIndex: 80000 entries, 0 to 79999\n",
      "Data columns (total 49 columns):\n",
      "application_key    80000 non-null int64\n",
      "mvar1              80000 non-null object\n",
      "mvar2              74447 non-null float64\n",
      "mvar3              79499 non-null float64\n",
      "mvar4              79499 non-null float64\n",
      "mvar5              79499 non-null float64\n",
      "mvar6              80000 non-null object\n",
      "mvar7              80000 non-null object\n",
      "mvar8              80000 non-null object\n",
      "mvar9              80000 non-null object\n",
      "mvar10             80000 non-null object\n",
      "mvar11             80000 non-null object\n",
      "mvar12             80000 non-null object\n",
      "mvar13             80000 non-null object\n",
      "mvar14             80000 non-null int64\n",
      "mvar15             80000 non-null object\n",
      "mvar16             80000 non-null object\n",
      "mvar17             80000 non-null object\n",
      "mvar18             80000 non-null object\n",
      "mvar19             80000 non-null object\n",
      "mvar20             80000 non-null object\n",
      "mvar21             57439 non-null float64\n",
      "mvar22             50876 non-null float64\n",
      "mvar23             39752 non-null float64\n",
      "mvar24             61098 non-null float64\n",
      "mvar25             80000 non-null object\n",
      "mvar26             80000 non-null object\n",
      "mvar27             80000 non-null object\n",
      "mvar28             80000 non-null object\n",
      "mvar29             80000 non-null object\n",
      "mvar30             80000 non-null object\n",
      "mvar31             80000 non-null object\n",
      "mvar32             80000 non-null object\n",
      "mvar33             78249 non-null float64\n",
      "mvar34             80000 non-null object\n",
      "mvar35             80000 non-null object\n",
      "mvar36             80000 non-null object\n",
      "mvar37             80000 non-null object\n",
      "mvar38             80000 non-null object\n",
      "mvar39             80000 non-null object\n",
      "mvar40             80000 non-null object\n",
      "mvar41             80000 non-null object\n",
      "mvar42             80000 non-null object\n",
      "mvar43             80000 non-null object\n",
      "mvar44             72255 non-null float64\n",
      "mvar45             80000 non-null object\n",
      "mvar46             80000 non-null object\n",
      "mvar47             80000 non-null object\n",
      "default_ind        80000 non-null int64\n",
      "dtypes: float64(10), int64(3), object(36)\n",
      "memory usage: 29.9+ MB\n"
     ]
    }
   ],
   "source": [
    "df.info()"
   ]
  },
  {
   "cell_type": "code",
   "execution_count": 8166,
   "metadata": {},
   "outputs": [],
   "source": [
    "df['mvar47'] =df['mvar47'].replace(['C','L'],[0,1])"
   ]
  },
  {
   "cell_type": "code",
   "execution_count": 8167,
   "metadata": {},
   "outputs": [],
   "source": [
    "df.replace(['missing','na','Nan'],[np.nan,np.nan,np.nan],inplace = True)"
   ]
  },
  {
   "cell_type": "code",
   "execution_count": 8168,
   "metadata": {},
   "outputs": [],
   "source": [
    "df = df.astype(float)"
   ]
  },
  {
   "cell_type": "code",
   "execution_count": 8169,
   "metadata": {},
   "outputs": [],
   "source": [
    "df1 =df[df['mvar1'].isnull()]"
   ]
  },
  {
   "cell_type": "code",
   "execution_count": 8170,
   "metadata": {},
   "outputs": [
    {
     "name": "stdout",
     "output_type": "stream",
     "text": [
      "<class 'pandas.core.frame.DataFrame'>\n",
      "Int64Index: 3639 entries, 7 to 79989\n",
      "Data columns (total 49 columns):\n",
      "application_key    3639 non-null float64\n",
      "mvar1              0 non-null float64\n",
      "mvar2              3003 non-null float64\n",
      "mvar3              3138 non-null float64\n",
      "mvar4              3138 non-null float64\n",
      "mvar5              3138 non-null float64\n",
      "mvar6              329 non-null float64\n",
      "mvar7              580 non-null float64\n",
      "mvar8              329 non-null float64\n",
      "mvar9              713 non-null float64\n",
      "mvar10             3137 non-null float64\n",
      "mvar11             2429 non-null float64\n",
      "mvar12             500 non-null float64\n",
      "mvar13             307 non-null float64\n",
      "mvar14             3639 non-null float64\n",
      "mvar15             1643 non-null float64\n",
      "mvar16             342 non-null float64\n",
      "mvar17             404 non-null float64\n",
      "mvar18             499 non-null float64\n",
      "mvar19             3635 non-null float64\n",
      "mvar20             3137 non-null float64\n",
      "mvar21             266 non-null float64\n",
      "mvar22             451 non-null float64\n",
      "mvar23             353 non-null float64\n",
      "mvar24             218 non-null float64\n",
      "mvar25             1056 non-null float64\n",
      "mvar26             592 non-null float64\n",
      "mvar27             507 non-null float64\n",
      "mvar28             3137 non-null float64\n",
      "mvar29             3137 non-null float64\n",
      "mvar30             327 non-null float64\n",
      "mvar31             134 non-null float64\n",
      "mvar32             1056 non-null float64\n",
      "mvar33             3357 non-null float64\n",
      "mvar34             3137 non-null float64\n",
      "mvar35             353 non-null float64\n",
      "mvar36             2556 non-null float64\n",
      "mvar37             1056 non-null float64\n",
      "mvar38             3137 non-null float64\n",
      "mvar39             785 non-null float64\n",
      "mvar40             21 non-null float64\n",
      "mvar41             59 non-null float64\n",
      "mvar42             2461 non-null float64\n",
      "mvar43             2974 non-null float64\n",
      "mvar44             614 non-null float64\n",
      "mvar45             146 non-null float64\n",
      "mvar46             545 non-null float64\n",
      "mvar47             3639 non-null float64\n",
      "default_ind        3639 non-null float64\n",
      "dtypes: float64(49)\n",
      "memory usage: 1.4 MB\n"
     ]
    }
   ],
   "source": [
    "df1.info()"
   ]
  },
  {
   "cell_type": "code",
   "execution_count": 8171,
   "metadata": {},
   "outputs": [],
   "source": [
    "df =  df[df['mvar1'].notnull()]"
   ]
  },
  {
   "cell_type": "code",
   "execution_count": 8172,
   "metadata": {},
   "outputs": [
    {
     "name": "stdout",
     "output_type": "stream",
     "text": [
      "<class 'pandas.core.frame.DataFrame'>\n",
      "Int64Index: 76361 entries, 0 to 79999\n",
      "Data columns (total 49 columns):\n",
      "application_key    76361 non-null float64\n",
      "mvar1              76361 non-null float64\n",
      "mvar2              71444 non-null float64\n",
      "mvar3              76361 non-null float64\n",
      "mvar4              76361 non-null float64\n",
      "mvar5              76361 non-null float64\n",
      "mvar6              60707 non-null float64\n",
      "mvar7              72026 non-null float64\n",
      "mvar8              60707 non-null float64\n",
      "mvar9              67879 non-null float64\n",
      "mvar10             76361 non-null float64\n",
      "mvar11             32752 non-null float64\n",
      "mvar12             65422 non-null float64\n",
      "mvar13             71341 non-null float64\n",
      "mvar14             76361 non-null float64\n",
      "mvar15             46290 non-null float64\n",
      "mvar16             61148 non-null float64\n",
      "mvar17             63750 non-null float64\n",
      "mvar18             64730 non-null float64\n",
      "mvar19             76361 non-null float64\n",
      "mvar20             76361 non-null float64\n",
      "mvar21             57173 non-null float64\n",
      "mvar22             50425 non-null float64\n",
      "mvar23             39399 non-null float64\n",
      "mvar24             60880 non-null float64\n",
      "mvar25             71238 non-null float64\n",
      "mvar26             68798 non-null float64\n",
      "mvar27             66284 non-null float64\n",
      "mvar28             76361 non-null float64\n",
      "mvar29             76361 non-null float64\n",
      "mvar30             43256 non-null float64\n",
      "mvar31             23648 non-null float64\n",
      "mvar32             71238 non-null float64\n",
      "mvar33             74892 non-null float64\n",
      "mvar34             76361 non-null float64\n",
      "mvar35             46633 non-null float64\n",
      "mvar36             74546 non-null float64\n",
      "mvar37             71238 non-null float64\n",
      "mvar38             76361 non-null float64\n",
      "mvar39             73175 non-null float64\n",
      "mvar40             17422 non-null float64\n",
      "mvar41             25363 non-null float64\n",
      "mvar42             75638 non-null float64\n",
      "mvar43             76208 non-null float64\n",
      "mvar44             71641 non-null float64\n",
      "mvar45             34999 non-null float64\n",
      "mvar46             56666 non-null float64\n",
      "mvar47             76361 non-null float64\n",
      "default_ind        76361 non-null float64\n",
      "dtypes: float64(49)\n",
      "memory usage: 29.1 MB\n"
     ]
    }
   ],
   "source": [
    "df.info()"
   ]
  },
  {
   "cell_type": "code",
   "execution_count": 8173,
   "metadata": {},
   "outputs": [
    {
     "data": {
      "text/html": [
       "<div>\n",
       "<style scoped>\n",
       "    .dataframe tbody tr th:only-of-type {\n",
       "        vertical-align: middle;\n",
       "    }\n",
       "\n",
       "    .dataframe tbody tr th {\n",
       "        vertical-align: top;\n",
       "    }\n",
       "\n",
       "    .dataframe thead th {\n",
       "        text-align: right;\n",
       "    }\n",
       "</style>\n",
       "<table border=\"1\" class=\"dataframe\">\n",
       "  <thead>\n",
       "    <tr style=\"text-align: right;\">\n",
       "      <th></th>\n",
       "      <th>application_key</th>\n",
       "      <th>mvar1</th>\n",
       "      <th>mvar2</th>\n",
       "      <th>mvar3</th>\n",
       "      <th>mvar4</th>\n",
       "      <th>mvar5</th>\n",
       "      <th>mvar6</th>\n",
       "      <th>mvar7</th>\n",
       "      <th>mvar8</th>\n",
       "      <th>mvar9</th>\n",
       "      <th>...</th>\n",
       "      <th>mvar39</th>\n",
       "      <th>mvar40</th>\n",
       "      <th>mvar41</th>\n",
       "      <th>mvar42</th>\n",
       "      <th>mvar43</th>\n",
       "      <th>mvar44</th>\n",
       "      <th>mvar45</th>\n",
       "      <th>mvar46</th>\n",
       "      <th>mvar47</th>\n",
       "      <th>default_ind</th>\n",
       "    </tr>\n",
       "  </thead>\n",
       "  <tbody>\n",
       "    <tr>\n",
       "      <th>count</th>\n",
       "      <td>76361.000000</td>\n",
       "      <td>76361.000000</td>\n",
       "      <td>71444.000000</td>\n",
       "      <td>76361.000000</td>\n",
       "      <td>76361.000000</td>\n",
       "      <td>76361.000000</td>\n",
       "      <td>60707.000000</td>\n",
       "      <td>7.202600e+04</td>\n",
       "      <td>60707.000000</td>\n",
       "      <td>6.787900e+04</td>\n",
       "      <td>...</td>\n",
       "      <td>73175.000000</td>\n",
       "      <td>17422.000000</td>\n",
       "      <td>25363.000000</td>\n",
       "      <td>75638.000000</td>\n",
       "      <td>76208.000000</td>\n",
       "      <td>71641.000000</td>\n",
       "      <td>34999.000000</td>\n",
       "      <td>56666.000000</td>\n",
       "      <td>76361.000000</td>\n",
       "      <td>76361.000000</td>\n",
       "    </tr>\n",
       "    <tr>\n",
       "      <th>mean</th>\n",
       "      <td>269995.087911</td>\n",
       "      <td>1745.971085</td>\n",
       "      <td>1.108113</td>\n",
       "      <td>5.384228</td>\n",
       "      <td>0.492941</td>\n",
       "      <td>1.170251</td>\n",
       "      <td>1610.466882</td>\n",
       "      <td>1.772474e+04</td>\n",
       "      <td>6802.622959</td>\n",
       "      <td>3.442998e+04</td>\n",
       "      <td>...</td>\n",
       "      <td>0.091438</td>\n",
       "      <td>98.497252</td>\n",
       "      <td>72.059612</td>\n",
       "      <td>0.310008</td>\n",
       "      <td>6.799864</td>\n",
       "      <td>0.703248</td>\n",
       "      <td>0.070888</td>\n",
       "      <td>0.096954</td>\n",
       "      <td>0.356412</td>\n",
       "      <td>0.240227</td>\n",
       "    </tr>\n",
       "    <tr>\n",
       "      <th>std</th>\n",
       "      <td>23091.735568</td>\n",
       "      <td>94.537617</td>\n",
       "      <td>1.634907</td>\n",
       "      <td>10.959897</td>\n",
       "      <td>1.829456</td>\n",
       "      <td>6.112659</td>\n",
       "      <td>3704.910479</td>\n",
       "      <td>4.724469e+04</td>\n",
       "      <td>10138.169518</td>\n",
       "      <td>5.355202e+04</td>\n",
       "      <td>...</td>\n",
       "      <td>0.421061</td>\n",
       "      <td>29.778415</td>\n",
       "      <td>24.418577</td>\n",
       "      <td>0.345191</td>\n",
       "      <td>6.304258</td>\n",
       "      <td>0.245637</td>\n",
       "      <td>0.287516</td>\n",
       "      <td>0.347517</td>\n",
       "      <td>0.478942</td>\n",
       "      <td>0.427224</td>\n",
       "    </tr>\n",
       "    <tr>\n",
       "      <th>min</th>\n",
       "      <td>230032.000000</td>\n",
       "      <td>1493.000000</td>\n",
       "      <td>0.000000</td>\n",
       "      <td>0.000000</td>\n",
       "      <td>0.000000</td>\n",
       "      <td>0.000000</td>\n",
       "      <td>0.000000</td>\n",
       "      <td>0.000000e+00</td>\n",
       "      <td>0.000000</td>\n",
       "      <td>0.000000e+00</td>\n",
       "      <td>...</td>\n",
       "      <td>0.000000</td>\n",
       "      <td>0.014000</td>\n",
       "      <td>0.000000</td>\n",
       "      <td>0.000000</td>\n",
       "      <td>0.000000</td>\n",
       "      <td>0.060660</td>\n",
       "      <td>0.000000</td>\n",
       "      <td>0.000000</td>\n",
       "      <td>0.000000</td>\n",
       "      <td>0.000000</td>\n",
       "    </tr>\n",
       "    <tr>\n",
       "      <th>25%</th>\n",
       "      <td>249994.000000</td>\n",
       "      <td>1679.000000</td>\n",
       "      <td>0.140200</td>\n",
       "      <td>0.000000</td>\n",
       "      <td>0.000000</td>\n",
       "      <td>0.000000</td>\n",
       "      <td>36.000000</td>\n",
       "      <td>1.821000e+03</td>\n",
       "      <td>496.000000</td>\n",
       "      <td>3.700000e+03</td>\n",
       "      <td>...</td>\n",
       "      <td>0.000000</td>\n",
       "      <td>90.656250</td>\n",
       "      <td>58.123500</td>\n",
       "      <td>0.000000</td>\n",
       "      <td>2.000000</td>\n",
       "      <td>0.513530</td>\n",
       "      <td>0.000000</td>\n",
       "      <td>0.000000</td>\n",
       "      <td>0.000000</td>\n",
       "      <td>0.000000</td>\n",
       "    </tr>\n",
       "    <tr>\n",
       "      <th>50%</th>\n",
       "      <td>269971.000000</td>\n",
       "      <td>1742.000000</td>\n",
       "      <td>0.543500</td>\n",
       "      <td>0.311000</td>\n",
       "      <td>0.000000</td>\n",
       "      <td>0.000000</td>\n",
       "      <td>297.000000</td>\n",
       "      <td>7.085500e+03</td>\n",
       "      <td>2478.000000</td>\n",
       "      <td>1.449200e+04</td>\n",
       "      <td>...</td>\n",
       "      <td>0.000000</td>\n",
       "      <td>100.000000</td>\n",
       "      <td>78.829000</td>\n",
       "      <td>0.187500</td>\n",
       "      <td>5.000000</td>\n",
       "      <td>0.734060</td>\n",
       "      <td>0.000000</td>\n",
       "      <td>0.000000</td>\n",
       "      <td>0.000000</td>\n",
       "      <td>0.000000</td>\n",
       "    </tr>\n",
       "    <tr>\n",
       "      <th>75%</th>\n",
       "      <td>289991.000000</td>\n",
       "      <td>1810.000000</td>\n",
       "      <td>1.452650</td>\n",
       "      <td>6.556000</td>\n",
       "      <td>0.000000</td>\n",
       "      <td>0.000000</td>\n",
       "      <td>1357.000000</td>\n",
       "      <td>1.820000e+04</td>\n",
       "      <td>9755.500000</td>\n",
       "      <td>4.435400e+04</td>\n",
       "      <td>...</td>\n",
       "      <td>0.000000</td>\n",
       "      <td>111.717000</td>\n",
       "      <td>91.581000</td>\n",
       "      <td>0.529410</td>\n",
       "      <td>10.000000</td>\n",
       "      <td>0.939960</td>\n",
       "      <td>0.000000</td>\n",
       "      <td>0.000000</td>\n",
       "      <td>1.000000</td>\n",
       "      <td>0.000000</td>\n",
       "    </tr>\n",
       "    <tr>\n",
       "      <th>max</th>\n",
       "      <td>310031.000000</td>\n",
       "      <td>1950.000000</td>\n",
       "      <td>36.030100</td>\n",
       "      <td>286.858000</td>\n",
       "      <td>114.696000</td>\n",
       "      <td>226.527000</td>\n",
       "      <td>136595.000000</td>\n",
       "      <td>5.549600e+06</td>\n",
       "      <td>291810.000000</td>\n",
       "      <td>3.711880e+06</td>\n",
       "      <td>...</td>\n",
       "      <td>21.000000</td>\n",
       "      <td>430.300000</td>\n",
       "      <td>170.000000</td>\n",
       "      <td>2.000000</td>\n",
       "      <td>91.000000</td>\n",
       "      <td>1.000000</td>\n",
       "      <td>5.000000</td>\n",
       "      <td>19.000000</td>\n",
       "      <td>1.000000</td>\n",
       "      <td>1.000000</td>\n",
       "    </tr>\n",
       "  </tbody>\n",
       "</table>\n",
       "<p>8 rows × 49 columns</p>\n",
       "</div>"
      ],
      "text/plain": [
       "       application_key         mvar1         mvar2         mvar3  \\\n",
       "count     76361.000000  76361.000000  71444.000000  76361.000000   \n",
       "mean     269995.087911   1745.971085      1.108113      5.384228   \n",
       "std       23091.735568     94.537617      1.634907     10.959897   \n",
       "min      230032.000000   1493.000000      0.000000      0.000000   \n",
       "25%      249994.000000   1679.000000      0.140200      0.000000   \n",
       "50%      269971.000000   1742.000000      0.543500      0.311000   \n",
       "75%      289991.000000   1810.000000      1.452650      6.556000   \n",
       "max      310031.000000   1950.000000     36.030100    286.858000   \n",
       "\n",
       "              mvar4         mvar5          mvar6         mvar7          mvar8  \\\n",
       "count  76361.000000  76361.000000   60707.000000  7.202600e+04   60707.000000   \n",
       "mean       0.492941      1.170251    1610.466882  1.772474e+04    6802.622959   \n",
       "std        1.829456      6.112659    3704.910479  4.724469e+04   10138.169518   \n",
       "min        0.000000      0.000000       0.000000  0.000000e+00       0.000000   \n",
       "25%        0.000000      0.000000      36.000000  1.821000e+03     496.000000   \n",
       "50%        0.000000      0.000000     297.000000  7.085500e+03    2478.000000   \n",
       "75%        0.000000      0.000000    1357.000000  1.820000e+04    9755.500000   \n",
       "max      114.696000    226.527000  136595.000000  5.549600e+06  291810.000000   \n",
       "\n",
       "              mvar9      ...             mvar39        mvar40        mvar41  \\\n",
       "count  6.787900e+04      ...       73175.000000  17422.000000  25363.000000   \n",
       "mean   3.442998e+04      ...           0.091438     98.497252     72.059612   \n",
       "std    5.355202e+04      ...           0.421061     29.778415     24.418577   \n",
       "min    0.000000e+00      ...           0.000000      0.014000      0.000000   \n",
       "25%    3.700000e+03      ...           0.000000     90.656250     58.123500   \n",
       "50%    1.449200e+04      ...           0.000000    100.000000     78.829000   \n",
       "75%    4.435400e+04      ...           0.000000    111.717000     91.581000   \n",
       "max    3.711880e+06      ...          21.000000    430.300000    170.000000   \n",
       "\n",
       "             mvar42        mvar43        mvar44        mvar45        mvar46  \\\n",
       "count  75638.000000  76208.000000  71641.000000  34999.000000  56666.000000   \n",
       "mean       0.310008      6.799864      0.703248      0.070888      0.096954   \n",
       "std        0.345191      6.304258      0.245637      0.287516      0.347517   \n",
       "min        0.000000      0.000000      0.060660      0.000000      0.000000   \n",
       "25%        0.000000      2.000000      0.513530      0.000000      0.000000   \n",
       "50%        0.187500      5.000000      0.734060      0.000000      0.000000   \n",
       "75%        0.529410     10.000000      0.939960      0.000000      0.000000   \n",
       "max        2.000000     91.000000      1.000000      5.000000     19.000000   \n",
       "\n",
       "             mvar47   default_ind  \n",
       "count  76361.000000  76361.000000  \n",
       "mean       0.356412      0.240227  \n",
       "std        0.478942      0.427224  \n",
       "min        0.000000      0.000000  \n",
       "25%        0.000000      0.000000  \n",
       "50%        0.000000      0.000000  \n",
       "75%        1.000000      0.000000  \n",
       "max        1.000000      1.000000  \n",
       "\n",
       "[8 rows x 49 columns]"
      ]
     },
     "execution_count": 8173,
     "metadata": {},
     "output_type": "execute_result"
    }
   ],
   "source": [
    "df.describe()"
   ]
  },
  {
   "cell_type": "code",
   "execution_count": 8174,
   "metadata": {},
   "outputs": [
    {
     "data": {
      "text/plain": [
       "0.0    6723\n",
       "1.0    5266\n",
       "Name: default_ind, dtype: int64"
      ]
     },
     "execution_count": 8174,
     "metadata": {},
     "output_type": "execute_result"
    }
   ],
   "source": [
    "col = df[df['mvar2']>2]\n",
    "col['default_ind'].value_counts()"
   ]
  },
  {
   "cell_type": "code",
   "execution_count": 8175,
   "metadata": {},
   "outputs": [],
   "source": [
    "df['mvar2'] = df['mvar2'].fillna(0.954711)"
   ]
  },
  {
   "cell_type": "code",
   "execution_count": 8176,
   "metadata": {},
   "outputs": [
    {
     "name": "stdout",
     "output_type": "stream",
     "text": [
      "<class 'pandas.core.frame.DataFrame'>\n",
      "Int64Index: 76361 entries, 0 to 79999\n",
      "Data columns (total 49 columns):\n",
      "application_key    76361 non-null float64\n",
      "mvar1              76361 non-null float64\n",
      "mvar2              76361 non-null float64\n",
      "mvar3              76361 non-null float64\n",
      "mvar4              76361 non-null float64\n",
      "mvar5              76361 non-null float64\n",
      "mvar6              60707 non-null float64\n",
      "mvar7              72026 non-null float64\n",
      "mvar8              60707 non-null float64\n",
      "mvar9              67879 non-null float64\n",
      "mvar10             76361 non-null float64\n",
      "mvar11             32752 non-null float64\n",
      "mvar12             65422 non-null float64\n",
      "mvar13             71341 non-null float64\n",
      "mvar14             76361 non-null float64\n",
      "mvar15             46290 non-null float64\n",
      "mvar16             61148 non-null float64\n",
      "mvar17             63750 non-null float64\n",
      "mvar18             64730 non-null float64\n",
      "mvar19             76361 non-null float64\n",
      "mvar20             76361 non-null float64\n",
      "mvar21             57173 non-null float64\n",
      "mvar22             50425 non-null float64\n",
      "mvar23             39399 non-null float64\n",
      "mvar24             60880 non-null float64\n",
      "mvar25             71238 non-null float64\n",
      "mvar26             68798 non-null float64\n",
      "mvar27             66284 non-null float64\n",
      "mvar28             76361 non-null float64\n",
      "mvar29             76361 non-null float64\n",
      "mvar30             43256 non-null float64\n",
      "mvar31             23648 non-null float64\n",
      "mvar32             71238 non-null float64\n",
      "mvar33             74892 non-null float64\n",
      "mvar34             76361 non-null float64\n",
      "mvar35             46633 non-null float64\n",
      "mvar36             74546 non-null float64\n",
      "mvar37             71238 non-null float64\n",
      "mvar38             76361 non-null float64\n",
      "mvar39             73175 non-null float64\n",
      "mvar40             17422 non-null float64\n",
      "mvar41             25363 non-null float64\n",
      "mvar42             75638 non-null float64\n",
      "mvar43             76208 non-null float64\n",
      "mvar44             71641 non-null float64\n",
      "mvar45             34999 non-null float64\n",
      "mvar46             56666 non-null float64\n",
      "mvar47             76361 non-null float64\n",
      "default_ind        76361 non-null float64\n",
      "dtypes: float64(49)\n",
      "memory usage: 29.1 MB\n"
     ]
    }
   ],
   "source": [
    "df.info()"
   ]
  },
  {
   "cell_type": "code",
   "execution_count": 8177,
   "metadata": {},
   "outputs": [
    {
     "name": "stdout",
     "output_type": "stream",
     "text": [
      "<class 'pandas.core.frame.DataFrame'>\n",
      "Int64Index: 76361 entries, 0 to 79999\n",
      "Data columns (total 49 columns):\n",
      "application_key    76361 non-null float64\n",
      "mvar1              76361 non-null float64\n",
      "mvar2              76361 non-null float64\n",
      "mvar3              76361 non-null float64\n",
      "mvar4              76361 non-null float64\n",
      "mvar5              76361 non-null float64\n",
      "mvar6              60707 non-null float64\n",
      "mvar7              72026 non-null float64\n",
      "mvar8              60707 non-null float64\n",
      "mvar9              67879 non-null float64\n",
      "mvar10             76361 non-null float64\n",
      "mvar11             32752 non-null float64\n",
      "mvar12             65422 non-null float64\n",
      "mvar13             71341 non-null float64\n",
      "mvar14             76361 non-null float64\n",
      "mvar15             46290 non-null float64\n",
      "mvar16             61148 non-null float64\n",
      "mvar17             63750 non-null float64\n",
      "mvar18             64730 non-null float64\n",
      "mvar19             76361 non-null float64\n",
      "mvar20             76361 non-null float64\n",
      "mvar21             57173 non-null float64\n",
      "mvar22             50425 non-null float64\n",
      "mvar23             39399 non-null float64\n",
      "mvar24             60880 non-null float64\n",
      "mvar25             71238 non-null float64\n",
      "mvar26             68798 non-null float64\n",
      "mvar27             66284 non-null float64\n",
      "mvar28             76361 non-null float64\n",
      "mvar29             76361 non-null float64\n",
      "mvar30             43256 non-null float64\n",
      "mvar31             23648 non-null float64\n",
      "mvar32             71238 non-null float64\n",
      "mvar33             74892 non-null float64\n",
      "mvar34             76361 non-null float64\n",
      "mvar35             46633 non-null float64\n",
      "mvar36             74546 non-null float64\n",
      "mvar37             71238 non-null float64\n",
      "mvar38             76361 non-null float64\n",
      "mvar39             73175 non-null float64\n",
      "mvar40             17422 non-null float64\n",
      "mvar41             25363 non-null float64\n",
      "mvar42             75638 non-null float64\n",
      "mvar43             76208 non-null float64\n",
      "mvar44             71641 non-null float64\n",
      "mvar45             34999 non-null float64\n",
      "mvar46             56666 non-null float64\n",
      "mvar47             76361 non-null float64\n",
      "default_ind        76361 non-null float64\n",
      "dtypes: float64(49)\n",
      "memory usage: 29.1 MB\n"
     ]
    }
   ],
   "source": [
    "df.info()"
   ]
  },
  {
   "cell_type": "code",
   "execution_count": 8178,
   "metadata": {},
   "outputs": [
    {
     "data": {
      "text/html": [
       "<div>\n",
       "<style scoped>\n",
       "    .dataframe tbody tr th:only-of-type {\n",
       "        vertical-align: middle;\n",
       "    }\n",
       "\n",
       "    .dataframe tbody tr th {\n",
       "        vertical-align: top;\n",
       "    }\n",
       "\n",
       "    .dataframe thead th {\n",
       "        text-align: right;\n",
       "    }\n",
       "</style>\n",
       "<table border=\"1\" class=\"dataframe\">\n",
       "  <thead>\n",
       "    <tr style=\"text-align: right;\">\n",
       "      <th></th>\n",
       "      <th>application_key</th>\n",
       "      <th>mvar1</th>\n",
       "      <th>mvar2</th>\n",
       "      <th>mvar3</th>\n",
       "      <th>mvar4</th>\n",
       "      <th>mvar5</th>\n",
       "      <th>mvar6</th>\n",
       "      <th>mvar7</th>\n",
       "      <th>mvar8</th>\n",
       "      <th>mvar9</th>\n",
       "      <th>...</th>\n",
       "      <th>mvar39</th>\n",
       "      <th>mvar40</th>\n",
       "      <th>mvar41</th>\n",
       "      <th>mvar42</th>\n",
       "      <th>mvar43</th>\n",
       "      <th>mvar44</th>\n",
       "      <th>mvar45</th>\n",
       "      <th>mvar46</th>\n",
       "      <th>mvar47</th>\n",
       "      <th>default_ind</th>\n",
       "    </tr>\n",
       "  </thead>\n",
       "  <tbody>\n",
       "    <tr>\n",
       "      <th>count</th>\n",
       "      <td>76361.000000</td>\n",
       "      <td>76361.000000</td>\n",
       "      <td>76361.000000</td>\n",
       "      <td>76361.000000</td>\n",
       "      <td>76361.000000</td>\n",
       "      <td>76361.000000</td>\n",
       "      <td>60707.000000</td>\n",
       "      <td>7.202600e+04</td>\n",
       "      <td>60707.000000</td>\n",
       "      <td>6.787900e+04</td>\n",
       "      <td>...</td>\n",
       "      <td>73175.000000</td>\n",
       "      <td>17422.000000</td>\n",
       "      <td>25363.000000</td>\n",
       "      <td>75638.000000</td>\n",
       "      <td>76208.000000</td>\n",
       "      <td>71641.000000</td>\n",
       "      <td>34999.000000</td>\n",
       "      <td>56666.000000</td>\n",
       "      <td>76361.000000</td>\n",
       "      <td>76361.000000</td>\n",
       "    </tr>\n",
       "    <tr>\n",
       "      <th>mean</th>\n",
       "      <td>269995.087911</td>\n",
       "      <td>1745.971085</td>\n",
       "      <td>1.098235</td>\n",
       "      <td>5.384228</td>\n",
       "      <td>0.492941</td>\n",
       "      <td>1.170251</td>\n",
       "      <td>1610.466882</td>\n",
       "      <td>1.772474e+04</td>\n",
       "      <td>6802.622959</td>\n",
       "      <td>3.442998e+04</td>\n",
       "      <td>...</td>\n",
       "      <td>0.091438</td>\n",
       "      <td>98.497252</td>\n",
       "      <td>72.059612</td>\n",
       "      <td>0.310008</td>\n",
       "      <td>6.799864</td>\n",
       "      <td>0.703248</td>\n",
       "      <td>0.070888</td>\n",
       "      <td>0.096954</td>\n",
       "      <td>0.356412</td>\n",
       "      <td>0.240227</td>\n",
       "    </tr>\n",
       "    <tr>\n",
       "      <th>std</th>\n",
       "      <td>23091.735568</td>\n",
       "      <td>94.537617</td>\n",
       "      <td>1.581842</td>\n",
       "      <td>10.959897</td>\n",
       "      <td>1.829456</td>\n",
       "      <td>6.112659</td>\n",
       "      <td>3704.910479</td>\n",
       "      <td>4.724469e+04</td>\n",
       "      <td>10138.169518</td>\n",
       "      <td>5.355202e+04</td>\n",
       "      <td>...</td>\n",
       "      <td>0.421061</td>\n",
       "      <td>29.778415</td>\n",
       "      <td>24.418577</td>\n",
       "      <td>0.345191</td>\n",
       "      <td>6.304258</td>\n",
       "      <td>0.245637</td>\n",
       "      <td>0.287516</td>\n",
       "      <td>0.347517</td>\n",
       "      <td>0.478942</td>\n",
       "      <td>0.427224</td>\n",
       "    </tr>\n",
       "    <tr>\n",
       "      <th>min</th>\n",
       "      <td>230032.000000</td>\n",
       "      <td>1493.000000</td>\n",
       "      <td>0.000000</td>\n",
       "      <td>0.000000</td>\n",
       "      <td>0.000000</td>\n",
       "      <td>0.000000</td>\n",
       "      <td>0.000000</td>\n",
       "      <td>0.000000e+00</td>\n",
       "      <td>0.000000</td>\n",
       "      <td>0.000000e+00</td>\n",
       "      <td>...</td>\n",
       "      <td>0.000000</td>\n",
       "      <td>0.014000</td>\n",
       "      <td>0.000000</td>\n",
       "      <td>0.000000</td>\n",
       "      <td>0.000000</td>\n",
       "      <td>0.060660</td>\n",
       "      <td>0.000000</td>\n",
       "      <td>0.000000</td>\n",
       "      <td>0.000000</td>\n",
       "      <td>0.000000</td>\n",
       "    </tr>\n",
       "    <tr>\n",
       "      <th>25%</th>\n",
       "      <td>249994.000000</td>\n",
       "      <td>1679.000000</td>\n",
       "      <td>0.159600</td>\n",
       "      <td>0.000000</td>\n",
       "      <td>0.000000</td>\n",
       "      <td>0.000000</td>\n",
       "      <td>36.000000</td>\n",
       "      <td>1.821000e+03</td>\n",
       "      <td>496.000000</td>\n",
       "      <td>3.700000e+03</td>\n",
       "      <td>...</td>\n",
       "      <td>0.000000</td>\n",
       "      <td>90.656250</td>\n",
       "      <td>58.123500</td>\n",
       "      <td>0.000000</td>\n",
       "      <td>2.000000</td>\n",
       "      <td>0.513530</td>\n",
       "      <td>0.000000</td>\n",
       "      <td>0.000000</td>\n",
       "      <td>0.000000</td>\n",
       "      <td>0.000000</td>\n",
       "    </tr>\n",
       "    <tr>\n",
       "      <th>50%</th>\n",
       "      <td>269971.000000</td>\n",
       "      <td>1742.000000</td>\n",
       "      <td>0.622900</td>\n",
       "      <td>0.311000</td>\n",
       "      <td>0.000000</td>\n",
       "      <td>0.000000</td>\n",
       "      <td>297.000000</td>\n",
       "      <td>7.085500e+03</td>\n",
       "      <td>2478.000000</td>\n",
       "      <td>1.449200e+04</td>\n",
       "      <td>...</td>\n",
       "      <td>0.000000</td>\n",
       "      <td>100.000000</td>\n",
       "      <td>78.829000</td>\n",
       "      <td>0.187500</td>\n",
       "      <td>5.000000</td>\n",
       "      <td>0.734060</td>\n",
       "      <td>0.000000</td>\n",
       "      <td>0.000000</td>\n",
       "      <td>0.000000</td>\n",
       "      <td>0.000000</td>\n",
       "    </tr>\n",
       "    <tr>\n",
       "      <th>75%</th>\n",
       "      <td>289991.000000</td>\n",
       "      <td>1810.000000</td>\n",
       "      <td>1.360100</td>\n",
       "      <td>6.556000</td>\n",
       "      <td>0.000000</td>\n",
       "      <td>0.000000</td>\n",
       "      <td>1357.000000</td>\n",
       "      <td>1.820000e+04</td>\n",
       "      <td>9755.500000</td>\n",
       "      <td>4.435400e+04</td>\n",
       "      <td>...</td>\n",
       "      <td>0.000000</td>\n",
       "      <td>111.717000</td>\n",
       "      <td>91.581000</td>\n",
       "      <td>0.529410</td>\n",
       "      <td>10.000000</td>\n",
       "      <td>0.939960</td>\n",
       "      <td>0.000000</td>\n",
       "      <td>0.000000</td>\n",
       "      <td>1.000000</td>\n",
       "      <td>0.000000</td>\n",
       "    </tr>\n",
       "    <tr>\n",
       "      <th>max</th>\n",
       "      <td>310031.000000</td>\n",
       "      <td>1950.000000</td>\n",
       "      <td>36.030100</td>\n",
       "      <td>286.858000</td>\n",
       "      <td>114.696000</td>\n",
       "      <td>226.527000</td>\n",
       "      <td>136595.000000</td>\n",
       "      <td>5.549600e+06</td>\n",
       "      <td>291810.000000</td>\n",
       "      <td>3.711880e+06</td>\n",
       "      <td>...</td>\n",
       "      <td>21.000000</td>\n",
       "      <td>430.300000</td>\n",
       "      <td>170.000000</td>\n",
       "      <td>2.000000</td>\n",
       "      <td>91.000000</td>\n",
       "      <td>1.000000</td>\n",
       "      <td>5.000000</td>\n",
       "      <td>19.000000</td>\n",
       "      <td>1.000000</td>\n",
       "      <td>1.000000</td>\n",
       "    </tr>\n",
       "  </tbody>\n",
       "</table>\n",
       "<p>8 rows × 49 columns</p>\n",
       "</div>"
      ],
      "text/plain": [
       "       application_key         mvar1         mvar2         mvar3  \\\n",
       "count     76361.000000  76361.000000  76361.000000  76361.000000   \n",
       "mean     269995.087911   1745.971085      1.098235      5.384228   \n",
       "std       23091.735568     94.537617      1.581842     10.959897   \n",
       "min      230032.000000   1493.000000      0.000000      0.000000   \n",
       "25%      249994.000000   1679.000000      0.159600      0.000000   \n",
       "50%      269971.000000   1742.000000      0.622900      0.311000   \n",
       "75%      289991.000000   1810.000000      1.360100      6.556000   \n",
       "max      310031.000000   1950.000000     36.030100    286.858000   \n",
       "\n",
       "              mvar4         mvar5          mvar6         mvar7          mvar8  \\\n",
       "count  76361.000000  76361.000000   60707.000000  7.202600e+04   60707.000000   \n",
       "mean       0.492941      1.170251    1610.466882  1.772474e+04    6802.622959   \n",
       "std        1.829456      6.112659    3704.910479  4.724469e+04   10138.169518   \n",
       "min        0.000000      0.000000       0.000000  0.000000e+00       0.000000   \n",
       "25%        0.000000      0.000000      36.000000  1.821000e+03     496.000000   \n",
       "50%        0.000000      0.000000     297.000000  7.085500e+03    2478.000000   \n",
       "75%        0.000000      0.000000    1357.000000  1.820000e+04    9755.500000   \n",
       "max      114.696000    226.527000  136595.000000  5.549600e+06  291810.000000   \n",
       "\n",
       "              mvar9      ...             mvar39        mvar40        mvar41  \\\n",
       "count  6.787900e+04      ...       73175.000000  17422.000000  25363.000000   \n",
       "mean   3.442998e+04      ...           0.091438     98.497252     72.059612   \n",
       "std    5.355202e+04      ...           0.421061     29.778415     24.418577   \n",
       "min    0.000000e+00      ...           0.000000      0.014000      0.000000   \n",
       "25%    3.700000e+03      ...           0.000000     90.656250     58.123500   \n",
       "50%    1.449200e+04      ...           0.000000    100.000000     78.829000   \n",
       "75%    4.435400e+04      ...           0.000000    111.717000     91.581000   \n",
       "max    3.711880e+06      ...          21.000000    430.300000    170.000000   \n",
       "\n",
       "             mvar42        mvar43        mvar44        mvar45        mvar46  \\\n",
       "count  75638.000000  76208.000000  71641.000000  34999.000000  56666.000000   \n",
       "mean       0.310008      6.799864      0.703248      0.070888      0.096954   \n",
       "std        0.345191      6.304258      0.245637      0.287516      0.347517   \n",
       "min        0.000000      0.000000      0.060660      0.000000      0.000000   \n",
       "25%        0.000000      2.000000      0.513530      0.000000      0.000000   \n",
       "50%        0.187500      5.000000      0.734060      0.000000      0.000000   \n",
       "75%        0.529410     10.000000      0.939960      0.000000      0.000000   \n",
       "max        2.000000     91.000000      1.000000      5.000000     19.000000   \n",
       "\n",
       "             mvar47   default_ind  \n",
       "count  76361.000000  76361.000000  \n",
       "mean       0.356412      0.240227  \n",
       "std        0.478942      0.427224  \n",
       "min        0.000000      0.000000  \n",
       "25%        0.000000      0.000000  \n",
       "50%        0.000000      0.000000  \n",
       "75%        1.000000      0.000000  \n",
       "max        1.000000      1.000000  \n",
       "\n",
       "[8 rows x 49 columns]"
      ]
     },
     "execution_count": 8178,
     "metadata": {},
     "output_type": "execute_result"
    }
   ],
   "source": [
    "df.describe()"
   ]
  },
  {
   "cell_type": "code",
   "execution_count": 8179,
   "metadata": {},
   "outputs": [],
   "source": [
    "df.drop('mvar3',axis=1,inplace=True)"
   ]
  },
  {
   "cell_type": "code",
   "execution_count": 8180,
   "metadata": {},
   "outputs": [
    {
     "data": {
      "text/plain": [
       "0.0    6042\n",
       "1.0    4621\n",
       "Name: default_ind, dtype: int64"
      ]
     },
     "execution_count": 8180,
     "metadata": {},
     "output_type": "execute_result"
    }
   ],
   "source": [
    "df2 = df[df['mvar6'] == 0]\n",
    "df2['default_ind'].value_counts()"
   ]
  },
  {
   "cell_type": "code",
   "execution_count": 8181,
   "metadata": {},
   "outputs": [
    {
     "data": {
      "text/html": [
       "<div>\n",
       "<style scoped>\n",
       "    .dataframe tbody tr th:only-of-type {\n",
       "        vertical-align: middle;\n",
       "    }\n",
       "\n",
       "    .dataframe tbody tr th {\n",
       "        vertical-align: top;\n",
       "    }\n",
       "\n",
       "    .dataframe thead th {\n",
       "        text-align: right;\n",
       "    }\n",
       "</style>\n",
       "<table border=\"1\" class=\"dataframe\">\n",
       "  <thead>\n",
       "    <tr style=\"text-align: right;\">\n",
       "      <th></th>\n",
       "      <th>mvar4</th>\n",
       "      <th>mvar5</th>\n",
       "    </tr>\n",
       "  </thead>\n",
       "  <tbody>\n",
       "    <tr>\n",
       "      <th>mvar4</th>\n",
       "      <td>1.000000</td>\n",
       "      <td>0.090274</td>\n",
       "    </tr>\n",
       "    <tr>\n",
       "      <th>mvar5</th>\n",
       "      <td>0.090274</td>\n",
       "      <td>1.000000</td>\n",
       "    </tr>\n",
       "  </tbody>\n",
       "</table>\n",
       "</div>"
      ],
      "text/plain": [
       "          mvar4     mvar5\n",
       "mvar4  1.000000  0.090274\n",
       "mvar5  0.090274  1.000000"
      ]
     },
     "execution_count": 8181,
     "metadata": {},
     "output_type": "execute_result"
    }
   ],
   "source": [
    "dframe = df[['mvar4','mvar5']]\n",
    "dframe.corr()"
   ]
  },
  {
   "cell_type": "code",
   "execution_count": 8182,
   "metadata": {},
   "outputs": [],
   "source": [
    "df.drop('mvar8',axis=1,inplace=True)"
   ]
  },
  {
   "cell_type": "code",
   "execution_count": 8183,
   "metadata": {},
   "outputs": [],
   "source": [
    "bins = [-1, 12,100, 1500, 100000000]\n",
    "labels = [1,2,3,4]\n",
    "df['binned_mvar6'] = pd.cut(df['mvar6'], bins=bins, labels=labels)"
   ]
  },
  {
   "cell_type": "code",
   "execution_count": 8184,
   "metadata": {},
   "outputs": [
    {
     "data": {
      "text/plain": [
       "3    25856\n",
       "4    14214\n",
       "1    12348\n",
       "2     8289\n",
       "Name: binned_mvar6, dtype: int64"
      ]
     },
     "execution_count": 8184,
     "metadata": {},
     "output_type": "execute_result"
    }
   ],
   "source": [
    "df['binned_mvar6'].value_counts()"
   ]
  },
  {
   "cell_type": "code",
   "execution_count": 8185,
   "metadata": {},
   "outputs": [
    {
     "name": "stdout",
     "output_type": "stream",
     "text": [
      "nan\n",
      "<class 'numpy.ndarray'>\n"
     ]
    }
   ],
   "source": [
    "arr=np.array(df['binned_mvar6'].tolist())\n",
    "import random\n",
    "print (np.nan)\n",
    "print (type(arr))\n",
    "for i in range (len(arr)):\n",
    "    if np.isnan(arr[i]):\n",
    "        arr[i]=random.randint(2,4)\n",
    "df['binned_mvar6']=arr"
   ]
  },
  {
   "cell_type": "code",
   "execution_count": 8186,
   "metadata": {},
   "outputs": [
    {
     "data": {
      "text/html": [
       "<div>\n",
       "<style scoped>\n",
       "    .dataframe tbody tr th:only-of-type {\n",
       "        vertical-align: middle;\n",
       "    }\n",
       "\n",
       "    .dataframe tbody tr th {\n",
       "        vertical-align: top;\n",
       "    }\n",
       "\n",
       "    .dataframe thead th {\n",
       "        text-align: right;\n",
       "    }\n",
       "</style>\n",
       "<table border=\"1\" class=\"dataframe\">\n",
       "  <thead>\n",
       "    <tr style=\"text-align: right;\">\n",
       "      <th></th>\n",
       "      <th>application_key</th>\n",
       "      <th>mvar1</th>\n",
       "      <th>mvar2</th>\n",
       "      <th>mvar4</th>\n",
       "      <th>mvar5</th>\n",
       "      <th>mvar6</th>\n",
       "      <th>mvar7</th>\n",
       "      <th>mvar9</th>\n",
       "      <th>mvar10</th>\n",
       "      <th>mvar11</th>\n",
       "      <th>...</th>\n",
       "      <th>mvar40</th>\n",
       "      <th>mvar41</th>\n",
       "      <th>mvar42</th>\n",
       "      <th>mvar43</th>\n",
       "      <th>mvar44</th>\n",
       "      <th>mvar45</th>\n",
       "      <th>mvar46</th>\n",
       "      <th>mvar47</th>\n",
       "      <th>default_ind</th>\n",
       "      <th>binned_mvar6</th>\n",
       "    </tr>\n",
       "  </thead>\n",
       "  <tbody>\n",
       "    <tr>\n",
       "      <th>count</th>\n",
       "      <td>76361.000000</td>\n",
       "      <td>76361.000000</td>\n",
       "      <td>76361.000000</td>\n",
       "      <td>76361.000000</td>\n",
       "      <td>76361.000000</td>\n",
       "      <td>60707.000000</td>\n",
       "      <td>7.202600e+04</td>\n",
       "      <td>6.787900e+04</td>\n",
       "      <td>7.636100e+04</td>\n",
       "      <td>32752.000000</td>\n",
       "      <td>...</td>\n",
       "      <td>17422.000000</td>\n",
       "      <td>25363.000000</td>\n",
       "      <td>75638.000000</td>\n",
       "      <td>76208.000000</td>\n",
       "      <td>71641.000000</td>\n",
       "      <td>34999.000000</td>\n",
       "      <td>56666.000000</td>\n",
       "      <td>76361.000000</td>\n",
       "      <td>76361.000000</td>\n",
       "      <td>76361.000000</td>\n",
       "    </tr>\n",
       "    <tr>\n",
       "      <th>mean</th>\n",
       "      <td>269995.087911</td>\n",
       "      <td>1745.971085</td>\n",
       "      <td>1.098235</td>\n",
       "      <td>0.492941</td>\n",
       "      <td>1.170251</td>\n",
       "      <td>1610.466882</td>\n",
       "      <td>1.772474e+04</td>\n",
       "      <td>3.442998e+04</td>\n",
       "      <td>3.173340e+04</td>\n",
       "      <td>5274.134648</td>\n",
       "      <td>...</td>\n",
       "      <td>98.497252</td>\n",
       "      <td>72.059612</td>\n",
       "      <td>0.310008</td>\n",
       "      <td>6.799864</td>\n",
       "      <td>0.703248</td>\n",
       "      <td>0.070888</td>\n",
       "      <td>0.096954</td>\n",
       "      <td>0.356412</td>\n",
       "      <td>0.240227</td>\n",
       "      <td>2.753971</td>\n",
       "    </tr>\n",
       "    <tr>\n",
       "      <th>std</th>\n",
       "      <td>23091.735568</td>\n",
       "      <td>94.537617</td>\n",
       "      <td>1.581842</td>\n",
       "      <td>1.829456</td>\n",
       "      <td>6.112659</td>\n",
       "      <td>3704.910479</td>\n",
       "      <td>4.724469e+04</td>\n",
       "      <td>5.355202e+04</td>\n",
       "      <td>6.825454e+04</td>\n",
       "      <td>13240.500836</td>\n",
       "      <td>...</td>\n",
       "      <td>29.778415</td>\n",
       "      <td>24.418577</td>\n",
       "      <td>0.345191</td>\n",
       "      <td>6.304258</td>\n",
       "      <td>0.245637</td>\n",
       "      <td>0.287516</td>\n",
       "      <td>0.347517</td>\n",
       "      <td>0.478942</td>\n",
       "      <td>0.427224</td>\n",
       "      <td>1.007469</td>\n",
       "    </tr>\n",
       "    <tr>\n",
       "      <th>min</th>\n",
       "      <td>230032.000000</td>\n",
       "      <td>1493.000000</td>\n",
       "      <td>0.000000</td>\n",
       "      <td>0.000000</td>\n",
       "      <td>0.000000</td>\n",
       "      <td>0.000000</td>\n",
       "      <td>0.000000e+00</td>\n",
       "      <td>0.000000e+00</td>\n",
       "      <td>0.000000e+00</td>\n",
       "      <td>0.000000</td>\n",
       "      <td>...</td>\n",
       "      <td>0.014000</td>\n",
       "      <td>0.000000</td>\n",
       "      <td>0.000000</td>\n",
       "      <td>0.000000</td>\n",
       "      <td>0.060660</td>\n",
       "      <td>0.000000</td>\n",
       "      <td>0.000000</td>\n",
       "      <td>0.000000</td>\n",
       "      <td>0.000000</td>\n",
       "      <td>1.000000</td>\n",
       "    </tr>\n",
       "    <tr>\n",
       "      <th>25%</th>\n",
       "      <td>249994.000000</td>\n",
       "      <td>1679.000000</td>\n",
       "      <td>0.159600</td>\n",
       "      <td>0.000000</td>\n",
       "      <td>0.000000</td>\n",
       "      <td>36.000000</td>\n",
       "      <td>1.821000e+03</td>\n",
       "      <td>3.700000e+03</td>\n",
       "      <td>1.682000e+03</td>\n",
       "      <td>537.000000</td>\n",
       "      <td>...</td>\n",
       "      <td>90.656250</td>\n",
       "      <td>58.123500</td>\n",
       "      <td>0.000000</td>\n",
       "      <td>2.000000</td>\n",
       "      <td>0.513530</td>\n",
       "      <td>0.000000</td>\n",
       "      <td>0.000000</td>\n",
       "      <td>0.000000</td>\n",
       "      <td>0.000000</td>\n",
       "      <td>2.000000</td>\n",
       "    </tr>\n",
       "    <tr>\n",
       "      <th>50%</th>\n",
       "      <td>269971.000000</td>\n",
       "      <td>1742.000000</td>\n",
       "      <td>0.622900</td>\n",
       "      <td>0.000000</td>\n",
       "      <td>0.000000</td>\n",
       "      <td>297.000000</td>\n",
       "      <td>7.085500e+03</td>\n",
       "      <td>1.449200e+04</td>\n",
       "      <td>1.055600e+04</td>\n",
       "      <td>1751.000000</td>\n",
       "      <td>...</td>\n",
       "      <td>100.000000</td>\n",
       "      <td>78.829000</td>\n",
       "      <td>0.187500</td>\n",
       "      <td>5.000000</td>\n",
       "      <td>0.734060</td>\n",
       "      <td>0.000000</td>\n",
       "      <td>0.000000</td>\n",
       "      <td>0.000000</td>\n",
       "      <td>0.000000</td>\n",
       "      <td>3.000000</td>\n",
       "    </tr>\n",
       "    <tr>\n",
       "      <th>75%</th>\n",
       "      <td>289991.000000</td>\n",
       "      <td>1810.000000</td>\n",
       "      <td>1.360100</td>\n",
       "      <td>0.000000</td>\n",
       "      <td>0.000000</td>\n",
       "      <td>1357.000000</td>\n",
       "      <td>1.820000e+04</td>\n",
       "      <td>4.435400e+04</td>\n",
       "      <td>3.585400e+04</td>\n",
       "      <td>4996.250000</td>\n",
       "      <td>...</td>\n",
       "      <td>111.717000</td>\n",
       "      <td>91.581000</td>\n",
       "      <td>0.529410</td>\n",
       "      <td>10.000000</td>\n",
       "      <td>0.939960</td>\n",
       "      <td>0.000000</td>\n",
       "      <td>0.000000</td>\n",
       "      <td>1.000000</td>\n",
       "      <td>0.000000</td>\n",
       "      <td>4.000000</td>\n",
       "    </tr>\n",
       "    <tr>\n",
       "      <th>max</th>\n",
       "      <td>310031.000000</td>\n",
       "      <td>1950.000000</td>\n",
       "      <td>36.030100</td>\n",
       "      <td>114.696000</td>\n",
       "      <td>226.527000</td>\n",
       "      <td>136595.000000</td>\n",
       "      <td>5.549600e+06</td>\n",
       "      <td>3.711880e+06</td>\n",
       "      <td>5.633320e+06</td>\n",
       "      <td>464264.000000</td>\n",
       "      <td>...</td>\n",
       "      <td>430.300000</td>\n",
       "      <td>170.000000</td>\n",
       "      <td>2.000000</td>\n",
       "      <td>91.000000</td>\n",
       "      <td>1.000000</td>\n",
       "      <td>5.000000</td>\n",
       "      <td>19.000000</td>\n",
       "      <td>1.000000</td>\n",
       "      <td>1.000000</td>\n",
       "      <td>4.000000</td>\n",
       "    </tr>\n",
       "  </tbody>\n",
       "</table>\n",
       "<p>8 rows × 48 columns</p>\n",
       "</div>"
      ],
      "text/plain": [
       "       application_key         mvar1         mvar2         mvar4  \\\n",
       "count     76361.000000  76361.000000  76361.000000  76361.000000   \n",
       "mean     269995.087911   1745.971085      1.098235      0.492941   \n",
       "std       23091.735568     94.537617      1.581842      1.829456   \n",
       "min      230032.000000   1493.000000      0.000000      0.000000   \n",
       "25%      249994.000000   1679.000000      0.159600      0.000000   \n",
       "50%      269971.000000   1742.000000      0.622900      0.000000   \n",
       "75%      289991.000000   1810.000000      1.360100      0.000000   \n",
       "max      310031.000000   1950.000000     36.030100    114.696000   \n",
       "\n",
       "              mvar5          mvar6         mvar7         mvar9        mvar10  \\\n",
       "count  76361.000000   60707.000000  7.202600e+04  6.787900e+04  7.636100e+04   \n",
       "mean       1.170251    1610.466882  1.772474e+04  3.442998e+04  3.173340e+04   \n",
       "std        6.112659    3704.910479  4.724469e+04  5.355202e+04  6.825454e+04   \n",
       "min        0.000000       0.000000  0.000000e+00  0.000000e+00  0.000000e+00   \n",
       "25%        0.000000      36.000000  1.821000e+03  3.700000e+03  1.682000e+03   \n",
       "50%        0.000000     297.000000  7.085500e+03  1.449200e+04  1.055600e+04   \n",
       "75%        0.000000    1357.000000  1.820000e+04  4.435400e+04  3.585400e+04   \n",
       "max      226.527000  136595.000000  5.549600e+06  3.711880e+06  5.633320e+06   \n",
       "\n",
       "              mvar11      ...             mvar40        mvar41        mvar42  \\\n",
       "count   32752.000000      ...       17422.000000  25363.000000  75638.000000   \n",
       "mean     5274.134648      ...          98.497252     72.059612      0.310008   \n",
       "std     13240.500836      ...          29.778415     24.418577      0.345191   \n",
       "min         0.000000      ...           0.014000      0.000000      0.000000   \n",
       "25%       537.000000      ...          90.656250     58.123500      0.000000   \n",
       "50%      1751.000000      ...         100.000000     78.829000      0.187500   \n",
       "75%      4996.250000      ...         111.717000     91.581000      0.529410   \n",
       "max    464264.000000      ...         430.300000    170.000000      2.000000   \n",
       "\n",
       "             mvar43        mvar44        mvar45        mvar46        mvar47  \\\n",
       "count  76208.000000  71641.000000  34999.000000  56666.000000  76361.000000   \n",
       "mean       6.799864      0.703248      0.070888      0.096954      0.356412   \n",
       "std        6.304258      0.245637      0.287516      0.347517      0.478942   \n",
       "min        0.000000      0.060660      0.000000      0.000000      0.000000   \n",
       "25%        2.000000      0.513530      0.000000      0.000000      0.000000   \n",
       "50%        5.000000      0.734060      0.000000      0.000000      0.000000   \n",
       "75%       10.000000      0.939960      0.000000      0.000000      1.000000   \n",
       "max       91.000000      1.000000      5.000000     19.000000      1.000000   \n",
       "\n",
       "        default_ind  binned_mvar6  \n",
       "count  76361.000000  76361.000000  \n",
       "mean       0.240227      2.753971  \n",
       "std        0.427224      1.007469  \n",
       "min        0.000000      1.000000  \n",
       "25%        0.000000      2.000000  \n",
       "50%        0.000000      3.000000  \n",
       "75%        0.000000      4.000000  \n",
       "max        1.000000      4.000000  \n",
       "\n",
       "[8 rows x 48 columns]"
      ]
     },
     "execution_count": 8186,
     "metadata": {},
     "output_type": "execute_result"
    }
   ],
   "source": [
    "df.describe()"
   ]
  },
  {
   "cell_type": "code",
   "execution_count": 8187,
   "metadata": {},
   "outputs": [],
   "source": [
    "df.drop('mvar6',axis=1,inplace=True)"
   ]
  },
  {
   "cell_type": "code",
   "execution_count": 8188,
   "metadata": {},
   "outputs": [
    {
     "data": {
      "text/plain": [
       "0.0    51716\n",
       "1.0    13664\n",
       "Name: default_ind, dtype: int64"
      ]
     },
     "execution_count": 8188,
     "metadata": {},
     "output_type": "execute_result"
    }
   ],
   "source": [
    "col = df[df['mvar4']==0]\n",
    "col['default_ind'].value_counts()"
   ]
  },
  {
   "cell_type": "code",
   "execution_count": 8189,
   "metadata": {},
   "outputs": [
    {
     "name": "stdout",
     "output_type": "stream",
     "text": [
      "nan\n",
      "<class 'numpy.ndarray'>\n"
     ]
    }
   ],
   "source": [
    "arr=np.array(df['mvar4'].tolist())\n",
    "import random\n",
    "print (np.nan)\n",
    "print (type(arr))\n",
    "for i in range (len(arr)):\n",
    "    if arr[i]==0:\n",
    "        arr[i]=0\n",
    "    else:\n",
    "        arr[i]=1\n",
    "df['mvar4']=arr"
   ]
  },
  {
   "cell_type": "code",
   "execution_count": 8190,
   "metadata": {},
   "outputs": [
    {
     "name": "stdout",
     "output_type": "stream",
     "text": [
      "nan\n",
      "<class 'numpy.ndarray'>\n"
     ]
    }
   ],
   "source": [
    "arr=np.array(df['mvar5'].tolist())\n",
    "import random\n",
    "print (np.nan)\n",
    "print (type(arr))\n",
    "for i in range (len(arr)):\n",
    "    if arr[i]==0:\n",
    "        arr[i]=0\n",
    "    else:\n",
    "        arr[i]=1\n",
    "df['mvar5']=arr"
   ]
  },
  {
   "cell_type": "code",
   "execution_count": 8191,
   "metadata": {},
   "outputs": [
    {
     "data": {
      "text/plain": [
       "0.0    68673\n",
       "1.0     7688\n",
       "Name: mvar5, dtype: int64"
      ]
     },
     "execution_count": 8191,
     "metadata": {},
     "output_type": "execute_result"
    }
   ],
   "source": [
    "df['mvar5'].value_counts()"
   ]
  },
  {
   "cell_type": "code",
   "execution_count": 8192,
   "metadata": {},
   "outputs": [],
   "source": [
    "bins = [1450, 1600,1700, 1800, 1950]\n",
    "labels = [1,2,3,4]\n",
    "df['binned_mvar1'] = pd.cut(df['mvar1'], bins=bins, labels=labels)"
   ]
  },
  {
   "cell_type": "code",
   "execution_count": 8193,
   "metadata": {},
   "outputs": [],
   "source": [
    "import seaborn as sns"
   ]
  },
  {
   "cell_type": "code",
   "execution_count": 8194,
   "metadata": {},
   "outputs": [
    {
     "data": {
      "text/plain": [
       "count    7.202600e+04\n",
       "mean     1.772474e+04\n",
       "std      4.724469e+04\n",
       "min      0.000000e+00\n",
       "25%      1.821000e+03\n",
       "50%      7.085500e+03\n",
       "75%      1.820000e+04\n",
       "max      5.549600e+06\n",
       "Name: mvar7, dtype: float64"
      ]
     },
     "execution_count": 8194,
     "metadata": {},
     "output_type": "execute_result"
    }
   ],
   "source": [
    "df['mvar7'].describe()"
   ]
  },
  {
   "cell_type": "code",
   "execution_count": 8195,
   "metadata": {},
   "outputs": [
    {
     "data": {
      "text/plain": [
       "0.0    10633\n",
       "1.0     7365\n",
       "Name: default_ind, dtype: int64"
      ]
     },
     "execution_count": 8195,
     "metadata": {},
     "output_type": "execute_result"
    }
   ],
   "source": [
    "col = df[df['mvar7']<1.821000e+03]\n",
    "col['default_ind'].value_counts()"
   ]
  },
  {
   "cell_type": "code",
   "execution_count": 8196,
   "metadata": {},
   "outputs": [],
   "source": [
    "bins = [-1,1.821000e+03,5.559600e+06]\n",
    "labels = [1,2]\n",
    "df['binned_mvar7'] = pd.cut(df['mvar7'], bins=bins, labels=labels)"
   ]
  },
  {
   "cell_type": "code",
   "execution_count": 8197,
   "metadata": {},
   "outputs": [
    {
     "data": {
      "text/plain": [
       "2    54017\n",
       "1    18009\n",
       "Name: binned_mvar7, dtype: int64"
      ]
     },
     "execution_count": 8197,
     "metadata": {},
     "output_type": "execute_result"
    }
   ],
   "source": [
    "df['binned_mvar7'].value_counts()"
   ]
  },
  {
   "cell_type": "code",
   "execution_count": 8198,
   "metadata": {},
   "outputs": [],
   "source": [
    "df['binned_mvar7'] = df['binned_mvar7'].replace([1,2],[1,0])"
   ]
  },
  {
   "cell_type": "code",
   "execution_count": 8199,
   "metadata": {},
   "outputs": [
    {
     "name": "stdout",
     "output_type": "stream",
     "text": [
      "nan\n",
      "<class 'numpy.ndarray'>\n"
     ]
    }
   ],
   "source": [
    "arr=np.array(df['binned_mvar7'].tolist())\n",
    "import random\n",
    "print (np.nan)\n",
    "print (type(arr))\n",
    "for i in range (len(arr)):\n",
    "    if np.isnan(arr[i]):\n",
    "        arr[i]=random.randint(0,1)\n",
    "df['binned_mvar7']=arr"
   ]
  },
  {
   "cell_type": "code",
   "execution_count": 8200,
   "metadata": {},
   "outputs": [],
   "source": [
    "df.drop('mvar7',axis=1,inplace=True)"
   ]
  },
  {
   "cell_type": "code",
   "execution_count": 8201,
   "metadata": {},
   "outputs": [
    {
     "data": {
      "text/plain": [
       "count    6.787900e+04\n",
       "mean     3.442998e+04\n",
       "std      5.355202e+04\n",
       "min      0.000000e+00\n",
       "25%      3.700000e+03\n",
       "50%      1.449200e+04\n",
       "75%      4.435400e+04\n",
       "max      3.711880e+06\n",
       "Name: mvar9, dtype: float64"
      ]
     },
     "execution_count": 8201,
     "metadata": {},
     "output_type": "execute_result"
    }
   ],
   "source": [
    "df['mvar9'].describe()"
   ]
  },
  {
   "cell_type": "code",
   "execution_count": 8202,
   "metadata": {},
   "outputs": [
    {
     "data": {
      "text/plain": [
       "0.0    53871\n",
       "1.0    14007\n",
       "Name: default_ind, dtype: int64"
      ]
     },
     "execution_count": 8202,
     "metadata": {},
     "output_type": "execute_result"
    }
   ],
   "source": [
    "col = df[df['mvar9'] <3.711880e+06]\n",
    "col['default_ind'].value_counts()"
   ]
  },
  {
   "cell_type": "code",
   "execution_count": 8203,
   "metadata": {},
   "outputs": [],
   "source": [
    "bins = [-1,3.700000e+03,1.449200e+04,3.711880e+06]\n",
    "labels = [1,2,3]\n",
    "df['binned_mvar9'] = pd.cut(df['mvar9'], bins=bins, labels=labels)"
   ]
  },
  {
   "cell_type": "code",
   "execution_count": 8204,
   "metadata": {},
   "outputs": [
    {
     "data": {
      "text/plain": [
       "3    33938\n",
       "2    16971\n",
       "1    16970\n",
       "Name: binned_mvar9, dtype: int64"
      ]
     },
     "execution_count": 8204,
     "metadata": {},
     "output_type": "execute_result"
    }
   ],
   "source": [
    "df['binned_mvar9'].value_counts()"
   ]
  },
  {
   "cell_type": "code",
   "execution_count": 8205,
   "metadata": {},
   "outputs": [
    {
     "name": "stdout",
     "output_type": "stream",
     "text": [
      "nan\n",
      "<class 'numpy.ndarray'>\n"
     ]
    }
   ],
   "source": [
    "arr=np.array(df['binned_mvar9'].tolist())\n",
    "import random\n",
    "print (np.nan)\n",
    "print (type(arr))\n",
    "for i in range (len(arr)):\n",
    "    if np.isnan(arr[i]):\n",
    "        arr[i]=random.randint(1,3)\n",
    "df['binned_mvar9']=arr"
   ]
  },
  {
   "cell_type": "code",
   "execution_count": 8206,
   "metadata": {},
   "outputs": [],
   "source": [
    "df['mvar48'] = df['mvar11'].isnull().astype(float)"
   ]
  },
  {
   "cell_type": "code",
   "execution_count": 8207,
   "metadata": {},
   "outputs": [],
   "source": [
    "df.drop(['mvar11'],axis =1,inplace = True)"
   ]
  },
  {
   "cell_type": "code",
   "execution_count": 8208,
   "metadata": {},
   "outputs": [
    {
     "data": {
      "text/plain": [
       "count    7.636100e+04\n",
       "mean     3.173340e+04\n",
       "std      6.825454e+04\n",
       "min      0.000000e+00\n",
       "25%      1.682000e+03\n",
       "50%      1.055600e+04\n",
       "75%      3.585400e+04\n",
       "max      5.633320e+06\n",
       "Name: mvar10, dtype: float64"
      ]
     },
     "execution_count": 8208,
     "metadata": {},
     "output_type": "execute_result"
    }
   ],
   "source": [
    "df['mvar10'].describe()"
   ]
  },
  {
   "cell_type": "code",
   "execution_count": 8209,
   "metadata": {},
   "outputs": [
    {
     "data": {
      "text/plain": [
       "0.0    50091\n",
       "1.0    12862\n",
       "Name: default_ind, dtype: int64"
      ]
     },
     "execution_count": 8209,
     "metadata": {},
     "output_type": "execute_result"
    }
   ],
   "source": [
    "col = df[df['mvar12']<3.173340e+04]\n",
    "col['default_ind'].value_counts()"
   ]
  },
  {
   "cell_type": "code",
   "execution_count": 8210,
   "metadata": {},
   "outputs": [],
   "source": [
    "bins = [-1,1.055600e+04,5.633320e+06]\n",
    "labels = [1,2]\n",
    "df['binned_mvar10'] = pd.cut(df['mvar10'], bins=bins, labels=labels)"
   ]
  },
  {
   "cell_type": "code",
   "execution_count": 8211,
   "metadata": {},
   "outputs": [
    {
     "name": "stdout",
     "output_type": "stream",
     "text": [
      "nan\n",
      "<class 'numpy.ndarray'>\n"
     ]
    }
   ],
   "source": [
    "arr=np.array(df['binned_mvar10'].tolist())\n",
    "import random\n",
    "print (np.nan)\n",
    "print (type(arr))\n",
    "for i in range (len(arr)):\n",
    "    if np.isnan(arr[i]):\n",
    "        arr[i]=random.randint(1,2)\n",
    "df['binned_mvar10']=arr"
   ]
  },
  {
   "cell_type": "code",
   "execution_count": 8212,
   "metadata": {},
   "outputs": [],
   "source": [
    "df['binned_mvar10'] = df['binned_mvar10'].replace([1,2],[1,0])"
   ]
  },
  {
   "cell_type": "code",
   "execution_count": 8213,
   "metadata": {},
   "outputs": [
    {
     "data": {
      "text/plain": [
       "count     65422.000000\n",
       "mean       7172.780181\n",
       "std       11906.391289\n",
       "min           0.000000\n",
       "25%         731.000000\n",
       "50%        3028.000000\n",
       "75%        8727.000000\n",
       "max      413685.000000\n",
       "Name: mvar12, dtype: float64"
      ]
     },
     "execution_count": 8213,
     "metadata": {},
     "output_type": "execute_result"
    }
   ],
   "source": [
    "df['mvar12'].describe()"
   ]
  },
  {
   "cell_type": "code",
   "execution_count": 8214,
   "metadata": {},
   "outputs": [
    {
     "data": {
      "text/plain": [
       "0.0    52146\n",
       "1.0    13275\n",
       "Name: default_ind, dtype: int64"
      ]
     },
     "execution_count": 8214,
     "metadata": {},
     "output_type": "execute_result"
    }
   ],
   "source": [
    "col = df[df['mvar12']< 413685.000000]\n",
    "col['default_ind'].value_counts()"
   ]
  },
  {
   "cell_type": "code",
   "execution_count": 8215,
   "metadata": {},
   "outputs": [],
   "source": [
    "bins = [-1,0,731.000000,3028.000000,8727.000000,413685.000000]\n",
    "labels = [1,2,3,4,5]\n",
    "df['binned_mvar12'] = pd.cut(df['mvar12'], bins=bins, labels=labels)"
   ]
  },
  {
   "cell_type": "code",
   "execution_count": 8216,
   "metadata": {},
   "outputs": [
    {
     "data": {
      "text/plain": [
       "3    16358\n",
       "5    16355\n",
       "4    16342\n",
       "2    11435\n",
       "1     4932\n",
       "Name: binned_mvar12, dtype: int64"
      ]
     },
     "execution_count": 8216,
     "metadata": {},
     "output_type": "execute_result"
    }
   ],
   "source": [
    "df['binned_mvar12'].value_counts()"
   ]
  },
  {
   "cell_type": "code",
   "execution_count": 8217,
   "metadata": {},
   "outputs": [
    {
     "name": "stdout",
     "output_type": "stream",
     "text": [
      "nan\n",
      "<class 'numpy.ndarray'>\n"
     ]
    }
   ],
   "source": [
    "arr=np.array(df['binned_mvar12'].tolist())\n",
    "import random\n",
    "print (np.nan)\n",
    "print (type(arr))\n",
    "for i in range (len(arr)):\n",
    "    if np.isnan(arr[i]):\n",
    "        arr[i]=random.randint(2,5)\n",
    "df['binned_mvar12']=arr"
   ]
  },
  {
   "cell_type": "code",
   "execution_count": 8218,
   "metadata": {},
   "outputs": [
    {
     "data": {
      "text/plain": [
       "count    7.134100e+04\n",
       "mean     1.549414e+04\n",
       "std      5.734557e+04\n",
       "min      0.000000e+00\n",
       "25%      5.240000e+02\n",
       "50%      4.142000e+03\n",
       "75%      1.443600e+04\n",
       "max      6.318314e+06\n",
       "Name: mvar13, dtype: float64"
      ]
     },
     "execution_count": 8218,
     "metadata": {},
     "output_type": "execute_result"
    }
   ],
   "source": [
    "df['mvar13'].describe()"
   ]
  },
  {
   "cell_type": "code",
   "execution_count": 8219,
   "metadata": {},
   "outputs": [
    {
     "data": {
      "text/plain": [
       "0.0    38605\n",
       "1.0    14900\n",
       "Name: default_ind, dtype: int64"
      ]
     },
     "execution_count": 8219,
     "metadata": {},
     "output_type": "execute_result"
    }
   ],
   "source": [
    "col = df[df['mvar13']<1.443600e+04]\n",
    "col['default_ind'].value_counts()"
   ]
  },
  {
   "cell_type": "code",
   "execution_count": 8220,
   "metadata": {},
   "outputs": [],
   "source": [
    "bins = [-1,0,5.240000e+02,1.443600e+04,6.318314e+06]\n",
    "labels = [1,2,3,4]\n",
    "df['binned_mvar13'] = pd.cut(df['mvar13'], bins=bins, labels=labels)"
   ]
  },
  {
   "cell_type": "code",
   "execution_count": 8221,
   "metadata": {},
   "outputs": [
    {
     "data": {
      "text/plain": [
       "3    35671\n",
       "4    17834\n",
       "1    12592\n",
       "2     5244\n",
       "Name: binned_mvar13, dtype: int64"
      ]
     },
     "execution_count": 8221,
     "metadata": {},
     "output_type": "execute_result"
    }
   ],
   "source": [
    "df['binned_mvar13'].value_counts()"
   ]
  },
  {
   "cell_type": "code",
   "execution_count": 8222,
   "metadata": {},
   "outputs": [
    {
     "name": "stdout",
     "output_type": "stream",
     "text": [
      "nan\n",
      "<class 'numpy.ndarray'>\n"
     ]
    }
   ],
   "source": [
    "arr=np.array(df['binned_mvar13'].tolist())\n",
    "import random\n",
    "print (np.nan)\n",
    "print (type(arr))\n",
    "for i in range (len(arr)):\n",
    "    if np.isnan(arr[i]):\n",
    "        arr[i]=random.randint(1,4)\n",
    "df['binned_mvar13']=arr"
   ]
  },
  {
   "cell_type": "code",
   "execution_count": 8223,
   "metadata": {},
   "outputs": [],
   "source": [
    "df.drop(['mvar9','mvar10','mvar12','mvar13'],axis=1,inplace=True)"
   ]
  },
  {
   "cell_type": "code",
   "execution_count": 8224,
   "metadata": {},
   "outputs": [
    {
     "data": {
      "text/plain": [
       "count    7.636100e+04\n",
       "mean     1.627666e+05\n",
       "std      5.159019e+06\n",
       "min      0.000000e+00\n",
       "25%      4.261300e+04\n",
       "50%      7.234300e+04\n",
       "75%      1.238750e+05\n",
       "max      8.837436e+08\n",
       "Name: mvar14, dtype: float64"
      ]
     },
     "execution_count": 8224,
     "metadata": {},
     "output_type": "execute_result"
    }
   ],
   "source": [
    "df['mvar14'].describe()"
   ]
  },
  {
   "cell_type": "code",
   "execution_count": 8225,
   "metadata": {},
   "outputs": [
    {
     "data": {
      "text/plain": [
       "0.0    58017\n",
       "1.0    18344\n",
       "Name: default_ind, dtype: int64"
      ]
     },
     "execution_count": 8225,
     "metadata": {},
     "output_type": "execute_result"
    }
   ],
   "source": [
    "col = df[df['mvar14']<8.837436e+08]\n",
    "col['default_ind'].value_counts()"
   ]
  },
  {
   "cell_type": "code",
   "execution_count": 8226,
   "metadata": {},
   "outputs": [],
   "source": [
    "bins = [-1,0,4.261300e+04,8.837436e+08]\n",
    "labels = [1,2,3]\n",
    "df['binned_mvar14'] = pd.cut(df['mvar14'], bins=bins, labels=labels)"
   ]
  },
  {
   "cell_type": "code",
   "execution_count": 8227,
   "metadata": {},
   "outputs": [
    {
     "data": {
      "text/plain": [
       "count    4.629000e+04\n",
       "mean     2.960485e+05\n",
       "std      2.965907e+05\n",
       "min      1.387000e+03\n",
       "25%      1.300285e+05\n",
       "50%      2.182955e+05\n",
       "75%      3.687138e+05\n",
       "max      1.001817e+07\n",
       "Name: mvar15, dtype: float64"
      ]
     },
     "execution_count": 8227,
     "metadata": {},
     "output_type": "execute_result"
    }
   ],
   "source": [
    "df['mvar15'].describe()"
   ]
  },
  {
   "cell_type": "code",
   "execution_count": 8228,
   "metadata": {},
   "outputs": [],
   "source": [
    "df.drop(['mvar14','mvar15'],axis=1,inplace=True)"
   ]
  },
  {
   "cell_type": "code",
   "execution_count": 8229,
   "metadata": {},
   "outputs": [
    {
     "data": {
      "text/plain": [
       "count    61148.000000\n",
       "mean         0.232093\n",
       "std          0.623016\n",
       "min          0.000000\n",
       "25%          0.000000\n",
       "50%          0.000000\n",
       "75%          0.000000\n",
       "max         11.000000\n",
       "Name: mvar16, dtype: float64"
      ]
     },
     "execution_count": 8229,
     "metadata": {},
     "output_type": "execute_result"
    }
   ],
   "source": [
    "df['mvar16'].describe()"
   ]
  },
  {
   "cell_type": "code",
   "execution_count": 8230,
   "metadata": {},
   "outputs": [
    {
     "data": {
      "text/plain": [
       "1.0    360\n",
       "0.0    198\n",
       "Name: default_ind, dtype: int64"
      ]
     },
     "execution_count": 8230,
     "metadata": {},
     "output_type": "execute_result"
    }
   ],
   "source": [
    "col = df[df['mvar16']==3]\n",
    "col['default_ind'].value_counts()"
   ]
  },
  {
   "cell_type": "code",
   "execution_count": 8231,
   "metadata": {},
   "outputs": [],
   "source": [
    "df['mvar16'] = df['mvar16'].fillna(0)"
   ]
  },
  {
   "cell_type": "code",
   "execution_count": 8232,
   "metadata": {},
   "outputs": [],
   "source": [
    "df['mvar16'] = df['mvar16'].replace([0,1,2,3,4,5,6,7,8,9,10,11],[0,1,2,3,3,3,3,3,3,3,3,3])"
   ]
  },
  {
   "cell_type": "code",
   "execution_count": 8233,
   "metadata": {},
   "outputs": [
    {
     "data": {
      "text/plain": [
       "count    63750.000000\n",
       "mean         0.267137\n",
       "std          0.716037\n",
       "min          0.000000\n",
       "25%          0.000000\n",
       "50%          0.000000\n",
       "75%          0.000000\n",
       "max         21.000000\n",
       "Name: mvar17, dtype: float64"
      ]
     },
     "execution_count": 8233,
     "metadata": {},
     "output_type": "execute_result"
    }
   ],
   "source": [
    "df['mvar17'].describe()"
   ]
  },
  {
   "cell_type": "code",
   "execution_count": 8234,
   "metadata": {},
   "outputs": [
    {
     "data": {
      "text/plain": [
       "1.0    1081\n",
       "0.0    1061\n",
       "Name: default_ind, dtype: int64"
      ]
     },
     "execution_count": 8234,
     "metadata": {},
     "output_type": "execute_result"
    }
   ],
   "source": [
    "col = df[df['mvar17']==2]\n",
    "col['default_ind'].value_counts()"
   ]
  },
  {
   "cell_type": "code",
   "execution_count": 8235,
   "metadata": {},
   "outputs": [],
   "source": [
    "df['mvar17'] = df['mvar17'].fillna(0)"
   ]
  },
  {
   "cell_type": "code",
   "execution_count": 8236,
   "metadata": {},
   "outputs": [],
   "source": [
    "df['mvar17'] = df['mvar17'].replace([0,1,2,3,4,5,6,7,8,9,10,11,12,13,14,15,16,17,18,19,20,21],[0,1,2,3,3,3,3,3,3,3,3,3,3,3,3,3,3,3,3,3,3,3])"
   ]
  },
  {
   "cell_type": "code",
   "execution_count": 8237,
   "metadata": {},
   "outputs": [
    {
     "data": {
      "text/plain": [
       "0.0    64971\n",
       "1.0     8005\n",
       "2.0     2142\n",
       "3.0     1243\n",
       "Name: mvar17, dtype: int64"
      ]
     },
     "execution_count": 8237,
     "metadata": {},
     "output_type": "execute_result"
    }
   ],
   "source": [
    "df['mvar17'].value_counts()"
   ]
  },
  {
   "cell_type": "code",
   "execution_count": 8238,
   "metadata": {},
   "outputs": [
    {
     "data": {
      "text/plain": [
       "count    64730.000000\n",
       "mean         0.273212\n",
       "std          0.721776\n",
       "min          0.000000\n",
       "25%          0.000000\n",
       "50%          0.000000\n",
       "75%          0.000000\n",
       "max         21.000000\n",
       "Name: mvar18, dtype: float64"
      ]
     },
     "execution_count": 8238,
     "metadata": {},
     "output_type": "execute_result"
    }
   ],
   "source": [
    "df['mvar18'].describe()"
   ]
  },
  {
   "cell_type": "code",
   "execution_count": 8239,
   "metadata": {},
   "outputs": [
    {
     "name": "stdout",
     "output_type": "stream",
     "text": [
      "<class 'pandas.core.frame.DataFrame'>\n",
      "Int64Index: 76361 entries, 0 to 79999\n",
      "Data columns (total 47 columns):\n",
      "application_key    76361 non-null float64\n",
      "mvar1              76361 non-null float64\n",
      "mvar2              76361 non-null float64\n",
      "mvar4              76361 non-null float64\n",
      "mvar5              76361 non-null float64\n",
      "mvar16             76361 non-null float64\n",
      "mvar17             76361 non-null float64\n",
      "mvar18             64730 non-null float64\n",
      "mvar19             76361 non-null float64\n",
      "mvar20             76361 non-null float64\n",
      "mvar21             57173 non-null float64\n",
      "mvar22             50425 non-null float64\n",
      "mvar23             39399 non-null float64\n",
      "mvar24             60880 non-null float64\n",
      "mvar25             71238 non-null float64\n",
      "mvar26             68798 non-null float64\n",
      "mvar27             66284 non-null float64\n",
      "mvar28             76361 non-null float64\n",
      "mvar29             76361 non-null float64\n",
      "mvar30             43256 non-null float64\n",
      "mvar31             23648 non-null float64\n",
      "mvar32             71238 non-null float64\n",
      "mvar33             74892 non-null float64\n",
      "mvar34             76361 non-null float64\n",
      "mvar35             46633 non-null float64\n",
      "mvar36             74546 non-null float64\n",
      "mvar37             71238 non-null float64\n",
      "mvar38             76361 non-null float64\n",
      "mvar39             73175 non-null float64\n",
      "mvar40             17422 non-null float64\n",
      "mvar41             25363 non-null float64\n",
      "mvar42             75638 non-null float64\n",
      "mvar43             76208 non-null float64\n",
      "mvar44             71641 non-null float64\n",
      "mvar45             34999 non-null float64\n",
      "mvar46             56666 non-null float64\n",
      "mvar47             76361 non-null float64\n",
      "default_ind        76361 non-null float64\n",
      "binned_mvar6       76361 non-null float64\n",
      "binned_mvar1       76361 non-null category\n",
      "binned_mvar7       76361 non-null float64\n",
      "binned_mvar9       76361 non-null float64\n",
      "mvar48             76361 non-null float64\n",
      "binned_mvar10      76361 non-null int64\n",
      "binned_mvar12      76361 non-null float64\n",
      "binned_mvar13      76361 non-null float64\n",
      "binned_mvar14      76361 non-null category\n",
      "dtypes: category(2), float64(44), int64(1)\n",
      "memory usage: 26.9 MB\n"
     ]
    }
   ],
   "source": [
    "df.info()"
   ]
  },
  {
   "cell_type": "code",
   "execution_count": 8240,
   "metadata": {},
   "outputs": [
    {
     "data": {
      "text/plain": [
       "0.0    1127\n",
       "1.0    1096\n",
       "Name: default_ind, dtype: int64"
      ]
     },
     "execution_count": 8240,
     "metadata": {},
     "output_type": "execute_result"
    }
   ],
   "source": [
    "col = df[df['mvar18']==2]\n",
    "col['default_ind'].value_counts()"
   ]
  },
  {
   "cell_type": "code",
   "execution_count": 8241,
   "metadata": {},
   "outputs": [],
   "source": [
    "df['mvar18'] = df['mvar18'].replace([0,1,2,3,4,5,6,7,8,9,10,11,12,13,14,15,16,17,18,19,20,21],[0,1,2,3,3,3,3,3,3,3,3,3,3,3,3,3,3,3,3,3,3,3])"
   ]
  },
  {
   "cell_type": "code",
   "execution_count": 8242,
   "metadata": {},
   "outputs": [],
   "source": [
    "df['mvar18'] = df['mvar18'].fillna(0)"
   ]
  },
  {
   "cell_type": "code",
   "execution_count": 8243,
   "metadata": {},
   "outputs": [
    {
     "data": {
      "text/plain": [
       "count    76361.000000\n",
       "mean         0.988554\n",
       "std          1.755527\n",
       "min          0.000000\n",
       "25%          0.000000\n",
       "50%          0.000000\n",
       "75%          1.000000\n",
       "max         28.000000\n",
       "Name: mvar19, dtype: float64"
      ]
     },
     "execution_count": 8243,
     "metadata": {},
     "output_type": "execute_result"
    }
   ],
   "source": [
    "df['mvar19'].describe()"
   ]
  },
  {
   "cell_type": "code",
   "execution_count": 8244,
   "metadata": {},
   "outputs": [
    {
     "data": {
      "text/plain": [
       "0.0    502\n",
       "1.0    341\n",
       "Name: default_ind, dtype: int64"
      ]
     },
     "execution_count": 8244,
     "metadata": {},
     "output_type": "execute_result"
    }
   ],
   "source": [
    "col = df[df['mvar19']==6]\n",
    "col['default_ind'].value_counts()"
   ]
  },
  {
   "cell_type": "code",
   "execution_count": 8245,
   "metadata": {},
   "outputs": [],
   "source": [
    "df['mvar19'] = df['mvar19'].replace([0,1,2,3,4,5,6,7,8,9,10,11,12,13,14,15,16,17,18,19,20,21,22,23,24,25,26,27,28],[0,1,2,3,4,4,4,4,4,4,4,4,4,4,4,4,4,4,4,4,4,4,4,4,4,4,4,4,4])"
   ]
  },
  {
   "cell_type": "code",
   "execution_count": 8246,
   "metadata": {},
   "outputs": [
    {
     "data": {
      "text/plain": [
       "count    76361.000000\n",
       "mean         1.067849\n",
       "std          1.801015\n",
       "min          0.000000\n",
       "25%          0.000000\n",
       "50%          0.000000\n",
       "75%          1.000000\n",
       "max         29.000000\n",
       "Name: mvar20, dtype: float64"
      ]
     },
     "execution_count": 8246,
     "metadata": {},
     "output_type": "execute_result"
    }
   ],
   "source": [
    "df['mvar20'].describe()"
   ]
  },
  {
   "cell_type": "code",
   "execution_count": 8247,
   "metadata": {},
   "outputs": [
    {
     "data": {
      "text/plain": [
       "1.0    1\n",
       "Name: default_ind, dtype: int64"
      ]
     },
     "execution_count": 8247,
     "metadata": {},
     "output_type": "execute_result"
    }
   ],
   "source": [
    "col = df[df['mvar20']==28]\n",
    "col['default_ind'].value_counts()"
   ]
  },
  {
   "cell_type": "code",
   "execution_count": 8248,
   "metadata": {},
   "outputs": [],
   "source": [
    "df['mvar20'] = df['mvar20'].replace([0,1,2,3,4,5,6,7,8,9,10,11,12,13,14,15,16,17,18,19,20,21,22,23,24,25,26,27,28,29],[0,1,2,2,4,5,5,5,5,5,5,5,5,5,5,5,5,5,5,5,5,5,5,5,5,5,5,5,5,5])"
   ]
  },
  {
   "cell_type": "code",
   "execution_count": 8249,
   "metadata": {},
   "outputs": [],
   "source": [
    "dframe = df[['mvar16','mvar17','mvar18','mvar19','mvar20']]"
   ]
  },
  {
   "cell_type": "code",
   "execution_count": 8250,
   "metadata": {},
   "outputs": [
    {
     "data": {
      "text/html": [
       "<div>\n",
       "<style scoped>\n",
       "    .dataframe tbody tr th:only-of-type {\n",
       "        vertical-align: middle;\n",
       "    }\n",
       "\n",
       "    .dataframe tbody tr th {\n",
       "        vertical-align: top;\n",
       "    }\n",
       "\n",
       "    .dataframe thead th {\n",
       "        text-align: right;\n",
       "    }\n",
       "</style>\n",
       "<table border=\"1\" class=\"dataframe\">\n",
       "  <thead>\n",
       "    <tr style=\"text-align: right;\">\n",
       "      <th></th>\n",
       "      <th>mvar16</th>\n",
       "      <th>mvar17</th>\n",
       "      <th>mvar18</th>\n",
       "      <th>mvar19</th>\n",
       "      <th>mvar20</th>\n",
       "    </tr>\n",
       "  </thead>\n",
       "  <tbody>\n",
       "    <tr>\n",
       "      <th>mvar16</th>\n",
       "      <td>1.000000</td>\n",
       "      <td>0.944044</td>\n",
       "      <td>0.931836</td>\n",
       "      <td>0.509539</td>\n",
       "      <td>0.498746</td>\n",
       "    </tr>\n",
       "    <tr>\n",
       "      <th>mvar17</th>\n",
       "      <td>0.944044</td>\n",
       "      <td>1.000000</td>\n",
       "      <td>0.986780</td>\n",
       "      <td>0.552865</td>\n",
       "      <td>0.543590</td>\n",
       "    </tr>\n",
       "    <tr>\n",
       "      <th>mvar18</th>\n",
       "      <td>0.931836</td>\n",
       "      <td>0.986780</td>\n",
       "      <td>1.000000</td>\n",
       "      <td>0.548817</td>\n",
       "      <td>0.549412</td>\n",
       "    </tr>\n",
       "    <tr>\n",
       "      <th>mvar19</th>\n",
       "      <td>0.509539</td>\n",
       "      <td>0.552865</td>\n",
       "      <td>0.548817</td>\n",
       "      <td>1.000000</td>\n",
       "      <td>0.954737</td>\n",
       "    </tr>\n",
       "    <tr>\n",
       "      <th>mvar20</th>\n",
       "      <td>0.498746</td>\n",
       "      <td>0.543590</td>\n",
       "      <td>0.549412</td>\n",
       "      <td>0.954737</td>\n",
       "      <td>1.000000</td>\n",
       "    </tr>\n",
       "  </tbody>\n",
       "</table>\n",
       "</div>"
      ],
      "text/plain": [
       "          mvar16    mvar17    mvar18    mvar19    mvar20\n",
       "mvar16  1.000000  0.944044  0.931836  0.509539  0.498746\n",
       "mvar17  0.944044  1.000000  0.986780  0.552865  0.543590\n",
       "mvar18  0.931836  0.986780  1.000000  0.548817  0.549412\n",
       "mvar19  0.509539  0.552865  0.548817  1.000000  0.954737\n",
       "mvar20  0.498746  0.543590  0.549412  0.954737  1.000000"
      ]
     },
     "execution_count": 8250,
     "metadata": {},
     "output_type": "execute_result"
    }
   ],
   "source": [
    "dframe.corr()"
   ]
  },
  {
   "cell_type": "code",
   "execution_count": 8251,
   "metadata": {},
   "outputs": [],
   "source": [
    "from sklearn.decomposition import PCA\n",
    "pca = PCA(n_components= None)\n",
    "dframe = pca.fit_transform(dframe)\n",
    "explained_variance = pca.explained_variance_ratio_"
   ]
  },
  {
   "cell_type": "code",
   "execution_count": 8252,
   "metadata": {},
   "outputs": [
    {
     "data": {
      "text/plain": [
       "array([0.84557054, 0.13068898, 0.01778927, 0.00505498, 0.00089623])"
      ]
     },
     "execution_count": 8252,
     "metadata": {},
     "output_type": "execute_result"
    }
   ],
   "source": [
    "explained_variance"
   ]
  },
  {
   "cell_type": "code",
   "execution_count": 8253,
   "metadata": {},
   "outputs": [
    {
     "data": {
      "text/plain": [
       "(76361, 5)"
      ]
     },
     "execution_count": 8253,
     "metadata": {},
     "output_type": "execute_result"
    }
   ],
   "source": [
    "dframe.shape"
   ]
  },
  {
   "cell_type": "code",
   "execution_count": 8254,
   "metadata": {},
   "outputs": [],
   "source": [
    "df['mvar52'] = dframe[:,0]"
   ]
  },
  {
   "cell_type": "code",
   "execution_count": 8255,
   "metadata": {},
   "outputs": [],
   "source": [
    "df['mvar53'] = dframe[:,1]"
   ]
  },
  {
   "cell_type": "code",
   "execution_count": 8256,
   "metadata": {},
   "outputs": [
    {
     "data": {
      "text/html": [
       "<div>\n",
       "<style scoped>\n",
       "    .dataframe tbody tr th:only-of-type {\n",
       "        vertical-align: middle;\n",
       "    }\n",
       "\n",
       "    .dataframe tbody tr th {\n",
       "        vertical-align: top;\n",
       "    }\n",
       "\n",
       "    .dataframe thead th {\n",
       "        text-align: right;\n",
       "    }\n",
       "</style>\n",
       "<table border=\"1\" class=\"dataframe\">\n",
       "  <thead>\n",
       "    <tr style=\"text-align: right;\">\n",
       "      <th></th>\n",
       "      <th>mvar52</th>\n",
       "      <th>mvar53</th>\n",
       "      <th>default_ind</th>\n",
       "    </tr>\n",
       "  </thead>\n",
       "  <tbody>\n",
       "    <tr>\n",
       "      <th>mvar52</th>\n",
       "      <td>1.000000e+00</td>\n",
       "      <td>2.173369e-15</td>\n",
       "      <td>0.164295</td>\n",
       "    </tr>\n",
       "    <tr>\n",
       "      <th>mvar53</th>\n",
       "      <td>2.173369e-15</td>\n",
       "      <td>1.000000e+00</td>\n",
       "      <td>0.132699</td>\n",
       "    </tr>\n",
       "    <tr>\n",
       "      <th>default_ind</th>\n",
       "      <td>1.642949e-01</td>\n",
       "      <td>1.326985e-01</td>\n",
       "      <td>1.000000</td>\n",
       "    </tr>\n",
       "  </tbody>\n",
       "</table>\n",
       "</div>"
      ],
      "text/plain": [
       "                   mvar52        mvar53  default_ind\n",
       "mvar52       1.000000e+00  2.173369e-15     0.164295\n",
       "mvar53       2.173369e-15  1.000000e+00     0.132699\n",
       "default_ind  1.642949e-01  1.326985e-01     1.000000"
      ]
     },
     "execution_count": 8256,
     "metadata": {},
     "output_type": "execute_result"
    }
   ],
   "source": [
    "dframe = df[['mvar52','mvar53','default_ind']]\n",
    "dframe.corr()"
   ]
  },
  {
   "cell_type": "code",
   "execution_count": 8257,
   "metadata": {},
   "outputs": [],
   "source": [
    "df.drop(['mvar16','mvar17','mvar18','mvar19','mvar20'],axis=1,inplace=True)"
   ]
  },
  {
   "cell_type": "code",
   "execution_count": 8258,
   "metadata": {},
   "outputs": [
    {
     "data": {
      "text/plain": [
       "count    57173.000000\n",
       "mean        57.723219\n",
       "std         35.453345\n",
       "min          0.170000\n",
       "25%         26.870000\n",
       "50%         59.620000\n",
       "75%         86.540000\n",
       "max       1305.250000\n",
       "Name: mvar21, dtype: float64"
      ]
     },
     "execution_count": 8258,
     "metadata": {},
     "output_type": "execute_result"
    }
   ],
   "source": [
    "df['mvar21'].describe()"
   ]
  },
  {
   "cell_type": "code",
   "execution_count": 8259,
   "metadata": {},
   "outputs": [
    {
     "data": {
      "text/plain": [
       "0.0    42912\n",
       "1.0     8597\n",
       "Name: default_ind, dtype: int64"
      ]
     },
     "execution_count": 8259,
     "metadata": {},
     "output_type": "execute_result"
    }
   ],
   "source": [
    "col = df[df['mvar21']<98.540000]\n",
    "col['default_ind'].value_counts()"
   ]
  },
  {
   "cell_type": "code",
   "execution_count": 8260,
   "metadata": {},
   "outputs": [],
   "source": [
    "bins = [0,26.870000,66.540000,88.540000,98.544,1305.250000]\n",
    "labels = [1,2,3,4,5]\n",
    "df['binned_mvar21'] = pd.cut(df['mvar21'], bins=bins, labels=labels)"
   ]
  },
  {
   "cell_type": "code",
   "execution_count": 8261,
   "metadata": {},
   "outputs": [
    {
     "data": {
      "text/plain": [
       "2    17579\n",
       "1    14294\n",
       "3    12268\n",
       "4     7372\n",
       "5     5660\n",
       "Name: binned_mvar21, dtype: int64"
      ]
     },
     "execution_count": 8261,
     "metadata": {},
     "output_type": "execute_result"
    }
   ],
   "source": [
    "df['binned_mvar21'].value_counts()"
   ]
  },
  {
   "cell_type": "code",
   "execution_count": 8262,
   "metadata": {},
   "outputs": [
    {
     "name": "stdout",
     "output_type": "stream",
     "text": [
      "nan\n",
      "<class 'numpy.ndarray'>\n"
     ]
    }
   ],
   "source": [
    "arr=np.array(df['binned_mvar21'].tolist())\n",
    "import random\n",
    "print (np.nan)\n",
    "print (type(arr))\n",
    "for i in range (len(arr)):\n",
    "    if np.isnan(arr[i]):\n",
    "        arr[i]=random.randint(3,4)\n",
    "df['binned_mvar21']=arr"
   ]
  },
  {
   "cell_type": "code",
   "execution_count": 8263,
   "metadata": {},
   "outputs": [
    {
     "data": {
      "text/plain": [
       "0.0    58017\n",
       "1.0    18344\n",
       "Name: default_ind, dtype: int64"
      ]
     },
     "execution_count": 8263,
     "metadata": {},
     "output_type": "execute_result"
    }
   ],
   "source": [
    "df['default_ind'].value_counts()"
   ]
  },
  {
   "cell_type": "code",
   "execution_count": 8264,
   "metadata": {},
   "outputs": [
    {
     "data": {
      "text/plain": [
       "count    50425.000000\n",
       "mean      4417.721053\n",
       "std       3776.330056\n",
       "min          0.000000\n",
       "25%        724.500000\n",
       "50%       3966.770000\n",
       "75%       7566.670000\n",
       "max      64800.000000\n",
       "Name: mvar22, dtype: float64"
      ]
     },
     "execution_count": 8264,
     "metadata": {},
     "output_type": "execute_result"
    }
   ],
   "source": [
    "df['mvar22'].describe()"
   ]
  },
  {
   "cell_type": "code",
   "execution_count": 8265,
   "metadata": {},
   "outputs": [
    {
     "data": {
      "text/plain": [
       "0.0    38327\n",
       "1.0     9099\n",
       "Name: default_ind, dtype: int64"
      ]
     },
     "execution_count": 8265,
     "metadata": {},
     "output_type": "execute_result"
    }
   ],
   "source": [
    "col = df[df['mvar22']<10000.000000]\n",
    "col['default_ind'].value_counts()"
   ]
  },
  {
   "cell_type": "code",
   "execution_count": 8266,
   "metadata": {},
   "outputs": [],
   "source": [
    "bins = [-1,3666.770000,6766.770000,10000.000000,64800.000000]\n",
    "labels = [1,2,3,4]\n",
    "df['binned_mvar22'] = pd.cut(df['mvar22'], bins=bins, labels=labels)"
   ]
  },
  {
   "cell_type": "code",
   "execution_count": 8267,
   "metadata": {},
   "outputs": [
    {
     "data": {
      "text/plain": [
       "0.0    58017\n",
       "1.0    18344\n",
       "Name: default_ind, dtype: int64"
      ]
     },
     "execution_count": 8267,
     "metadata": {},
     "output_type": "execute_result"
    }
   ],
   "source": [
    "df['default_ind'].value_counts()"
   ]
  },
  {
   "cell_type": "code",
   "execution_count": 8268,
   "metadata": {},
   "outputs": [
    {
     "name": "stdout",
     "output_type": "stream",
     "text": [
      "nan\n",
      "<class 'numpy.ndarray'>\n"
     ]
    }
   ],
   "source": [
    "arr=np.array(df['binned_mvar22'].tolist())\n",
    "import random\n",
    "print (np.nan)\n",
    "print (type(arr))\n",
    "for i in range (len(arr)):\n",
    "    if np.isnan(arr[i]):\n",
    "        arr[i]=random.randint(3,3)\n",
    "df['binned_mvar22']=arr"
   ]
  },
  {
   "cell_type": "code",
   "execution_count": 8269,
   "metadata": {},
   "outputs": [],
   "source": [
    "df.drop('mvar23',axis=1,inplace = True)"
   ]
  },
  {
   "cell_type": "code",
   "execution_count": 8270,
   "metadata": {},
   "outputs": [
    {
     "data": {
      "text/plain": [
       "count    60880.000000\n",
       "mean        69.880076\n",
       "std        298.561194\n",
       "min          0.000000\n",
       "25%          9.890000\n",
       "50%         40.380000\n",
       "75%         76.472500\n",
       "max      27867.400000\n",
       "Name: mvar24, dtype: float64"
      ]
     },
     "execution_count": 8270,
     "metadata": {},
     "output_type": "execute_result"
    }
   ],
   "source": [
    "df['mvar24'].describe()"
   ]
  },
  {
   "cell_type": "code",
   "execution_count": 8271,
   "metadata": {},
   "outputs": [
    {
     "data": {
      "text/plain": [
       "0.0    39808\n",
       "1.0     5852\n",
       "Name: default_ind, dtype: int64"
      ]
     },
     "execution_count": 8271,
     "metadata": {},
     "output_type": "execute_result"
    }
   ],
   "source": [
    "col = df[df['mvar24']<76.472500]\n",
    "col['default_ind'].value_counts()"
   ]
  },
  {
   "cell_type": "code",
   "execution_count": 8272,
   "metadata": {},
   "outputs": [],
   "source": [
    "bins = [-1,35.380000,76.472500,27867.400000]\n",
    "labels = [1,2,3]\n",
    "df['binned_mvar24'] = pd.cut(df['mvar24'], bins=bins, labels=labels)"
   ]
  },
  {
   "cell_type": "code",
   "execution_count": 8273,
   "metadata": {},
   "outputs": [
    {
     "data": {
      "text/plain": [
       "1    28193\n",
       "2    17467\n",
       "3    15220\n",
       "Name: binned_mvar24, dtype: int64"
      ]
     },
     "execution_count": 8273,
     "metadata": {},
     "output_type": "execute_result"
    }
   ],
   "source": [
    "df['binned_mvar24'].value_counts()"
   ]
  },
  {
   "cell_type": "code",
   "execution_count": 8274,
   "metadata": {},
   "outputs": [
    {
     "data": {
      "text/plain": [
       "0.0    58017\n",
       "1.0    18344\n",
       "Name: default_ind, dtype: int64"
      ]
     },
     "execution_count": 8274,
     "metadata": {},
     "output_type": "execute_result"
    }
   ],
   "source": [
    "df['default_ind'].value_counts()"
   ]
  },
  {
   "cell_type": "code",
   "execution_count": 8275,
   "metadata": {},
   "outputs": [
    {
     "name": "stdout",
     "output_type": "stream",
     "text": [
      "nan\n",
      "<class 'numpy.ndarray'>\n"
     ]
    }
   ],
   "source": [
    "arr=np.array(df['binned_mvar24'].tolist())\n",
    "import random\n",
    "print (np.nan)\n",
    "print (type(arr))\n",
    "for i in range (len(arr)):\n",
    "    if np.isnan(arr[i]):\n",
    "        arr[i]=random.randint(2,3)\n",
    "df['binned_mvar24']=arr"
   ]
  },
  {
   "cell_type": "code",
   "execution_count": 8276,
   "metadata": {},
   "outputs": [
    {
     "data": {
      "text/html": [
       "<div>\n",
       "<style scoped>\n",
       "    .dataframe tbody tr th:only-of-type {\n",
       "        vertical-align: middle;\n",
       "    }\n",
       "\n",
       "    .dataframe tbody tr th {\n",
       "        vertical-align: top;\n",
       "    }\n",
       "\n",
       "    .dataframe thead th {\n",
       "        text-align: right;\n",
       "    }\n",
       "</style>\n",
       "<table border=\"1\" class=\"dataframe\">\n",
       "  <thead>\n",
       "    <tr style=\"text-align: right;\">\n",
       "      <th></th>\n",
       "      <th>mvar21</th>\n",
       "      <th>default_ind</th>\n",
       "    </tr>\n",
       "  </thead>\n",
       "  <tbody>\n",
       "    <tr>\n",
       "      <th>mvar21</th>\n",
       "      <td>1.000000</td>\n",
       "      <td>0.330932</td>\n",
       "    </tr>\n",
       "    <tr>\n",
       "      <th>default_ind</th>\n",
       "      <td>0.330932</td>\n",
       "      <td>1.000000</td>\n",
       "    </tr>\n",
       "  </tbody>\n",
       "</table>\n",
       "</div>"
      ],
      "text/plain": [
       "               mvar21  default_ind\n",
       "mvar21       1.000000     0.330932\n",
       "default_ind  0.330932     1.000000"
      ]
     },
     "execution_count": 8276,
     "metadata": {},
     "output_type": "execute_result"
    }
   ],
   "source": [
    "df[['mvar21','default_ind']].corr()"
   ]
  },
  {
   "cell_type": "code",
   "execution_count": 8277,
   "metadata": {},
   "outputs": [],
   "source": [
    "df.drop(['mvar21','mvar22','mvar24'],axis=1,inplace=True)"
   ]
  },
  {
   "cell_type": "code",
   "execution_count": 8278,
   "metadata": {},
   "outputs": [
    {
     "data": {
      "text/plain": [
       "count    71238.000000\n",
       "mean      1760.852073\n",
       "std       1303.087196\n",
       "min          0.000000\n",
       "25%        835.000000\n",
       "50%       1483.000000\n",
       "75%       2363.000000\n",
       "max      16729.000000\n",
       "Name: mvar25, dtype: float64"
      ]
     },
     "execution_count": 8278,
     "metadata": {},
     "output_type": "execute_result"
    }
   ],
   "source": [
    "df['mvar25'].describe()"
   ]
  },
  {
   "cell_type": "code",
   "execution_count": 8279,
   "metadata": {},
   "outputs": [
    {
     "data": {
      "text/plain": [
       "0.0    55414\n",
       "1.0    15823\n",
       "Name: default_ind, dtype: int64"
      ]
     },
     "execution_count": 8279,
     "metadata": {},
     "output_type": "execute_result"
    }
   ],
   "source": [
    "col = df[df['mvar25']<16729.0000000]\n",
    "col['default_ind'].value_counts()"
   ]
  },
  {
   "cell_type": "code",
   "execution_count": 8280,
   "metadata": {},
   "outputs": [
    {
     "data": {
      "text/plain": [
       "count    71238.000000\n",
       "mean      1760.852073\n",
       "std       1303.087196\n",
       "min          0.000000\n",
       "25%        835.000000\n",
       "50%       1483.000000\n",
       "75%       2363.000000\n",
       "max      16729.000000\n",
       "Name: mvar25, dtype: float64"
      ]
     },
     "execution_count": 8280,
     "metadata": {},
     "output_type": "execute_result"
    }
   ],
   "source": [
    "df['mvar25'].describe()"
   ]
  },
  {
   "cell_type": "code",
   "execution_count": 8281,
   "metadata": {},
   "outputs": [
    {
     "data": {
      "text/html": [
       "<div>\n",
       "<style scoped>\n",
       "    .dataframe tbody tr th:only-of-type {\n",
       "        vertical-align: middle;\n",
       "    }\n",
       "\n",
       "    .dataframe tbody tr th {\n",
       "        vertical-align: top;\n",
       "    }\n",
       "\n",
       "    .dataframe thead th {\n",
       "        text-align: right;\n",
       "    }\n",
       "</style>\n",
       "<table border=\"1\" class=\"dataframe\">\n",
       "  <thead>\n",
       "    <tr style=\"text-align: right;\">\n",
       "      <th></th>\n",
       "      <th>application_key</th>\n",
       "      <th>mvar1</th>\n",
       "      <th>mvar2</th>\n",
       "      <th>mvar4</th>\n",
       "      <th>mvar5</th>\n",
       "      <th>mvar25</th>\n",
       "      <th>mvar26</th>\n",
       "      <th>mvar27</th>\n",
       "      <th>mvar28</th>\n",
       "      <th>mvar29</th>\n",
       "      <th>...</th>\n",
       "      <th>mvar48</th>\n",
       "      <th>binned_mvar10</th>\n",
       "      <th>binned_mvar12</th>\n",
       "      <th>binned_mvar13</th>\n",
       "      <th>binned_mvar14</th>\n",
       "      <th>mvar52</th>\n",
       "      <th>mvar53</th>\n",
       "      <th>binned_mvar21</th>\n",
       "      <th>binned_mvar22</th>\n",
       "      <th>binned_mvar24</th>\n",
       "    </tr>\n",
       "  </thead>\n",
       "  <tbody>\n",
       "    <tr>\n",
       "      <th>4596</th>\n",
       "      <td>234628.0</td>\n",
       "      <td>1681.0</td>\n",
       "      <td>0.954711</td>\n",
       "      <td>0.0</td>\n",
       "      <td>0.0</td>\n",
       "      <td>16729.0</td>\n",
       "      <td>NaN</td>\n",
       "      <td>NaN</td>\n",
       "      <td>30.0</td>\n",
       "      <td>16729.0</td>\n",
       "      <td>...</td>\n",
       "      <td>0.0</td>\n",
       "      <td>1</td>\n",
       "      <td>1.0</td>\n",
       "      <td>1.0</td>\n",
       "      <td>3</td>\n",
       "      <td>-1.299061</td>\n",
       "      <td>0.072562</td>\n",
       "      <td>3.0</td>\n",
       "      <td>3.0</td>\n",
       "      <td>2.0</td>\n",
       "    </tr>\n",
       "    <tr>\n",
       "      <th>5053</th>\n",
       "      <td>235085.0</td>\n",
       "      <td>1657.0</td>\n",
       "      <td>0.085900</td>\n",
       "      <td>0.0</td>\n",
       "      <td>0.0</td>\n",
       "      <td>15300.0</td>\n",
       "      <td>335.0</td>\n",
       "      <td>NaN</td>\n",
       "      <td>0.0</td>\n",
       "      <td>15300.0</td>\n",
       "      <td>...</td>\n",
       "      <td>1.0</td>\n",
       "      <td>0</td>\n",
       "      <td>4.0</td>\n",
       "      <td>3.0</td>\n",
       "      <td>3</td>\n",
       "      <td>-1.299061</td>\n",
       "      <td>0.072562</td>\n",
       "      <td>3.0</td>\n",
       "      <td>1.0</td>\n",
       "      <td>1.0</td>\n",
       "    </tr>\n",
       "    <tr>\n",
       "      <th>8707</th>\n",
       "      <td>238739.0</td>\n",
       "      <td>1765.0</td>\n",
       "      <td>0.434400</td>\n",
       "      <td>0.0</td>\n",
       "      <td>0.0</td>\n",
       "      <td>15528.0</td>\n",
       "      <td>15452.0</td>\n",
       "      <td>15452.0</td>\n",
       "      <td>30386.0</td>\n",
       "      <td>15604.0</td>\n",
       "      <td>...</td>\n",
       "      <td>1.0</td>\n",
       "      <td>1</td>\n",
       "      <td>4.0</td>\n",
       "      <td>3.0</td>\n",
       "      <td>3</td>\n",
       "      <td>-1.299061</td>\n",
       "      <td>0.072562</td>\n",
       "      <td>1.0</td>\n",
       "      <td>3.0</td>\n",
       "      <td>2.0</td>\n",
       "    </tr>\n",
       "    <tr>\n",
       "      <th>15590</th>\n",
       "      <td>245622.0</td>\n",
       "      <td>1774.0</td>\n",
       "      <td>1.090100</td>\n",
       "      <td>0.0</td>\n",
       "      <td>0.0</td>\n",
       "      <td>16090.0</td>\n",
       "      <td>NaN</td>\n",
       "      <td>NaN</td>\n",
       "      <td>30.0</td>\n",
       "      <td>16090.0</td>\n",
       "      <td>...</td>\n",
       "      <td>0.0</td>\n",
       "      <td>1</td>\n",
       "      <td>4.0</td>\n",
       "      <td>1.0</td>\n",
       "      <td>3</td>\n",
       "      <td>-1.299061</td>\n",
       "      <td>0.072562</td>\n",
       "      <td>5.0</td>\n",
       "      <td>3.0</td>\n",
       "      <td>2.0</td>\n",
       "    </tr>\n",
       "    <tr>\n",
       "      <th>17870</th>\n",
       "      <td>247902.0</td>\n",
       "      <td>1786.0</td>\n",
       "      <td>0.000000</td>\n",
       "      <td>0.0</td>\n",
       "      <td>0.0</td>\n",
       "      <td>13505.0</td>\n",
       "      <td>548.0</td>\n",
       "      <td>NaN</td>\n",
       "      <td>791.0</td>\n",
       "      <td>17033.0</td>\n",
       "      <td>...</td>\n",
       "      <td>1.0</td>\n",
       "      <td>0</td>\n",
       "      <td>1.0</td>\n",
       "      <td>1.0</td>\n",
       "      <td>3</td>\n",
       "      <td>-1.299061</td>\n",
       "      <td>0.072562</td>\n",
       "      <td>3.0</td>\n",
       "      <td>1.0</td>\n",
       "      <td>1.0</td>\n",
       "    </tr>\n",
       "    <tr>\n",
       "      <th>27270</th>\n",
       "      <td>257302.0</td>\n",
       "      <td>1930.0</td>\n",
       "      <td>0.954711</td>\n",
       "      <td>0.0</td>\n",
       "      <td>0.0</td>\n",
       "      <td>12030.0</td>\n",
       "      <td>17003.0</td>\n",
       "      <td>17003.0</td>\n",
       "      <td>30386.0</td>\n",
       "      <td>17003.0</td>\n",
       "      <td>...</td>\n",
       "      <td>1.0</td>\n",
       "      <td>1</td>\n",
       "      <td>2.0</td>\n",
       "      <td>2.0</td>\n",
       "      <td>3</td>\n",
       "      <td>-1.299061</td>\n",
       "      <td>0.072562</td>\n",
       "      <td>3.0</td>\n",
       "      <td>3.0</td>\n",
       "      <td>1.0</td>\n",
       "    </tr>\n",
       "    <tr>\n",
       "      <th>30335</th>\n",
       "      <td>260367.0</td>\n",
       "      <td>1705.0</td>\n",
       "      <td>0.138200</td>\n",
       "      <td>0.0</td>\n",
       "      <td>0.0</td>\n",
       "      <td>12562.0</td>\n",
       "      <td>NaN</td>\n",
       "      <td>NaN</td>\n",
       "      <td>1916.0</td>\n",
       "      <td>14478.0</td>\n",
       "      <td>...</td>\n",
       "      <td>1.0</td>\n",
       "      <td>1</td>\n",
       "      <td>2.0</td>\n",
       "      <td>1.0</td>\n",
       "      <td>2</td>\n",
       "      <td>-1.299061</td>\n",
       "      <td>0.072562</td>\n",
       "      <td>4.0</td>\n",
       "      <td>3.0</td>\n",
       "      <td>2.0</td>\n",
       "    </tr>\n",
       "    <tr>\n",
       "      <th>46272</th>\n",
       "      <td>276304.0</td>\n",
       "      <td>1686.0</td>\n",
       "      <td>0.046800</td>\n",
       "      <td>0.0</td>\n",
       "      <td>0.0</td>\n",
       "      <td>12471.0</td>\n",
       "      <td>12471.0</td>\n",
       "      <td>12471.0</td>\n",
       "      <td>91.0</td>\n",
       "      <td>12471.0</td>\n",
       "      <td>...</td>\n",
       "      <td>0.0</td>\n",
       "      <td>1</td>\n",
       "      <td>5.0</td>\n",
       "      <td>3.0</td>\n",
       "      <td>3</td>\n",
       "      <td>-0.604309</td>\n",
       "      <td>-0.174285</td>\n",
       "      <td>3.0</td>\n",
       "      <td>3.0</td>\n",
       "      <td>3.0</td>\n",
       "    </tr>\n",
       "    <tr>\n",
       "      <th>65074</th>\n",
       "      <td>295106.0</td>\n",
       "      <td>1904.0</td>\n",
       "      <td>0.954711</td>\n",
       "      <td>0.0</td>\n",
       "      <td>0.0</td>\n",
       "      <td>12790.0</td>\n",
       "      <td>9977.0</td>\n",
       "      <td>9977.0</td>\n",
       "      <td>30386.0</td>\n",
       "      <td>19132.0</td>\n",
       "      <td>...</td>\n",
       "      <td>1.0</td>\n",
       "      <td>1</td>\n",
       "      <td>1.0</td>\n",
       "      <td>1.0</td>\n",
       "      <td>3</td>\n",
       "      <td>-1.299061</td>\n",
       "      <td>0.072562</td>\n",
       "      <td>3.0</td>\n",
       "      <td>3.0</td>\n",
       "      <td>1.0</td>\n",
       "    </tr>\n",
       "    <tr>\n",
       "      <th>68628</th>\n",
       "      <td>298660.0</td>\n",
       "      <td>1882.0</td>\n",
       "      <td>0.047600</td>\n",
       "      <td>0.0</td>\n",
       "      <td>0.0</td>\n",
       "      <td>14783.0</td>\n",
       "      <td>14783.0</td>\n",
       "      <td>14783.0</td>\n",
       "      <td>30386.0</td>\n",
       "      <td>14783.0</td>\n",
       "      <td>...</td>\n",
       "      <td>1.0</td>\n",
       "      <td>0</td>\n",
       "      <td>3.0</td>\n",
       "      <td>4.0</td>\n",
       "      <td>3</td>\n",
       "      <td>-1.299061</td>\n",
       "      <td>0.072562</td>\n",
       "      <td>1.0</td>\n",
       "      <td>3.0</td>\n",
       "      <td>1.0</td>\n",
       "    </tr>\n",
       "    <tr>\n",
       "      <th>69875</th>\n",
       "      <td>299907.0</td>\n",
       "      <td>1746.0</td>\n",
       "      <td>0.954711</td>\n",
       "      <td>1.0</td>\n",
       "      <td>1.0</td>\n",
       "      <td>12288.0</td>\n",
       "      <td>12288.0</td>\n",
       "      <td>12288.0</td>\n",
       "      <td>30.0</td>\n",
       "      <td>12288.0</td>\n",
       "      <td>...</td>\n",
       "      <td>1.0</td>\n",
       "      <td>0</td>\n",
       "      <td>2.0</td>\n",
       "      <td>3.0</td>\n",
       "      <td>2</td>\n",
       "      <td>-1.299061</td>\n",
       "      <td>0.072562</td>\n",
       "      <td>4.0</td>\n",
       "      <td>3.0</td>\n",
       "      <td>1.0</td>\n",
       "    </tr>\n",
       "  </tbody>\n",
       "</table>\n",
       "<p>11 rows × 43 columns</p>\n",
       "</div>"
      ],
      "text/plain": [
       "       application_key   mvar1     mvar2  mvar4  mvar5   mvar25   mvar26  \\\n",
       "4596          234628.0  1681.0  0.954711    0.0    0.0  16729.0      NaN   \n",
       "5053          235085.0  1657.0  0.085900    0.0    0.0  15300.0    335.0   \n",
       "8707          238739.0  1765.0  0.434400    0.0    0.0  15528.0  15452.0   \n",
       "15590         245622.0  1774.0  1.090100    0.0    0.0  16090.0      NaN   \n",
       "17870         247902.0  1786.0  0.000000    0.0    0.0  13505.0    548.0   \n",
       "27270         257302.0  1930.0  0.954711    0.0    0.0  12030.0  17003.0   \n",
       "30335         260367.0  1705.0  0.138200    0.0    0.0  12562.0      NaN   \n",
       "46272         276304.0  1686.0  0.046800    0.0    0.0  12471.0  12471.0   \n",
       "65074         295106.0  1904.0  0.954711    0.0    0.0  12790.0   9977.0   \n",
       "68628         298660.0  1882.0  0.047600    0.0    0.0  14783.0  14783.0   \n",
       "69875         299907.0  1746.0  0.954711    1.0    1.0  12288.0  12288.0   \n",
       "\n",
       "        mvar27   mvar28   mvar29      ...        mvar48  binned_mvar10  \\\n",
       "4596       NaN     30.0  16729.0      ...           0.0              1   \n",
       "5053       NaN      0.0  15300.0      ...           1.0              0   \n",
       "8707   15452.0  30386.0  15604.0      ...           1.0              1   \n",
       "15590      NaN     30.0  16090.0      ...           0.0              1   \n",
       "17870      NaN    791.0  17033.0      ...           1.0              0   \n",
       "27270  17003.0  30386.0  17003.0      ...           1.0              1   \n",
       "30335      NaN   1916.0  14478.0      ...           1.0              1   \n",
       "46272  12471.0     91.0  12471.0      ...           0.0              1   \n",
       "65074   9977.0  30386.0  19132.0      ...           1.0              1   \n",
       "68628  14783.0  30386.0  14783.0      ...           1.0              0   \n",
       "69875  12288.0     30.0  12288.0      ...           1.0              0   \n",
       "\n",
       "       binned_mvar12  binned_mvar13  binned_mvar14    mvar52    mvar53  \\\n",
       "4596             1.0            1.0              3 -1.299061  0.072562   \n",
       "5053             4.0            3.0              3 -1.299061  0.072562   \n",
       "8707             4.0            3.0              3 -1.299061  0.072562   \n",
       "15590            4.0            1.0              3 -1.299061  0.072562   \n",
       "17870            1.0            1.0              3 -1.299061  0.072562   \n",
       "27270            2.0            2.0              3 -1.299061  0.072562   \n",
       "30335            2.0            1.0              2 -1.299061  0.072562   \n",
       "46272            5.0            3.0              3 -0.604309 -0.174285   \n",
       "65074            1.0            1.0              3 -1.299061  0.072562   \n",
       "68628            3.0            4.0              3 -1.299061  0.072562   \n",
       "69875            2.0            3.0              2 -1.299061  0.072562   \n",
       "\n",
       "       binned_mvar21  binned_mvar22  binned_mvar24  \n",
       "4596             3.0            3.0            2.0  \n",
       "5053             3.0            1.0            1.0  \n",
       "8707             1.0            3.0            2.0  \n",
       "15590            5.0            3.0            2.0  \n",
       "17870            3.0            1.0            1.0  \n",
       "27270            3.0            3.0            1.0  \n",
       "30335            4.0            3.0            2.0  \n",
       "46272            3.0            3.0            3.0  \n",
       "65074            3.0            3.0            1.0  \n",
       "68628            1.0            3.0            1.0  \n",
       "69875            4.0            3.0            1.0  \n",
       "\n",
       "[11 rows x 43 columns]"
      ]
     },
     "execution_count": 8281,
     "metadata": {},
     "output_type": "execute_result"
    }
   ],
   "source": [
    "df[df['mvar25']>12000].head(11)"
   ]
  },
  {
   "cell_type": "code",
   "execution_count": 8282,
   "metadata": {},
   "outputs": [
    {
     "data": {
      "text/html": [
       "<div>\n",
       "<style scoped>\n",
       "    .dataframe tbody tr th:only-of-type {\n",
       "        vertical-align: middle;\n",
       "    }\n",
       "\n",
       "    .dataframe tbody tr th {\n",
       "        vertical-align: top;\n",
       "    }\n",
       "\n",
       "    .dataframe thead th {\n",
       "        text-align: right;\n",
       "    }\n",
       "</style>\n",
       "<table border=\"1\" class=\"dataframe\">\n",
       "  <thead>\n",
       "    <tr style=\"text-align: right;\">\n",
       "      <th></th>\n",
       "      <th>application_key</th>\n",
       "      <th>mvar1</th>\n",
       "      <th>mvar2</th>\n",
       "      <th>mvar4</th>\n",
       "      <th>mvar5</th>\n",
       "      <th>mvar25</th>\n",
       "      <th>mvar26</th>\n",
       "      <th>mvar27</th>\n",
       "      <th>mvar28</th>\n",
       "      <th>mvar29</th>\n",
       "      <th>...</th>\n",
       "      <th>binned_mvar9</th>\n",
       "      <th>mvar48</th>\n",
       "      <th>binned_mvar10</th>\n",
       "      <th>binned_mvar12</th>\n",
       "      <th>binned_mvar13</th>\n",
       "      <th>mvar52</th>\n",
       "      <th>mvar53</th>\n",
       "      <th>binned_mvar21</th>\n",
       "      <th>binned_mvar22</th>\n",
       "      <th>binned_mvar24</th>\n",
       "    </tr>\n",
       "  </thead>\n",
       "  <tbody>\n",
       "    <tr>\n",
       "      <th>count</th>\n",
       "      <td>76361.000000</td>\n",
       "      <td>76361.000000</td>\n",
       "      <td>76361.000000</td>\n",
       "      <td>76361.000000</td>\n",
       "      <td>76361.000000</td>\n",
       "      <td>71238.000000</td>\n",
       "      <td>68798.000000</td>\n",
       "      <td>66284.000000</td>\n",
       "      <td>76361.000000</td>\n",
       "      <td>76361.000000</td>\n",
       "      <td>...</td>\n",
       "      <td>76361.000000</td>\n",
       "      <td>76361.000000</td>\n",
       "      <td>76361.000000</td>\n",
       "      <td>76361.000000</td>\n",
       "      <td>76361.000000</td>\n",
       "      <td>7.636100e+04</td>\n",
       "      <td>7.636100e+04</td>\n",
       "      <td>76361.000000</td>\n",
       "      <td>76361.000000</td>\n",
       "      <td>76361.000000</td>\n",
       "    </tr>\n",
       "    <tr>\n",
       "      <th>mean</th>\n",
       "      <td>269995.087911</td>\n",
       "      <td>1745.971085</td>\n",
       "      <td>1.098235</td>\n",
       "      <td>0.143804</td>\n",
       "      <td>0.100680</td>\n",
       "      <td>1760.852073</td>\n",
       "      <td>3389.911364</td>\n",
       "      <td>3113.222014</td>\n",
       "      <td>8732.543104</td>\n",
       "      <td>5627.515171</td>\n",
       "      <td>...</td>\n",
       "      <td>2.221265</td>\n",
       "      <td>0.571090</td>\n",
       "      <td>0.500007</td>\n",
       "      <td>3.434960</td>\n",
       "      <td>2.802452</td>\n",
       "      <td>3.948400e-14</td>\n",
       "      <td>-7.288486e-15</td>\n",
       "      <td>2.767093</td>\n",
       "      <td>2.260801</td>\n",
       "      <td>1.932754</td>\n",
       "    </tr>\n",
       "    <tr>\n",
       "      <th>std</th>\n",
       "      <td>23091.735568</td>\n",
       "      <td>94.537617</td>\n",
       "      <td>1.581842</td>\n",
       "      <td>0.350893</td>\n",
       "      <td>0.300906</td>\n",
       "      <td>1303.087196</td>\n",
       "      <td>2932.145943</td>\n",
       "      <td>2695.575664</td>\n",
       "      <td>13510.717670</td>\n",
       "      <td>3194.236179</td>\n",
       "      <td>...</td>\n",
       "      <td>0.831837</td>\n",
       "      <td>0.494924</td>\n",
       "      <td>0.500003</td>\n",
       "      <td>1.226418</td>\n",
       "      <td>1.010066</td>\n",
       "      <td>1.911167e+00</td>\n",
       "      <td>7.513514e-01</td>\n",
       "      <td>1.201943</td>\n",
       "      <td>0.948070</td>\n",
       "      <td>0.816489</td>\n",
       "    </tr>\n",
       "    <tr>\n",
       "      <th>min</th>\n",
       "      <td>230032.000000</td>\n",
       "      <td>1493.000000</td>\n",
       "      <td>0.000000</td>\n",
       "      <td>0.000000</td>\n",
       "      <td>0.000000</td>\n",
       "      <td>0.000000</td>\n",
       "      <td>0.000000</td>\n",
       "      <td>0.000000</td>\n",
       "      <td>0.000000</td>\n",
       "      <td>183.000000</td>\n",
       "      <td>...</td>\n",
       "      <td>1.000000</td>\n",
       "      <td>0.000000</td>\n",
       "      <td>0.000000</td>\n",
       "      <td>1.000000</td>\n",
       "      <td>1.000000</td>\n",
       "      <td>-1.299061e+00</td>\n",
       "      <td>-1.998121e+00</td>\n",
       "      <td>1.000000</td>\n",
       "      <td>1.000000</td>\n",
       "      <td>1.000000</td>\n",
       "    </tr>\n",
       "    <tr>\n",
       "      <th>25%</th>\n",
       "      <td>249994.000000</td>\n",
       "      <td>1679.000000</td>\n",
       "      <td>0.159600</td>\n",
       "      <td>0.000000</td>\n",
       "      <td>0.000000</td>\n",
       "      <td>835.000000</td>\n",
       "      <td>1156.000000</td>\n",
       "      <td>1034.000000</td>\n",
       "      <td>30.000000</td>\n",
       "      <td>3407.000000</td>\n",
       "      <td>...</td>\n",
       "      <td>1.000000</td>\n",
       "      <td>0.000000</td>\n",
       "      <td>0.000000</td>\n",
       "      <td>2.000000</td>\n",
       "      <td>2.000000</td>\n",
       "      <td>-1.299061e+00</td>\n",
       "      <td>-3.833970e-01</td>\n",
       "      <td>2.000000</td>\n",
       "      <td>1.000000</td>\n",
       "      <td>1.000000</td>\n",
       "    </tr>\n",
       "    <tr>\n",
       "      <th>50%</th>\n",
       "      <td>269971.000000</td>\n",
       "      <td>1742.000000</td>\n",
       "      <td>0.622900</td>\n",
       "      <td>0.000000</td>\n",
       "      <td>0.000000</td>\n",
       "      <td>1483.000000</td>\n",
       "      <td>2768.000000</td>\n",
       "      <td>2585.000000</td>\n",
       "      <td>243.000000</td>\n",
       "      <td>5140.000000</td>\n",
       "      <td>...</td>\n",
       "      <td>2.000000</td>\n",
       "      <td>1.000000</td>\n",
       "      <td>1.000000</td>\n",
       "      <td>4.000000</td>\n",
       "      <td>3.000000</td>\n",
       "      <td>-1.299061e+00</td>\n",
       "      <td>7.256188e-02</td>\n",
       "      <td>3.000000</td>\n",
       "      <td>3.000000</td>\n",
       "      <td>2.000000</td>\n",
       "    </tr>\n",
       "    <tr>\n",
       "      <th>75%</th>\n",
       "      <td>289991.000000</td>\n",
       "      <td>1810.000000</td>\n",
       "      <td>1.360100</td>\n",
       "      <td>0.000000</td>\n",
       "      <td>0.000000</td>\n",
       "      <td>2363.000000</td>\n",
       "      <td>4745.000000</td>\n",
       "      <td>4350.000000</td>\n",
       "      <td>30386.000000</td>\n",
       "      <td>7361.000000</td>\n",
       "      <td>...</td>\n",
       "      <td>3.000000</td>\n",
       "      <td>1.000000</td>\n",
       "      <td>1.000000</td>\n",
       "      <td>4.000000</td>\n",
       "      <td>3.000000</td>\n",
       "      <td>5.965939e-01</td>\n",
       "      <td>7.256188e-02</td>\n",
       "      <td>4.000000</td>\n",
       "      <td>3.000000</td>\n",
       "      <td>3.000000</td>\n",
       "    </tr>\n",
       "    <tr>\n",
       "      <th>max</th>\n",
       "      <td>310031.000000</td>\n",
       "      <td>1950.000000</td>\n",
       "      <td>36.030100</td>\n",
       "      <td>1.000000</td>\n",
       "      <td>1.000000</td>\n",
       "      <td>16729.000000</td>\n",
       "      <td>24425.000000</td>\n",
       "      <td>22052.000000</td>\n",
       "      <td>30386.000000</td>\n",
       "      <td>24638.000000</td>\n",
       "      <td>...</td>\n",
       "      <td>3.000000</td>\n",
       "      <td>1.000000</td>\n",
       "      <td>1.000000</td>\n",
       "      <td>5.000000</td>\n",
       "      <td>4.000000</td>\n",
       "      <td>6.419828e+00</td>\n",
       "      <td>4.985124e+00</td>\n",
       "      <td>5.000000</td>\n",
       "      <td>4.000000</td>\n",
       "      <td>3.000000</td>\n",
       "    </tr>\n",
       "  </tbody>\n",
       "</table>\n",
       "<p>8 rows × 41 columns</p>\n",
       "</div>"
      ],
      "text/plain": [
       "       application_key         mvar1         mvar2         mvar4  \\\n",
       "count     76361.000000  76361.000000  76361.000000  76361.000000   \n",
       "mean     269995.087911   1745.971085      1.098235      0.143804   \n",
       "std       23091.735568     94.537617      1.581842      0.350893   \n",
       "min      230032.000000   1493.000000      0.000000      0.000000   \n",
       "25%      249994.000000   1679.000000      0.159600      0.000000   \n",
       "50%      269971.000000   1742.000000      0.622900      0.000000   \n",
       "75%      289991.000000   1810.000000      1.360100      0.000000   \n",
       "max      310031.000000   1950.000000     36.030100      1.000000   \n",
       "\n",
       "              mvar5        mvar25        mvar26        mvar27        mvar28  \\\n",
       "count  76361.000000  71238.000000  68798.000000  66284.000000  76361.000000   \n",
       "mean       0.100680   1760.852073   3389.911364   3113.222014   8732.543104   \n",
       "std        0.300906   1303.087196   2932.145943   2695.575664  13510.717670   \n",
       "min        0.000000      0.000000      0.000000      0.000000      0.000000   \n",
       "25%        0.000000    835.000000   1156.000000   1034.000000     30.000000   \n",
       "50%        0.000000   1483.000000   2768.000000   2585.000000    243.000000   \n",
       "75%        0.000000   2363.000000   4745.000000   4350.000000  30386.000000   \n",
       "max        1.000000  16729.000000  24425.000000  22052.000000  30386.000000   \n",
       "\n",
       "             mvar29      ...        binned_mvar9        mvar48  binned_mvar10  \\\n",
       "count  76361.000000      ...        76361.000000  76361.000000   76361.000000   \n",
       "mean    5627.515171      ...            2.221265      0.571090       0.500007   \n",
       "std     3194.236179      ...            0.831837      0.494924       0.500003   \n",
       "min      183.000000      ...            1.000000      0.000000       0.000000   \n",
       "25%     3407.000000      ...            1.000000      0.000000       0.000000   \n",
       "50%     5140.000000      ...            2.000000      1.000000       1.000000   \n",
       "75%     7361.000000      ...            3.000000      1.000000       1.000000   \n",
       "max    24638.000000      ...            3.000000      1.000000       1.000000   \n",
       "\n",
       "       binned_mvar12  binned_mvar13        mvar52        mvar53  \\\n",
       "count   76361.000000   76361.000000  7.636100e+04  7.636100e+04   \n",
       "mean        3.434960       2.802452  3.948400e-14 -7.288486e-15   \n",
       "std         1.226418       1.010066  1.911167e+00  7.513514e-01   \n",
       "min         1.000000       1.000000 -1.299061e+00 -1.998121e+00   \n",
       "25%         2.000000       2.000000 -1.299061e+00 -3.833970e-01   \n",
       "50%         4.000000       3.000000 -1.299061e+00  7.256188e-02   \n",
       "75%         4.000000       3.000000  5.965939e-01  7.256188e-02   \n",
       "max         5.000000       4.000000  6.419828e+00  4.985124e+00   \n",
       "\n",
       "       binned_mvar21  binned_mvar22  binned_mvar24  \n",
       "count   76361.000000   76361.000000   76361.000000  \n",
       "mean        2.767093       2.260801       1.932754  \n",
       "std         1.201943       0.948070       0.816489  \n",
       "min         1.000000       1.000000       1.000000  \n",
       "25%         2.000000       1.000000       1.000000  \n",
       "50%         3.000000       3.000000       2.000000  \n",
       "75%         4.000000       3.000000       3.000000  \n",
       "max         5.000000       4.000000       3.000000  \n",
       "\n",
       "[8 rows x 41 columns]"
      ]
     },
     "execution_count": 8282,
     "metadata": {},
     "output_type": "execute_result"
    }
   ],
   "source": [
    "df.describe()"
   ]
  },
  {
   "cell_type": "code",
   "execution_count": 8283,
   "metadata": {},
   "outputs": [],
   "source": [
    "df['mvar25'] = df['mvar25'].fillna(1759.143224)"
   ]
  },
  {
   "cell_type": "code",
   "execution_count": 8284,
   "metadata": {},
   "outputs": [
    {
     "name": "stderr",
     "output_type": "stream",
     "text": [
      "C:\\Users\\Chirag Garg\\Anaconda3\\lib\\site-packages\\matplotlib\\axes\\_axes.py:6462: UserWarning: The 'normed' kwarg is deprecated, and has been replaced by the 'density' kwarg.\n",
      "  warnings.warn(\"The 'normed' kwarg is deprecated, and has been \"\n"
     ]
    },
    {
     "data": {
      "text/plain": [
       "<matplotlib.axes._subplots.AxesSubplot at 0x16fc762a7f0>"
      ]
     },
     "execution_count": 8284,
     "metadata": {},
     "output_type": "execute_result"
    },
    {
     "data": {
      "image/png": "[encoded data removed]",
      "text/plain": [
       "<Figure size 432x288 with 1 Axes>"
      ]
     },
     "metadata": {},
     "output_type": "display_data"
    }
   ],
   "source": [
    "df15 = df[df['mvar26'].notnull()]\n",
    "sns.distplot(df15['mvar26'])"
   ]
  },
  {
   "cell_type": "code",
   "execution_count": 8285,
   "metadata": {},
   "outputs": [
    {
     "data": {
      "text/plain": [
       "count    68798.000000\n",
       "mean      3389.911364\n",
       "std       2932.145943\n",
       "min          0.000000\n",
       "25%       1156.000000\n",
       "50%       2768.000000\n",
       "75%       4745.000000\n",
       "max      24425.000000\n",
       "Name: mvar26, dtype: float64"
      ]
     },
     "execution_count": 8285,
     "metadata": {},
     "output_type": "execute_result"
    }
   ],
   "source": [
    "df['mvar26'].describe()"
   ]
  },
  {
   "cell_type": "code",
   "execution_count": 8286,
   "metadata": {},
   "outputs": [
    {
     "data": {
      "text/html": [
       "<div>\n",
       "<style scoped>\n",
       "    .dataframe tbody tr th:only-of-type {\n",
       "        vertical-align: middle;\n",
       "    }\n",
       "\n",
       "    .dataframe tbody tr th {\n",
       "        vertical-align: top;\n",
       "    }\n",
       "\n",
       "    .dataframe thead th {\n",
       "        text-align: right;\n",
       "    }\n",
       "</style>\n",
       "<table border=\"1\" class=\"dataframe\">\n",
       "  <thead>\n",
       "    <tr style=\"text-align: right;\">\n",
       "      <th></th>\n",
       "      <th>application_key</th>\n",
       "      <th>mvar1</th>\n",
       "      <th>mvar2</th>\n",
       "      <th>mvar4</th>\n",
       "      <th>mvar5</th>\n",
       "      <th>mvar25</th>\n",
       "      <th>mvar26</th>\n",
       "      <th>mvar27</th>\n",
       "      <th>mvar28</th>\n",
       "      <th>mvar29</th>\n",
       "      <th>...</th>\n",
       "      <th>binned_mvar9</th>\n",
       "      <th>mvar48</th>\n",
       "      <th>binned_mvar10</th>\n",
       "      <th>binned_mvar12</th>\n",
       "      <th>binned_mvar13</th>\n",
       "      <th>mvar52</th>\n",
       "      <th>mvar53</th>\n",
       "      <th>binned_mvar21</th>\n",
       "      <th>binned_mvar22</th>\n",
       "      <th>binned_mvar24</th>\n",
       "    </tr>\n",
       "  </thead>\n",
       "  <tbody>\n",
       "    <tr>\n",
       "      <th>count</th>\n",
       "      <td>12.000000</td>\n",
       "      <td>12.000000</td>\n",
       "      <td>12.000000</td>\n",
       "      <td>12.0</td>\n",
       "      <td>12.0</td>\n",
       "      <td>12.000000</td>\n",
       "      <td>12.000000</td>\n",
       "      <td>12.000000</td>\n",
       "      <td>12.000000</td>\n",
       "      <td>12.000000</td>\n",
       "      <td>...</td>\n",
       "      <td>12.0</td>\n",
       "      <td>12.000000</td>\n",
       "      <td>12.0</td>\n",
       "      <td>12.00000</td>\n",
       "      <td>12.000000</td>\n",
       "      <td>12.000000</td>\n",
       "      <td>12.000000</td>\n",
       "      <td>12.000000</td>\n",
       "      <td>12.000000</td>\n",
       "      <td>12.000000</td>\n",
       "    </tr>\n",
       "    <tr>\n",
       "      <th>mean</th>\n",
       "      <td>264833.000000</td>\n",
       "      <td>1832.500000</td>\n",
       "      <td>0.834854</td>\n",
       "      <td>0.0</td>\n",
       "      <td>0.0</td>\n",
       "      <td>3845.416667</td>\n",
       "      <td>21078.750000</td>\n",
       "      <td>12658.416667</td>\n",
       "      <td>17803.666667</td>\n",
       "      <td>21078.750000</td>\n",
       "      <td>...</td>\n",
       "      <td>3.0</td>\n",
       "      <td>0.916667</td>\n",
       "      <td>0.0</td>\n",
       "      <td>4.25000</td>\n",
       "      <td>3.750000</td>\n",
       "      <td>0.337899</td>\n",
       "      <td>-0.078197</td>\n",
       "      <td>2.000000</td>\n",
       "      <td>2.000000</td>\n",
       "      <td>1.333333</td>\n",
       "    </tr>\n",
       "    <tr>\n",
       "      <th>std</th>\n",
       "      <td>22934.850841</td>\n",
       "      <td>101.720204</td>\n",
       "      <td>0.851303</td>\n",
       "      <td>0.0</td>\n",
       "      <td>0.0</td>\n",
       "      <td>1605.812083</td>\n",
       "      <td>1269.334695</td>\n",
       "      <td>7399.824819</td>\n",
       "      <td>15550.093343</td>\n",
       "      <td>1269.334695</td>\n",
       "      <td>...</td>\n",
       "      <td>0.0</td>\n",
       "      <td>0.288675</td>\n",
       "      <td>0.0</td>\n",
       "      <td>1.05529</td>\n",
       "      <td>0.452267</td>\n",
       "      <td>2.473939</td>\n",
       "      <td>0.815619</td>\n",
       "      <td>1.206045</td>\n",
       "      <td>1.044466</td>\n",
       "      <td>0.651339</td>\n",
       "    </tr>\n",
       "    <tr>\n",
       "      <th>min</th>\n",
       "      <td>236931.000000</td>\n",
       "      <td>1614.000000</td>\n",
       "      <td>0.031800</td>\n",
       "      <td>0.0</td>\n",
       "      <td>0.0</td>\n",
       "      <td>1133.000000</td>\n",
       "      <td>20014.000000</td>\n",
       "      <td>2859.000000</td>\n",
       "      <td>30.000000</td>\n",
       "      <td>20014.000000</td>\n",
       "      <td>...</td>\n",
       "      <td>3.0</td>\n",
       "      <td>0.000000</td>\n",
       "      <td>0.0</td>\n",
       "      <td>2.00000</td>\n",
       "      <td>3.000000</td>\n",
       "      <td>-1.299061</td>\n",
       "      <td>-1.998121</td>\n",
       "      <td>1.000000</td>\n",
       "      <td>1.000000</td>\n",
       "      <td>1.000000</td>\n",
       "    </tr>\n",
       "    <tr>\n",
       "      <th>25%</th>\n",
       "      <td>244666.750000</td>\n",
       "      <td>1760.250000</td>\n",
       "      <td>0.322825</td>\n",
       "      <td>0.0</td>\n",
       "      <td>0.0</td>\n",
       "      <td>2658.250000</td>\n",
       "      <td>20303.000000</td>\n",
       "      <td>6441.000000</td>\n",
       "      <td>311.500000</td>\n",
       "      <td>20303.000000</td>\n",
       "      <td>...</td>\n",
       "      <td>3.0</td>\n",
       "      <td>1.000000</td>\n",
       "      <td>0.0</td>\n",
       "      <td>3.75000</td>\n",
       "      <td>3.750000</td>\n",
       "      <td>-1.299061</td>\n",
       "      <td>-0.041428</td>\n",
       "      <td>1.000000</td>\n",
       "      <td>1.000000</td>\n",
       "      <td>1.000000</td>\n",
       "    </tr>\n",
       "    <tr>\n",
       "      <th>50%</th>\n",
       "      <td>264237.500000</td>\n",
       "      <td>1873.000000</td>\n",
       "      <td>0.796056</td>\n",
       "      <td>0.0</td>\n",
       "      <td>0.0</td>\n",
       "      <td>3901.000000</td>\n",
       "      <td>20349.000000</td>\n",
       "      <td>9140.000000</td>\n",
       "      <td>30386.000000</td>\n",
       "      <td>20349.000000</td>\n",
       "      <td>...</td>\n",
       "      <td>3.0</td>\n",
       "      <td>1.000000</td>\n",
       "      <td>0.0</td>\n",
       "      <td>5.00000</td>\n",
       "      <td>4.000000</td>\n",
       "      <td>-1.299061</td>\n",
       "      <td>0.072562</td>\n",
       "      <td>2.000000</td>\n",
       "      <td>2.000000</td>\n",
       "      <td>1.000000</td>\n",
       "    </tr>\n",
       "    <tr>\n",
       "      <th>75%</th>\n",
       "      <td>276057.250000</td>\n",
       "      <td>1915.250000</td>\n",
       "      <td>0.954711</td>\n",
       "      <td>0.0</td>\n",
       "      <td>0.0</td>\n",
       "      <td>4755.000000</td>\n",
       "      <td>21542.250000</td>\n",
       "      <td>20349.000000</td>\n",
       "      <td>30386.000000</td>\n",
       "      <td>21542.250000</td>\n",
       "      <td>...</td>\n",
       "      <td>3.0</td>\n",
       "      <td>1.000000</td>\n",
       "      <td>0.0</td>\n",
       "      <td>5.00000</td>\n",
       "      <td>4.000000</td>\n",
       "      <td>1.403828</td>\n",
       "      <td>0.072562</td>\n",
       "      <td>2.250000</td>\n",
       "      <td>3.000000</td>\n",
       "      <td>1.250000</td>\n",
       "    </tr>\n",
       "    <tr>\n",
       "      <th>max</th>\n",
       "      <td>300496.000000</td>\n",
       "      <td>1930.000000</td>\n",
       "      <td>3.242600</td>\n",
       "      <td>0.0</td>\n",
       "      <td>0.0</td>\n",
       "      <td>7171.000000</td>\n",
       "      <td>24425.000000</td>\n",
       "      <td>22052.000000</td>\n",
       "      <td>30386.000000</td>\n",
       "      <td>24425.000000</td>\n",
       "      <td>...</td>\n",
       "      <td>3.0</td>\n",
       "      <td>1.000000</td>\n",
       "      <td>0.0</td>\n",
       "      <td>5.00000</td>\n",
       "      <td>4.000000</td>\n",
       "      <td>5.500984</td>\n",
       "      <td>1.571225</td>\n",
       "      <td>5.000000</td>\n",
       "      <td>3.000000</td>\n",
       "      <td>3.000000</td>\n",
       "    </tr>\n",
       "  </tbody>\n",
       "</table>\n",
       "<p>8 rows × 41 columns</p>\n",
       "</div>"
      ],
      "text/plain": [
       "       application_key        mvar1      mvar2  mvar4  mvar5       mvar25  \\\n",
       "count        12.000000    12.000000  12.000000   12.0   12.0    12.000000   \n",
       "mean     264833.000000  1832.500000   0.834854    0.0    0.0  3845.416667   \n",
       "std       22934.850841   101.720204   0.851303    0.0    0.0  1605.812083   \n",
       "min      236931.000000  1614.000000   0.031800    0.0    0.0  1133.000000   \n",
       "25%      244666.750000  1760.250000   0.322825    0.0    0.0  2658.250000   \n",
       "50%      264237.500000  1873.000000   0.796056    0.0    0.0  3901.000000   \n",
       "75%      276057.250000  1915.250000   0.954711    0.0    0.0  4755.000000   \n",
       "max      300496.000000  1930.000000   3.242600    0.0    0.0  7171.000000   \n",
       "\n",
       "             mvar26        mvar27        mvar28        mvar29      ...        \\\n",
       "count     12.000000     12.000000     12.000000     12.000000      ...         \n",
       "mean   21078.750000  12658.416667  17803.666667  21078.750000      ...         \n",
       "std     1269.334695   7399.824819  15550.093343   1269.334695      ...         \n",
       "min    20014.000000   2859.000000     30.000000  20014.000000      ...         \n",
       "25%    20303.000000   6441.000000    311.500000  20303.000000      ...         \n",
       "50%    20349.000000   9140.000000  30386.000000  20349.000000      ...         \n",
       "75%    21542.250000  20349.000000  30386.000000  21542.250000      ...         \n",
       "max    24425.000000  22052.000000  30386.000000  24425.000000      ...         \n",
       "\n",
       "       binned_mvar9     mvar48  binned_mvar10  binned_mvar12  binned_mvar13  \\\n",
       "count          12.0  12.000000           12.0       12.00000      12.000000   \n",
       "mean            3.0   0.916667            0.0        4.25000       3.750000   \n",
       "std             0.0   0.288675            0.0        1.05529       0.452267   \n",
       "min             3.0   0.000000            0.0        2.00000       3.000000   \n",
       "25%             3.0   1.000000            0.0        3.75000       3.750000   \n",
       "50%             3.0   1.000000            0.0        5.00000       4.000000   \n",
       "75%             3.0   1.000000            0.0        5.00000       4.000000   \n",
       "max             3.0   1.000000            0.0        5.00000       4.000000   \n",
       "\n",
       "          mvar52     mvar53  binned_mvar21  binned_mvar22  binned_mvar24  \n",
       "count  12.000000  12.000000      12.000000      12.000000      12.000000  \n",
       "mean    0.337899  -0.078197       2.000000       2.000000       1.333333  \n",
       "std     2.473939   0.815619       1.206045       1.044466       0.651339  \n",
       "min    -1.299061  -1.998121       1.000000       1.000000       1.000000  \n",
       "25%    -1.299061  -0.041428       1.000000       1.000000       1.000000  \n",
       "50%    -1.299061   0.072562       2.000000       2.000000       1.000000  \n",
       "75%     1.403828   0.072562       2.250000       3.000000       1.250000  \n",
       "max     5.500984   1.571225       5.000000       3.000000       3.000000  \n",
       "\n",
       "[8 rows x 41 columns]"
      ]
     },
     "execution_count": 8286,
     "metadata": {},
     "output_type": "execute_result"
    }
   ],
   "source": [
    "df[df['mvar26']>20000].describe()"
   ]
  },
  {
   "cell_type": "code",
   "execution_count": 8287,
   "metadata": {},
   "outputs": [
    {
     "data": {
      "text/html": [
       "<div>\n",
       "<style scoped>\n",
       "    .dataframe tbody tr th:only-of-type {\n",
       "        vertical-align: middle;\n",
       "    }\n",
       "\n",
       "    .dataframe tbody tr th {\n",
       "        vertical-align: top;\n",
       "    }\n",
       "\n",
       "    .dataframe thead th {\n",
       "        text-align: right;\n",
       "    }\n",
       "</style>\n",
       "<table border=\"1\" class=\"dataframe\">\n",
       "  <thead>\n",
       "    <tr style=\"text-align: right;\">\n",
       "      <th></th>\n",
       "      <th>application_key</th>\n",
       "      <th>mvar1</th>\n",
       "      <th>mvar2</th>\n",
       "      <th>mvar4</th>\n",
       "      <th>mvar5</th>\n",
       "      <th>mvar25</th>\n",
       "      <th>mvar26</th>\n",
       "      <th>mvar27</th>\n",
       "      <th>mvar28</th>\n",
       "      <th>mvar29</th>\n",
       "      <th>...</th>\n",
       "      <th>binned_mvar9</th>\n",
       "      <th>mvar48</th>\n",
       "      <th>binned_mvar10</th>\n",
       "      <th>binned_mvar12</th>\n",
       "      <th>binned_mvar13</th>\n",
       "      <th>mvar52</th>\n",
       "      <th>mvar53</th>\n",
       "      <th>binned_mvar21</th>\n",
       "      <th>binned_mvar22</th>\n",
       "      <th>binned_mvar24</th>\n",
       "    </tr>\n",
       "  </thead>\n",
       "  <tbody>\n",
       "    <tr>\n",
       "      <th>count</th>\n",
       "      <td>76361.000000</td>\n",
       "      <td>76361.000000</td>\n",
       "      <td>76361.000000</td>\n",
       "      <td>76361.000000</td>\n",
       "      <td>76361.000000</td>\n",
       "      <td>76361.000000</td>\n",
       "      <td>68798.000000</td>\n",
       "      <td>66284.000000</td>\n",
       "      <td>76361.000000</td>\n",
       "      <td>76361.000000</td>\n",
       "      <td>...</td>\n",
       "      <td>76361.000000</td>\n",
       "      <td>76361.000000</td>\n",
       "      <td>76361.000000</td>\n",
       "      <td>76361.000000</td>\n",
       "      <td>76361.000000</td>\n",
       "      <td>7.636100e+04</td>\n",
       "      <td>7.636100e+04</td>\n",
       "      <td>76361.000000</td>\n",
       "      <td>76361.000000</td>\n",
       "      <td>76361.000000</td>\n",
       "    </tr>\n",
       "    <tr>\n",
       "      <th>mean</th>\n",
       "      <td>269995.087911</td>\n",
       "      <td>1745.971085</td>\n",
       "      <td>1.098235</td>\n",
       "      <td>0.143804</td>\n",
       "      <td>0.100680</td>\n",
       "      <td>1760.737428</td>\n",
       "      <td>3389.911364</td>\n",
       "      <td>3113.222014</td>\n",
       "      <td>8732.543104</td>\n",
       "      <td>5627.515171</td>\n",
       "      <td>...</td>\n",
       "      <td>2.221265</td>\n",
       "      <td>0.571090</td>\n",
       "      <td>0.500007</td>\n",
       "      <td>3.434960</td>\n",
       "      <td>2.802452</td>\n",
       "      <td>3.948400e-14</td>\n",
       "      <td>-7.288486e-15</td>\n",
       "      <td>2.767093</td>\n",
       "      <td>2.260801</td>\n",
       "      <td>1.932754</td>\n",
       "    </tr>\n",
       "    <tr>\n",
       "      <th>std</th>\n",
       "      <td>23091.735568</td>\n",
       "      <td>94.537617</td>\n",
       "      <td>1.581842</td>\n",
       "      <td>0.350893</td>\n",
       "      <td>0.300906</td>\n",
       "      <td>1258.616304</td>\n",
       "      <td>2932.145943</td>\n",
       "      <td>2695.575664</td>\n",
       "      <td>13510.717670</td>\n",
       "      <td>3194.236179</td>\n",
       "      <td>...</td>\n",
       "      <td>0.831837</td>\n",
       "      <td>0.494924</td>\n",
       "      <td>0.500003</td>\n",
       "      <td>1.226418</td>\n",
       "      <td>1.010066</td>\n",
       "      <td>1.911167e+00</td>\n",
       "      <td>7.513514e-01</td>\n",
       "      <td>1.201943</td>\n",
       "      <td>0.948070</td>\n",
       "      <td>0.816489</td>\n",
       "    </tr>\n",
       "    <tr>\n",
       "      <th>min</th>\n",
       "      <td>230032.000000</td>\n",
       "      <td>1493.000000</td>\n",
       "      <td>0.000000</td>\n",
       "      <td>0.000000</td>\n",
       "      <td>0.000000</td>\n",
       "      <td>0.000000</td>\n",
       "      <td>0.000000</td>\n",
       "      <td>0.000000</td>\n",
       "      <td>0.000000</td>\n",
       "      <td>183.000000</td>\n",
       "      <td>...</td>\n",
       "      <td>1.000000</td>\n",
       "      <td>0.000000</td>\n",
       "      <td>0.000000</td>\n",
       "      <td>1.000000</td>\n",
       "      <td>1.000000</td>\n",
       "      <td>-1.299061e+00</td>\n",
       "      <td>-1.998121e+00</td>\n",
       "      <td>1.000000</td>\n",
       "      <td>1.000000</td>\n",
       "      <td>1.000000</td>\n",
       "    </tr>\n",
       "    <tr>\n",
       "      <th>25%</th>\n",
       "      <td>249994.000000</td>\n",
       "      <td>1679.000000</td>\n",
       "      <td>0.159600</td>\n",
       "      <td>0.000000</td>\n",
       "      <td>0.000000</td>\n",
       "      <td>882.000000</td>\n",
       "      <td>1156.000000</td>\n",
       "      <td>1034.000000</td>\n",
       "      <td>30.000000</td>\n",
       "      <td>3407.000000</td>\n",
       "      <td>...</td>\n",
       "      <td>1.000000</td>\n",
       "      <td>0.000000</td>\n",
       "      <td>0.000000</td>\n",
       "      <td>2.000000</td>\n",
       "      <td>2.000000</td>\n",
       "      <td>-1.299061e+00</td>\n",
       "      <td>-3.833970e-01</td>\n",
       "      <td>2.000000</td>\n",
       "      <td>1.000000</td>\n",
       "      <td>1.000000</td>\n",
       "    </tr>\n",
       "    <tr>\n",
       "      <th>50%</th>\n",
       "      <td>269971.000000</td>\n",
       "      <td>1742.000000</td>\n",
       "      <td>0.622900</td>\n",
       "      <td>0.000000</td>\n",
       "      <td>0.000000</td>\n",
       "      <td>1587.000000</td>\n",
       "      <td>2768.000000</td>\n",
       "      <td>2585.000000</td>\n",
       "      <td>243.000000</td>\n",
       "      <td>5140.000000</td>\n",
       "      <td>...</td>\n",
       "      <td>2.000000</td>\n",
       "      <td>1.000000</td>\n",
       "      <td>1.000000</td>\n",
       "      <td>4.000000</td>\n",
       "      <td>3.000000</td>\n",
       "      <td>-1.299061e+00</td>\n",
       "      <td>7.256188e-02</td>\n",
       "      <td>3.000000</td>\n",
       "      <td>3.000000</td>\n",
       "      <td>2.000000</td>\n",
       "    </tr>\n",
       "    <tr>\n",
       "      <th>75%</th>\n",
       "      <td>289991.000000</td>\n",
       "      <td>1810.000000</td>\n",
       "      <td>1.360100</td>\n",
       "      <td>0.000000</td>\n",
       "      <td>0.000000</td>\n",
       "      <td>2280.000000</td>\n",
       "      <td>4745.000000</td>\n",
       "      <td>4350.000000</td>\n",
       "      <td>30386.000000</td>\n",
       "      <td>7361.000000</td>\n",
       "      <td>...</td>\n",
       "      <td>3.000000</td>\n",
       "      <td>1.000000</td>\n",
       "      <td>1.000000</td>\n",
       "      <td>4.000000</td>\n",
       "      <td>3.000000</td>\n",
       "      <td>5.965939e-01</td>\n",
       "      <td>7.256188e-02</td>\n",
       "      <td>4.000000</td>\n",
       "      <td>3.000000</td>\n",
       "      <td>3.000000</td>\n",
       "    </tr>\n",
       "    <tr>\n",
       "      <th>max</th>\n",
       "      <td>310031.000000</td>\n",
       "      <td>1950.000000</td>\n",
       "      <td>36.030100</td>\n",
       "      <td>1.000000</td>\n",
       "      <td>1.000000</td>\n",
       "      <td>16729.000000</td>\n",
       "      <td>24425.000000</td>\n",
       "      <td>22052.000000</td>\n",
       "      <td>30386.000000</td>\n",
       "      <td>24638.000000</td>\n",
       "      <td>...</td>\n",
       "      <td>3.000000</td>\n",
       "      <td>1.000000</td>\n",
       "      <td>1.000000</td>\n",
       "      <td>5.000000</td>\n",
       "      <td>4.000000</td>\n",
       "      <td>6.419828e+00</td>\n",
       "      <td>4.985124e+00</td>\n",
       "      <td>5.000000</td>\n",
       "      <td>4.000000</td>\n",
       "      <td>3.000000</td>\n",
       "    </tr>\n",
       "  </tbody>\n",
       "</table>\n",
       "<p>8 rows × 41 columns</p>\n",
       "</div>"
      ],
      "text/plain": [
       "       application_key         mvar1         mvar2         mvar4  \\\n",
       "count     76361.000000  76361.000000  76361.000000  76361.000000   \n",
       "mean     269995.087911   1745.971085      1.098235      0.143804   \n",
       "std       23091.735568     94.537617      1.581842      0.350893   \n",
       "min      230032.000000   1493.000000      0.000000      0.000000   \n",
       "25%      249994.000000   1679.000000      0.159600      0.000000   \n",
       "50%      269971.000000   1742.000000      0.622900      0.000000   \n",
       "75%      289991.000000   1810.000000      1.360100      0.000000   \n",
       "max      310031.000000   1950.000000     36.030100      1.000000   \n",
       "\n",
       "              mvar5        mvar25        mvar26        mvar27        mvar28  \\\n",
       "count  76361.000000  76361.000000  68798.000000  66284.000000  76361.000000   \n",
       "mean       0.100680   1760.737428   3389.911364   3113.222014   8732.543104   \n",
       "std        0.300906   1258.616304   2932.145943   2695.575664  13510.717670   \n",
       "min        0.000000      0.000000      0.000000      0.000000      0.000000   \n",
       "25%        0.000000    882.000000   1156.000000   1034.000000     30.000000   \n",
       "50%        0.000000   1587.000000   2768.000000   2585.000000    243.000000   \n",
       "75%        0.000000   2280.000000   4745.000000   4350.000000  30386.000000   \n",
       "max        1.000000  16729.000000  24425.000000  22052.000000  30386.000000   \n",
       "\n",
       "             mvar29      ...        binned_mvar9        mvar48  binned_mvar10  \\\n",
       "count  76361.000000      ...        76361.000000  76361.000000   76361.000000   \n",
       "mean    5627.515171      ...            2.221265      0.571090       0.500007   \n",
       "std     3194.236179      ...            0.831837      0.494924       0.500003   \n",
       "min      183.000000      ...            1.000000      0.000000       0.000000   \n",
       "25%     3407.000000      ...            1.000000      0.000000       0.000000   \n",
       "50%     5140.000000      ...            2.000000      1.000000       1.000000   \n",
       "75%     7361.000000      ...            3.000000      1.000000       1.000000   \n",
       "max    24638.000000      ...            3.000000      1.000000       1.000000   \n",
       "\n",
       "       binned_mvar12  binned_mvar13        mvar52        mvar53  \\\n",
       "count   76361.000000   76361.000000  7.636100e+04  7.636100e+04   \n",
       "mean        3.434960       2.802452  3.948400e-14 -7.288486e-15   \n",
       "std         1.226418       1.010066  1.911167e+00  7.513514e-01   \n",
       "min         1.000000       1.000000 -1.299061e+00 -1.998121e+00   \n",
       "25%         2.000000       2.000000 -1.299061e+00 -3.833970e-01   \n",
       "50%         4.000000       3.000000 -1.299061e+00  7.256188e-02   \n",
       "75%         4.000000       3.000000  5.965939e-01  7.256188e-02   \n",
       "max         5.000000       4.000000  6.419828e+00  4.985124e+00   \n",
       "\n",
       "       binned_mvar21  binned_mvar22  binned_mvar24  \n",
       "count   76361.000000   76361.000000   76361.000000  \n",
       "mean        2.767093       2.260801       1.932754  \n",
       "std         1.201943       0.948070       0.816489  \n",
       "min         1.000000       1.000000       1.000000  \n",
       "25%         2.000000       1.000000       1.000000  \n",
       "50%         3.000000       3.000000       2.000000  \n",
       "75%         4.000000       3.000000       3.000000  \n",
       "max         5.000000       4.000000       3.000000  \n",
       "\n",
       "[8 rows x 41 columns]"
      ]
     },
     "execution_count": 8287,
     "metadata": {},
     "output_type": "execute_result"
    }
   ],
   "source": [
    "df.describe(\n",
    "\n",
    ")"
   ]
  },
  {
   "cell_type": "code",
   "execution_count": 8288,
   "metadata": {},
   "outputs": [],
   "source": [
    "df['mvar26'] = df['mvar26'].fillna(3388.220)"
   ]
  },
  {
   "cell_type": "code",
   "execution_count": 8289,
   "metadata": {},
   "outputs": [
    {
     "name": "stdout",
     "output_type": "stream",
     "text": [
      "<class 'pandas.core.frame.DataFrame'>\n",
      "Int64Index: 76361 entries, 0 to 79999\n",
      "Data columns (total 43 columns):\n",
      "application_key    76361 non-null float64\n",
      "mvar1              76361 non-null float64\n",
      "mvar2              76361 non-null float64\n",
      "mvar4              76361 non-null float64\n",
      "mvar5              76361 non-null float64\n",
      "mvar25             76361 non-null float64\n",
      "mvar26             76361 non-null float64\n",
      "mvar27             66284 non-null float64\n",
      "mvar28             76361 non-null float64\n",
      "mvar29             76361 non-null float64\n",
      "mvar30             43256 non-null float64\n",
      "mvar31             23648 non-null float64\n",
      "mvar32             71238 non-null float64\n",
      "mvar33             74892 non-null float64\n",
      "mvar34             76361 non-null float64\n",
      "mvar35             46633 non-null float64\n",
      "mvar36             74546 non-null float64\n",
      "mvar37             71238 non-null float64\n",
      "mvar38             76361 non-null float64\n",
      "mvar39             73175 non-null float64\n",
      "mvar40             17422 non-null float64\n",
      "mvar41             25363 non-null float64\n",
      "mvar42             75638 non-null float64\n",
      "mvar43             76208 non-null float64\n",
      "mvar44             71641 non-null float64\n",
      "mvar45             34999 non-null float64\n",
      "mvar46             56666 non-null float64\n",
      "mvar47             76361 non-null float64\n",
      "default_ind        76361 non-null float64\n",
      "binned_mvar6       76361 non-null float64\n",
      "binned_mvar1       76361 non-null category\n",
      "binned_mvar7       76361 non-null float64\n",
      "binned_mvar9       76361 non-null float64\n",
      "mvar48             76361 non-null float64\n",
      "binned_mvar10      76361 non-null int64\n",
      "binned_mvar12      76361 non-null float64\n",
      "binned_mvar13      76361 non-null float64\n",
      "binned_mvar14      76361 non-null category\n",
      "mvar52             76361 non-null float64\n",
      "mvar53             76361 non-null float64\n",
      "binned_mvar21      76361 non-null float64\n",
      "binned_mvar22      76361 non-null float64\n",
      "binned_mvar24      76361 non-null float64\n",
      "dtypes: category(2), float64(40), int64(1)\n",
      "memory usage: 24.6 MB\n"
     ]
    }
   ],
   "source": [
    "df.info()"
   ]
  },
  {
   "cell_type": "code",
   "execution_count": 8290,
   "metadata": {},
   "outputs": [
    {
     "name": "stderr",
     "output_type": "stream",
     "text": [
      "C:\\Users\\Chirag Garg\\Anaconda3\\lib\\site-packages\\matplotlib\\axes\\_axes.py:6462: UserWarning: The 'normed' kwarg is deprecated, and has been replaced by the 'density' kwarg.\n",
      "  warnings.warn(\"The 'normed' kwarg is deprecated, and has been \"\n"
     ]
    },
    {
     "data": {
      "text/plain": [
       "<matplotlib.axes._subplots.AxesSubplot at 0x16fc365d240>"
      ]
     },
     "execution_count": 8290,
     "metadata": {},
     "output_type": "execute_result"
    },
    {
     "data": {
      "image/png": "[encoded data removed]",
      "text/plain": [
       "<Figure size 432x288 with 1 Axes>"
      ]
     },
     "metadata": {},
     "output_type": "display_data"
    }
   ],
   "source": [
    "df15 = df[df['mvar27'].notnull()]\n",
    "sns.distplot(df15['mvar27'])"
   ]
  },
  {
   "cell_type": "code",
   "execution_count": 8291,
   "metadata": {},
   "outputs": [
    {
     "data": {
      "text/plain": [
       "count    66284.000000\n",
       "mean      3113.222014\n",
       "std       2695.575664\n",
       "min          0.000000\n",
       "25%       1034.000000\n",
       "50%       2585.000000\n",
       "75%       4350.000000\n",
       "max      22052.000000\n",
       "Name: mvar27, dtype: float64"
      ]
     },
     "execution_count": 8291,
     "metadata": {},
     "output_type": "execute_result"
    }
   ],
   "source": [
    "df['mvar27'].describe()"
   ]
  },
  {
   "cell_type": "code",
   "execution_count": 8292,
   "metadata": {},
   "outputs": [
    {
     "name": "stdout",
     "output_type": "stream",
     "text": [
      "<class 'pandas.core.frame.DataFrame'>\n",
      "Int64Index: 23 entries, 8125 to 79035\n",
      "Data columns (total 43 columns):\n",
      "application_key    23 non-null float64\n",
      "mvar1              23 non-null float64\n",
      "mvar2              23 non-null float64\n",
      "mvar4              23 non-null float64\n",
      "mvar5              23 non-null float64\n",
      "mvar25             23 non-null float64\n",
      "mvar26             23 non-null float64\n",
      "mvar27             23 non-null float64\n",
      "mvar28             23 non-null float64\n",
      "mvar29             23 non-null float64\n",
      "mvar30             11 non-null float64\n",
      "mvar31             1 non-null float64\n",
      "mvar32             23 non-null float64\n",
      "mvar33             22 non-null float64\n",
      "mvar34             23 non-null float64\n",
      "mvar35             14 non-null float64\n",
      "mvar36             23 non-null float64\n",
      "mvar37             23 non-null float64\n",
      "mvar38             23 non-null float64\n",
      "mvar39             23 non-null float64\n",
      "mvar40             0 non-null float64\n",
      "mvar41             6 non-null float64\n",
      "mvar42             23 non-null float64\n",
      "mvar43             23 non-null float64\n",
      "mvar44             23 non-null float64\n",
      "mvar45             12 non-null float64\n",
      "mvar46             19 non-null float64\n",
      "mvar47             23 non-null float64\n",
      "default_ind        23 non-null float64\n",
      "binned_mvar6       23 non-null float64\n",
      "binned_mvar1       23 non-null category\n",
      "binned_mvar7       23 non-null float64\n",
      "binned_mvar9       23 non-null float64\n",
      "mvar48             23 non-null float64\n",
      "binned_mvar10      23 non-null int64\n",
      "binned_mvar12      23 non-null float64\n",
      "binned_mvar13      23 non-null float64\n",
      "binned_mvar14      23 non-null category\n",
      "mvar52             23 non-null float64\n",
      "mvar53             23 non-null float64\n",
      "binned_mvar21      23 non-null float64\n",
      "binned_mvar22      23 non-null float64\n",
      "binned_mvar24      23 non-null float64\n",
      "dtypes: category(2), float64(40), int64(1)\n",
      "memory usage: 7.9 KB\n"
     ]
    }
   ],
   "source": [
    "df[df['mvar27']>17800].info()"
   ]
  },
  {
   "cell_type": "code",
   "execution_count": 8293,
   "metadata": {},
   "outputs": [
    {
     "data": {
      "text/html": [
       "<div>\n",
       "<style scoped>\n",
       "    .dataframe tbody tr th:only-of-type {\n",
       "        vertical-align: middle;\n",
       "    }\n",
       "\n",
       "    .dataframe tbody tr th {\n",
       "        vertical-align: top;\n",
       "    }\n",
       "\n",
       "    .dataframe thead th {\n",
       "        text-align: right;\n",
       "    }\n",
       "</style>\n",
       "<table border=\"1\" class=\"dataframe\">\n",
       "  <thead>\n",
       "    <tr style=\"text-align: right;\">\n",
       "      <th></th>\n",
       "      <th>application_key</th>\n",
       "      <th>mvar1</th>\n",
       "      <th>mvar2</th>\n",
       "      <th>mvar4</th>\n",
       "      <th>mvar5</th>\n",
       "      <th>mvar25</th>\n",
       "      <th>mvar26</th>\n",
       "      <th>mvar27</th>\n",
       "      <th>mvar28</th>\n",
       "      <th>mvar29</th>\n",
       "      <th>...</th>\n",
       "      <th>binned_mvar9</th>\n",
       "      <th>mvar48</th>\n",
       "      <th>binned_mvar10</th>\n",
       "      <th>binned_mvar12</th>\n",
       "      <th>binned_mvar13</th>\n",
       "      <th>mvar52</th>\n",
       "      <th>mvar53</th>\n",
       "      <th>binned_mvar21</th>\n",
       "      <th>binned_mvar22</th>\n",
       "      <th>binned_mvar24</th>\n",
       "    </tr>\n",
       "  </thead>\n",
       "  <tbody>\n",
       "    <tr>\n",
       "      <th>count</th>\n",
       "      <td>76361.000000</td>\n",
       "      <td>76361.000000</td>\n",
       "      <td>76361.000000</td>\n",
       "      <td>76361.000000</td>\n",
       "      <td>76361.000000</td>\n",
       "      <td>76361.000000</td>\n",
       "      <td>76361.000000</td>\n",
       "      <td>66284.000000</td>\n",
       "      <td>76361.000000</td>\n",
       "      <td>76361.000000</td>\n",
       "      <td>...</td>\n",
       "      <td>76361.000000</td>\n",
       "      <td>76361.000000</td>\n",
       "      <td>76361.000000</td>\n",
       "      <td>76361.000000</td>\n",
       "      <td>76361.000000</td>\n",
       "      <td>7.636100e+04</td>\n",
       "      <td>7.636100e+04</td>\n",
       "      <td>76361.000000</td>\n",
       "      <td>76361.000000</td>\n",
       "      <td>76361.000000</td>\n",
       "    </tr>\n",
       "    <tr>\n",
       "      <th>mean</th>\n",
       "      <td>269995.087911</td>\n",
       "      <td>1745.971085</td>\n",
       "      <td>1.098235</td>\n",
       "      <td>0.143804</td>\n",
       "      <td>0.100680</td>\n",
       "      <td>1760.737428</td>\n",
       "      <td>3389.743846</td>\n",
       "      <td>3113.222014</td>\n",
       "      <td>8732.543104</td>\n",
       "      <td>5627.515171</td>\n",
       "      <td>...</td>\n",
       "      <td>2.221265</td>\n",
       "      <td>0.571090</td>\n",
       "      <td>0.500007</td>\n",
       "      <td>3.434960</td>\n",
       "      <td>2.802452</td>\n",
       "      <td>3.948400e-14</td>\n",
       "      <td>-7.288486e-15</td>\n",
       "      <td>2.767093</td>\n",
       "      <td>2.260801</td>\n",
       "      <td>1.932754</td>\n",
       "    </tr>\n",
       "    <tr>\n",
       "      <th>std</th>\n",
       "      <td>23091.735568</td>\n",
       "      <td>94.537617</td>\n",
       "      <td>1.581842</td>\n",
       "      <td>0.350893</td>\n",
       "      <td>0.300906</td>\n",
       "      <td>1258.616304</td>\n",
       "      <td>2783.154915</td>\n",
       "      <td>2695.575664</td>\n",
       "      <td>13510.717670</td>\n",
       "      <td>3194.236179</td>\n",
       "      <td>...</td>\n",
       "      <td>0.831837</td>\n",
       "      <td>0.494924</td>\n",
       "      <td>0.500003</td>\n",
       "      <td>1.226418</td>\n",
       "      <td>1.010066</td>\n",
       "      <td>1.911167e+00</td>\n",
       "      <td>7.513514e-01</td>\n",
       "      <td>1.201943</td>\n",
       "      <td>0.948070</td>\n",
       "      <td>0.816489</td>\n",
       "    </tr>\n",
       "    <tr>\n",
       "      <th>min</th>\n",
       "      <td>230032.000000</td>\n",
       "      <td>1493.000000</td>\n",
       "      <td>0.000000</td>\n",
       "      <td>0.000000</td>\n",
       "      <td>0.000000</td>\n",
       "      <td>0.000000</td>\n",
       "      <td>0.000000</td>\n",
       "      <td>0.000000</td>\n",
       "      <td>0.000000</td>\n",
       "      <td>183.000000</td>\n",
       "      <td>...</td>\n",
       "      <td>1.000000</td>\n",
       "      <td>0.000000</td>\n",
       "      <td>0.000000</td>\n",
       "      <td>1.000000</td>\n",
       "      <td>1.000000</td>\n",
       "      <td>-1.299061e+00</td>\n",
       "      <td>-1.998121e+00</td>\n",
       "      <td>1.000000</td>\n",
       "      <td>1.000000</td>\n",
       "      <td>1.000000</td>\n",
       "    </tr>\n",
       "    <tr>\n",
       "      <th>25%</th>\n",
       "      <td>249994.000000</td>\n",
       "      <td>1679.000000</td>\n",
       "      <td>0.159600</td>\n",
       "      <td>0.000000</td>\n",
       "      <td>0.000000</td>\n",
       "      <td>882.000000</td>\n",
       "      <td>1278.000000</td>\n",
       "      <td>1034.000000</td>\n",
       "      <td>30.000000</td>\n",
       "      <td>3407.000000</td>\n",
       "      <td>...</td>\n",
       "      <td>1.000000</td>\n",
       "      <td>0.000000</td>\n",
       "      <td>0.000000</td>\n",
       "      <td>2.000000</td>\n",
       "      <td>2.000000</td>\n",
       "      <td>-1.299061e+00</td>\n",
       "      <td>-3.833970e-01</td>\n",
       "      <td>2.000000</td>\n",
       "      <td>1.000000</td>\n",
       "      <td>1.000000</td>\n",
       "    </tr>\n",
       "    <tr>\n",
       "      <th>50%</th>\n",
       "      <td>269971.000000</td>\n",
       "      <td>1742.000000</td>\n",
       "      <td>0.622900</td>\n",
       "      <td>0.000000</td>\n",
       "      <td>0.000000</td>\n",
       "      <td>1587.000000</td>\n",
       "      <td>3072.000000</td>\n",
       "      <td>2585.000000</td>\n",
       "      <td>243.000000</td>\n",
       "      <td>5140.000000</td>\n",
       "      <td>...</td>\n",
       "      <td>2.000000</td>\n",
       "      <td>1.000000</td>\n",
       "      <td>1.000000</td>\n",
       "      <td>4.000000</td>\n",
       "      <td>3.000000</td>\n",
       "      <td>-1.299061e+00</td>\n",
       "      <td>7.256188e-02</td>\n",
       "      <td>3.000000</td>\n",
       "      <td>3.000000</td>\n",
       "      <td>2.000000</td>\n",
       "    </tr>\n",
       "    <tr>\n",
       "      <th>75%</th>\n",
       "      <td>289991.000000</td>\n",
       "      <td>1810.000000</td>\n",
       "      <td>1.360100</td>\n",
       "      <td>0.000000</td>\n",
       "      <td>0.000000</td>\n",
       "      <td>2280.000000</td>\n",
       "      <td>4410.000000</td>\n",
       "      <td>4350.000000</td>\n",
       "      <td>30386.000000</td>\n",
       "      <td>7361.000000</td>\n",
       "      <td>...</td>\n",
       "      <td>3.000000</td>\n",
       "      <td>1.000000</td>\n",
       "      <td>1.000000</td>\n",
       "      <td>4.000000</td>\n",
       "      <td>3.000000</td>\n",
       "      <td>5.965939e-01</td>\n",
       "      <td>7.256188e-02</td>\n",
       "      <td>4.000000</td>\n",
       "      <td>3.000000</td>\n",
       "      <td>3.000000</td>\n",
       "    </tr>\n",
       "    <tr>\n",
       "      <th>max</th>\n",
       "      <td>310031.000000</td>\n",
       "      <td>1950.000000</td>\n",
       "      <td>36.030100</td>\n",
       "      <td>1.000000</td>\n",
       "      <td>1.000000</td>\n",
       "      <td>16729.000000</td>\n",
       "      <td>24425.000000</td>\n",
       "      <td>22052.000000</td>\n",
       "      <td>30386.000000</td>\n",
       "      <td>24638.000000</td>\n",
       "      <td>...</td>\n",
       "      <td>3.000000</td>\n",
       "      <td>1.000000</td>\n",
       "      <td>1.000000</td>\n",
       "      <td>5.000000</td>\n",
       "      <td>4.000000</td>\n",
       "      <td>6.419828e+00</td>\n",
       "      <td>4.985124e+00</td>\n",
       "      <td>5.000000</td>\n",
       "      <td>4.000000</td>\n",
       "      <td>3.000000</td>\n",
       "    </tr>\n",
       "  </tbody>\n",
       "</table>\n",
       "<p>8 rows × 41 columns</p>\n",
       "</div>"
      ],
      "text/plain": [
       "       application_key         mvar1         mvar2         mvar4  \\\n",
       "count     76361.000000  76361.000000  76361.000000  76361.000000   \n",
       "mean     269995.087911   1745.971085      1.098235      0.143804   \n",
       "std       23091.735568     94.537617      1.581842      0.350893   \n",
       "min      230032.000000   1493.000000      0.000000      0.000000   \n",
       "25%      249994.000000   1679.000000      0.159600      0.000000   \n",
       "50%      269971.000000   1742.000000      0.622900      0.000000   \n",
       "75%      289991.000000   1810.000000      1.360100      0.000000   \n",
       "max      310031.000000   1950.000000     36.030100      1.000000   \n",
       "\n",
       "              mvar5        mvar25        mvar26        mvar27        mvar28  \\\n",
       "count  76361.000000  76361.000000  76361.000000  66284.000000  76361.000000   \n",
       "mean       0.100680   1760.737428   3389.743846   3113.222014   8732.543104   \n",
       "std        0.300906   1258.616304   2783.154915   2695.575664  13510.717670   \n",
       "min        0.000000      0.000000      0.000000      0.000000      0.000000   \n",
       "25%        0.000000    882.000000   1278.000000   1034.000000     30.000000   \n",
       "50%        0.000000   1587.000000   3072.000000   2585.000000    243.000000   \n",
       "75%        0.000000   2280.000000   4410.000000   4350.000000  30386.000000   \n",
       "max        1.000000  16729.000000  24425.000000  22052.000000  30386.000000   \n",
       "\n",
       "             mvar29      ...        binned_mvar9        mvar48  binned_mvar10  \\\n",
       "count  76361.000000      ...        76361.000000  76361.000000   76361.000000   \n",
       "mean    5627.515171      ...            2.221265      0.571090       0.500007   \n",
       "std     3194.236179      ...            0.831837      0.494924       0.500003   \n",
       "min      183.000000      ...            1.000000      0.000000       0.000000   \n",
       "25%     3407.000000      ...            1.000000      0.000000       0.000000   \n",
       "50%     5140.000000      ...            2.000000      1.000000       1.000000   \n",
       "75%     7361.000000      ...            3.000000      1.000000       1.000000   \n",
       "max    24638.000000      ...            3.000000      1.000000       1.000000   \n",
       "\n",
       "       binned_mvar12  binned_mvar13        mvar52        mvar53  \\\n",
       "count   76361.000000   76361.000000  7.636100e+04  7.636100e+04   \n",
       "mean        3.434960       2.802452  3.948400e-14 -7.288486e-15   \n",
       "std         1.226418       1.010066  1.911167e+00  7.513514e-01   \n",
       "min         1.000000       1.000000 -1.299061e+00 -1.998121e+00   \n",
       "25%         2.000000       2.000000 -1.299061e+00 -3.833970e-01   \n",
       "50%         4.000000       3.000000 -1.299061e+00  7.256188e-02   \n",
       "75%         4.000000       3.000000  5.965939e-01  7.256188e-02   \n",
       "max         5.000000       4.000000  6.419828e+00  4.985124e+00   \n",
       "\n",
       "       binned_mvar21  binned_mvar22  binned_mvar24  \n",
       "count   76361.000000   76361.000000   76361.000000  \n",
       "mean        2.767093       2.260801       1.932754  \n",
       "std         1.201943       0.948070       0.816489  \n",
       "min         1.000000       1.000000       1.000000  \n",
       "25%         2.000000       1.000000       1.000000  \n",
       "50%         3.000000       3.000000       2.000000  \n",
       "75%         4.000000       3.000000       3.000000  \n",
       "max         5.000000       4.000000       3.000000  \n",
       "\n",
       "[8 rows x 41 columns]"
      ]
     },
     "execution_count": 8293,
     "metadata": {},
     "output_type": "execute_result"
    }
   ],
   "source": [
    "df.describe()"
   ]
  },
  {
   "cell_type": "code",
   "execution_count": 8294,
   "metadata": {},
   "outputs": [],
   "source": [
    "df['mvar27'] = df['mvar27'].fillna(3108.832363)"
   ]
  },
  {
   "cell_type": "code",
   "execution_count": 8295,
   "metadata": {},
   "outputs": [
    {
     "name": "stdout",
     "output_type": "stream",
     "text": [
      "<class 'pandas.core.frame.DataFrame'>\n",
      "Int64Index: 76361 entries, 0 to 79999\n",
      "Data columns (total 43 columns):\n",
      "application_key    76361 non-null float64\n",
      "mvar1              76361 non-null float64\n",
      "mvar2              76361 non-null float64\n",
      "mvar4              76361 non-null float64\n",
      "mvar5              76361 non-null float64\n",
      "mvar25             76361 non-null float64\n",
      "mvar26             76361 non-null float64\n",
      "mvar27             76361 non-null float64\n",
      "mvar28             76361 non-null float64\n",
      "mvar29             76361 non-null float64\n",
      "mvar30             43256 non-null float64\n",
      "mvar31             23648 non-null float64\n",
      "mvar32             71238 non-null float64\n",
      "mvar33             74892 non-null float64\n",
      "mvar34             76361 non-null float64\n",
      "mvar35             46633 non-null float64\n",
      "mvar36             74546 non-null float64\n",
      "mvar37             71238 non-null float64\n",
      "mvar38             76361 non-null float64\n",
      "mvar39             73175 non-null float64\n",
      "mvar40             17422 non-null float64\n",
      "mvar41             25363 non-null float64\n",
      "mvar42             75638 non-null float64\n",
      "mvar43             76208 non-null float64\n",
      "mvar44             71641 non-null float64\n",
      "mvar45             34999 non-null float64\n",
      "mvar46             56666 non-null float64\n",
      "mvar47             76361 non-null float64\n",
      "default_ind        76361 non-null float64\n",
      "binned_mvar6       76361 non-null float64\n",
      "binned_mvar1       76361 non-null category\n",
      "binned_mvar7       76361 non-null float64\n",
      "binned_mvar9       76361 non-null float64\n",
      "mvar48             76361 non-null float64\n",
      "binned_mvar10      76361 non-null int64\n",
      "binned_mvar12      76361 non-null float64\n",
      "binned_mvar13      76361 non-null float64\n",
      "binned_mvar14      76361 non-null category\n",
      "mvar52             76361 non-null float64\n",
      "mvar53             76361 non-null float64\n",
      "binned_mvar21      76361 non-null float64\n",
      "binned_mvar22      76361 non-null float64\n",
      "binned_mvar24      76361 non-null float64\n",
      "dtypes: category(2), float64(40), int64(1)\n",
      "memory usage: 24.6 MB\n"
     ]
    }
   ],
   "source": [
    "df.info()"
   ]
  },
  {
   "cell_type": "code",
   "execution_count": 8296,
   "metadata": {},
   "outputs": [
    {
     "name": "stderr",
     "output_type": "stream",
     "text": [
      "C:\\Users\\Chirag Garg\\Anaconda3\\lib\\site-packages\\matplotlib\\axes\\_axes.py:6462: UserWarning: The 'normed' kwarg is deprecated, and has been replaced by the 'density' kwarg.\n",
      "  warnings.warn(\"The 'normed' kwarg is deprecated, and has been \"\n"
     ]
    },
    {
     "data": {
      "text/plain": [
       "<matplotlib.axes._subplots.AxesSubplot at 0x16fc2e74b00>"
      ]
     },
     "execution_count": 8296,
     "metadata": {},
     "output_type": "execute_result"
    },
    {
     "data": {
      "image/png": "[encoded data removed]",
      "text/plain": [
       "<Figure size 432x288 with 1 Axes>"
      ]
     },
     "metadata": {},
     "output_type": "display_data"
    }
   ],
   "source": [
    "df15 = df[df['mvar30'].notnull()]\n",
    "sns.distplot(df15['mvar30'])"
   ]
  },
  {
   "cell_type": "code",
   "execution_count": 8297,
   "metadata": {},
   "outputs": [
    {
     "data": {
      "text/plain": [
       "count    43256.000000\n",
       "mean      2610.980951\n",
       "std       1564.316333\n",
       "min          0.000000\n",
       "25%       1156.000000\n",
       "50%       2798.000000\n",
       "75%       3863.000000\n",
       "max      12775.000000\n",
       "Name: mvar30, dtype: float64"
      ]
     },
     "execution_count": 8297,
     "metadata": {},
     "output_type": "execute_result"
    }
   ],
   "source": [
    "df['mvar30'].describe()"
   ]
  },
  {
   "cell_type": "code",
   "execution_count": 8298,
   "metadata": {},
   "outputs": [
    {
     "name": "stdout",
     "output_type": "stream",
     "text": [
      "<class 'pandas.core.frame.DataFrame'>\n",
      "Int64Index: 76361 entries, 0 to 79999\n",
      "Data columns (total 43 columns):\n",
      "application_key    76361 non-null float64\n",
      "mvar1              76361 non-null float64\n",
      "mvar2              76361 non-null float64\n",
      "mvar4              76361 non-null float64\n",
      "mvar5              76361 non-null float64\n",
      "mvar25             76361 non-null float64\n",
      "mvar26             76361 non-null float64\n",
      "mvar27             76361 non-null float64\n",
      "mvar28             76361 non-null float64\n",
      "mvar29             76361 non-null float64\n",
      "mvar30             43256 non-null float64\n",
      "mvar31             23648 non-null float64\n",
      "mvar32             71238 non-null float64\n",
      "mvar33             74892 non-null float64\n",
      "mvar34             76361 non-null float64\n",
      "mvar35             46633 non-null float64\n",
      "mvar36             74546 non-null float64\n",
      "mvar37             71238 non-null float64\n",
      "mvar38             76361 non-null float64\n",
      "mvar39             73175 non-null float64\n",
      "mvar40             17422 non-null float64\n",
      "mvar41             25363 non-null float64\n",
      "mvar42             75638 non-null float64\n",
      "mvar43             76208 non-null float64\n",
      "mvar44             71641 non-null float64\n",
      "mvar45             34999 non-null float64\n",
      "mvar46             56666 non-null float64\n",
      "mvar47             76361 non-null float64\n",
      "default_ind        76361 non-null float64\n",
      "binned_mvar6       76361 non-null float64\n",
      "binned_mvar1       76361 non-null category\n",
      "binned_mvar7       76361 non-null float64\n",
      "binned_mvar9       76361 non-null float64\n",
      "mvar48             76361 non-null float64\n",
      "binned_mvar10      76361 non-null int64\n",
      "binned_mvar12      76361 non-null float64\n",
      "binned_mvar13      76361 non-null float64\n",
      "binned_mvar14      76361 non-null category\n",
      "mvar52             76361 non-null float64\n",
      "mvar53             76361 non-null float64\n",
      "binned_mvar21      76361 non-null float64\n",
      "binned_mvar22      76361 non-null float64\n",
      "binned_mvar24      76361 non-null float64\n",
      "dtypes: category(2), float64(40), int64(1)\n",
      "memory usage: 24.6 MB\n"
     ]
    }
   ],
   "source": [
    "df.info()"
   ]
  },
  {
   "cell_type": "code",
   "execution_count": 8299,
   "metadata": {},
   "outputs": [
    {
     "name": "stderr",
     "output_type": "stream",
     "text": [
      "C:\\Users\\Chirag Garg\\Anaconda3\\lib\\site-packages\\matplotlib\\axes\\_axes.py:6462: UserWarning: The 'normed' kwarg is deprecated, and has been replaced by the 'density' kwarg.\n",
      "  warnings.warn(\"The 'normed' kwarg is deprecated, and has been \"\n"
     ]
    },
    {
     "data": {
      "text/plain": [
       "<matplotlib.axes._subplots.AxesSubplot at 0x16fc368e518>"
      ]
     },
     "execution_count": 8299,
     "metadata": {},
     "output_type": "execute_result"
    },
    {
     "data": {
      "image/png": "[encoded data removed]",
      "text/plain": [
       "<Figure size 432x288 with 1 Axes>"
      ]
     },
     "metadata": {},
     "output_type": "display_data"
    }
   ],
   "source": [
    "df15 = df[df['mvar31'].notnull()]\n",
    "sns.distplot(df15['mvar31'])"
   ]
  },
  {
   "cell_type": "code",
   "execution_count": 8300,
   "metadata": {},
   "outputs": [
    {
     "data": {
      "text/plain": [
       "count    23648.000000\n",
       "mean      3627.197691\n",
       "std       2026.794233\n",
       "min          0.000000\n",
       "25%       2099.000000\n",
       "50%       3528.000000\n",
       "75%       4745.000000\n",
       "max      15695.000000\n",
       "Name: mvar31, dtype: float64"
      ]
     },
     "execution_count": 8300,
     "metadata": {},
     "output_type": "execute_result"
    }
   ],
   "source": [
    "\n",
    "\n",
    "\n",
    "\n",
    "\n",
    "df['mvar31'].describe()"
   ]
  },
  {
   "cell_type": "code",
   "execution_count": 8301,
   "metadata": {},
   "outputs": [],
   "source": [
    "df.drop(['mvar30','mvar31'],axis=1,inplace=True)"
   ]
  },
  {
   "cell_type": "code",
   "execution_count": 8302,
   "metadata": {},
   "outputs": [],
   "source": [
    "dframe = df[['mvar25','mvar26','mvar27','mvar28','mvar29']]"
   ]
  },
  {
   "cell_type": "code",
   "execution_count": 8303,
   "metadata": {},
   "outputs": [
    {
     "data": {
      "text/html": [
       "<div>\n",
       "<style scoped>\n",
       "    .dataframe tbody tr th:only-of-type {\n",
       "        vertical-align: middle;\n",
       "    }\n",
       "\n",
       "    .dataframe tbody tr th {\n",
       "        vertical-align: top;\n",
       "    }\n",
       "\n",
       "    .dataframe thead th {\n",
       "        text-align: right;\n",
       "    }\n",
       "</style>\n",
       "<table border=\"1\" class=\"dataframe\">\n",
       "  <thead>\n",
       "    <tr style=\"text-align: right;\">\n",
       "      <th></th>\n",
       "      <th>mvar25</th>\n",
       "      <th>mvar26</th>\n",
       "      <th>mvar27</th>\n",
       "      <th>mvar28</th>\n",
       "      <th>mvar29</th>\n",
       "    </tr>\n",
       "  </thead>\n",
       "  <tbody>\n",
       "    <tr>\n",
       "      <th>mvar25</th>\n",
       "      <td>1.000000</td>\n",
       "      <td>0.682363</td>\n",
       "      <td>0.718343</td>\n",
       "      <td>0.165712</td>\n",
       "      <td>0.631880</td>\n",
       "    </tr>\n",
       "    <tr>\n",
       "      <th>mvar26</th>\n",
       "      <td>0.682363</td>\n",
       "      <td>1.000000</td>\n",
       "      <td>0.898537</td>\n",
       "      <td>0.179681</td>\n",
       "      <td>0.640154</td>\n",
       "    </tr>\n",
       "    <tr>\n",
       "      <th>mvar27</th>\n",
       "      <td>0.718343</td>\n",
       "      <td>0.898537</td>\n",
       "      <td>1.000000</td>\n",
       "      <td>0.189746</td>\n",
       "      <td>0.576589</td>\n",
       "    </tr>\n",
       "    <tr>\n",
       "      <th>mvar28</th>\n",
       "      <td>0.165712</td>\n",
       "      <td>0.179681</td>\n",
       "      <td>0.189746</td>\n",
       "      <td>1.000000</td>\n",
       "      <td>0.113093</td>\n",
       "    </tr>\n",
       "    <tr>\n",
       "      <th>mvar29</th>\n",
       "      <td>0.631880</td>\n",
       "      <td>0.640154</td>\n",
       "      <td>0.576589</td>\n",
       "      <td>0.113093</td>\n",
       "      <td>1.000000</td>\n",
       "    </tr>\n",
       "  </tbody>\n",
       "</table>\n",
       "</div>"
      ],
      "text/plain": [
       "          mvar25    mvar26    mvar27    mvar28    mvar29\n",
       "mvar25  1.000000  0.682363  0.718343  0.165712  0.631880\n",
       "mvar26  0.682363  1.000000  0.898537  0.179681  0.640154\n",
       "mvar27  0.718343  0.898537  1.000000  0.189746  0.576589\n",
       "mvar28  0.165712  0.179681  0.189746  1.000000  0.113093\n",
       "mvar29  0.631880  0.640154  0.576589  0.113093  1.000000"
      ]
     },
     "execution_count": 8303,
     "metadata": {},
     "output_type": "execute_result"
    }
   ],
   "source": [
    "dframe.corr()"
   ]
  },
  {
   "cell_type": "code",
   "execution_count": 8304,
   "metadata": {},
   "outputs": [],
   "source": [
    "from sklearn.decomposition import PCA\n",
    "pca = PCA(n_components= None)\n",
    "dframe = pca.fit_transform(dframe)\n",
    "explained_variance = pca.explained_variance_ratio_"
   ]
  },
  {
   "cell_type": "code",
   "execution_count": 8305,
   "metadata": {},
   "outputs": [
    {
     "data": {
      "text/plain": [
       "array([0.87947937, 0.09358113, 0.02053587, 0.00387437, 0.00252925])"
      ]
     },
     "execution_count": 8305,
     "metadata": {},
     "output_type": "execute_result"
    }
   ],
   "source": [
    "explained_variance"
   ]
  },
  {
   "cell_type": "code",
   "execution_count": 8306,
   "metadata": {},
   "outputs": [
    {
     "data": {
      "text/plain": [
       "array([  364.64182441, -4875.23358056,   -97.71176578, ...,\n",
       "       -4349.22649567, -3693.4667187 , 14060.29966607])"
      ]
     },
     "execution_count": 8306,
     "metadata": {},
     "output_type": "execute_result"
    }
   ],
   "source": [
    "dframe[:,1]"
   ]
  },
  {
   "cell_type": "code",
   "execution_count": 8307,
   "metadata": {},
   "outputs": [],
   "source": [
    "df['mvar50'] = dframe[:,0]"
   ]
  },
  {
   "cell_type": "code",
   "execution_count": 8308,
   "metadata": {},
   "outputs": [],
   "source": [
    "df['mvar51'] = dframe[:,1]"
   ]
  },
  {
   "cell_type": "code",
   "execution_count": 8309,
   "metadata": {},
   "outputs": [
    {
     "data": {
      "text/html": [
       "<div>\n",
       "<style scoped>\n",
       "    .dataframe tbody tr th:only-of-type {\n",
       "        vertical-align: middle;\n",
       "    }\n",
       "\n",
       "    .dataframe tbody tr th {\n",
       "        vertical-align: top;\n",
       "    }\n",
       "\n",
       "    .dataframe thead th {\n",
       "        text-align: right;\n",
       "    }\n",
       "</style>\n",
       "<table border=\"1\" class=\"dataframe\">\n",
       "  <thead>\n",
       "    <tr style=\"text-align: right;\">\n",
       "      <th></th>\n",
       "      <th>mvar50</th>\n",
       "      <th>mvar51</th>\n",
       "      <th>default_ind</th>\n",
       "    </tr>\n",
       "  </thead>\n",
       "  <tbody>\n",
       "    <tr>\n",
       "      <th>mvar50</th>\n",
       "      <td>1.000000e+00</td>\n",
       "      <td>1.947846e-16</td>\n",
       "      <td>-0.229554</td>\n",
       "    </tr>\n",
       "    <tr>\n",
       "      <th>mvar51</th>\n",
       "      <td>1.947846e-16</td>\n",
       "      <td>1.000000e+00</td>\n",
       "      <td>-0.187240</td>\n",
       "    </tr>\n",
       "    <tr>\n",
       "      <th>default_ind</th>\n",
       "      <td>-2.295540e-01</td>\n",
       "      <td>-1.872405e-01</td>\n",
       "      <td>1.000000</td>\n",
       "    </tr>\n",
       "  </tbody>\n",
       "</table>\n",
       "</div>"
      ],
      "text/plain": [
       "                   mvar50        mvar51  default_ind\n",
       "mvar50       1.000000e+00  1.947846e-16    -0.229554\n",
       "mvar51       1.947846e-16  1.000000e+00    -0.187240\n",
       "default_ind -2.295540e-01 -1.872405e-01     1.000000"
      ]
     },
     "execution_count": 8309,
     "metadata": {},
     "output_type": "execute_result"
    }
   ],
   "source": [
    "df[['mvar50','mvar51','default_ind']].corr()"
   ]
  },
  {
   "cell_type": "code",
   "execution_count": 8310,
   "metadata": {},
   "outputs": [],
   "source": [
    "df.drop(['mvar25','mvar26','mvar27','mvar28','mvar29'],axis=1,inplace=True)"
   ]
  },
  {
   "cell_type": "code",
   "execution_count": 8311,
   "metadata": {},
   "outputs": [
    {
     "name": "stdout",
     "output_type": "stream",
     "text": [
      "<class 'pandas.core.frame.DataFrame'>\n",
      "Int64Index: 76361 entries, 0 to 79999\n",
      "Data columns (total 38 columns):\n",
      "application_key    76361 non-null float64\n",
      "mvar1              76361 non-null float64\n",
      "mvar2              76361 non-null float64\n",
      "mvar4              76361 non-null float64\n",
      "mvar5              76361 non-null float64\n",
      "mvar32             71238 non-null float64\n",
      "mvar33             74892 non-null float64\n",
      "mvar34             76361 non-null float64\n",
      "mvar35             46633 non-null float64\n",
      "mvar36             74546 non-null float64\n",
      "mvar37             71238 non-null float64\n",
      "mvar38             76361 non-null float64\n",
      "mvar39             73175 non-null float64\n",
      "mvar40             17422 non-null float64\n",
      "mvar41             25363 non-null float64\n",
      "mvar42             75638 non-null float64\n",
      "mvar43             76208 non-null float64\n",
      "mvar44             71641 non-null float64\n",
      "mvar45             34999 non-null float64\n",
      "mvar46             56666 non-null float64\n",
      "mvar47             76361 non-null float64\n",
      "default_ind        76361 non-null float64\n",
      "binned_mvar6       76361 non-null float64\n",
      "binned_mvar1       76361 non-null category\n",
      "binned_mvar7       76361 non-null float64\n",
      "binned_mvar9       76361 non-null float64\n",
      "mvar48             76361 non-null float64\n",
      "binned_mvar10      76361 non-null int64\n",
      "binned_mvar12      76361 non-null float64\n",
      "binned_mvar13      76361 non-null float64\n",
      "binned_mvar14      76361 non-null category\n",
      "mvar52             76361 non-null float64\n",
      "mvar53             76361 non-null float64\n",
      "binned_mvar21      76361 non-null float64\n",
      "binned_mvar22      76361 non-null float64\n",
      "binned_mvar24      76361 non-null float64\n",
      "mvar50             76361 non-null float64\n",
      "mvar51             76361 non-null float64\n",
      "dtypes: category(2), float64(35), int64(1)\n",
      "memory usage: 21.7 MB\n"
     ]
    }
   ],
   "source": [
    "df.info()"
   ]
  },
  {
   "cell_type": "code",
   "execution_count": 8312,
   "metadata": {},
   "outputs": [
    {
     "data": {
      "text/plain": [
       "0.0    58017\n",
       "1.0    18344\n",
       "Name: default_ind, dtype: int64"
      ]
     },
     "execution_count": 8312,
     "metadata": {},
     "output_type": "execute_result"
    }
   ],
   "source": [
    "df['default_ind'].value_counts()"
   ]
  },
  {
   "cell_type": "code",
   "execution_count": 8313,
   "metadata": {},
   "outputs": [
    {
     "data": {
      "text/plain": [
       "0.0    55415\n",
       "1.0    15822\n",
       "Name: default_ind, dtype: int64"
      ]
     },
     "execution_count": 8313,
     "metadata": {},
     "output_type": "execute_result"
    }
   ],
   "source": [
    "col = df[df['mvar32']<10653.000000]\n",
    "col['default_ind'].value_counts()"
   ]
  },
  {
   "cell_type": "code",
   "execution_count": 8314,
   "metadata": {},
   "outputs": [],
   "source": [
    "bins = [-1,102.000000,307.000000,10653.000000]\n",
    "labels = [1,2,3]\n",
    "df['binned_mvar32'] = pd.cut(df['mvar32'], bins=bins, labels=labels)"
   ]
  },
  {
   "cell_type": "code",
   "execution_count": 8315,
   "metadata": {},
   "outputs": [
    {
     "data": {
      "text/plain": [
       "3    35562\n",
       "1    17927\n",
       "2    17749\n",
       "Name: binned_mvar32, dtype: int64"
      ]
     },
     "execution_count": 8315,
     "metadata": {},
     "output_type": "execute_result"
    }
   ],
   "source": [
    "df['binned_mvar32'].value_counts()"
   ]
  },
  {
   "cell_type": "code",
   "execution_count": 8316,
   "metadata": {},
   "outputs": [
    {
     "name": "stdout",
     "output_type": "stream",
     "text": [
      "nan\n",
      "<class 'numpy.ndarray'>\n"
     ]
    }
   ],
   "source": [
    "arr=np.array(df['binned_mvar32'].tolist())\n",
    "import random\n",
    "print (np.nan)\n",
    "print (type(arr))\n",
    "for i in range (len(arr)):\n",
    "    if np.isnan(arr[i]):\n",
    "        arr[i]=random.randint(1,1)\n",
    "df['binned_mvar32']=arr"
   ]
  },
  {
   "cell_type": "code",
   "execution_count": 8317,
   "metadata": {},
   "outputs": [
    {
     "data": {
      "text/plain": [
       "count    74892.000000\n",
       "mean         7.112846\n",
       "std          7.696859\n",
       "min          0.083300\n",
       "25%          1.250000\n",
       "50%          4.000000\n",
       "75%         10.750000\n",
       "max         76.000000\n",
       "Name: mvar33, dtype: float64"
      ]
     },
     "execution_count": 8317,
     "metadata": {},
     "output_type": "execute_result"
    }
   ],
   "source": [
    "df['mvar33'].describe()"
   ]
  },
  {
   "cell_type": "code",
   "execution_count": 8318,
   "metadata": {},
   "outputs": [
    {
     "data": {
      "text/plain": [
       "0.0    40989\n",
       "1.0    15000\n",
       "Name: default_ind, dtype: int64"
      ]
     },
     "execution_count": 8318,
     "metadata": {},
     "output_type": "execute_result"
    }
   ],
   "source": [
    "col = df[df['mvar33']<10.750000]\n",
    "col['default_ind'].value_counts()"
   ]
  },
  {
   "cell_type": "code",
   "execution_count": 8319,
   "metadata": {},
   "outputs": [],
   "source": [
    "bins = [-1,1.250000,3,10.750000,76.000000]\n",
    "labels = [1,2,3,4]\n",
    "df['binned_mvar33'] = pd.cut(df['mvar33'], bins=bins, labels=labels)"
   ]
  },
  {
   "cell_type": "code",
   "execution_count": 8320,
   "metadata": {},
   "outputs": [
    {
     "name": "stdout",
     "output_type": "stream",
     "text": [
      "nan\n",
      "<class 'numpy.ndarray'>\n"
     ]
    }
   ],
   "source": [
    "arr=np.array(df['binned_mvar33'].tolist())\n",
    "import random\n",
    "print (np.nan)\n",
    "print (type(arr))\n",
    "for i in range (len(arr)):\n",
    "    if np.isnan(arr[i]):\n",
    "        arr[i]=random.randint(3,3)\n",
    "df['binned_mvar33']=arr"
   ]
  },
  {
   "cell_type": "code",
   "execution_count": 8321,
   "metadata": {},
   "outputs": [
    {
     "name": "stdout",
     "output_type": "stream",
     "text": [
      "<class 'pandas.core.frame.DataFrame'>\n",
      "Int64Index: 76361 entries, 0 to 79999\n",
      "Data columns (total 40 columns):\n",
      "application_key    76361 non-null float64\n",
      "mvar1              76361 non-null float64\n",
      "mvar2              76361 non-null float64\n",
      "mvar4              76361 non-null float64\n",
      "mvar5              76361 non-null float64\n",
      "mvar32             71238 non-null float64\n",
      "mvar33             74892 non-null float64\n",
      "mvar34             76361 non-null float64\n",
      "mvar35             46633 non-null float64\n",
      "mvar36             74546 non-null float64\n",
      "mvar37             71238 non-null float64\n",
      "mvar38             76361 non-null float64\n",
      "mvar39             73175 non-null float64\n",
      "mvar40             17422 non-null float64\n",
      "mvar41             25363 non-null float64\n",
      "mvar42             75638 non-null float64\n",
      "mvar43             76208 non-null float64\n",
      "mvar44             71641 non-null float64\n",
      "mvar45             34999 non-null float64\n",
      "mvar46             56666 non-null float64\n",
      "mvar47             76361 non-null float64\n",
      "default_ind        76361 non-null float64\n",
      "binned_mvar6       76361 non-null float64\n",
      "binned_mvar1       76361 non-null category\n",
      "binned_mvar7       76361 non-null float64\n",
      "binned_mvar9       76361 non-null float64\n",
      "mvar48             76361 non-null float64\n",
      "binned_mvar10      76361 non-null int64\n",
      "binned_mvar12      76361 non-null float64\n",
      "binned_mvar13      76361 non-null float64\n",
      "binned_mvar14      76361 non-null category\n",
      "mvar52             76361 non-null float64\n",
      "mvar53             76361 non-null float64\n",
      "binned_mvar21      76361 non-null float64\n",
      "binned_mvar22      76361 non-null float64\n",
      "binned_mvar24      76361 non-null float64\n",
      "mvar50             76361 non-null float64\n",
      "mvar51             76361 non-null float64\n",
      "binned_mvar32      76361 non-null float64\n",
      "binned_mvar33      76361 non-null float64\n",
      "dtypes: category(2), float64(37), int64(1)\n",
      "memory usage: 22.9 MB\n"
     ]
    }
   ],
   "source": [
    "df.info()"
   ]
  },
  {
   "cell_type": "code",
   "execution_count": 8322,
   "metadata": {},
   "outputs": [
    {
     "data": {
      "text/html": [
       "<div>\n",
       "<style scoped>\n",
       "    .dataframe tbody tr th:only-of-type {\n",
       "        vertical-align: middle;\n",
       "    }\n",
       "\n",
       "    .dataframe tbody tr th {\n",
       "        vertical-align: top;\n",
       "    }\n",
       "\n",
       "    .dataframe thead th {\n",
       "        text-align: right;\n",
       "    }\n",
       "</style>\n",
       "<table border=\"1\" class=\"dataframe\">\n",
       "  <thead>\n",
       "    <tr style=\"text-align: right;\">\n",
       "      <th></th>\n",
       "      <th>mvar32</th>\n",
       "      <th>mvar33</th>\n",
       "      <th>binned_mvar32</th>\n",
       "      <th>binned_mvar33</th>\n",
       "      <th>default_ind</th>\n",
       "    </tr>\n",
       "  </thead>\n",
       "  <tbody>\n",
       "    <tr>\n",
       "      <th>mvar32</th>\n",
       "      <td>1.000000</td>\n",
       "      <td>0.327065</td>\n",
       "      <td>0.658730</td>\n",
       "      <td>0.278387</td>\n",
       "      <td>-0.220320</td>\n",
       "    </tr>\n",
       "    <tr>\n",
       "      <th>mvar33</th>\n",
       "      <td>0.327065</td>\n",
       "      <td>1.000000</td>\n",
       "      <td>0.283173</td>\n",
       "      <td>0.815558</td>\n",
       "      <td>-0.141522</td>\n",
       "    </tr>\n",
       "    <tr>\n",
       "      <th>binned_mvar32</th>\n",
       "      <td>0.658730</td>\n",
       "      <td>0.283173</td>\n",
       "      <td>1.000000</td>\n",
       "      <td>0.279496</td>\n",
       "      <td>-0.291759</td>\n",
       "    </tr>\n",
       "    <tr>\n",
       "      <th>binned_mvar33</th>\n",
       "      <td>0.278387</td>\n",
       "      <td>0.815558</td>\n",
       "      <td>0.279496</td>\n",
       "      <td>1.000000</td>\n",
       "      <td>-0.144747</td>\n",
       "    </tr>\n",
       "    <tr>\n",
       "      <th>default_ind</th>\n",
       "      <td>-0.220320</td>\n",
       "      <td>-0.141522</td>\n",
       "      <td>-0.291759</td>\n",
       "      <td>-0.144747</td>\n",
       "      <td>1.000000</td>\n",
       "    </tr>\n",
       "  </tbody>\n",
       "</table>\n",
       "</div>"
      ],
      "text/plain": [
       "                 mvar32    mvar33  binned_mvar32  binned_mvar33  default_ind\n",
       "mvar32         1.000000  0.327065       0.658730       0.278387    -0.220320\n",
       "mvar33         0.327065  1.000000       0.283173       0.815558    -0.141522\n",
       "binned_mvar32  0.658730  0.283173       1.000000       0.279496    -0.291759\n",
       "binned_mvar33  0.278387  0.815558       0.279496       1.000000    -0.144747\n",
       "default_ind   -0.220320 -0.141522      -0.291759      -0.144747     1.000000"
      ]
     },
     "execution_count": 8322,
     "metadata": {},
     "output_type": "execute_result"
    }
   ],
   "source": [
    "df[['mvar32','mvar33','binned_mvar32','binned_mvar33','default_ind']].corr()"
   ]
  },
  {
   "cell_type": "code",
   "execution_count": 8323,
   "metadata": {},
   "outputs": [],
   "source": [
    "dframe = df[['mvar34','mvar35','default_ind']]"
   ]
  },
  {
   "cell_type": "code",
   "execution_count": 8324,
   "metadata": {},
   "outputs": [
    {
     "data": {
      "text/html": [
       "<div>\n",
       "<style scoped>\n",
       "    .dataframe tbody tr th:only-of-type {\n",
       "        vertical-align: middle;\n",
       "    }\n",
       "\n",
       "    .dataframe tbody tr th {\n",
       "        vertical-align: top;\n",
       "    }\n",
       "\n",
       "    .dataframe thead th {\n",
       "        text-align: right;\n",
       "    }\n",
       "</style>\n",
       "<table border=\"1\" class=\"dataframe\">\n",
       "  <thead>\n",
       "    <tr style=\"text-align: right;\">\n",
       "      <th></th>\n",
       "      <th>mvar34</th>\n",
       "      <th>mvar35</th>\n",
       "      <th>default_ind</th>\n",
       "    </tr>\n",
       "  </thead>\n",
       "  <tbody>\n",
       "    <tr>\n",
       "      <th>mvar34</th>\n",
       "      <td>1.000000</td>\n",
       "      <td>0.410702</td>\n",
       "      <td>0.161991</td>\n",
       "    </tr>\n",
       "    <tr>\n",
       "      <th>mvar35</th>\n",
       "      <td>0.410702</td>\n",
       "      <td>1.000000</td>\n",
       "      <td>0.259424</td>\n",
       "    </tr>\n",
       "    <tr>\n",
       "      <th>default_ind</th>\n",
       "      <td>0.161991</td>\n",
       "      <td>0.259424</td>\n",
       "      <td>1.000000</td>\n",
       "    </tr>\n",
       "  </tbody>\n",
       "</table>\n",
       "</div>"
      ],
      "text/plain": [
       "               mvar34    mvar35  default_ind\n",
       "mvar34       1.000000  0.410702     0.161991\n",
       "mvar35       0.410702  1.000000     0.259424\n",
       "default_ind  0.161991  0.259424     1.000000"
      ]
     },
     "execution_count": 8324,
     "metadata": {},
     "output_type": "execute_result"
    }
   ],
   "source": [
    "dframe.corr()"
   ]
  },
  {
   "cell_type": "code",
   "execution_count": 8325,
   "metadata": {},
   "outputs": [
    {
     "data": {
      "text/plain": [
       "count    76361.000000\n",
       "mean         0.239075\n",
       "std          0.691521\n",
       "min          0.000000\n",
       "25%          0.000000\n",
       "50%          0.000000\n",
       "75%          0.000000\n",
       "max         21.000000\n",
       "Name: mvar34, dtype: float64"
      ]
     },
     "execution_count": 8325,
     "metadata": {},
     "output_type": "execute_result"
    }
   ],
   "source": [
    "df['mvar34'].describe()"
   ]
  },
  {
   "cell_type": "code",
   "execution_count": 8326,
   "metadata": {},
   "outputs": [
    {
     "data": {
      "text/plain": [
       "1.0    407\n",
       "0.0    361\n",
       "Name: default_ind, dtype: int64"
      ]
     },
     "execution_count": 8326,
     "metadata": {},
     "output_type": "execute_result"
    }
   ],
   "source": [
    "col = df[df['mvar34']==3]\n",
    "col['default_ind'].value_counts()"
   ]
  },
  {
   "cell_type": "code",
   "execution_count": 8327,
   "metadata": {},
   "outputs": [],
   "source": [
    "df['mvar34'] = df['mvar34'].replace([0,1,2,3,4,5,6,7,8,9,10,11,12,13,14,15,16,17,18,19,20,21],[0,1,2,3,3,3,3,3,3,3,3,3,3,3,3,3,3,3,3,3,3,3])"
   ]
  },
  {
   "cell_type": "code",
   "execution_count": 8328,
   "metadata": {},
   "outputs": [
    {
     "data": {
      "text/plain": [
       "0.0     39903\n",
       "1.0      5044\n",
       "2.0      1133\n",
       "3.0       359\n",
       "4.0       126\n",
       "5.0        41\n",
       "6.0        19\n",
       "7.0         4\n",
       "8.0         2\n",
       "9.0         1\n",
       "10.0        1\n",
       "Name: mvar35, dtype: int64"
      ]
     },
     "execution_count": 8328,
     "metadata": {},
     "output_type": "execute_result"
    }
   ],
   "source": [
    "df['mvar35'].value_counts()"
   ]
  },
  {
   "cell_type": "code",
   "execution_count": 8329,
   "metadata": {},
   "outputs": [],
   "source": [
    "df.drop('mvar35',axis=1,inplace=True)"
   ]
  },
  {
   "cell_type": "code",
   "execution_count": 8330,
   "metadata": {},
   "outputs": [
    {
     "data": {
      "text/plain": [
       "count    74546.000000\n",
       "mean         6.501221\n",
       "std          5.273229\n",
       "min          1.000000\n",
       "25%          3.000000\n",
       "50%          5.000000\n",
       "75%          8.000000\n",
       "max        100.000000\n",
       "Name: mvar36, dtype: float64"
      ]
     },
     "execution_count": 8330,
     "metadata": {},
     "output_type": "execute_result"
    }
   ],
   "source": [
    "df['mvar36'].describe()"
   ]
  },
  {
   "cell_type": "code",
   "execution_count": 8331,
   "metadata": {},
   "outputs": [
    {
     "data": {
      "text/plain": [
       "0.0    56450\n",
       "1.0    18095\n",
       "Name: default_ind, dtype: int64"
      ]
     },
     "execution_count": 8331,
     "metadata": {},
     "output_type": "execute_result"
    }
   ],
   "source": [
    "col = df[df['mvar36']<100]\n",
    "col['default_ind'].value_counts()"
   ]
  },
  {
   "cell_type": "code",
   "execution_count": 8332,
   "metadata": {},
   "outputs": [],
   "source": [
    "df['mvar36'] = df['mvar36'].replace([1,2],[1,1])"
   ]
  },
  {
   "cell_type": "code",
   "execution_count": 8333,
   "metadata": {},
   "outputs": [],
   "source": [
    "df['mvar36'] = df['mvar36'].replace([3,4,5,6,7,8,9],[2,3,4,5,6,7,8])"
   ]
  },
  {
   "cell_type": "code",
   "execution_count": 8334,
   "metadata": {},
   "outputs": [],
   "source": [
    "df['mvar36'] = df['mvar36'].replace([10,11,12,13],[9,9,9,9])"
   ]
  },
  {
   "cell_type": "code",
   "execution_count": 8335,
   "metadata": {},
   "outputs": [],
   "source": [
    "df['mvar36'] = df['mvar36'].replace([14,15,16,17,18,19,20],[10,10,10,10,11,11,11])"
   ]
  },
  {
   "cell_type": "code",
   "execution_count": 8336,
   "metadata": {},
   "outputs": [
    {
     "name": "stdout",
     "output_type": "stream",
     "text": [
      "nan\n",
      "<class 'numpy.ndarray'>\n"
     ]
    }
   ],
   "source": [
    "arr=np.array(df['mvar36'].tolist())\n",
    "import random\n",
    "print (np.nan)\n",
    "print (type(arr))\n",
    "for i in range (len(arr)):\n",
    "    if arr[i]>20:\n",
    "        arr[i]=12\n",
    "df['mvar36']=arr\n",
    "    "
   ]
  },
  {
   "cell_type": "code",
   "execution_count": 8337,
   "metadata": {},
   "outputs": [
    {
     "name": "stdout",
     "output_type": "stream",
     "text": [
      "nan\n",
      "<class 'numpy.ndarray'>\n"
     ]
    }
   ],
   "source": [
    "arr=np.array(df['mvar36'].tolist())\n",
    "import random\n",
    "print (np.nan)\n",
    "print (type(arr))\n",
    "for i in range (len(arr)):\n",
    "    if np.isnan(arr[i]):\n",
    "        arr[i]=random.randint(1,3)\n",
    "df['mvar36']=arr"
   ]
  },
  {
   "cell_type": "code",
   "execution_count": 8338,
   "metadata": {},
   "outputs": [],
   "source": [
    "df.drop(['mvar32','mvar33'],axis=1,inplace=True)"
   ]
  },
  {
   "cell_type": "code",
   "execution_count": 8339,
   "metadata": {},
   "outputs": [
    {
     "data": {
      "text/plain": [
       "count    71238.000000\n",
       "mean         4.299307\n",
       "std          4.699317\n",
       "min          0.000000\n",
       "25%          1.000000\n",
       "50%          3.000000\n",
       "75%          6.000000\n",
       "max         60.000000\n",
       "Name: mvar37, dtype: float64"
      ]
     },
     "execution_count": 8339,
     "metadata": {},
     "output_type": "execute_result"
    }
   ],
   "source": [
    "df['mvar37'].describe()"
   ]
  },
  {
   "cell_type": "code",
   "execution_count": 8340,
   "metadata": {},
   "outputs": [
    {
     "data": {
      "text/plain": [
       "0.0    5437\n",
       "1.0    1721\n",
       "Name: default_ind, dtype: int64"
      ]
     },
     "execution_count": 8340,
     "metadata": {},
     "output_type": "execute_result"
    }
   ],
   "source": [
    "col = df[df['mvar37']==2]\n",
    "col['default_ind'].value_counts()"
   ]
  },
  {
   "cell_type": "code",
   "execution_count": 8341,
   "metadata": {},
   "outputs": [
    {
     "data": {
      "text/html": [
       "<div>\n",
       "<style scoped>\n",
       "    .dataframe tbody tr th:only-of-type {\n",
       "        vertical-align: middle;\n",
       "    }\n",
       "\n",
       "    .dataframe tbody tr th {\n",
       "        vertical-align: top;\n",
       "    }\n",
       "\n",
       "    .dataframe thead th {\n",
       "        text-align: right;\n",
       "    }\n",
       "</style>\n",
       "<table border=\"1\" class=\"dataframe\">\n",
       "  <thead>\n",
       "    <tr style=\"text-align: right;\">\n",
       "      <th></th>\n",
       "      <th>mvar37</th>\n",
       "      <th>default_ind</th>\n",
       "    </tr>\n",
       "  </thead>\n",
       "  <tbody>\n",
       "    <tr>\n",
       "      <th>mvar37</th>\n",
       "      <td>1.000000</td>\n",
       "      <td>-0.212465</td>\n",
       "    </tr>\n",
       "    <tr>\n",
       "      <th>default_ind</th>\n",
       "      <td>-0.212465</td>\n",
       "      <td>1.000000</td>\n",
       "    </tr>\n",
       "  </tbody>\n",
       "</table>\n",
       "</div>"
      ],
      "text/plain": [
       "               mvar37  default_ind\n",
       "mvar37       1.000000    -0.212465\n",
       "default_ind -0.212465     1.000000"
      ]
     },
     "execution_count": 8341,
     "metadata": {},
     "output_type": "execute_result"
    }
   ],
   "source": [
    "df[['mvar37','default_ind']].corr()"
   ]
  },
  {
   "cell_type": "code",
   "execution_count": 8342,
   "metadata": {},
   "outputs": [
    {
     "name": "stdout",
     "output_type": "stream",
     "text": [
      "nan\n",
      "<class 'numpy.ndarray'>\n"
     ]
    }
   ],
   "source": [
    "arr=np.array(df['mvar37'].tolist())\n",
    "import random\n",
    "print (np.nan)\n",
    "print (type(arr))\n",
    "for i in range (len(arr)):\n",
    "    if arr[i]>4:\n",
    "        arr[i]=7\n",
    "df['mvar37']=arr"
   ]
  },
  {
   "cell_type": "code",
   "execution_count": 8343,
   "metadata": {},
   "outputs": [
    {
     "name": "stdout",
     "output_type": "stream",
     "text": [
      "nan\n",
      "<class 'numpy.ndarray'>\n"
     ]
    }
   ],
   "source": [
    "arr=np.array(df['mvar37'].tolist())\n",
    "import random\n",
    "print (np.nan)\n",
    "print (type(arr))\n",
    "for i in range (len(arr)):\n",
    "    if np.isnan(arr[i]):\n",
    "        arr[i]=random.randint(0,1)\n",
    "df['mvar37']=arr\n",
    "    "
   ]
  },
  {
   "cell_type": "code",
   "execution_count": 8344,
   "metadata": {},
   "outputs": [
    {
     "name": "stdout",
     "output_type": "stream",
     "text": [
      "<class 'pandas.core.frame.DataFrame'>\n",
      "Int64Index: 76361 entries, 0 to 79999\n",
      "Data columns (total 37 columns):\n",
      "application_key    76361 non-null float64\n",
      "mvar1              76361 non-null float64\n",
      "mvar2              76361 non-null float64\n",
      "mvar4              76361 non-null float64\n",
      "mvar5              76361 non-null float64\n",
      "mvar34             76361 non-null float64\n",
      "mvar36             76361 non-null float64\n",
      "mvar37             76361 non-null float64\n",
      "mvar38             76361 non-null float64\n",
      "mvar39             73175 non-null float64\n",
      "mvar40             17422 non-null float64\n",
      "mvar41             25363 non-null float64\n",
      "mvar42             75638 non-null float64\n",
      "mvar43             76208 non-null float64\n",
      "mvar44             71641 non-null float64\n",
      "mvar45             34999 non-null float64\n",
      "mvar46             56666 non-null float64\n",
      "mvar47             76361 non-null float64\n",
      "default_ind        76361 non-null float64\n",
      "binned_mvar6       76361 non-null float64\n",
      "binned_mvar1       76361 non-null category\n",
      "binned_mvar7       76361 non-null float64\n",
      "binned_mvar9       76361 non-null float64\n",
      "mvar48             76361 non-null float64\n",
      "binned_mvar10      76361 non-null int64\n",
      "binned_mvar12      76361 non-null float64\n",
      "binned_mvar13      76361 non-null float64\n",
      "binned_mvar14      76361 non-null category\n",
      "mvar52             76361 non-null float64\n",
      "mvar53             76361 non-null float64\n",
      "binned_mvar21      76361 non-null float64\n",
      "binned_mvar22      76361 non-null float64\n",
      "binned_mvar24      76361 non-null float64\n",
      "mvar50             76361 non-null float64\n",
      "mvar51             76361 non-null float64\n",
      "binned_mvar32      76361 non-null float64\n",
      "binned_mvar33      76361 non-null float64\n",
      "dtypes: category(2), float64(34), int64(1)\n",
      "memory usage: 21.1 MB\n"
     ]
    }
   ],
   "source": [
    "df.info()"
   ]
  },
  {
   "cell_type": "code",
   "execution_count": 8345,
   "metadata": {},
   "outputs": [
    {
     "data": {
      "text/plain": [
       "count    76361.000000\n",
       "mean         4.368814\n",
       "std          3.971002\n",
       "min          0.000000\n",
       "25%          2.000000\n",
       "50%          3.000000\n",
       "75%          6.000000\n",
       "max         95.000000\n",
       "Name: mvar38, dtype: float64"
      ]
     },
     "execution_count": 8345,
     "metadata": {},
     "output_type": "execute_result"
    }
   ],
   "source": [
    "df['mvar38'].describe()"
   ]
  },
  {
   "cell_type": "code",
   "execution_count": 8346,
   "metadata": {},
   "outputs": [
    {
     "data": {
      "text/plain": [
       "0.0    5498\n",
       "1.0     834\n",
       "Name: default_ind, dtype: int64"
      ]
     },
     "execution_count": 8346,
     "metadata": {},
     "output_type": "execute_result"
    }
   ],
   "source": [
    "col = df[df['mvar38']==0]\n",
    "col['default_ind'].value_counts()"
   ]
  },
  {
   "cell_type": "code",
   "execution_count": 8347,
   "metadata": {},
   "outputs": [],
   "source": [
    "df['mvar38'] = df['mvar38'].replace([7,8,9,10],[7,7,7,7])"
   ]
  },
  {
   "cell_type": "code",
   "execution_count": 8348,
   "metadata": {},
   "outputs": [
    {
     "name": "stdout",
     "output_type": "stream",
     "text": [
      "nan\n",
      "<class 'numpy.ndarray'>\n"
     ]
    }
   ],
   "source": [
    "arr=np.array(df['mvar38'].tolist())\n",
    "import random\n",
    "print (np.nan)\n",
    "print (type(arr))\n",
    "for i in range (len(arr)):\n",
    "    if arr[i]>7:\n",
    "        arr[i]=8\n",
    "df['mvar38']=arr"
   ]
  },
  {
   "cell_type": "code",
   "execution_count": 8349,
   "metadata": {},
   "outputs": [
    {
     "data": {
      "text/plain": [
       "count    73175.000000\n",
       "mean         0.091438\n",
       "std          0.421061\n",
       "min          0.000000\n",
       "25%          0.000000\n",
       "50%          0.000000\n",
       "75%          0.000000\n",
       "max         21.000000\n",
       "Name: mvar39, dtype: float64"
      ]
     },
     "execution_count": 8349,
     "metadata": {},
     "output_type": "execute_result"
    }
   ],
   "source": [
    "df['mvar39'].describe()"
   ]
  },
  {
   "cell_type": "code",
   "execution_count": 8350,
   "metadata": {},
   "outputs": [
    {
     "name": "stdout",
     "output_type": "stream",
     "text": [
      "<class 'pandas.core.frame.DataFrame'>\n",
      "Int64Index: 68067 entries, 1 to 79999\n",
      "Data columns (total 37 columns):\n",
      "application_key    68067 non-null float64\n",
      "mvar1              68067 non-null float64\n",
      "mvar2              68067 non-null float64\n",
      "mvar4              68067 non-null float64\n",
      "mvar5              68067 non-null float64\n",
      "mvar34             68067 non-null float64\n",
      "mvar36             68067 non-null float64\n",
      "mvar37             68067 non-null float64\n",
      "mvar38             68067 non-null float64\n",
      "mvar39             68067 non-null float64\n",
      "mvar40             15798 non-null float64\n",
      "mvar41             23005 non-null float64\n",
      "mvar42             67376 non-null float64\n",
      "mvar43             67915 non-null float64\n",
      "mvar44             66544 non-null float64\n",
      "mvar45             32187 non-null float64\n",
      "mvar46             50858 non-null float64\n",
      "mvar47             68067 non-null float64\n",
      "default_ind        68067 non-null float64\n",
      "binned_mvar6       68067 non-null float64\n",
      "binned_mvar1       68067 non-null category\n",
      "binned_mvar7       68067 non-null float64\n",
      "binned_mvar9       68067 non-null float64\n",
      "mvar48             68067 non-null float64\n",
      "binned_mvar10      68067 non-null int64\n",
      "binned_mvar12      68067 non-null float64\n",
      "binned_mvar13      68067 non-null float64\n",
      "binned_mvar14      68067 non-null category\n",
      "mvar52             68067 non-null float64\n",
      "mvar53             68067 non-null float64\n",
      "binned_mvar21      68067 non-null float64\n",
      "binned_mvar22      68067 non-null float64\n",
      "binned_mvar24      68067 non-null float64\n",
      "mvar50             68067 non-null float64\n",
      "mvar51             68067 non-null float64\n",
      "binned_mvar32      68067 non-null float64\n",
      "binned_mvar33      68067 non-null float64\n",
      "dtypes: category(2), float64(34), int64(1)\n",
      "memory usage: 18.8 MB\n"
     ]
    }
   ],
   "source": [
    "df[df['mvar39']==0].info()"
   ]
  },
  {
   "cell_type": "code",
   "execution_count": 8351,
   "metadata": {},
   "outputs": [],
   "source": [
    "df['mvar39'] = df['mvar39'].fillna(0)"
   ]
  },
  {
   "cell_type": "code",
   "execution_count": 8354,
   "metadata": {},
   "outputs": [
    {
     "data": {
      "text/plain": [
       "1.0    18\n",
       "0.0     7\n",
       "Name: default_ind, dtype: int64"
      ]
     },
     "execution_count": 8354,
     "metadata": {},
     "output_type": "execute_result"
    }
   ],
   "source": [
    "col = df[df['mvar39']==5]\n",
    "col['default_ind'].value_counts()"
   ]
  },
  {
   "cell_type": "code",
   "execution_count": 8355,
   "metadata": {},
   "outputs": [],
   "source": [
    "df['mvar39'] = df['mvar39'].replace([0,1,2,3,4,5,6,7,8,9,10,11,12,13,14,15,21],[0,1,2,3,4,4,4,4,4,4,4,4,4,4,4,4,4])"
   ]
  },
  {
   "cell_type": "code",
   "execution_count": 8356,
   "metadata": {},
   "outputs": [],
   "source": [
    "df.drop(['mvar40','mvar41'],axis =1,inplace=True)"
   ]
  },
  {
   "cell_type": "code",
   "execution_count": 8357,
   "metadata": {},
   "outputs": [
    {
     "name": "stdout",
     "output_type": "stream",
     "text": [
      "<class 'pandas.core.frame.DataFrame'>\n",
      "Int64Index: 76361 entries, 0 to 79999\n",
      "Data columns (total 35 columns):\n",
      "application_key    76361 non-null float64\n",
      "mvar1              76361 non-null float64\n",
      "mvar2              76361 non-null float64\n",
      "mvar4              76361 non-null float64\n",
      "mvar5              76361 non-null float64\n",
      "mvar34             76361 non-null float64\n",
      "mvar36             76361 non-null float64\n",
      "mvar37             76361 non-null float64\n",
      "mvar38             76361 non-null float64\n",
      "mvar39             76361 non-null float64\n",
      "mvar42             75638 non-null float64\n",
      "mvar43             76208 non-null float64\n",
      "mvar44             71641 non-null float64\n",
      "mvar45             34999 non-null float64\n",
      "mvar46             56666 non-null float64\n",
      "mvar47             76361 non-null float64\n",
      "default_ind        76361 non-null float64\n",
      "binned_mvar6       76361 non-null float64\n",
      "binned_mvar1       76361 non-null category\n",
      "binned_mvar7       76361 non-null float64\n",
      "binned_mvar9       76361 non-null float64\n",
      "mvar48             76361 non-null float64\n",
      "binned_mvar10      76361 non-null int64\n",
      "binned_mvar12      76361 non-null float64\n",
      "binned_mvar13      76361 non-null float64\n",
      "binned_mvar14      76361 non-null category\n",
      "mvar52             76361 non-null float64\n",
      "mvar53             76361 non-null float64\n",
      "binned_mvar21      76361 non-null float64\n",
      "binned_mvar22      76361 non-null float64\n",
      "binned_mvar24      76361 non-null float64\n",
      "mvar50             76361 non-null float64\n",
      "mvar51             76361 non-null float64\n",
      "binned_mvar32      76361 non-null float64\n",
      "binned_mvar33      76361 non-null float64\n",
      "dtypes: category(2), float64(32), int64(1)\n",
      "memory usage: 20.0 MB\n"
     ]
    }
   ],
   "source": [
    "df.info()"
   ]
  },
  {
   "cell_type": "code",
   "execution_count": 8358,
   "metadata": {},
   "outputs": [
    {
     "data": {
      "text/plain": [
       "count    75638.000000\n",
       "mean         0.310008\n",
       "std          0.345191\n",
       "min          0.000000\n",
       "25%          0.000000\n",
       "50%          0.187500\n",
       "75%          0.529410\n",
       "max          2.000000\n",
       "Name: mvar42, dtype: float64"
      ]
     },
     "execution_count": 8358,
     "metadata": {},
     "output_type": "execute_result"
    }
   ],
   "source": [
    "df['mvar42'].describe()"
   ]
  },
  {
   "cell_type": "code",
   "execution_count": 8359,
   "metadata": {},
   "outputs": [],
   "source": [
    "df= df.astype(float)"
   ]
  },
  {
   "cell_type": "code",
   "execution_count": 8360,
   "metadata": {},
   "outputs": [
    {
     "data": {
      "text/html": [
       "<div>\n",
       "<style scoped>\n",
       "    .dataframe tbody tr th:only-of-type {\n",
       "        vertical-align: middle;\n",
       "    }\n",
       "\n",
       "    .dataframe tbody tr th {\n",
       "        vertical-align: top;\n",
       "    }\n",
       "\n",
       "    .dataframe thead th {\n",
       "        text-align: right;\n",
       "    }\n",
       "</style>\n",
       "<table border=\"1\" class=\"dataframe\">\n",
       "  <thead>\n",
       "    <tr style=\"text-align: right;\">\n",
       "      <th></th>\n",
       "      <th>mvar42</th>\n",
       "      <th>default_ind</th>\n",
       "    </tr>\n",
       "  </thead>\n",
       "  <tbody>\n",
       "    <tr>\n",
       "      <th>mvar42</th>\n",
       "      <td>1.000000</td>\n",
       "      <td>0.336829</td>\n",
       "    </tr>\n",
       "    <tr>\n",
       "      <th>default_ind</th>\n",
       "      <td>0.336829</td>\n",
       "      <td>1.000000</td>\n",
       "    </tr>\n",
       "  </tbody>\n",
       "</table>\n",
       "</div>"
      ],
      "text/plain": [
       "               mvar42  default_ind\n",
       "mvar42       1.000000     0.336829\n",
       "default_ind  0.336829     1.000000"
      ]
     },
     "execution_count": 8360,
     "metadata": {},
     "output_type": "execute_result"
    }
   ],
   "source": [
    "df[['mvar42','default_ind']].corr()"
   ]
  },
  {
   "cell_type": "code",
   "execution_count": 8361,
   "metadata": {},
   "outputs": [
    {
     "data": {
      "text/plain": [
       "0.0    57429\n",
       "1.0    18100\n",
       "Name: default_ind, dtype: int64"
      ]
     },
     "execution_count": 8361,
     "metadata": {},
     "output_type": "execute_result"
    }
   ],
   "source": [
    "col =  df[df['mvar42']<2]\n",
    "col['default_ind'].value_counts()"
   ]
  },
  {
   "cell_type": "code",
   "execution_count": 8362,
   "metadata": {},
   "outputs": [
    {
     "data": {
      "text/plain": [
       "0.0    58017\n",
       "1.0    18344\n",
       "Name: default_ind, dtype: int64"
      ]
     },
     "execution_count": 8362,
     "metadata": {},
     "output_type": "execute_result"
    }
   ],
   "source": [
    "df['default_ind'].value_counts()"
   ]
  },
  {
   "cell_type": "code",
   "execution_count": 8363,
   "metadata": {},
   "outputs": [],
   "source": [
    "df['mvar42'] = df['mvar42'].fillna(1)"
   ]
  },
  {
   "cell_type": "code",
   "execution_count": 8364,
   "metadata": {},
   "outputs": [
    {
     "name": "stdout",
     "output_type": "stream",
     "text": [
      "<class 'pandas.core.frame.DataFrame'>\n",
      "Int64Index: 76361 entries, 0 to 79999\n",
      "Data columns (total 35 columns):\n",
      "application_key    76361 non-null float64\n",
      "mvar1              76361 non-null float64\n",
      "mvar2              76361 non-null float64\n",
      "mvar4              76361 non-null float64\n",
      "mvar5              76361 non-null float64\n",
      "mvar34             76361 non-null float64\n",
      "mvar36             76361 non-null float64\n",
      "mvar37             76361 non-null float64\n",
      "mvar38             76361 non-null float64\n",
      "mvar39             76361 non-null float64\n",
      "mvar42             76361 non-null float64\n",
      "mvar43             76208 non-null float64\n",
      "mvar44             71641 non-null float64\n",
      "mvar45             34999 non-null float64\n",
      "mvar46             56666 non-null float64\n",
      "mvar47             76361 non-null float64\n",
      "default_ind        76361 non-null float64\n",
      "binned_mvar6       76361 non-null float64\n",
      "binned_mvar1       76361 non-null float64\n",
      "binned_mvar7       76361 non-null float64\n",
      "binned_mvar9       76361 non-null float64\n",
      "mvar48             76361 non-null float64\n",
      "binned_mvar10      76361 non-null float64\n",
      "binned_mvar12      76361 non-null float64\n",
      "binned_mvar13      76361 non-null float64\n",
      "binned_mvar14      76361 non-null float64\n",
      "mvar52             76361 non-null float64\n",
      "mvar53             76361 non-null float64\n",
      "binned_mvar21      76361 non-null float64\n",
      "binned_mvar22      76361 non-null float64\n",
      "binned_mvar24      76361 non-null float64\n",
      "mvar50             76361 non-null float64\n",
      "mvar51             76361 non-null float64\n",
      "binned_mvar32      76361 non-null float64\n",
      "binned_mvar33      76361 non-null float64\n",
      "dtypes: float64(35)\n",
      "memory usage: 21.0 MB\n"
     ]
    }
   ],
   "source": [
    "df.info()"
   ]
  },
  {
   "cell_type": "code",
   "execution_count": 8365,
   "metadata": {},
   "outputs": [
    {
     "data": {
      "text/plain": [
       "count    76208.000000\n",
       "mean         6.799864\n",
       "std          6.304258\n",
       "min          0.000000\n",
       "25%          2.000000\n",
       "50%          5.000000\n",
       "75%         10.000000\n",
       "max         91.000000\n",
       "Name: mvar43, dtype: float64"
      ]
     },
     "execution_count": 8365,
     "metadata": {},
     "output_type": "execute_result"
    }
   ],
   "source": [
    "df['mvar43'].describe()"
   ]
  },
  {
   "cell_type": "code",
   "execution_count": 8366,
   "metadata": {},
   "outputs": [
    {
     "data": {
      "text/plain": [
       "0.0    57918\n",
       "1.0    18290\n",
       "Name: default_ind, dtype: int64"
      ]
     },
     "execution_count": 8366,
     "metadata": {},
     "output_type": "execute_result"
    }
   ],
   "source": [
    "col =  df[df['mvar43']<7687]\n",
    "col['default_ind'].value_counts()"
   ]
  },
  {
   "cell_type": "code",
   "execution_count": 8367,
   "metadata": {},
   "outputs": [
    {
     "data": {
      "text/plain": [
       "0.0    58017\n",
       "1.0    18344\n",
       "Name: default_ind, dtype: int64"
      ]
     },
     "execution_count": 8367,
     "metadata": {},
     "output_type": "execute_result"
    }
   ],
   "source": [
    "df['default_ind'].value_counts()"
   ]
  },
  {
   "cell_type": "code",
   "execution_count": 8368,
   "metadata": {},
   "outputs": [
    {
     "data": {
      "text/html": [
       "<div>\n",
       "<style scoped>\n",
       "    .dataframe tbody tr th:only-of-type {\n",
       "        vertical-align: middle;\n",
       "    }\n",
       "\n",
       "    .dataframe tbody tr th {\n",
       "        vertical-align: top;\n",
       "    }\n",
       "\n",
       "    .dataframe thead th {\n",
       "        text-align: right;\n",
       "    }\n",
       "</style>\n",
       "<table border=\"1\" class=\"dataframe\">\n",
       "  <thead>\n",
       "    <tr style=\"text-align: right;\">\n",
       "      <th></th>\n",
       "      <th>mvar43</th>\n",
       "      <th>default_ind</th>\n",
       "    </tr>\n",
       "  </thead>\n",
       "  <tbody>\n",
       "    <tr>\n",
       "      <th>mvar43</th>\n",
       "      <td>1.000000</td>\n",
       "      <td>-0.161969</td>\n",
       "    </tr>\n",
       "    <tr>\n",
       "      <th>default_ind</th>\n",
       "      <td>-0.161969</td>\n",
       "      <td>1.000000</td>\n",
       "    </tr>\n",
       "  </tbody>\n",
       "</table>\n",
       "</div>"
      ],
      "text/plain": [
       "               mvar43  default_ind\n",
       "mvar43       1.000000    -0.161969\n",
       "default_ind -0.161969     1.000000"
      ]
     },
     "execution_count": 8368,
     "metadata": {},
     "output_type": "execute_result"
    }
   ],
   "source": [
    "df[['mvar43','default_ind']].corr()"
   ]
  },
  {
   "cell_type": "code",
   "execution_count": 8369,
   "metadata": {},
   "outputs": [],
   "source": [
    "df['mvar43'] = df['mvar43'].replace([6,7,8,9,10],[6,6,6,6,6])"
   ]
  },
  {
   "cell_type": "code",
   "execution_count": 8370,
   "metadata": {},
   "outputs": [
    {
     "name": "stdout",
     "output_type": "stream",
     "text": [
      "nan\n",
      "<class 'numpy.ndarray'>\n"
     ]
    }
   ],
   "source": [
    "arr=np.array(df['mvar43'].tolist())\n",
    "import random\n",
    "print (np.nan)\n",
    "print (type(arr))\n",
    "for i in range (len(arr)):\n",
    "    if arr[i]>6:\n",
    "        arr[i]=7\n",
    "df['mvar43']=arr"
   ]
  },
  {
   "cell_type": "code",
   "execution_count": 8371,
   "metadata": {},
   "outputs": [
    {
     "name": "stdout",
     "output_type": "stream",
     "text": [
      "nan\n",
      "<class 'numpy.ndarray'>\n"
     ]
    }
   ],
   "source": [
    "arr=np.array(df['mvar43'].tolist())\n",
    "import random\n",
    "print (np.nan)\n",
    "print (type(arr))\n",
    "for i in range (len(arr)):\n",
    "    if np.isnan(arr[i]):\n",
    "        arr[i]=random.randint(0,1)\n",
    "df['mvar43']=arr\n",
    "    "
   ]
  },
  {
   "cell_type": "code",
   "execution_count": 8372,
   "metadata": {},
   "outputs": [
    {
     "name": "stdout",
     "output_type": "stream",
     "text": [
      "<class 'pandas.core.frame.DataFrame'>\n",
      "Int64Index: 76361 entries, 0 to 79999\n",
      "Data columns (total 35 columns):\n",
      "application_key    76361 non-null float64\n",
      "mvar1              76361 non-null float64\n",
      "mvar2              76361 non-null float64\n",
      "mvar4              76361 non-null float64\n",
      "mvar5              76361 non-null float64\n",
      "mvar34             76361 non-null float64\n",
      "mvar36             76361 non-null float64\n",
      "mvar37             76361 non-null float64\n",
      "mvar38             76361 non-null float64\n",
      "mvar39             76361 non-null float64\n",
      "mvar42             76361 non-null float64\n",
      "mvar43             76361 non-null float64\n",
      "mvar44             71641 non-null float64\n",
      "mvar45             34999 non-null float64\n",
      "mvar46             56666 non-null float64\n",
      "mvar47             76361 non-null float64\n",
      "default_ind        76361 non-null float64\n",
      "binned_mvar6       76361 non-null float64\n",
      "binned_mvar1       76361 non-null float64\n",
      "binned_mvar7       76361 non-null float64\n",
      "binned_mvar9       76361 non-null float64\n",
      "mvar48             76361 non-null float64\n",
      "binned_mvar10      76361 non-null float64\n",
      "binned_mvar12      76361 non-null float64\n",
      "binned_mvar13      76361 non-null float64\n",
      "binned_mvar14      76361 non-null float64\n",
      "mvar52             76361 non-null float64\n",
      "mvar53             76361 non-null float64\n",
      "binned_mvar21      76361 non-null float64\n",
      "binned_mvar22      76361 non-null float64\n",
      "binned_mvar24      76361 non-null float64\n",
      "mvar50             76361 non-null float64\n",
      "mvar51             76361 non-null float64\n",
      "binned_mvar32      76361 non-null float64\n",
      "binned_mvar33      76361 non-null float64\n",
      "dtypes: float64(35)\n",
      "memory usage: 21.0 MB\n"
     ]
    }
   ],
   "source": [
    "df.info()"
   ]
  },
  {
   "cell_type": "code",
   "execution_count": 8107,
   "metadata": {},
   "outputs": [
    {
     "data": {
      "text/plain": [
       "count    71641.000000\n",
       "mean         0.703248\n",
       "std          0.245637\n",
       "min          0.060660\n",
       "25%          0.513530\n",
       "50%          0.734060\n",
       "75%          0.939960\n",
       "max          1.000000\n",
       "Name: mvar44, dtype: float64"
      ]
     },
     "execution_count": 8107,
     "metadata": {},
     "output_type": "execute_result"
    }
   ],
   "source": [
    "df['mvar44'].describe()"
   ]
  },
  {
   "cell_type": "code",
   "execution_count": 8373,
   "metadata": {},
   "outputs": [
    {
     "data": {
      "text/html": [
       "<div>\n",
       "<style scoped>\n",
       "    .dataframe tbody tr th:only-of-type {\n",
       "        vertical-align: middle;\n",
       "    }\n",
       "\n",
       "    .dataframe tbody tr th {\n",
       "        vertical-align: top;\n",
       "    }\n",
       "\n",
       "    .dataframe thead th {\n",
       "        text-align: right;\n",
       "    }\n",
       "</style>\n",
       "<table border=\"1\" class=\"dataframe\">\n",
       "  <thead>\n",
       "    <tr style=\"text-align: right;\">\n",
       "      <th></th>\n",
       "      <th>mvar44</th>\n",
       "      <th>default_ind</th>\n",
       "    </tr>\n",
       "  </thead>\n",
       "  <tbody>\n",
       "    <tr>\n",
       "      <th>mvar44</th>\n",
       "      <td>1.000000</td>\n",
       "      <td>-0.068233</td>\n",
       "    </tr>\n",
       "    <tr>\n",
       "      <th>default_ind</th>\n",
       "      <td>-0.068233</td>\n",
       "      <td>1.000000</td>\n",
       "    </tr>\n",
       "  </tbody>\n",
       "</table>\n",
       "</div>"
      ],
      "text/plain": [
       "               mvar44  default_ind\n",
       "mvar44       1.000000    -0.068233\n",
       "default_ind -0.068233     1.000000"
      ]
     },
     "execution_count": 8373,
     "metadata": {},
     "output_type": "execute_result"
    }
   ],
   "source": [
    "df[['mvar44','default_ind']].corr()"
   ]
  },
  {
   "cell_type": "code",
   "execution_count": 8374,
   "metadata": {},
   "outputs": [
    {
     "data": {
      "text/plain": [
       "0.0    6275\n",
       "1.0    2642\n",
       "Name: default_ind, dtype: int64"
      ]
     },
     "execution_count": 8374,
     "metadata": {},
     "output_type": "execute_result"
    }
   ],
   "source": [
    "col = df[df['mvar44']==1]\n",
    "col['default_ind'].value_counts()"
   ]
  },
  {
   "cell_type": "code",
   "execution_count": 8375,
   "metadata": {},
   "outputs": [],
   "source": [
    "df['mvar44']= df['mvar44'].fillna(0.703936)"
   ]
  },
  {
   "cell_type": "code",
   "execution_count": 8376,
   "metadata": {},
   "outputs": [
    {
     "data": {
      "text/plain": [
       "0.0    32762\n",
       "1.0     2030\n",
       "2.0      180\n",
       "3.0       20\n",
       "4.0        4\n",
       "5.0        3\n",
       "Name: mvar45, dtype: int64"
      ]
     },
     "execution_count": 8376,
     "metadata": {},
     "output_type": "execute_result"
    }
   ],
   "source": [
    "df['mvar45'].value_counts()"
   ]
  },
  {
   "cell_type": "code",
   "execution_count": 8377,
   "metadata": {},
   "outputs": [],
   "source": [
    "col =  df[df['mvar45']>0]"
   ]
  },
  {
   "cell_type": "code",
   "execution_count": 8378,
   "metadata": {},
   "outputs": [
    {
     "data": {
      "text/plain": [
       "0.0    1429\n",
       "1.0     808\n",
       "Name: default_ind, dtype: int64"
      ]
     },
     "execution_count": 8378,
     "metadata": {},
     "output_type": "execute_result"
    }
   ],
   "source": [
    "col['default_ind'].value_counts()"
   ]
  },
  {
   "cell_type": "code",
   "execution_count": 8379,
   "metadata": {},
   "outputs": [],
   "source": [
    "df.drop(['mvar44','mvar45'],axis=1,inplace=True)"
   ]
  },
  {
   "cell_type": "code",
   "execution_count": 8380,
   "metadata": {},
   "outputs": [
    {
     "data": {
      "text/plain": [
       "0.0     51842\n",
       "1.0      4253\n",
       "2.0       506\n",
       "3.0        54\n",
       "4.0         6\n",
       "5.0         3\n",
       "19.0        1\n",
       "9.0         1\n",
       "Name: mvar46, dtype: int64"
      ]
     },
     "execution_count": 8380,
     "metadata": {},
     "output_type": "execute_result"
    }
   ],
   "source": [
    "df['mvar46'].value_counts()"
   ]
  },
  {
   "cell_type": "code",
   "execution_count": 8382,
   "metadata": {},
   "outputs": [
    {
     "data": {
      "text/html": [
       "<div>\n",
       "<style scoped>\n",
       "    .dataframe tbody tr th:only-of-type {\n",
       "        vertical-align: middle;\n",
       "    }\n",
       "\n",
       "    .dataframe tbody tr th {\n",
       "        vertical-align: top;\n",
       "    }\n",
       "\n",
       "    .dataframe thead th {\n",
       "        text-align: right;\n",
       "    }\n",
       "</style>\n",
       "<table border=\"1\" class=\"dataframe\">\n",
       "  <thead>\n",
       "    <tr style=\"text-align: right;\">\n",
       "      <th></th>\n",
       "      <th>mvar46</th>\n",
       "      <th>default_ind</th>\n",
       "    </tr>\n",
       "  </thead>\n",
       "  <tbody>\n",
       "    <tr>\n",
       "      <th>mvar46</th>\n",
       "      <td>1.000000</td>\n",
       "      <td>0.188241</td>\n",
       "    </tr>\n",
       "    <tr>\n",
       "      <th>default_ind</th>\n",
       "      <td>0.188241</td>\n",
       "      <td>1.000000</td>\n",
       "    </tr>\n",
       "  </tbody>\n",
       "</table>\n",
       "</div>"
      ],
      "text/plain": [
       "               mvar46  default_ind\n",
       "mvar46       1.000000     0.188241\n",
       "default_ind  0.188241     1.000000"
      ]
     },
     "execution_count": 8382,
     "metadata": {},
     "output_type": "execute_result"
    }
   ],
   "source": [
    "df[['mvar46','default_ind']].corr()"
   ]
  },
  {
   "cell_type": "code",
   "execution_count": 8383,
   "metadata": {},
   "outputs": [
    {
     "data": {
      "text/plain": [
       "1.0    288\n",
       "0.0    218\n",
       "Name: default_ind, dtype: int64"
      ]
     },
     "execution_count": 8383,
     "metadata": {},
     "output_type": "execute_result"
    }
   ],
   "source": [
    "col =  df[df['mvar46']==2]\n",
    "col['default_ind'].value_counts()"
   ]
  },
  {
   "cell_type": "code",
   "execution_count": 8384,
   "metadata": {},
   "outputs": [],
   "source": [
    "df['mvar46'] = df['mvar46'].replace([2,3,4,5,19,9],[2,2,2,2,2,2])"
   ]
  },
  {
   "cell_type": "code",
   "execution_count": 8385,
   "metadata": {},
   "outputs": [
    {
     "name": "stdout",
     "output_type": "stream",
     "text": [
      "nan\n",
      "<class 'numpy.ndarray'>\n"
     ]
    }
   ],
   "source": [
    "arr=np.array(df['mvar46'].tolist())\n",
    "import random\n",
    "print (np.nan)\n",
    "print (type(arr))\n",
    "for i in range (len(arr)):\n",
    "    if np.isnan(arr[i]):\n",
    "        arr[i]=random.randint(0,0)\n",
    "df['mvar46']=arr\n",
    "    "
   ]
  },
  {
   "cell_type": "code",
   "execution_count": 8386,
   "metadata": {},
   "outputs": [],
   "source": [
    "df = df.astype(float)"
   ]
  },
  {
   "cell_type": "code",
   "execution_count": 8387,
   "metadata": {},
   "outputs": [],
   "source": [
    "df.drop('mvar1',axis=1,inplace=True)"
   ]
  },
  {
   "cell_type": "code",
   "execution_count": 8388,
   "metadata": {},
   "outputs": [
    {
     "data": {
      "text/html": [
       "<div>\n",
       "<style scoped>\n",
       "    .dataframe tbody tr th:only-of-type {\n",
       "        vertical-align: middle;\n",
       "    }\n",
       "\n",
       "    .dataframe tbody tr th {\n",
       "        vertical-align: top;\n",
       "    }\n",
       "\n",
       "    .dataframe thead th {\n",
       "        text-align: right;\n",
       "    }\n",
       "</style>\n",
       "<table border=\"1\" class=\"dataframe\">\n",
       "  <thead>\n",
       "    <tr style=\"text-align: right;\">\n",
       "      <th></th>\n",
       "      <th>mvar34</th>\n",
       "      <th>mvar36</th>\n",
       "      <th>mvar37</th>\n",
       "      <th>mvar38</th>\n",
       "      <th>mvar39</th>\n",
       "      <th>default_ind</th>\n",
       "    </tr>\n",
       "  </thead>\n",
       "  <tbody>\n",
       "    <tr>\n",
       "      <th>mvar34</th>\n",
       "      <td>1.000000</td>\n",
       "      <td>0.180083</td>\n",
       "      <td>-0.009666</td>\n",
       "      <td>0.093560</td>\n",
       "      <td>0.567459</td>\n",
       "      <td>0.171678</td>\n",
       "    </tr>\n",
       "    <tr>\n",
       "      <th>mvar36</th>\n",
       "      <td>0.180083</td>\n",
       "      <td>1.000000</td>\n",
       "      <td>0.015177</td>\n",
       "      <td>0.530117</td>\n",
       "      <td>0.142973</td>\n",
       "      <td>0.181578</td>\n",
       "    </tr>\n",
       "    <tr>\n",
       "      <th>mvar37</th>\n",
       "      <td>-0.009666</td>\n",
       "      <td>0.015177</td>\n",
       "      <td>1.000000</td>\n",
       "      <td>-0.137872</td>\n",
       "      <td>-0.039076</td>\n",
       "      <td>-0.265130</td>\n",
       "    </tr>\n",
       "    <tr>\n",
       "      <th>mvar38</th>\n",
       "      <td>0.093560</td>\n",
       "      <td>0.530117</td>\n",
       "      <td>-0.137872</td>\n",
       "      <td>1.000000</td>\n",
       "      <td>0.067747</td>\n",
       "      <td>0.166371</td>\n",
       "    </tr>\n",
       "    <tr>\n",
       "      <th>mvar39</th>\n",
       "      <td>0.567459</td>\n",
       "      <td>0.142973</td>\n",
       "      <td>-0.039076</td>\n",
       "      <td>0.067747</td>\n",
       "      <td>1.000000</td>\n",
       "      <td>0.155279</td>\n",
       "    </tr>\n",
       "    <tr>\n",
       "      <th>default_ind</th>\n",
       "      <td>0.171678</td>\n",
       "      <td>0.181578</td>\n",
       "      <td>-0.265130</td>\n",
       "      <td>0.166371</td>\n",
       "      <td>0.155279</td>\n",
       "      <td>1.000000</td>\n",
       "    </tr>\n",
       "  </tbody>\n",
       "</table>\n",
       "</div>"
      ],
      "text/plain": [
       "               mvar34    mvar36    mvar37    mvar38    mvar39  default_ind\n",
       "mvar34       1.000000  0.180083 -0.009666  0.093560  0.567459     0.171678\n",
       "mvar36       0.180083  1.000000  0.015177  0.530117  0.142973     0.181578\n",
       "mvar37      -0.009666  0.015177  1.000000 -0.137872 -0.039076    -0.265130\n",
       "mvar38       0.093560  0.530117 -0.137872  1.000000  0.067747     0.166371\n",
       "mvar39       0.567459  0.142973 -0.039076  0.067747  1.000000     0.155279\n",
       "default_ind  0.171678  0.181578 -0.265130  0.166371  0.155279     1.000000"
      ]
     },
     "execution_count": 8388,
     "metadata": {},
     "output_type": "execute_result"
    }
   ],
   "source": [
    "dframe = df[['mvar34','mvar36','mvar37','mvar38','mvar39','default_ind']]\n",
    "dframe.corr()"
   ]
  },
  {
   "cell_type": "code",
   "execution_count": 8152,
   "metadata": {},
   "outputs": [],
   "source": [
    "#df.drop(['mvar38','mvar39'],axis=1,inplace=True)"
   ]
  },
  {
   "cell_type": "code",
   "execution_count": 8389,
   "metadata": {},
   "outputs": [],
   "source": [
    "y = df['default_ind']"
   ]
  },
  {
   "cell_type": "code",
   "execution_count": 1,
   "metadata": {},
   "outputs": [
    {
     "ename": "NameError",
     "evalue": "name 'df' is not defined",
     "output_type": "error",
     "traceback": [
      "\u001b[1;31m---------------------------------------------------------------------------\u001b[0m",
      "\u001b[1;31mNameError\u001b[0m                                 Traceback (most recent call last)",
      "\u001b[1;32m<ipython-input-1-7edab3c6eba6>\u001b[0m in \u001b[0;36m<module>\u001b[1;34m()\u001b[0m\n\u001b[0;32m      1\u001b[0m \u001b[1;33m\u001b[0m\u001b[0m\n\u001b[1;32m----> 2\u001b[1;33m \u001b[0mdf\u001b[0m\u001b[1;33m.\u001b[0m\u001b[0mdrop\u001b[0m\u001b[1;33m(\u001b[0m\u001b[1;33m[\u001b[0m\u001b[1;34m'application_key'\u001b[0m\u001b[1;33m,\u001b[0m\u001b[1;34m'default_ind'\u001b[0m\u001b[1;33m]\u001b[0m\u001b[1;33m,\u001b[0m\u001b[0maxis\u001b[0m\u001b[1;33m=\u001b[0m\u001b[1;36m1\u001b[0m\u001b[1;33m,\u001b[0m\u001b[0minplace\u001b[0m\u001b[1;33m=\u001b[0m\u001b[1;32mTrue\u001b[0m\u001b[1;33m)\u001b[0m\u001b[1;33m\u001b[0m\u001b[0m\n\u001b[0m",
      "\u001b[1;31mNameError\u001b[0m: name 'df' is not defined"
     ]
    }
   ],
   "source": [
    "\n",
    "df.drop(['application_key','default_ind'],axis=1,inplace=True)"
   ]
  },
  {
   "cell_type": "code",
   "execution_count": 2,
   "metadata": {},
   "outputs": [
    {
     "ename": "NameError",
     "evalue": "name 'df' is not defined",
     "output_type": "error",
     "traceback": [
      "\u001b[1;31m---------------------------------------------------------------------------\u001b[0m",
      "\u001b[1;31mNameError\u001b[0m                                 Traceback (most recent call last)",
      "\u001b[1;32m<ipython-input-2-a74c58233b9e>\u001b[0m in \u001b[0;36m<module>\u001b[1;34m()\u001b[0m\n\u001b[1;32m----> 1\u001b[1;33m \u001b[0mdf\u001b[0m\u001b[1;33m.\u001b[0m\u001b[0minfo\u001b[0m\u001b[1;33m(\u001b[0m\u001b[1;33m)\u001b[0m\u001b[1;33m\u001b[0m\u001b[0m\n\u001b[0m",
      "\u001b[1;31mNameError\u001b[0m: name 'df' is not defined"
     ]
    }
   ],
   "source": [
    "df.info()"
   ]
  },
  {
   "cell_type": "code",
   "execution_count": 8393,
   "metadata": {},
   "outputs": [],
   "source": [
    "df['default_ind'] = y"
   ]
  },
  {
   "cell_type": "code",
   "execution_count": 8394,
   "metadata": {},
   "outputs": [
    {
     "data": {
      "text/html": [
       "<div>\n",
       "<style scoped>\n",
       "    .dataframe tbody tr th:only-of-type {\n",
       "        vertical-align: middle;\n",
       "    }\n",
       "\n",
       "    .dataframe tbody tr th {\n",
       "        vertical-align: top;\n",
       "    }\n",
       "\n",
       "    .dataframe thead th {\n",
       "        text-align: right;\n",
       "    }\n",
       "</style>\n",
       "<table border=\"1\" class=\"dataframe\">\n",
       "  <thead>\n",
       "    <tr style=\"text-align: right;\">\n",
       "      <th></th>\n",
       "      <th>binned_mvar10</th>\n",
       "      <th>binned_mvar6</th>\n",
       "      <th>binned_mvar9</th>\n",
       "      <th>binned_mvar7</th>\n",
       "      <th>default_ind</th>\n",
       "    </tr>\n",
       "  </thead>\n",
       "  <tbody>\n",
       "    <tr>\n",
       "      <th>binned_mvar10</th>\n",
       "      <td>1.000000</td>\n",
       "      <td>-0.217062</td>\n",
       "      <td>-0.555801</td>\n",
       "      <td>0.585837</td>\n",
       "      <td>0.280040</td>\n",
       "    </tr>\n",
       "    <tr>\n",
       "      <th>binned_mvar6</th>\n",
       "      <td>-0.217062</td>\n",
       "      <td>1.000000</td>\n",
       "      <td>0.207738</td>\n",
       "      <td>-0.189350</td>\n",
       "      <td>-0.240484</td>\n",
       "    </tr>\n",
       "    <tr>\n",
       "      <th>binned_mvar9</th>\n",
       "      <td>-0.555801</td>\n",
       "      <td>0.207738</td>\n",
       "      <td>1.000000</td>\n",
       "      <td>-0.415588</td>\n",
       "      <td>-0.258242</td>\n",
       "    </tr>\n",
       "    <tr>\n",
       "      <th>binned_mvar7</th>\n",
       "      <td>0.585837</td>\n",
       "      <td>-0.189350</td>\n",
       "      <td>-0.415588</td>\n",
       "      <td>1.000000</td>\n",
       "      <td>0.248948</td>\n",
       "    </tr>\n",
       "    <tr>\n",
       "      <th>default_ind</th>\n",
       "      <td>0.280040</td>\n",
       "      <td>-0.240484</td>\n",
       "      <td>-0.258242</td>\n",
       "      <td>0.248948</td>\n",
       "      <td>1.000000</td>\n",
       "    </tr>\n",
       "  </tbody>\n",
       "</table>\n",
       "</div>"
      ],
      "text/plain": [
       "               binned_mvar10  binned_mvar6  binned_mvar9  binned_mvar7  \\\n",
       "binned_mvar10       1.000000     -0.217062     -0.555801      0.585837   \n",
       "binned_mvar6       -0.217062      1.000000      0.207738     -0.189350   \n",
       "binned_mvar9       -0.555801      0.207738      1.000000     -0.415588   \n",
       "binned_mvar7        0.585837     -0.189350     -0.415588      1.000000   \n",
       "default_ind         0.280040     -0.240484     -0.258242      0.248948   \n",
       "\n",
       "               default_ind  \n",
       "binned_mvar10     0.280040  \n",
       "binned_mvar6     -0.240484  \n",
       "binned_mvar9     -0.258242  \n",
       "binned_mvar7      0.248948  \n",
       "default_ind       1.000000  "
      ]
     },
     "execution_count": 8394,
     "metadata": {},
     "output_type": "execute_result"
    }
   ],
   "source": [
    "df[['binned_mvar10','binned_mvar6','binned_mvar9','binned_mvar7','default_ind']].corr()"
   ]
  },
  {
   "cell_type": "code",
   "execution_count": 8395,
   "metadata": {},
   "outputs": [],
   "source": [
    "dframe = df[['binned_mvar7','binned_mvar9','binned_mvar10']]"
   ]
  },
  {
   "cell_type": "code",
   "execution_count": 8396,
   "metadata": {},
   "outputs": [],
   "source": [
    "from sklearn.decomposition import PCA\n",
    "pca = PCA(n_components= None)\n",
    "dframe = pca.fit_transform(dframe)\n",
    "explained_variance = pca.explained_variance_ratio_"
   ]
  },
  {
   "cell_type": "code",
   "execution_count": 8397,
   "metadata": {},
   "outputs": [
    {
     "data": {
      "text/plain": [
       "array([0.74540522, 0.17727283, 0.07732195])"
      ]
     },
     "execution_count": 8397,
     "metadata": {},
     "output_type": "execute_result"
    }
   ],
   "source": [
    "explained_variance"
   ]
  },
  {
   "cell_type": "code",
   "execution_count": 8398,
   "metadata": {},
   "outputs": [],
   "source": [
    "#df['1'] = dframe[:,0]\n",
    "#df['2'] = dframe[:,1]\n",
    "#df['3'] = dframe[:,2]"
   ]
  },
  {
   "cell_type": "code",
   "execution_count": 8399,
   "metadata": {},
   "outputs": [],
   "source": [
    "#df[['1','2','3','default_ind']].corr()"
   ]
  },
  {
   "cell_type": "code",
   "execution_count": 8400,
   "metadata": {},
   "outputs": [],
   "source": [
    "#df.drop(['binned_mvar7','binned_mvar9','binned_mvar10','3','default_ind'],axis=1,inplace=True)"
   ]
  },
  {
   "cell_type": "code",
   "execution_count": 8401,
   "metadata": {},
   "outputs": [],
   "source": [
    "df.drop('default_ind',axis=1,inplace=True)"
   ]
  },
  {
   "cell_type": "code",
   "execution_count": 8403,
   "metadata": {},
   "outputs": [],
   "source": [
    "x = df.iloc[:,:].values"
   ]
  },
  {
   "cell_type": "code",
   "execution_count": 8404,
   "metadata": {},
   "outputs": [],
   "source": [
    "y = np.array(y)"
   ]
  },
  {
   "cell_type": "code",
   "execution_count": 8405,
   "metadata": {},
   "outputs": [
    {
     "name": "stdout",
     "output_type": "stream",
     "text": [
      "<class 'pandas.core.frame.DataFrame'>\n",
      "Int64Index: 76361 entries, 0 to 79999\n",
      "Data columns (total 30 columns):\n",
      "mvar2            76361 non-null float64\n",
      "mvar4            76361 non-null float64\n",
      "mvar5            76361 non-null float64\n",
      "mvar34           76361 non-null float64\n",
      "mvar36           76361 non-null float64\n",
      "mvar37           76361 non-null float64\n",
      "mvar38           76361 non-null float64\n",
      "mvar39           76361 non-null float64\n",
      "mvar42           76361 non-null float64\n",
      "mvar43           76361 non-null float64\n",
      "mvar46           76361 non-null float64\n",
      "mvar47           76361 non-null float64\n",
      "binned_mvar6     76361 non-null float64\n",
      "binned_mvar1     76361 non-null float64\n",
      "binned_mvar7     76361 non-null float64\n",
      "binned_mvar9     76361 non-null float64\n",
      "mvar48           76361 non-null float64\n",
      "binned_mvar10    76361 non-null float64\n",
      "binned_mvar12    76361 non-null float64\n",
      "binned_mvar13    76361 non-null float64\n",
      "binned_mvar14    76361 non-null float64\n",
      "mvar52           76361 non-null float64\n",
      "mvar53           76361 non-null float64\n",
      "binned_mvar21    76361 non-null float64\n",
      "binned_mvar22    76361 non-null float64\n",
      "binned_mvar24    76361 non-null float64\n",
      "mvar50           76361 non-null float64\n",
      "mvar51           76361 non-null float64\n",
      "binned_mvar32    76361 non-null float64\n",
      "binned_mvar33    76361 non-null float64\n",
      "dtypes: float64(30)\n",
      "memory usage: 18.1 MB\n"
     ]
    }
   ],
   "source": [
    "df.info()"
   ]
  },
  {
   "cell_type": "code",
   "execution_count": 8406,
   "metadata": {},
   "outputs": [],
   "source": [
    "# Train & Test split\n",
    "from sklearn.cross_validation import train_test_split \n",
    "X_train,X_test,y_train,y_test = train_test_split(x,y,test_size = 0.25,random_state = 0)"
   ]
  },
  {
   "cell_type": "code",
   "execution_count": 8408,
   "metadata": {},
   "outputs": [],
   "source": [
    "# Feature Scaling\n",
    "from sklearn.preprocessing import StandardScaler\n",
    "sc = StandardScaler()\n",
    "x = sc.fit_transform(x)\n",
    "X_test = sc.transform(X_test)"
   ]
  },
  {
   "cell_type": "code",
   "execution_count": 8409,
   "metadata": {},
   "outputs": [
    {
     "name": "stdout",
     "output_type": "stream",
     "text": [
      "0.8063016461282592\n"
     ]
    }
   ],
   "source": [
    "from sklearn.linear_model import LogisticRegression\n",
    "classifier = LogisticRegression( random_state = 6)\n",
    "classifier.fit(x, y)\n",
    "# Predicting the Test set results\n",
    "y_pred = classifier.predict(x)\n",
    "# calculate accuracy\n",
    "from sklearn import metrics\n",
    "print(metrics.accuracy_score(y, y_pred))\n"
   ]
  },
  {
   "cell_type": "code",
   "execution_count": 8410,
   "metadata": {},
   "outputs": [],
   "source": [
    "lreg = LogisticRegression(random_state=0)\n",
    "lreg.fit(x, y) # training the model\n",
    "\n",
    "prediction = lreg.predict_proba(x) # predicting on the validation set\n"
   ]
  },
  {
   "cell_type": "code",
   "execution_count": 8413,
   "metadata": {},
   "outputs": [],
   "source": [
    "import lightgbm as lgb\n",
    "d_train = lgb.Dataset(x, label=y)\n",
    "params = {}\n",
    "params['learning_rate'] = 0.005\n",
    "params['boosting_type'] = 'gbdt'\n",
    "params['objective'] = 'binary'\n",
    "params['metric'] = 'binary_logloss'\n",
    "params['sub_feature'] = 0.5\n",
    "params['num_leaves'] = 10\n",
    "params['min_data'] = 50\n",
    "params['max_depth'] = 10\n",
    "clf = lgb.train(params, d_train,1000)\n",
    "pred3=clf.predict(x,num_iteration=clf.best_iteration)"
   ]
  },
  {
   "cell_type": "code",
   "execution_count": 8412,
   "metadata": {},
   "outputs": [
    {
     "name": "stdout",
     "output_type": "stream",
     "text": [
      "<class 'numpy.ndarray'>\n"
     ]
    },
    {
     "data": {
      "text/plain": [
       "0.8095886643705557"
      ]
     },
     "execution_count": 8412,
     "metadata": {},
     "output_type": "execute_result"
    }
   ],
   "source": [
    "arr=pred3\n",
    "import random\n",
    "print (type(arr))\n",
    "for i in range (len(arr)):\n",
    "    if arr[i]>0.5:\n",
    "        arr[i]=1\n",
    "    else :\n",
    "        arr[i]=0\n",
    "metrics.accuracy_score( y,arr)        "
   ]
  },
  {
   "cell_type": "code",
   "execution_count": 8414,
   "metadata": {},
   "outputs": [
    {
     "data": {
      "text/plain": [
       "array([0.41426227, 0.04458132, 0.188533  , ..., 0.51198851, 0.14896713,\n",
       "       0.26419325])"
      ]
     },
     "execution_count": 8414,
     "metadata": {},
     "output_type": "execute_result"
    }
   ],
   "source": [
    "pred3"
   ]
  },
  {
   "cell_type": "code",
   "execution_count": 8415,
   "metadata": {},
   "outputs": [],
   "source": [
    "df['lg_1'] = prediction[:,1]\n",
    "df['lgb_1'] = pred3"
   ]
  },
  {
   "cell_type": "code",
   "execution_count": 8416,
   "metadata": {},
   "outputs": [],
   "source": [
    "dframe = df[['lg_1','lgb_1']]\n",
    "X_ = dframe.iloc[:,:].values"
   ]
  },
  {
   "cell_type": "code",
   "execution_count": 8417,
   "metadata": {},
   "outputs": [],
   "source": [
    "lreg1 = LogisticRegression(random_state=0)\n",
    "lreg1.fit(X_, y) # training the model\n",
    "\n",
    "prediction2 = lreg1.predict_proba(X_)"
   ]
  },
  {
   "cell_type": "code",
   "execution_count": 8418,
   "metadata": {},
   "outputs": [
    {
     "name": "stdout",
     "output_type": "stream",
     "text": [
      "<class 'numpy.ndarray'>\n"
     ]
    }
   ],
   "source": [
    "arr=prediction2[:,1]\n",
    "import random\n",
    "print (type(arr))\n",
    "for i in range (len(arr)):\n",
    "    if arr[i]>0.51:\n",
    "        arr[i]=1\n",
    "    else :\n",
    "        arr[i]=0"
   ]
  },
  {
   "cell_type": "code",
   "execution_count": 8421,
   "metadata": {},
   "outputs": [
    {
     "data": {
      "text/plain": [
       "array([[53959,  4058],\n",
       "       [10488,  7856]], dtype=int64)"
      ]
     },
     "execution_count": 8421,
     "metadata": {},
     "output_type": "execute_result"
    }
   ],
   "source": [
    "metrics.confusion_matrix( y,arr)"
   ]
  },
  {
   "cell_type": "code",
   "execution_count": 7779,
   "metadata": {},
   "outputs": [
    {
     "name": "stderr",
     "output_type": "stream",
     "text": [
      "C:\\Users\\Chirag Garg\\Anaconda3\\lib\\site-packages\\IPython\\core\\interactiveshell.py:2785: DtypeWarning: Columns (19) have mixed types. Specify dtype option on import or set low_memory=False.\n",
      "  interactivity=interactivity, compiler=compiler, result=result)\n"
     ]
    }
   ],
   "source": [
    "df = pd.read_csv('F:/AMEX/Leaderboard_dataset.csv')"
   ]
  },
  {
   "cell_type": "code",
   "execution_count": 7780,
   "metadata": {},
   "outputs": [
    {
     "name": "stdout",
     "output_type": "stream",
     "text": [
      "<class 'pandas.core.frame.DataFrame'>\n",
      "RangeIndex: 25000 entries, 0 to 24999\n",
      "Data columns (total 48 columns):\n",
      "application_key    25000 non-null int64\n",
      "mvar1              25000 non-null object\n",
      "mvar2              23294 non-null float64\n",
      "mvar3              24842 non-null float64\n",
      "mvar4              24842 non-null float64\n",
      "mvar5              24842 non-null float64\n",
      "mvar6              25000 non-null object\n",
      "mvar7              25000 non-null object\n",
      "mvar8              25000 non-null object\n",
      "mvar9              25000 non-null object\n",
      "mvar10             25000 non-null object\n",
      "mvar11             25000 non-null object\n",
      "mvar12             25000 non-null object\n",
      "mvar13             25000 non-null object\n",
      "mvar14             25000 non-null int64\n",
      "mvar15             25000 non-null object\n",
      "mvar16             25000 non-null object\n",
      "mvar17             25000 non-null object\n",
      "mvar18             25000 non-null object\n",
      "mvar19             25000 non-null object\n",
      "mvar20             25000 non-null object\n",
      "mvar21             18106 non-null float64\n",
      "mvar22             15919 non-null float64\n",
      "mvar23             12359 non-null float64\n",
      "mvar24             19223 non-null float64\n",
      "mvar25             25000 non-null object\n",
      "mvar26             25000 non-null object\n",
      "mvar27             25000 non-null object\n",
      "mvar28             25000 non-null object\n",
      "mvar29             25000 non-null object\n",
      "mvar30             25000 non-null object\n",
      "mvar31             25000 non-null object\n",
      "mvar32             25000 non-null object\n",
      "mvar33             24461 non-null float64\n",
      "mvar34             25000 non-null object\n",
      "mvar35             25000 non-null object\n",
      "mvar36             25000 non-null object\n",
      "mvar37             25000 non-null object\n",
      "mvar38             25000 non-null object\n",
      "mvar39             25000 non-null object\n",
      "mvar40             25000 non-null object\n",
      "mvar41             25000 non-null object\n",
      "mvar42             25000 non-null object\n",
      "mvar43             25000 non-null object\n",
      "mvar44             22538 non-null float64\n",
      "mvar45             25000 non-null object\n",
      "mvar46             25000 non-null object\n",
      "mvar47             25000 non-null object\n",
      "dtypes: float64(10), int64(2), object(36)\n",
      "memory usage: 9.2+ MB\n"
     ]
    }
   ],
   "source": [
    "df.info()"
   ]
  },
  {
   "cell_type": "code",
   "execution_count": 7781,
   "metadata": {},
   "outputs": [],
   "source": [
    "df['mvar47'] =df['mvar47'].replace(['C','L'],[0,1])"
   ]
  },
  {
   "cell_type": "code",
   "execution_count": 7782,
   "metadata": {},
   "outputs": [
    {
     "data": {
      "text/html": [
       "<div>\n",
       "<style scoped>\n",
       "    .dataframe tbody tr th:only-of-type {\n",
       "        vertical-align: middle;\n",
       "    }\n",
       "\n",
       "    .dataframe tbody tr th {\n",
       "        vertical-align: top;\n",
       "    }\n",
       "\n",
       "    .dataframe thead th {\n",
       "        text-align: right;\n",
       "    }\n",
       "</style>\n",
       "<table border=\"1\" class=\"dataframe\">\n",
       "  <thead>\n",
       "    <tr style=\"text-align: right;\">\n",
       "      <th></th>\n",
       "      <th>application_key</th>\n",
       "      <th>mvar1</th>\n",
       "      <th>mvar2</th>\n",
       "      <th>mvar3</th>\n",
       "      <th>mvar4</th>\n",
       "      <th>mvar5</th>\n",
       "      <th>mvar6</th>\n",
       "      <th>mvar7</th>\n",
       "      <th>mvar8</th>\n",
       "      <th>mvar9</th>\n",
       "      <th>...</th>\n",
       "      <th>mvar38</th>\n",
       "      <th>mvar39</th>\n",
       "      <th>mvar40</th>\n",
       "      <th>mvar41</th>\n",
       "      <th>mvar42</th>\n",
       "      <th>mvar43</th>\n",
       "      <th>mvar44</th>\n",
       "      <th>mvar45</th>\n",
       "      <th>mvar46</th>\n",
       "      <th>mvar47</th>\n",
       "    </tr>\n",
       "  </thead>\n",
       "  <tbody>\n",
       "    <tr>\n",
       "      <th>0</th>\n",
       "      <td>350053</td>\n",
       "      <td>1753</td>\n",
       "      <td>0.5001</td>\n",
       "      <td>0.000</td>\n",
       "      <td>0.0</td>\n",
       "      <td>0.0</td>\n",
       "      <td>206</td>\n",
       "      <td>19179</td>\n",
       "      <td>206</td>\n",
       "      <td>14221</td>\n",
       "      <td>...</td>\n",
       "      <td>1</td>\n",
       "      <td>0</td>\n",
       "      <td>missing</td>\n",
       "      <td>20.551</td>\n",
       "      <td>0.42105</td>\n",
       "      <td>3</td>\n",
       "      <td>0.85661</td>\n",
       "      <td>na</td>\n",
       "      <td>0</td>\n",
       "      <td>1</td>\n",
       "    </tr>\n",
       "    <tr>\n",
       "      <th>1</th>\n",
       "      <td>350054</td>\n",
       "      <td>1894</td>\n",
       "      <td>1.9701</td>\n",
       "      <td>0.000</td>\n",
       "      <td>0.0</td>\n",
       "      <td>0.0</td>\n",
       "      <td>297</td>\n",
       "      <td>19820</td>\n",
       "      <td>19820</td>\n",
       "      <td>176895</td>\n",
       "      <td>...</td>\n",
       "      <td>3</td>\n",
       "      <td>0</td>\n",
       "      <td>missing</td>\n",
       "      <td>63.047</td>\n",
       "      <td>0</td>\n",
       "      <td>15</td>\n",
       "      <td>0.94391</td>\n",
       "      <td>0</td>\n",
       "      <td>0</td>\n",
       "      <td>0</td>\n",
       "    </tr>\n",
       "    <tr>\n",
       "      <th>2</th>\n",
       "      <td>350055</td>\n",
       "      <td>1774</td>\n",
       "      <td>0.1718</td>\n",
       "      <td>0.000</td>\n",
       "      <td>0.0</td>\n",
       "      <td>0.0</td>\n",
       "      <td>197</td>\n",
       "      <td>2563</td>\n",
       "      <td>877</td>\n",
       "      <td>8869</td>\n",
       "      <td>...</td>\n",
       "      <td>1</td>\n",
       "      <td>0</td>\n",
       "      <td>missing</td>\n",
       "      <td>83.797</td>\n",
       "      <td>0.33333</td>\n",
       "      <td>3</td>\n",
       "      <td>0.76467</td>\n",
       "      <td>0</td>\n",
       "      <td>0</td>\n",
       "      <td>0</td>\n",
       "    </tr>\n",
       "    <tr>\n",
       "      <th>3</th>\n",
       "      <td>350056</td>\n",
       "      <td>1586</td>\n",
       "      <td>0.1123</td>\n",
       "      <td>5.299</td>\n",
       "      <td>0.0</td>\n",
       "      <td>0.0</td>\n",
       "      <td>missing</td>\n",
       "      <td>missing</td>\n",
       "      <td>missing</td>\n",
       "      <td>missing</td>\n",
       "      <td>...</td>\n",
       "      <td>1</td>\n",
       "      <td>na</td>\n",
       "      <td>missing</td>\n",
       "      <td>missing</td>\n",
       "      <td>1.5</td>\n",
       "      <td>0</td>\n",
       "      <td>NaN</td>\n",
       "      <td>na</td>\n",
       "      <td>na</td>\n",
       "      <td>0</td>\n",
       "    </tr>\n",
       "    <tr>\n",
       "      <th>4</th>\n",
       "      <td>350057</td>\n",
       "      <td>1832</td>\n",
       "      <td>1.4442</td>\n",
       "      <td>0.000</td>\n",
       "      <td>0.0</td>\n",
       "      <td>0.0</td>\n",
       "      <td>179</td>\n",
       "      <td>7577</td>\n",
       "      <td>179</td>\n",
       "      <td>21059</td>\n",
       "      <td>...</td>\n",
       "      <td>3</td>\n",
       "      <td>0</td>\n",
       "      <td>96.052</td>\n",
       "      <td>66.665</td>\n",
       "      <td>0</td>\n",
       "      <td>23</td>\n",
       "      <td>0.79190</td>\n",
       "      <td>0</td>\n",
       "      <td>0</td>\n",
       "      <td>1</td>\n",
       "    </tr>\n",
       "  </tbody>\n",
       "</table>\n",
       "<p>5 rows × 48 columns</p>\n",
       "</div>"
      ],
      "text/plain": [
       "   application_key mvar1   mvar2  mvar3  mvar4  mvar5    mvar6    mvar7  \\\n",
       "0           350053  1753  0.5001  0.000    0.0    0.0      206    19179   \n",
       "1           350054  1894  1.9701  0.000    0.0    0.0      297    19820   \n",
       "2           350055  1774  0.1718  0.000    0.0    0.0      197     2563   \n",
       "3           350056  1586  0.1123  5.299    0.0    0.0  missing  missing   \n",
       "4           350057  1832  1.4442  0.000    0.0    0.0      179     7577   \n",
       "\n",
       "     mvar8    mvar9  ...   mvar38 mvar39   mvar40   mvar41   mvar42 mvar43  \\\n",
       "0      206    14221  ...        1      0  missing   20.551  0.42105      3   \n",
       "1    19820   176895  ...        3      0  missing   63.047        0     15   \n",
       "2      877     8869  ...        1      0  missing   83.797  0.33333      3   \n",
       "3  missing  missing  ...        1     na  missing  missing      1.5      0   \n",
       "4      179    21059  ...        3      0   96.052   66.665        0     23   \n",
       "\n",
       "    mvar44 mvar45 mvar46 mvar47  \n",
       "0  0.85661     na      0      1  \n",
       "1  0.94391      0      0      0  \n",
       "2  0.76467      0      0      0  \n",
       "3      NaN     na     na      0  \n",
       "4  0.79190      0      0      1  \n",
       "\n",
       "[5 rows x 48 columns]"
      ]
     },
     "execution_count": 7782,
     "metadata": {},
     "output_type": "execute_result"
    }
   ],
   "source": [
    "df.head()"
   ]
  },
  {
   "cell_type": "code",
   "execution_count": 7783,
   "metadata": {},
   "outputs": [],
   "source": [
    "df.replace(['missing','na','Nan'],[np.nan,np.nan,np.nan],inplace = True)"
   ]
  },
  {
   "cell_type": "code",
   "execution_count": 7784,
   "metadata": {},
   "outputs": [],
   "source": [
    "df = df.astype(float)"
   ]
  },
  {
   "cell_type": "code",
   "execution_count": 7785,
   "metadata": {},
   "outputs": [
    {
     "name": "stdout",
     "output_type": "stream",
     "text": [
      "<class 'pandas.core.frame.DataFrame'>\n",
      "RangeIndex: 25000 entries, 0 to 24999\n",
      "Data columns (total 48 columns):\n",
      "application_key    25000 non-null float64\n",
      "mvar1              23850 non-null float64\n",
      "mvar2              23294 non-null float64\n",
      "mvar3              24842 non-null float64\n",
      "mvar4              24842 non-null float64\n",
      "mvar5              24842 non-null float64\n",
      "mvar6              19193 non-null float64\n",
      "mvar7              22694 non-null float64\n",
      "mvar8              19193 non-null float64\n",
      "mvar9              21523 non-null float64\n",
      "mvar10             24842 non-null float64\n",
      "mvar11             10974 non-null float64\n",
      "mvar12             20690 non-null float64\n",
      "mvar13             22435 non-null float64\n",
      "mvar14             25000 non-null float64\n",
      "mvar15             14949 non-null float64\n",
      "mvar16             19324 non-null float64\n",
      "mvar17             20110 non-null float64\n",
      "mvar18             20418 non-null float64\n",
      "mvar19             24999 non-null float64\n",
      "mvar20             24842 non-null float64\n",
      "mvar21             18106 non-null float64\n",
      "mvar22             15919 non-null float64\n",
      "mvar23             12359 non-null float64\n",
      "mvar24             19223 non-null float64\n",
      "mvar25             22621 non-null float64\n",
      "mvar26             21800 non-null float64\n",
      "mvar27             21007 non-null float64\n",
      "mvar28             24842 non-null float64\n",
      "mvar29             24842 non-null float64\n",
      "mvar30             13551 non-null float64\n",
      "mvar31             7363 non-null float64\n",
      "mvar32             22621 non-null float64\n",
      "mvar33             24461 non-null float64\n",
      "mvar34             24842 non-null float64\n",
      "mvar35             14787 non-null float64\n",
      "mvar36             24021 non-null float64\n",
      "mvar37             22621 non-null float64\n",
      "mvar38             24842 non-null float64\n",
      "mvar39             23078 non-null float64\n",
      "mvar40             5458 non-null float64\n",
      "mvar41             7748 non-null float64\n",
      "mvar42             24367 non-null float64\n",
      "mvar43             24723 non-null float64\n",
      "mvar44             22538 non-null float64\n",
      "mvar45             11027 non-null float64\n",
      "mvar46             17851 non-null float64\n",
      "mvar47             25000 non-null float64\n",
      "dtypes: float64(48)\n",
      "memory usage: 9.2 MB\n"
     ]
    }
   ],
   "source": [
    "df.info()"
   ]
  },
  {
   "cell_type": "code",
   "execution_count": 7786,
   "metadata": {},
   "outputs": [
    {
     "data": {
      "text/plain": [
       "count    23294.000000\n",
       "mean         1.118127\n",
       "std          1.658707\n",
       "min          0.000000\n",
       "25%          0.142725\n",
       "50%          0.542400\n",
       "75%          1.469375\n",
       "max         31.018100\n",
       "Name: mvar2, dtype: float64"
      ]
     },
     "execution_count": 7786,
     "metadata": {},
     "output_type": "execute_result"
    }
   ],
   "source": [
    "df['mvar2'].describe()"
   ]
  },
  {
   "cell_type": "code",
   "execution_count": 7787,
   "metadata": {},
   "outputs": [
    {
     "data": {
      "text/html": [
       "<div>\n",
       "<style scoped>\n",
       "    .dataframe tbody tr th:only-of-type {\n",
       "        vertical-align: middle;\n",
       "    }\n",
       "\n",
       "    .dataframe tbody tr th {\n",
       "        vertical-align: top;\n",
       "    }\n",
       "\n",
       "    .dataframe thead th {\n",
       "        text-align: right;\n",
       "    }\n",
       "</style>\n",
       "<table border=\"1\" class=\"dataframe\">\n",
       "  <thead>\n",
       "    <tr style=\"text-align: right;\">\n",
       "      <th></th>\n",
       "      <th>application_key</th>\n",
       "      <th>mvar1</th>\n",
       "      <th>mvar2</th>\n",
       "      <th>mvar3</th>\n",
       "      <th>mvar4</th>\n",
       "      <th>mvar5</th>\n",
       "      <th>mvar6</th>\n",
       "      <th>mvar7</th>\n",
       "      <th>mvar8</th>\n",
       "      <th>mvar9</th>\n",
       "      <th>...</th>\n",
       "      <th>mvar38</th>\n",
       "      <th>mvar39</th>\n",
       "      <th>mvar40</th>\n",
       "      <th>mvar41</th>\n",
       "      <th>mvar42</th>\n",
       "      <th>mvar43</th>\n",
       "      <th>mvar44</th>\n",
       "      <th>mvar45</th>\n",
       "      <th>mvar46</th>\n",
       "      <th>mvar47</th>\n",
       "    </tr>\n",
       "  </thead>\n",
       "  <tbody>\n",
       "    <tr>\n",
       "      <th>count</th>\n",
       "      <td>39.000000</td>\n",
       "      <td>38.000000</td>\n",
       "      <td>39.000000</td>\n",
       "      <td>39.000000</td>\n",
       "      <td>39.000000</td>\n",
       "      <td>39.000000</td>\n",
       "      <td>33.000000</td>\n",
       "      <td>39.000000</td>\n",
       "      <td>33.000000</td>\n",
       "      <td>36.000000</td>\n",
       "      <td>...</td>\n",
       "      <td>39.000000</td>\n",
       "      <td>39.000000</td>\n",
       "      <td>13.000000</td>\n",
       "      <td>16.000000</td>\n",
       "      <td>35.000000</td>\n",
       "      <td>39.000000</td>\n",
       "      <td>38.000000</td>\n",
       "      <td>13.000000</td>\n",
       "      <td>26.000000</td>\n",
       "      <td>39.000000</td>\n",
       "    </tr>\n",
       "    <tr>\n",
       "      <th>mean</th>\n",
       "      <td>363956.871795</td>\n",
       "      <td>1718.631579</td>\n",
       "      <td>17.691423</td>\n",
       "      <td>7.839821</td>\n",
       "      <td>0.328536</td>\n",
       "      <td>1.785385</td>\n",
       "      <td>502.757576</td>\n",
       "      <td>10278.128205</td>\n",
       "      <td>3759.939394</td>\n",
       "      <td>16060.833333</td>\n",
       "      <td>...</td>\n",
       "      <td>9.076923</td>\n",
       "      <td>0.128205</td>\n",
       "      <td>122.109077</td>\n",
       "      <td>63.148375</td>\n",
       "      <td>0.353541</td>\n",
       "      <td>6.358974</td>\n",
       "      <td>0.597543</td>\n",
       "      <td>0.153846</td>\n",
       "      <td>0.076923</td>\n",
       "      <td>0.333333</td>\n",
       "    </tr>\n",
       "    <tr>\n",
       "      <th>std</th>\n",
       "      <td>7589.660079</td>\n",
       "      <td>73.927072</td>\n",
       "      <td>4.333501</td>\n",
       "      <td>14.435635</td>\n",
       "      <td>1.263829</td>\n",
       "      <td>6.768604</td>\n",
       "      <td>1482.191727</td>\n",
       "      <td>13475.060856</td>\n",
       "      <td>5294.656067</td>\n",
       "      <td>21158.954613</td>\n",
       "      <td>...</td>\n",
       "      <td>7.895317</td>\n",
       "      <td>0.409074</td>\n",
       "      <td>35.408602</td>\n",
       "      <td>28.144835</td>\n",
       "      <td>0.322475</td>\n",
       "      <td>5.416773</td>\n",
       "      <td>0.249989</td>\n",
       "      <td>0.554700</td>\n",
       "      <td>0.271746</td>\n",
       "      <td>0.477567</td>\n",
       "    </tr>\n",
       "    <tr>\n",
       "      <th>min</th>\n",
       "      <td>351344.000000</td>\n",
       "      <td>1553.000000</td>\n",
       "      <td>14.001500</td>\n",
       "      <td>0.000000</td>\n",
       "      <td>0.000000</td>\n",
       "      <td>0.000000</td>\n",
       "      <td>0.000000</td>\n",
       "      <td>0.000000</td>\n",
       "      <td>0.000000</td>\n",
       "      <td>297.000000</td>\n",
       "      <td>...</td>\n",
       "      <td>1.000000</td>\n",
       "      <td>0.000000</td>\n",
       "      <td>100.000000</td>\n",
       "      <td>15.871000</td>\n",
       "      <td>0.000000</td>\n",
       "      <td>0.000000</td>\n",
       "      <td>0.157760</td>\n",
       "      <td>0.000000</td>\n",
       "      <td>0.000000</td>\n",
       "      <td>0.000000</td>\n",
       "    </tr>\n",
       "    <tr>\n",
       "      <th>25%</th>\n",
       "      <td>358025.500000</td>\n",
       "      <td>1669.750000</td>\n",
       "      <td>14.686950</td>\n",
       "      <td>0.000000</td>\n",
       "      <td>0.000000</td>\n",
       "      <td>0.000000</td>\n",
       "      <td>0.000000</td>\n",
       "      <td>793.000000</td>\n",
       "      <td>173.000000</td>\n",
       "      <td>2486.500000</td>\n",
       "      <td>...</td>\n",
       "      <td>4.000000</td>\n",
       "      <td>0.000000</td>\n",
       "      <td>102.353000</td>\n",
       "      <td>45.547250</td>\n",
       "      <td>0.058820</td>\n",
       "      <td>2.000000</td>\n",
       "      <td>0.421343</td>\n",
       "      <td>0.000000</td>\n",
       "      <td>0.000000</td>\n",
       "      <td>0.000000</td>\n",
       "    </tr>\n",
       "    <tr>\n",
       "      <th>50%</th>\n",
       "      <td>363377.000000</td>\n",
       "      <td>1718.500000</td>\n",
       "      <td>16.370100</td>\n",
       "      <td>0.693000</td>\n",
       "      <td>0.000000</td>\n",
       "      <td>0.000000</td>\n",
       "      <td>30.000000</td>\n",
       "      <td>3622.000000</td>\n",
       "      <td>2447.000000</td>\n",
       "      <td>7995.000000</td>\n",
       "      <td>...</td>\n",
       "      <td>6.000000</td>\n",
       "      <td>0.000000</td>\n",
       "      <td>105.810000</td>\n",
       "      <td>71.914000</td>\n",
       "      <td>0.280000</td>\n",
       "      <td>6.000000</td>\n",
       "      <td>0.581085</td>\n",
       "      <td>0.000000</td>\n",
       "      <td>0.000000</td>\n",
       "      <td>0.000000</td>\n",
       "    </tr>\n",
       "    <tr>\n",
       "      <th>75%</th>\n",
       "      <td>372029.500000</td>\n",
       "      <td>1763.000000</td>\n",
       "      <td>18.347050</td>\n",
       "      <td>7.646000</td>\n",
       "      <td>0.000000</td>\n",
       "      <td>0.000000</td>\n",
       "      <td>369.000000</td>\n",
       "      <td>15658.500000</td>\n",
       "      <td>3579.000000</td>\n",
       "      <td>20299.250000</td>\n",
       "      <td>...</td>\n",
       "      <td>10.500000</td>\n",
       "      <td>0.000000</td>\n",
       "      <td>120.831000</td>\n",
       "      <td>85.674250</td>\n",
       "      <td>0.560605</td>\n",
       "      <td>10.000000</td>\n",
       "      <td>0.814847</td>\n",
       "      <td>0.000000</td>\n",
       "      <td>0.000000</td>\n",
       "      <td>1.000000</td>\n",
       "    </tr>\n",
       "    <tr>\n",
       "      <th>max</th>\n",
       "      <td>374813.000000</td>\n",
       "      <td>1885.000000</td>\n",
       "      <td>31.018100</td>\n",
       "      <td>61.986000</td>\n",
       "      <td>7.654700</td>\n",
       "      <td>39.179000</td>\n",
       "      <td>8126.000000</td>\n",
       "      <td>58263.000000</td>\n",
       "      <td>20371.000000</td>\n",
       "      <td>85672.000000</td>\n",
       "      <td>...</td>\n",
       "      <td>38.000000</td>\n",
       "      <td>2.000000</td>\n",
       "      <td>207.121000</td>\n",
       "      <td>100.000000</td>\n",
       "      <td>1.250000</td>\n",
       "      <td>18.000000</td>\n",
       "      <td>1.000000</td>\n",
       "      <td>2.000000</td>\n",
       "      <td>1.000000</td>\n",
       "      <td>1.000000</td>\n",
       "    </tr>\n",
       "  </tbody>\n",
       "</table>\n",
       "<p>8 rows × 48 columns</p>\n",
       "</div>"
      ],
      "text/plain": [
       "       application_key        mvar1      mvar2      mvar3      mvar4  \\\n",
       "count        39.000000    38.000000  39.000000  39.000000  39.000000   \n",
       "mean     363956.871795  1718.631579  17.691423   7.839821   0.328536   \n",
       "std        7589.660079    73.927072   4.333501  14.435635   1.263829   \n",
       "min      351344.000000  1553.000000  14.001500   0.000000   0.000000   \n",
       "25%      358025.500000  1669.750000  14.686950   0.000000   0.000000   \n",
       "50%      363377.000000  1718.500000  16.370100   0.693000   0.000000   \n",
       "75%      372029.500000  1763.000000  18.347050   7.646000   0.000000   \n",
       "max      374813.000000  1885.000000  31.018100  61.986000   7.654700   \n",
       "\n",
       "           mvar5        mvar6         mvar7         mvar8         mvar9  \\\n",
       "count  39.000000    33.000000     39.000000     33.000000     36.000000   \n",
       "mean    1.785385   502.757576  10278.128205   3759.939394  16060.833333   \n",
       "std     6.768604  1482.191727  13475.060856   5294.656067  21158.954613   \n",
       "min     0.000000     0.000000      0.000000      0.000000    297.000000   \n",
       "25%     0.000000     0.000000    793.000000    173.000000   2486.500000   \n",
       "50%     0.000000    30.000000   3622.000000   2447.000000   7995.000000   \n",
       "75%     0.000000   369.000000  15658.500000   3579.000000  20299.250000   \n",
       "max    39.179000  8126.000000  58263.000000  20371.000000  85672.000000   \n",
       "\n",
       "         ...         mvar38     mvar39      mvar40      mvar41     mvar42  \\\n",
       "count    ...      39.000000  39.000000   13.000000   16.000000  35.000000   \n",
       "mean     ...       9.076923   0.128205  122.109077   63.148375   0.353541   \n",
       "std      ...       7.895317   0.409074   35.408602   28.144835   0.322475   \n",
       "min      ...       1.000000   0.000000  100.000000   15.871000   0.000000   \n",
       "25%      ...       4.000000   0.000000  102.353000   45.547250   0.058820   \n",
       "50%      ...       6.000000   0.000000  105.810000   71.914000   0.280000   \n",
       "75%      ...      10.500000   0.000000  120.831000   85.674250   0.560605   \n",
       "max      ...      38.000000   2.000000  207.121000  100.000000   1.250000   \n",
       "\n",
       "          mvar43     mvar44     mvar45     mvar46     mvar47  \n",
       "count  39.000000  38.000000  13.000000  26.000000  39.000000  \n",
       "mean    6.358974   0.597543   0.153846   0.076923   0.333333  \n",
       "std     5.416773   0.249989   0.554700   0.271746   0.477567  \n",
       "min     0.000000   0.157760   0.000000   0.000000   0.000000  \n",
       "25%     2.000000   0.421343   0.000000   0.000000   0.000000  \n",
       "50%     6.000000   0.581085   0.000000   0.000000   0.000000  \n",
       "75%    10.000000   0.814847   0.000000   0.000000   1.000000  \n",
       "max    18.000000   1.000000   2.000000   1.000000   1.000000  \n",
       "\n",
       "[8 rows x 48 columns]"
      ]
     },
     "execution_count": 7787,
     "metadata": {},
     "output_type": "execute_result"
    }
   ],
   "source": [
    "df[df['mvar2'] > 14].describe()"
   ]
  },
  {
   "cell_type": "code",
   "execution_count": 7788,
   "metadata": {},
   "outputs": [
    {
     "data": {
      "text/html": [
       "<div>\n",
       "<style scoped>\n",
       "    .dataframe tbody tr th:only-of-type {\n",
       "        vertical-align: middle;\n",
       "    }\n",
       "\n",
       "    .dataframe tbody tr th {\n",
       "        vertical-align: top;\n",
       "    }\n",
       "\n",
       "    .dataframe thead th {\n",
       "        text-align: right;\n",
       "    }\n",
       "</style>\n",
       "<table border=\"1\" class=\"dataframe\">\n",
       "  <thead>\n",
       "    <tr style=\"text-align: right;\">\n",
       "      <th></th>\n",
       "      <th>application_key</th>\n",
       "      <th>mvar1</th>\n",
       "      <th>mvar2</th>\n",
       "      <th>mvar3</th>\n",
       "      <th>mvar4</th>\n",
       "      <th>mvar5</th>\n",
       "      <th>mvar6</th>\n",
       "      <th>mvar7</th>\n",
       "      <th>mvar8</th>\n",
       "      <th>mvar9</th>\n",
       "      <th>...</th>\n",
       "      <th>mvar38</th>\n",
       "      <th>mvar39</th>\n",
       "      <th>mvar40</th>\n",
       "      <th>mvar41</th>\n",
       "      <th>mvar42</th>\n",
       "      <th>mvar43</th>\n",
       "      <th>mvar44</th>\n",
       "      <th>mvar45</th>\n",
       "      <th>mvar46</th>\n",
       "      <th>mvar47</th>\n",
       "    </tr>\n",
       "  </thead>\n",
       "  <tbody>\n",
       "    <tr>\n",
       "      <th>count</th>\n",
       "      <td>25000.000000</td>\n",
       "      <td>23850.000000</td>\n",
       "      <td>23294.000000</td>\n",
       "      <td>24842.000000</td>\n",
       "      <td>24842.000000</td>\n",
       "      <td>24842.000000</td>\n",
       "      <td>19193.000000</td>\n",
       "      <td>2.269400e+04</td>\n",
       "      <td>19193.000000</td>\n",
       "      <td>21523.000000</td>\n",
       "      <td>...</td>\n",
       "      <td>24842.000000</td>\n",
       "      <td>23078.000000</td>\n",
       "      <td>5458.000000</td>\n",
       "      <td>7748.000000</td>\n",
       "      <td>24367.000000</td>\n",
       "      <td>24723.000000</td>\n",
       "      <td>22538.000000</td>\n",
       "      <td>11027.000000</td>\n",
       "      <td>17851.000000</td>\n",
       "      <td>25000.000000</td>\n",
       "    </tr>\n",
       "    <tr>\n",
       "      <th>mean</th>\n",
       "      <td>362552.500000</td>\n",
       "      <td>1746.901551</td>\n",
       "      <td>1.118127</td>\n",
       "      <td>5.243267</td>\n",
       "      <td>0.463290</td>\n",
       "      <td>1.080183</td>\n",
       "      <td>1624.069192</td>\n",
       "      <td>1.775037e+04</td>\n",
       "      <td>6753.202313</td>\n",
       "      <td>33825.554662</td>\n",
       "      <td>...</td>\n",
       "      <td>4.251349</td>\n",
       "      <td>0.089912</td>\n",
       "      <td>98.491140</td>\n",
       "      <td>71.990942</td>\n",
       "      <td>0.331992</td>\n",
       "      <td>6.546091</td>\n",
       "      <td>0.702558</td>\n",
       "      <td>0.071280</td>\n",
       "      <td>0.092712</td>\n",
       "      <td>0.352720</td>\n",
       "    </tr>\n",
       "    <tr>\n",
       "      <th>std</th>\n",
       "      <td>7217.022701</td>\n",
       "      <td>94.088195</td>\n",
       "      <td>1.658707</td>\n",
       "      <td>10.605688</td>\n",
       "      <td>1.688155</td>\n",
       "      <td>5.813250</td>\n",
       "      <td>3588.247900</td>\n",
       "      <td>5.485979e+04</td>\n",
       "      <td>10133.583639</td>\n",
       "      <td>51781.414456</td>\n",
       "      <td>...</td>\n",
       "      <td>3.870975</td>\n",
       "      <td>0.444250</td>\n",
       "      <td>30.488996</td>\n",
       "      <td>24.806054</td>\n",
       "      <td>0.374753</td>\n",
       "      <td>6.260583</td>\n",
       "      <td>0.246612</td>\n",
       "      <td>0.302654</td>\n",
       "      <td>0.321896</td>\n",
       "      <td>0.477826</td>\n",
       "    </tr>\n",
       "    <tr>\n",
       "      <th>min</th>\n",
       "      <td>350053.000000</td>\n",
       "      <td>1477.000000</td>\n",
       "      <td>0.000000</td>\n",
       "      <td>0.000000</td>\n",
       "      <td>0.000000</td>\n",
       "      <td>0.000000</td>\n",
       "      <td>0.000000</td>\n",
       "      <td>0.000000e+00</td>\n",
       "      <td>0.000000</td>\n",
       "      <td>0.000000</td>\n",
       "      <td>...</td>\n",
       "      <td>0.000000</td>\n",
       "      <td>0.000000</td>\n",
       "      <td>0.018000</td>\n",
       "      <td>0.000000</td>\n",
       "      <td>0.000000</td>\n",
       "      <td>0.000000</td>\n",
       "      <td>0.072760</td>\n",
       "      <td>0.000000</td>\n",
       "      <td>0.000000</td>\n",
       "      <td>0.000000</td>\n",
       "    </tr>\n",
       "    <tr>\n",
       "      <th>25%</th>\n",
       "      <td>356302.750000</td>\n",
       "      <td>1680.000000</td>\n",
       "      <td>0.142725</td>\n",
       "      <td>0.000000</td>\n",
       "      <td>0.000000</td>\n",
       "      <td>0.000000</td>\n",
       "      <td>36.000000</td>\n",
       "      <td>1.701000e+03</td>\n",
       "      <td>494.000000</td>\n",
       "      <td>3518.000000</td>\n",
       "      <td>...</td>\n",
       "      <td>2.000000</td>\n",
       "      <td>0.000000</td>\n",
       "      <td>91.338250</td>\n",
       "      <td>58.179500</td>\n",
       "      <td>0.000000</td>\n",
       "      <td>2.000000</td>\n",
       "      <td>0.509132</td>\n",
       "      <td>0.000000</td>\n",
       "      <td>0.000000</td>\n",
       "      <td>0.000000</td>\n",
       "    </tr>\n",
       "    <tr>\n",
       "      <th>50%</th>\n",
       "      <td>362552.500000</td>\n",
       "      <td>1742.000000</td>\n",
       "      <td>0.542400</td>\n",
       "      <td>0.286000</td>\n",
       "      <td>0.000000</td>\n",
       "      <td>0.000000</td>\n",
       "      <td>297.000000</td>\n",
       "      <td>7.011500e+03</td>\n",
       "      <td>2503.000000</td>\n",
       "      <td>14072.000000</td>\n",
       "      <td>...</td>\n",
       "      <td>3.000000</td>\n",
       "      <td>0.000000</td>\n",
       "      <td>100.000000</td>\n",
       "      <td>79.123000</td>\n",
       "      <td>0.200000</td>\n",
       "      <td>5.000000</td>\n",
       "      <td>0.732740</td>\n",
       "      <td>0.000000</td>\n",
       "      <td>0.000000</td>\n",
       "      <td>0.000000</td>\n",
       "    </tr>\n",
       "    <tr>\n",
       "      <th>75%</th>\n",
       "      <td>368802.250000</td>\n",
       "      <td>1811.000000</td>\n",
       "      <td>1.469375</td>\n",
       "      <td>6.480000</td>\n",
       "      <td>0.000000</td>\n",
       "      <td>0.000000</td>\n",
       "      <td>1371.000000</td>\n",
       "      <td>1.803575e+04</td>\n",
       "      <td>9595.000000</td>\n",
       "      <td>43009.500000</td>\n",
       "      <td>...</td>\n",
       "      <td>6.000000</td>\n",
       "      <td>0.000000</td>\n",
       "      <td>112.237500</td>\n",
       "      <td>91.666000</td>\n",
       "      <td>0.561950</td>\n",
       "      <td>10.000000</td>\n",
       "      <td>0.942372</td>\n",
       "      <td>0.000000</td>\n",
       "      <td>0.000000</td>\n",
       "      <td>1.000000</td>\n",
       "    </tr>\n",
       "    <tr>\n",
       "      <th>max</th>\n",
       "      <td>375052.000000</td>\n",
       "      <td>1950.000000</td>\n",
       "      <td>31.018100</td>\n",
       "      <td>167.740000</td>\n",
       "      <td>21.245200</td>\n",
       "      <td>156.878000</td>\n",
       "      <td>59192.000000</td>\n",
       "      <td>5.637108e+06</td>\n",
       "      <td>223123.000000</td>\n",
       "      <td>840658.000000</td>\n",
       "      <td>...</td>\n",
       "      <td>73.000000</td>\n",
       "      <td>20.000000</td>\n",
       "      <td>631.360000</td>\n",
       "      <td>182.111000</td>\n",
       "      <td>2.000000</td>\n",
       "      <td>63.000000</td>\n",
       "      <td>1.000000</td>\n",
       "      <td>7.000000</td>\n",
       "      <td>3.000000</td>\n",
       "      <td>1.000000</td>\n",
       "    </tr>\n",
       "  </tbody>\n",
       "</table>\n",
       "<p>8 rows × 48 columns</p>\n",
       "</div>"
      ],
      "text/plain": [
       "       application_key         mvar1         mvar2         mvar3  \\\n",
       "count     25000.000000  23850.000000  23294.000000  24842.000000   \n",
       "mean     362552.500000   1746.901551      1.118127      5.243267   \n",
       "std        7217.022701     94.088195      1.658707     10.605688   \n",
       "min      350053.000000   1477.000000      0.000000      0.000000   \n",
       "25%      356302.750000   1680.000000      0.142725      0.000000   \n",
       "50%      362552.500000   1742.000000      0.542400      0.286000   \n",
       "75%      368802.250000   1811.000000      1.469375      6.480000   \n",
       "max      375052.000000   1950.000000     31.018100    167.740000   \n",
       "\n",
       "              mvar4         mvar5         mvar6         mvar7          mvar8  \\\n",
       "count  24842.000000  24842.000000  19193.000000  2.269400e+04   19193.000000   \n",
       "mean       0.463290      1.080183   1624.069192  1.775037e+04    6753.202313   \n",
       "std        1.688155      5.813250   3588.247900  5.485979e+04   10133.583639   \n",
       "min        0.000000      0.000000      0.000000  0.000000e+00       0.000000   \n",
       "25%        0.000000      0.000000     36.000000  1.701000e+03     494.000000   \n",
       "50%        0.000000      0.000000    297.000000  7.011500e+03    2503.000000   \n",
       "75%        0.000000      0.000000   1371.000000  1.803575e+04    9595.000000   \n",
       "max       21.245200    156.878000  59192.000000  5.637108e+06  223123.000000   \n",
       "\n",
       "               mvar9      ...             mvar38        mvar39       mvar40  \\\n",
       "count   21523.000000      ...       24842.000000  23078.000000  5458.000000   \n",
       "mean    33825.554662      ...           4.251349      0.089912    98.491140   \n",
       "std     51781.414456      ...           3.870975      0.444250    30.488996   \n",
       "min         0.000000      ...           0.000000      0.000000     0.018000   \n",
       "25%      3518.000000      ...           2.000000      0.000000    91.338250   \n",
       "50%     14072.000000      ...           3.000000      0.000000   100.000000   \n",
       "75%     43009.500000      ...           6.000000      0.000000   112.237500   \n",
       "max    840658.000000      ...          73.000000     20.000000   631.360000   \n",
       "\n",
       "            mvar41        mvar42        mvar43        mvar44        mvar45  \\\n",
       "count  7748.000000  24367.000000  24723.000000  22538.000000  11027.000000   \n",
       "mean     71.990942      0.331992      6.546091      0.702558      0.071280   \n",
       "std      24.806054      0.374753      6.260583      0.246612      0.302654   \n",
       "min       0.000000      0.000000      0.000000      0.072760      0.000000   \n",
       "25%      58.179500      0.000000      2.000000      0.509132      0.000000   \n",
       "50%      79.123000      0.200000      5.000000      0.732740      0.000000   \n",
       "75%      91.666000      0.561950     10.000000      0.942372      0.000000   \n",
       "max     182.111000      2.000000     63.000000      1.000000      7.000000   \n",
       "\n",
       "             mvar46        mvar47  \n",
       "count  17851.000000  25000.000000  \n",
       "mean       0.092712      0.352720  \n",
       "std        0.321896      0.477826  \n",
       "min        0.000000      0.000000  \n",
       "25%        0.000000      0.000000  \n",
       "50%        0.000000      0.000000  \n",
       "75%        0.000000      1.000000  \n",
       "max        3.000000      1.000000  \n",
       "\n",
       "[8 rows x 48 columns]"
      ]
     },
     "execution_count": 7788,
     "metadata": {},
     "output_type": "execute_result"
    }
   ],
   "source": [
    "df.describe()"
   ]
  },
  {
   "cell_type": "code",
   "execution_count": 7789,
   "metadata": {},
   "outputs": [
    {
     "name": "stdout",
     "output_type": "stream",
     "text": [
      "<class 'pandas.core.frame.DataFrame'>\n",
      "RangeIndex: 25000 entries, 0 to 24999\n",
      "Data columns (total 48 columns):\n",
      "application_key    25000 non-null float64\n",
      "mvar1              23850 non-null float64\n",
      "mvar2              23294 non-null float64\n",
      "mvar3              24842 non-null float64\n",
      "mvar4              24842 non-null float64\n",
      "mvar5              24842 non-null float64\n",
      "mvar6              19193 non-null float64\n",
      "mvar7              22694 non-null float64\n",
      "mvar8              19193 non-null float64\n",
      "mvar9              21523 non-null float64\n",
      "mvar10             24842 non-null float64\n",
      "mvar11             10974 non-null float64\n",
      "mvar12             20690 non-null float64\n",
      "mvar13             22435 non-null float64\n",
      "mvar14             25000 non-null float64\n",
      "mvar15             14949 non-null float64\n",
      "mvar16             19324 non-null float64\n",
      "mvar17             20110 non-null float64\n",
      "mvar18             20418 non-null float64\n",
      "mvar19             24999 non-null float64\n",
      "mvar20             24842 non-null float64\n",
      "mvar21             18106 non-null float64\n",
      "mvar22             15919 non-null float64\n",
      "mvar23             12359 non-null float64\n",
      "mvar24             19223 non-null float64\n",
      "mvar25             22621 non-null float64\n",
      "mvar26             21800 non-null float64\n",
      "mvar27             21007 non-null float64\n",
      "mvar28             24842 non-null float64\n",
      "mvar29             24842 non-null float64\n",
      "mvar30             13551 non-null float64\n",
      "mvar31             7363 non-null float64\n",
      "mvar32             22621 non-null float64\n",
      "mvar33             24461 non-null float64\n",
      "mvar34             24842 non-null float64\n",
      "mvar35             14787 non-null float64\n",
      "mvar36             24021 non-null float64\n",
      "mvar37             22621 non-null float64\n",
      "mvar38             24842 non-null float64\n",
      "mvar39             23078 non-null float64\n",
      "mvar40             5458 non-null float64\n",
      "mvar41             7748 non-null float64\n",
      "mvar42             24367 non-null float64\n",
      "mvar43             24723 non-null float64\n",
      "mvar44             22538 non-null float64\n",
      "mvar45             11027 non-null float64\n",
      "mvar46             17851 non-null float64\n",
      "mvar47             25000 non-null float64\n",
      "dtypes: float64(48)\n",
      "memory usage: 9.2 MB\n"
     ]
    }
   ],
   "source": [
    "df.info()"
   ]
  },
  {
   "cell_type": "code",
   "execution_count": 7790,
   "metadata": {},
   "outputs": [],
   "source": [
    "df['mvar2'] = df['mvar2'].fillna(1.055)"
   ]
  },
  {
   "cell_type": "code",
   "execution_count": 7791,
   "metadata": {},
   "outputs": [
    {
     "name": "stdout",
     "output_type": "stream",
     "text": [
      "<class 'pandas.core.frame.DataFrame'>\n",
      "RangeIndex: 25000 entries, 0 to 24999\n",
      "Data columns (total 48 columns):\n",
      "application_key    25000 non-null float64\n",
      "mvar1              23850 non-null float64\n",
      "mvar2              25000 non-null float64\n",
      "mvar3              24842 non-null float64\n",
      "mvar4              24842 non-null float64\n",
      "mvar5              24842 non-null float64\n",
      "mvar6              19193 non-null float64\n",
      "mvar7              22694 non-null float64\n",
      "mvar8              19193 non-null float64\n",
      "mvar9              21523 non-null float64\n",
      "mvar10             24842 non-null float64\n",
      "mvar11             10974 non-null float64\n",
      "mvar12             20690 non-null float64\n",
      "mvar13             22435 non-null float64\n",
      "mvar14             25000 non-null float64\n",
      "mvar15             14949 non-null float64\n",
      "mvar16             19324 non-null float64\n",
      "mvar17             20110 non-null float64\n",
      "mvar18             20418 non-null float64\n",
      "mvar19             24999 non-null float64\n",
      "mvar20             24842 non-null float64\n",
      "mvar21             18106 non-null float64\n",
      "mvar22             15919 non-null float64\n",
      "mvar23             12359 non-null float64\n",
      "mvar24             19223 non-null float64\n",
      "mvar25             22621 non-null float64\n",
      "mvar26             21800 non-null float64\n",
      "mvar27             21007 non-null float64\n",
      "mvar28             24842 non-null float64\n",
      "mvar29             24842 non-null float64\n",
      "mvar30             13551 non-null float64\n",
      "mvar31             7363 non-null float64\n",
      "mvar32             22621 non-null float64\n",
      "mvar33             24461 non-null float64\n",
      "mvar34             24842 non-null float64\n",
      "mvar35             14787 non-null float64\n",
      "mvar36             24021 non-null float64\n",
      "mvar37             22621 non-null float64\n",
      "mvar38             24842 non-null float64\n",
      "mvar39             23078 non-null float64\n",
      "mvar40             5458 non-null float64\n",
      "mvar41             7748 non-null float64\n",
      "mvar42             24367 non-null float64\n",
      "mvar43             24723 non-null float64\n",
      "mvar44             22538 non-null float64\n",
      "mvar45             11027 non-null float64\n",
      "mvar46             17851 non-null float64\n",
      "mvar47             25000 non-null float64\n",
      "dtypes: float64(48)\n",
      "memory usage: 9.2 MB\n"
     ]
    }
   ],
   "source": [
    "df.info()"
   ]
  },
  {
   "cell_type": "code",
   "execution_count": 7792,
   "metadata": {},
   "outputs": [],
   "source": [
    "df.drop('mvar3',axis=1,inplace=True)"
   ]
  },
  {
   "cell_type": "code",
   "execution_count": 7793,
   "metadata": {},
   "outputs": [],
   "source": [
    "df.drop('mvar8',axis=1,inplace=True)"
   ]
  },
  {
   "cell_type": "code",
   "execution_count": 7794,
   "metadata": {},
   "outputs": [
    {
     "name": "stdout",
     "output_type": "stream",
     "text": [
      "nan\n",
      "<class 'numpy.ndarray'>\n"
     ]
    }
   ],
   "source": [
    "bins = [-1, 12,100, 1500, 100000000]\n",
    "labels = [1,2,3,4]\n",
    "df['binned_mvar6'] = pd.cut(df['mvar6'], bins=bins, labels=labels)\n",
    "arr=np.array(df['binned_mvar6'].tolist())\n",
    "import random\n",
    "print (np.nan)\n",
    "print (type(arr))\n",
    "for i in range (len(arr)):\n",
    "    if np.isnan(arr[i]):\n",
    "        arr[i]=random.randint(2,4)\n",
    "df['binned_mvar6']=arr"
   ]
  },
  {
   "cell_type": "code",
   "execution_count": 7795,
   "metadata": {},
   "outputs": [
    {
     "name": "stdout",
     "output_type": "stream",
     "text": [
      "nan\n",
      "<class 'numpy.ndarray'>\n"
     ]
    }
   ],
   "source": [
    "arr=np.array(df['mvar4'].tolist())\n",
    "import random\n",
    "print (np.nan)\n",
    "print (type(arr))\n",
    "for i in range (len(arr)):\n",
    "    if arr[i]==0:\n",
    "        arr[i]=0\n",
    "    else:\n",
    "        arr[i]=1\n",
    "df['mvar4']=arr"
   ]
  },
  {
   "cell_type": "code",
   "execution_count": 7796,
   "metadata": {},
   "outputs": [
    {
     "name": "stdout",
     "output_type": "stream",
     "text": [
      "nan\n",
      "<class 'numpy.ndarray'>\n"
     ]
    }
   ],
   "source": [
    "arr=np.array(df['mvar5'].tolist())\n",
    "import random\n",
    "print (np.nan)\n",
    "print (type(arr))\n",
    "for i in range (len(arr)):\n",
    "    if arr[i]==0:\n",
    "        arr[i]=0\n",
    "    else:\n",
    "        arr[i]=1\n",
    "df['mvar5']=arr"
   ]
  },
  {
   "cell_type": "code",
   "execution_count": 7797,
   "metadata": {},
   "outputs": [],
   "source": [
    "bins = [1450, 1600,1700, 1800, 1950]\n",
    "labels = [1,2,3,4]\n",
    "df['binned_mvar1'] = pd.cut(df['mvar1'], bins=bins, labels=labels)"
   ]
  },
  {
   "cell_type": "code",
   "execution_count": 7798,
   "metadata": {},
   "outputs": [
    {
     "data": {
      "text/plain": [
       "3    9534\n",
       "4    6622\n",
       "2    6268\n",
       "1    1426\n",
       "Name: binned_mvar1, dtype: int64"
      ]
     },
     "execution_count": 7798,
     "metadata": {},
     "output_type": "execute_result"
    }
   ],
   "source": [
    "df['binned_mvar1'] .value_counts()"
   ]
  },
  {
   "cell_type": "code",
   "execution_count": 7799,
   "metadata": {},
   "outputs": [
    {
     "name": "stdout",
     "output_type": "stream",
     "text": [
      "nan\n",
      "<class 'numpy.ndarray'>\n"
     ]
    }
   ],
   "source": [
    "arr=np.array(df['binned_mvar1'].tolist())\n",
    "import random\n",
    "print (np.nan)\n",
    "print (type(arr))\n",
    "for i in range (len(arr)):\n",
    "    if np.isnan(arr[i]):\n",
    "        arr[i]=random.randint(2,4)\n",
    "\n",
    "df['binned_mvar1']=arr"
   ]
  },
  {
   "cell_type": "code",
   "execution_count": 7800,
   "metadata": {},
   "outputs": [],
   "source": [
    "df.drop('mvar6',axis=1,inplace=True)"
   ]
  },
  {
   "cell_type": "code",
   "execution_count": 7801,
   "metadata": {},
   "outputs": [],
   "source": [
    "df.drop('mvar1',axis=1,inplace=True)"
   ]
  },
  {
   "cell_type": "code",
   "execution_count": 7802,
   "metadata": {},
   "outputs": [],
   "source": [
    "bins = [-1,1.821000e+03,5.559600e+06]\n",
    "labels = [1,2]\n",
    "df['binned_mvar7'] = pd.cut(df['mvar7'], bins=bins, labels=labels)"
   ]
  },
  {
   "cell_type": "code",
   "execution_count": 7803,
   "metadata": {},
   "outputs": [],
   "source": [
    "df['binned_mvar7'] = df['binned_mvar7'].replace([1,2],[1,0])"
   ]
  },
  {
   "cell_type": "code",
   "execution_count": 7804,
   "metadata": {},
   "outputs": [
    {
     "name": "stdout",
     "output_type": "stream",
     "text": [
      "nan\n",
      "<class 'numpy.ndarray'>\n"
     ]
    }
   ],
   "source": [
    "arr=np.array(df['binned_mvar7'].tolist())\n",
    "import random\n",
    "print (np.nan)\n",
    "print (type(arr))\n",
    "for i in range (len(arr)):\n",
    "    if np.isnan(arr[i]):\n",
    "        arr[i]=random.randint(0,1)\n",
    "df['binned_mvar7']=arr"
   ]
  },
  {
   "cell_type": "code",
   "execution_count": 7805,
   "metadata": {},
   "outputs": [],
   "source": [
    "df.drop('mvar7',axis=1,inplace=True)"
   ]
  },
  {
   "cell_type": "code",
   "execution_count": 7806,
   "metadata": {},
   "outputs": [
    {
     "name": "stdout",
     "output_type": "stream",
     "text": [
      "nan\n",
      "<class 'numpy.ndarray'>\n"
     ]
    }
   ],
   "source": [
    "bins = [-1,3.700000e+03,1.449200e+04,3.711880e+06]\n",
    "labels = [1,2,3]\n",
    "df['binned_mvar9'] = pd.cut(df['mvar9'], bins=bins, labels=labels)\n",
    "arr=np.array(df['binned_mvar9'].tolist())\n",
    "import random\n",
    "print (np.nan)\n",
    "print (type(arr))\n",
    "for i in range (len(arr)):\n",
    "    if np.isnan(arr[i]):\n",
    "        arr[i]=random.randint(1,3)\n",
    "df['binned_mvar9']=arr"
   ]
  },
  {
   "cell_type": "code",
   "execution_count": 7807,
   "metadata": {},
   "outputs": [],
   "source": [
    "df['mvar48'] = df['mvar11'].isnull().astype(float)\n"
   ]
  },
  {
   "cell_type": "code",
   "execution_count": 7808,
   "metadata": {},
   "outputs": [],
   "source": [
    "df.drop(['mvar11'],axis =1,inplace = True)"
   ]
  },
  {
   "cell_type": "code",
   "execution_count": 7809,
   "metadata": {},
   "outputs": [
    {
     "name": "stdout",
     "output_type": "stream",
     "text": [
      "nan\n",
      "<class 'numpy.ndarray'>\n"
     ]
    }
   ],
   "source": [
    "bins = [-1,1.055600e+04,5.633320e+06]\n",
    "labels = [1,2]\n",
    "df['binned_mvar10'] = pd.cut(df['mvar10'], bins=bins, labels=labels)\n",
    "arr=np.array(df['binned_mvar10'].tolist())\n",
    "import random\n",
    "print (np.nan)\n",
    "print (type(arr))\n",
    "for i in range (len(arr)):\n",
    "    if np.isnan(arr[i]):\n",
    "        arr[i]=random.randint(1,2)\n",
    "df['binned_mvar10']=arr"
   ]
  },
  {
   "cell_type": "code",
   "execution_count": 7810,
   "metadata": {},
   "outputs": [],
   "source": [
    "df['binned_mvar10'] = df['binned_mvar10'].replace([1,2],[1,0])"
   ]
  },
  {
   "cell_type": "code",
   "execution_count": 7811,
   "metadata": {},
   "outputs": [
    {
     "name": "stdout",
     "output_type": "stream",
     "text": [
      "nan\n",
      "<class 'numpy.ndarray'>\n"
     ]
    }
   ],
   "source": [
    "bins = [-1,0,\n",
    "        731.000000,3028.000000,8727.000000,413685.000000]\n",
    "labels = [1,2,3,4,5]\n",
    "df['binned_mvar12'] = pd.cut(df['mvar12'], bins=bins, labels=labels)\n",
    "arr=np.array(df['binned_mvar12'].tolist())\n",
    "import random\n",
    "print (np.nan)\n",
    "print (type(arr))\n",
    "for i in range (len(arr)):\n",
    "    if np.isnan(arr[i]):\n",
    "        arr[i]=random.randint(2,5)\n",
    "df['binned_mvar12']=arr"
   ]
  },
  {
   "cell_type": "code",
   "execution_count": 7812,
   "metadata": {},
   "outputs": [],
   "source": [
    "bins = [-1,0,5.240000e+02,1.443600e+04,6.318314e+06]\n",
    "labels = [1,2,3,4]\n",
    "df['binned_mvar13'] = pd.cut(df['mvar13'], bins=bins, labels=labels)"
   ]
  },
  {
   "cell_type": "code",
   "execution_count": 7813,
   "metadata": {},
   "outputs": [
    {
     "name": "stdout",
     "output_type": "stream",
     "text": [
      "nan\n",
      "<class 'numpy.ndarray'>\n"
     ]
    }
   ],
   "source": [
    "arr=np.array(df['binned_mvar13'].tolist())\n",
    "import random\n",
    "print (np.nan)\n",
    "print (type(arr))\n",
    "for i in range (len(arr)):\n",
    "    if np.isnan(arr[i]):\n",
    "        arr[i]=random.randint(1,4)\n",
    "df['binned_mvar13']=arr"
   ]
  },
  {
   "cell_type": "code",
   "execution_count": 7814,
   "metadata": {},
   "outputs": [],
   "source": [
    "df.drop(['mvar9','mvar10','mvar12','mvar13'],axis=1,inplace=True)"
   ]
  },
  {
   "cell_type": "code",
   "execution_count": 7815,
   "metadata": {},
   "outputs": [
    {
     "name": "stdout",
     "output_type": "stream",
     "text": [
      "<class 'pandas.core.frame.DataFrame'>\n",
      "RangeIndex: 25000 entries, 0 to 24999\n",
      "Data columns (total 46 columns):\n",
      "application_key    25000 non-null float64\n",
      "mvar2              25000 non-null float64\n",
      "mvar4              25000 non-null float64\n",
      "mvar5              25000 non-null float64\n",
      "mvar14             25000 non-null float64\n",
      "mvar15             14949 non-null float64\n",
      "mvar16             19324 non-null float64\n",
      "mvar17             20110 non-null float64\n",
      "mvar18             20418 non-null float64\n",
      "mvar19             24999 non-null float64\n",
      "mvar20             24842 non-null float64\n",
      "mvar21             18106 non-null float64\n",
      "mvar22             15919 non-null float64\n",
      "mvar23             12359 non-null float64\n",
      "mvar24             19223 non-null float64\n",
      "mvar25             22621 non-null float64\n",
      "mvar26             21800 non-null float64\n",
      "mvar27             21007 non-null float64\n",
      "mvar28             24842 non-null float64\n",
      "mvar29             24842 non-null float64\n",
      "mvar30             13551 non-null float64\n",
      "mvar31             7363 non-null float64\n",
      "mvar32             22621 non-null float64\n",
      "mvar33             24461 non-null float64\n",
      "mvar34             24842 non-null float64\n",
      "mvar35             14787 non-null float64\n",
      "mvar36             24021 non-null float64\n",
      "mvar37             22621 non-null float64\n",
      "mvar38             24842 non-null float64\n",
      "mvar39             23078 non-null float64\n",
      "mvar40             5458 non-null float64\n",
      "mvar41             7748 non-null float64\n",
      "mvar42             24367 non-null float64\n",
      "mvar43             24723 non-null float64\n",
      "mvar44             22538 non-null float64\n",
      "mvar45             11027 non-null float64\n",
      "mvar46             17851 non-null float64\n",
      "mvar47             25000 non-null float64\n",
      "binned_mvar6       25000 non-null float64\n",
      "binned_mvar1       25000 non-null float64\n",
      "binned_mvar7       25000 non-null float64\n",
      "binned_mvar9       25000 non-null float64\n",
      "mvar48             25000 non-null float64\n",
      "binned_mvar10      25000 non-null float64\n",
      "binned_mvar12      25000 non-null float64\n",
      "binned_mvar13      25000 non-null float64\n",
      "dtypes: float64(46)\n",
      "memory usage: 8.8 MB\n"
     ]
    }
   ],
   "source": [
    "df.info()"
   ]
  },
  {
   "cell_type": "code",
   "execution_count": 7816,
   "metadata": {},
   "outputs": [],
   "source": [
    "bins = [-1,0,4.261300e+04,8.837436e+09]\n",
    "labels = [1,2,3]\n",
    "df['binned_mvar14'] = pd.cut(df['mvar14'], bins=bins, labels=labels)"
   ]
  },
  {
   "cell_type": "code",
   "execution_count": 7817,
   "metadata": {},
   "outputs": [],
   "source": [
    "df.drop(['mvar14','mvar15'],axis=1,inplace=True)"
   ]
  },
  {
   "cell_type": "code",
   "execution_count": 7818,
   "metadata": {},
   "outputs": [],
   "source": [
    "df['mvar16'] = df['mvar16'].fillna(0)"
   ]
  },
  {
   "cell_type": "code",
   "execution_count": 7819,
   "metadata": {},
   "outputs": [],
   "source": [
    "df['mvar16'] = df['mvar16'].replace([0,1,2,3,4,5,6,7,8,9],[0,1,2,3,3,3,3,3,3,3])"
   ]
  },
  {
   "cell_type": "code",
   "execution_count": 7822,
   "metadata": {},
   "outputs": [
    {
     "data": {
      "text/plain": [
       "0.0     21427\n",
       "1.0      2541\n",
       "2.0       648\n",
       "3.0       224\n",
       "4.0       105\n",
       "5.0        31\n",
       "6.0        15\n",
       "8.0         5\n",
       "11.0        2\n",
       "7.0         2\n",
       "Name: mvar17, dtype: int64"
      ]
     },
     "execution_count": 7822,
     "metadata": {},
     "output_type": "execute_result"
    }
   ],
   "source": [
    "df['mvar17'].value_counts()"
   ]
  },
  {
   "cell_type": "code",
   "execution_count": 7821,
   "metadata": {},
   "outputs": [],
   "source": [
    "df['mvar17'] = df['mvar17'].fillna(0)"
   ]
  },
  {
   "cell_type": "code",
   "execution_count": 7823,
   "metadata": {},
   "outputs": [],
   "source": [
    "df['mvar17'] = df['mvar17'].replace([0,1,2,3,4,5,6,7,8,9,10,11,12,13,14,15,16,17,18,19,20,21],[0,1,2,3,3,3,3,3,3,3,3,3,3,3,3,3,3,3,3,3,3,3])"
   ]
  },
  {
   "cell_type": "code",
   "execution_count": 7824,
   "metadata": {},
   "outputs": [
    {
     "name": "stdout",
     "output_type": "stream",
     "text": [
      "<class 'pandas.core.frame.DataFrame'>\n",
      "RangeIndex: 25000 entries, 0 to 24999\n",
      "Data columns (total 45 columns):\n",
      "application_key    25000 non-null float64\n",
      "mvar2              25000 non-null float64\n",
      "mvar4              25000 non-null float64\n",
      "mvar5              25000 non-null float64\n",
      "mvar16             25000 non-null float64\n",
      "mvar17             25000 non-null float64\n",
      "mvar18             20418 non-null float64\n",
      "mvar19             24999 non-null float64\n",
      "mvar20             24842 non-null float64\n",
      "mvar21             18106 non-null float64\n",
      "mvar22             15919 non-null float64\n",
      "mvar23             12359 non-null float64\n",
      "mvar24             19223 non-null float64\n",
      "mvar25             22621 non-null float64\n",
      "mvar26             21800 non-null float64\n",
      "mvar27             21007 non-null float64\n",
      "mvar28             24842 non-null float64\n",
      "mvar29             24842 non-null float64\n",
      "mvar30             13551 non-null float64\n",
      "mvar31             7363 non-null float64\n",
      "mvar32             22621 non-null float64\n",
      "mvar33             24461 non-null float64\n",
      "mvar34             24842 non-null float64\n",
      "mvar35             14787 non-null float64\n",
      "mvar36             24021 non-null float64\n",
      "mvar37             22621 non-null float64\n",
      "mvar38             24842 non-null float64\n",
      "mvar39             23078 non-null float64\n",
      "mvar40             5458 non-null float64\n",
      "mvar41             7748 non-null float64\n",
      "mvar42             24367 non-null float64\n",
      "mvar43             24723 non-null float64\n",
      "mvar44             22538 non-null float64\n",
      "mvar45             11027 non-null float64\n",
      "mvar46             17851 non-null float64\n",
      "mvar47             25000 non-null float64\n",
      "binned_mvar6       25000 non-null float64\n",
      "binned_mvar1       25000 non-null float64\n",
      "binned_mvar7       25000 non-null float64\n",
      "binned_mvar9       25000 non-null float64\n",
      "mvar48             25000 non-null float64\n",
      "binned_mvar10      25000 non-null float64\n",
      "binned_mvar12      25000 non-null float64\n",
      "binned_mvar13      25000 non-null float64\n",
      "binned_mvar14      25000 non-null category\n",
      "dtypes: category(1), float64(44)\n",
      "memory usage: 8.4 MB\n"
     ]
    }
   ],
   "source": [
    "df.info()"
   ]
  },
  {
   "cell_type": "code",
   "execution_count": 7825,
   "metadata": {},
   "outputs": [],
   "source": [
    "df['mvar18'] = df['mvar18'].fillna(0)"
   ]
  },
  {
   "cell_type": "code",
   "execution_count": 7834,
   "metadata": {},
   "outputs": [
    {
     "data": {
      "text/plain": [
       "0.0     14002\n",
       "1.0      4960\n",
       "2.0      2504\n",
       "3.0      1403\n",
       "4.0       768\n",
       "5.0       476\n",
       "6.0       250\n",
       "7.0       162\n",
       "8.0       117\n",
       "9.0        67\n",
       "10.0       50\n",
       "11.0       31\n",
       "12.0       20\n",
       "13.0       13\n",
       "14.0        9\n",
       "15.0        4\n",
       "18.0        3\n",
       "17.0        1\n",
       "26.0        1\n",
       "21.0        1\n",
       "Name: mvar20, dtype: int64"
      ]
     },
     "execution_count": 7834,
     "metadata": {},
     "output_type": "execute_result"
    }
   ],
   "source": [
    "df['mvar20'].value_counts()"
   ]
  },
  {
   "cell_type": "code",
   "execution_count": 7828,
   "metadata": {},
   "outputs": [],
   "source": [
    "df['mvar18'] = df['mvar18'].replace([0,1,2,3,4,5,6,7,8,9,10,11,12,13,14,15,16,17,18,19,20,21],[0,1,2,3,3,3,3,3,3,3,3,3,3,3,3,3,3,3,3,3,3,3])"
   ]
  },
  {
   "cell_type": "code",
   "execution_count": 7829,
   "metadata": {},
   "outputs": [],
   "source": [
    "df['mvar19'] = df['mvar19'].fillna(0)"
   ]
  },
  {
   "cell_type": "code",
   "execution_count": 7833,
   "metadata": {},
   "outputs": [],
   "source": [
    "df['mvar19'] = df['mvar19'].replace([0,1,2,3,4,5,6,7,8,9,10,11,12,13,14,15,16,17,18,19,20,21,22,23,24,25,26,27,28],[0,1,2,3,4,4,4,4,4,4,4,4,4,4,4,4,4,4,4,4,4,4,4,4,4,4,4,4,4])"
   ]
  },
  {
   "cell_type": "code",
   "execution_count": 7835,
   "metadata": {},
   "outputs": [],
   "source": [
    "df['mvar20'] = df['mvar20'].fillna(0)"
   ]
  },
  {
   "cell_type": "code",
   "execution_count": 7836,
   "metadata": {},
   "outputs": [],
   "source": [
    "df['mvar20'] = df['mvar20'].replace([0,1,2,3,4,5,6,7,8,9,10,11,12,13,14,15,16,17,18,19,20,21,22,23,24,25,26,27,28,29],[0,1,2,2,4,5,5,5,5,5,5,5,5,5,5,5,5,5,5,5,5,5,5,5,5,5,5,5,5,5])"
   ]
  },
  {
   "cell_type": "code",
   "execution_count": 7837,
   "metadata": {},
   "outputs": [
    {
     "data": {
      "text/html": [
       "<div>\n",
       "<style scoped>\n",
       "    .dataframe tbody tr th:only-of-type {\n",
       "        vertical-align: middle;\n",
       "    }\n",
       "\n",
       "    .dataframe tbody tr th {\n",
       "        vertical-align: top;\n",
       "    }\n",
       "\n",
       "    .dataframe thead th {\n",
       "        text-align: right;\n",
       "    }\n",
       "</style>\n",
       "<table border=\"1\" class=\"dataframe\">\n",
       "  <thead>\n",
       "    <tr style=\"text-align: right;\">\n",
       "      <th></th>\n",
       "      <th>mvar16</th>\n",
       "      <th>mvar17</th>\n",
       "      <th>mvar18</th>\n",
       "      <th>mvar19</th>\n",
       "      <th>mvar20</th>\n",
       "    </tr>\n",
       "  </thead>\n",
       "  <tbody>\n",
       "    <tr>\n",
       "      <th>mvar16</th>\n",
       "      <td>1.000000</td>\n",
       "      <td>0.942800</td>\n",
       "      <td>0.931081</td>\n",
       "      <td>0.502678</td>\n",
       "      <td>0.490322</td>\n",
       "    </tr>\n",
       "    <tr>\n",
       "      <th>mvar17</th>\n",
       "      <td>0.942800</td>\n",
       "      <td>1.000000</td>\n",
       "      <td>0.987610</td>\n",
       "      <td>0.547151</td>\n",
       "      <td>0.538566</td>\n",
       "    </tr>\n",
       "    <tr>\n",
       "      <th>mvar18</th>\n",
       "      <td>0.931081</td>\n",
       "      <td>0.987610</td>\n",
       "      <td>1.000000</td>\n",
       "      <td>0.542579</td>\n",
       "      <td>0.542931</td>\n",
       "    </tr>\n",
       "    <tr>\n",
       "      <th>mvar19</th>\n",
       "      <td>0.502678</td>\n",
       "      <td>0.547151</td>\n",
       "      <td>0.542579</td>\n",
       "      <td>1.000000</td>\n",
       "      <td>0.955287</td>\n",
       "    </tr>\n",
       "    <tr>\n",
       "      <th>mvar20</th>\n",
       "      <td>0.490322</td>\n",
       "      <td>0.538566</td>\n",
       "      <td>0.542931</td>\n",
       "      <td>0.955287</td>\n",
       "      <td>1.000000</td>\n",
       "    </tr>\n",
       "  </tbody>\n",
       "</table>\n",
       "</div>"
      ],
      "text/plain": [
       "          mvar16    mvar17    mvar18    mvar19    mvar20\n",
       "mvar16  1.000000  0.942800  0.931081  0.502678  0.490322\n",
       "mvar17  0.942800  1.000000  0.987610  0.547151  0.538566\n",
       "mvar18  0.931081  0.987610  1.000000  0.542579  0.542931\n",
       "mvar19  0.502678  0.547151  0.542579  1.000000  0.955287\n",
       "mvar20  0.490322  0.538566  0.542931  0.955287  1.000000"
      ]
     },
     "execution_count": 7837,
     "metadata": {},
     "output_type": "execute_result"
    }
   ],
   "source": [
    "dframe = df[['mvar16','mvar17','mvar18','mvar19','mvar20']]\n",
    "dframe.corr()"
   ]
  },
  {
   "cell_type": "code",
   "execution_count": 7838,
   "metadata": {},
   "outputs": [],
   "source": [
    "from sklearn.decomposition import PCA\n",
    "pca = PCA(n_components= None)\n",
    "dframe = pca.fit_transform(dframe)\n",
    "explained_variance = pca.explained_variance_ratio_"
   ]
  },
  {
   "cell_type": "code",
   "execution_count": 7839,
   "metadata": {},
   "outputs": [
    {
     "data": {
      "text/plain": [
       "array([8.45412297e-01, 1.31031540e-01, 1.76474591e-02, 5.06911443e-03,\n",
       "       8.39589514e-04])"
      ]
     },
     "execution_count": 7839,
     "metadata": {},
     "output_type": "execute_result"
    }
   ],
   "source": [
    "explained_variance"
   ]
  },
  {
   "cell_type": "code",
   "execution_count": 7840,
   "metadata": {},
   "outputs": [],
   "source": [
    "df['mvar52'] = dframe[:,0]\n",
    "df['mvar53'] = dframe[:,1]"
   ]
  },
  {
   "cell_type": "code",
   "execution_count": 7841,
   "metadata": {},
   "outputs": [],
   "source": [
    "df.drop(['mvar16','mvar17','mvar18','mvar19','mvar20'],axis=1,inplace=True)"
   ]
  },
  {
   "cell_type": "code",
   "execution_count": 7842,
   "metadata": {},
   "outputs": [],
   "source": [
    "bins = [0,26.870000,66.540000,88.540000,98.544,1305.250000]\n",
    "labels = [1,2,3,4,5]\n",
    "df['binned_mvar21'] = pd.cut(df['mvar21'], bins=bins, labels=labels)"
   ]
  },
  {
   "cell_type": "code",
   "execution_count": 7845,
   "metadata": {},
   "outputs": [
    {
     "data": {
      "text/plain": [
       "count    15919.000000\n",
       "mean      4427.876770\n",
       "std       3813.637964\n",
       "min          0.000000\n",
       "25%        750.845000\n",
       "50%       3978.570000\n",
       "75%       7523.980000\n",
       "max      99800.000000\n",
       "Name: mvar22, dtype: float64"
      ]
     },
     "execution_count": 7845,
     "metadata": {},
     "output_type": "execute_result"
    }
   ],
   "source": [
    "df['mvar22'].describe()"
   ]
  },
  {
   "cell_type": "code",
   "execution_count": 7844,
   "metadata": {},
   "outputs": [
    {
     "name": "stdout",
     "output_type": "stream",
     "text": [
      "nan\n",
      "<class 'numpy.ndarray'>\n"
     ]
    }
   ],
   "source": [
    "arr=np.array(df['binned_mvar21'].tolist())\n",
    "import random\n",
    "print (np.nan)\n",
    "print (type(arr))\n",
    "for i in range (len(arr)):\n",
    "    if np.isnan(arr[i]):\n",
    "        arr[i]=random.randint(3,4)\n",
    "df['binned_mvar21']=arr"
   ]
  },
  {
   "cell_type": "code",
   "execution_count": 7846,
   "metadata": {},
   "outputs": [
    {
     "name": "stdout",
     "output_type": "stream",
     "text": [
      "nan\n",
      "<class 'numpy.ndarray'>\n"
     ]
    }
   ],
   "source": [
    "bins = [-1,3666.770000,6766.770000,10000.000000,999800.000000]\n",
    "labels = [1,2,3,4]\n",
    "df['binned_mvar22'] = pd.cut(df['mvar22'], bins=bins, labels=labels)\n",
    "arr=np.array(df['binned_mvar22'].tolist())\n",
    "import random\n",
    "print (np.nan)\n",
    "print (type(arr))\n",
    "for i in range (len(arr)):\n",
    "    if np.isnan(arr[i]):\n",
    "        arr[i]=random.randint(3,3)\n",
    "df['binned_mvar22']=arr"
   ]
  },
  {
   "cell_type": "code",
   "execution_count": 7847,
   "metadata": {},
   "outputs": [
    {
     "data": {
      "text/plain": [
       "count    15919.000000\n",
       "mean      4427.876770\n",
       "std       3813.637964\n",
       "min          0.000000\n",
       "25%        750.845000\n",
       "50%       3978.570000\n",
       "75%       7523.980000\n",
       "max      99800.000000\n",
       "Name: mvar22, dtype: float64"
      ]
     },
     "execution_count": 7847,
     "metadata": {},
     "output_type": "execute_result"
    }
   ],
   "source": [
    "df['mvar22'].describe()"
   ]
  },
  {
   "cell_type": "code",
   "execution_count": 7848,
   "metadata": {},
   "outputs": [
    {
     "name": "stdout",
     "output_type": "stream",
     "text": [
      "nan\n",
      "<class 'numpy.ndarray'>\n"
     ]
    }
   ],
   "source": [
    "arr=np.array(df['binned_mvar22'].tolist())\n",
    "import random\n",
    "print (np.nan)\n",
    "print (type(arr))\n",
    "for i in range (len(arr)):\n",
    "    if np.isnan(arr[i]):\n",
    "        arr[i]=random.randint(3,3)\n",
    "df['binned_mvar22']=arr"
   ]
  },
  {
   "cell_type": "code",
   "execution_count": 7849,
   "metadata": {},
   "outputs": [],
   "source": [
    "df.drop('mvar23',axis=1,inplace = True)"
   ]
  },
  {
   "cell_type": "code",
   "execution_count": 7850,
   "metadata": {},
   "outputs": [
    {
     "data": {
      "text/plain": [
       "count    19223.000000\n",
       "mean        72.500520\n",
       "std        305.673992\n",
       "min          0.000000\n",
       "25%         10.345000\n",
       "50%         41.220000\n",
       "75%         76.250000\n",
       "max      22621.130000\n",
       "Name: mvar24, dtype: float64"
      ]
     },
     "execution_count": 7850,
     "metadata": {},
     "output_type": "execute_result"
    }
   ],
   "source": [
    "df['mvar24'].describe()"
   ]
  },
  {
   "cell_type": "code",
   "execution_count": 7851,
   "metadata": {},
   "outputs": [],
   "source": [
    "bins = [-1,35.380000,76.472500,27867.400000]\n",
    "labels = [1,2,3]\n",
    "df['binned_mvar24'] = pd.cut(df['mvar24'], bins=bins, labels=labels)"
   ]
  },
  {
   "cell_type": "code",
   "execution_count": 7852,
   "metadata": {},
   "outputs": [
    {
     "name": "stdout",
     "output_type": "stream",
     "text": [
      "nan\n",
      "<class 'numpy.ndarray'>\n"
     ]
    }
   ],
   "source": [
    "arr=np.array(df['binned_mvar24'].tolist())\n",
    "import random\n",
    "print (np.nan)\n",
    "print (type(arr))\n",
    "for i in range (len(arr)):\n",
    "    if np.isnan(arr[i]):\n",
    "        arr[i]=random.randint(2,3)\n",
    "df['binned_mvar24']=arr"
   ]
  },
  {
   "cell_type": "code",
   "execution_count": 7853,
   "metadata": {},
   "outputs": [],
   "source": [
    "df.drop(['mvar21','mvar22','mvar24'],axis=1,inplace=True)"
   ]
  },
  {
   "cell_type": "code",
   "execution_count": 7854,
   "metadata": {},
   "outputs": [
    {
     "name": "stderr",
     "output_type": "stream",
     "text": [
      "C:\\Users\\Chirag Garg\\Anaconda3\\lib\\site-packages\\matplotlib\\axes\\_axes.py:6462: UserWarning: The 'normed' kwarg is deprecated, and has been replaced by the 'density' kwarg.\n",
      "  warnings.warn(\"The 'normed' kwarg is deprecated, and has been \"\n"
     ]
    },
    {
     "data": {
      "text/plain": [
       "<matplotlib.axes._subplots.AxesSubplot at 0x16fba06e6d8>"
      ]
     },
     "execution_count": 7854,
     "metadata": {},
     "output_type": "execute_result"
    },
    {
     "data": {
      "image/png": "[encoded data removed]",
      "text/plain": [
       "<Figure size 432x288 with 1 Axes>"
      ]
     },
     "metadata": {},
     "output_type": "display_data"
    }
   ],
   "source": [
    "df15 = df[df['mvar25'].notnull()]\n",
    "sns.distplot(df15['mvar25'])"
   ]
  },
  {
   "cell_type": "code",
   "execution_count": 7855,
   "metadata": {},
   "outputs": [
    {
     "data": {
      "text/plain": [
       "count    22621.000000\n",
       "mean      1752.017860\n",
       "std       1329.276829\n",
       "min          0.000000\n",
       "25%        816.000000\n",
       "50%       1470.000000\n",
       "75%       2352.000000\n",
       "max      19010.000000\n",
       "Name: mvar25, dtype: float64"
      ]
     },
     "execution_count": 7855,
     "metadata": {},
     "output_type": "execute_result"
    }
   ],
   "source": [
    "df['mvar25'].describe()"
   ]
  },
  {
   "cell_type": "code",
   "execution_count": 7856,
   "metadata": {},
   "outputs": [],
   "source": [
    "df['mvar25'] = df['mvar25'].fillna(1752.017)"
   ]
  },
  {
   "cell_type": "code",
   "execution_count": 7857,
   "metadata": {},
   "outputs": [
    {
     "name": "stderr",
     "output_type": "stream",
     "text": [
      "C:\\Users\\Chirag Garg\\Anaconda3\\lib\\site-packages\\matplotlib\\axes\\_axes.py:6462: UserWarning: The 'normed' kwarg is deprecated, and has been replaced by the 'density' kwarg.\n",
      "  warnings.warn(\"The 'normed' kwarg is deprecated, and has been \"\n"
     ]
    },
    {
     "data": {
      "text/plain": [
       "<matplotlib.axes._subplots.AxesSubplot at 0x16fb0a3a7f0>"
      ]
     },
     "execution_count": 7857,
     "metadata": {},
     "output_type": "execute_result"
    },
    {
     "data": {
      "image/png": "[encoded data removed]",
      "text/plain": [
       "<Figure size 432x288 with 1 Axes>"
      ]
     },
     "metadata": {},
     "output_type": "display_data"
    }
   ],
   "source": [
    "df15 = df[df['mvar26'].notnull()]\n",
    "sns.distplot(df15['mvar26'])"
   ]
  },
  {
   "cell_type": "code",
   "execution_count": 7858,
   "metadata": {},
   "outputs": [
    {
     "data": {
      "text/plain": [
       "count    21800.000000\n",
       "mean      3359.007982\n",
       "std       2922.767820\n",
       "min          0.000000\n",
       "25%       1125.000000\n",
       "50%       2738.000000\n",
       "75%       4684.000000\n",
       "max      23847.000000\n",
       "Name: mvar26, dtype: float64"
      ]
     },
     "execution_count": 7858,
     "metadata": {},
     "output_type": "execute_result"
    }
   ],
   "source": [
    "df['mvar26'].describe()"
   ]
  },
  {
   "cell_type": "code",
   "execution_count": 7859,
   "metadata": {},
   "outputs": [],
   "source": [
    "df['mvar26'] = df['mvar26'].fillna(3359.007)"
   ]
  },
  {
   "cell_type": "code",
   "execution_count": 7860,
   "metadata": {},
   "outputs": [
    {
     "data": {
      "text/plain": [
       "count    21007.000000\n",
       "mean      3096.124625\n",
       "std       2691.724594\n",
       "min          0.000000\n",
       "25%       1034.000000\n",
       "50%       2555.000000\n",
       "75%       4319.000000\n",
       "max      19923.000000\n",
       "Name: mvar27, dtype: float64"
      ]
     },
     "execution_count": 7860,
     "metadata": {},
     "output_type": "execute_result"
    }
   ],
   "source": [
    "df['mvar27'].describe()"
   ]
  },
  {
   "cell_type": "code",
   "execution_count": 7861,
   "metadata": {},
   "outputs": [
    {
     "name": "stdout",
     "output_type": "stream",
     "text": [
      "nan\n",
      "<class 'numpy.ndarray'>\n"
     ]
    }
   ],
   "source": [
    "arr=np.array(df['mvar27'].tolist())\n",
    "import random\n",
    "print (np.nan)\n",
    "print (type(arr))\n",
    "for i in range (len(arr)):\n",
    "    if np.isnan(arr[i]):\n",
    "        arr[i]=random.randint(2850,3256)\n",
    "df['mvar27']=arr"
   ]
  },
  {
   "cell_type": "code",
   "execution_count": 7862,
   "metadata": {},
   "outputs": [
    {
     "name": "stdout",
     "output_type": "stream",
     "text": [
      "<class 'pandas.core.frame.DataFrame'>\n",
      "RangeIndex: 25000 entries, 0 to 24999\n",
      "Data columns (total 41 columns):\n",
      "application_key    25000 non-null float64\n",
      "mvar2              25000 non-null float64\n",
      "mvar4              25000 non-null float64\n",
      "mvar5              25000 non-null float64\n",
      "mvar25             25000 non-null float64\n",
      "mvar26             25000 non-null float64\n",
      "mvar27             25000 non-null float64\n",
      "mvar28             24842 non-null float64\n",
      "mvar29             24842 non-null float64\n",
      "mvar30             13551 non-null float64\n",
      "mvar31             7363 non-null float64\n",
      "mvar32             22621 non-null float64\n",
      "mvar33             24461 non-null float64\n",
      "mvar34             24842 non-null float64\n",
      "mvar35             14787 non-null float64\n",
      "mvar36             24021 non-null float64\n",
      "mvar37             22621 non-null float64\n",
      "mvar38             24842 non-null float64\n",
      "mvar39             23078 non-null float64\n",
      "mvar40             5458 non-null float64\n",
      "mvar41             7748 non-null float64\n",
      "mvar42             24367 non-null float64\n",
      "mvar43             24723 non-null float64\n",
      "mvar44             22538 non-null float64\n",
      "mvar45             11027 non-null float64\n",
      "mvar46             17851 non-null float64\n",
      "mvar47             25000 non-null float64\n",
      "binned_mvar6       25000 non-null float64\n",
      "binned_mvar1       25000 non-null float64\n",
      "binned_mvar7       25000 non-null float64\n",
      "binned_mvar9       25000 non-null float64\n",
      "mvar48             25000 non-null float64\n",
      "binned_mvar10      25000 non-null float64\n",
      "binned_mvar12      25000 non-null float64\n",
      "binned_mvar13      25000 non-null float64\n",
      "binned_mvar14      25000 non-null category\n",
      "mvar52             25000 non-null float64\n",
      "mvar53             25000 non-null float64\n",
      "binned_mvar21      25000 non-null float64\n",
      "binned_mvar22      25000 non-null float64\n",
      "binned_mvar24      25000 non-null float64\n",
      "dtypes: category(1), float64(40)\n",
      "memory usage: 7.7 MB\n"
     ]
    }
   ],
   "source": [
    "df.info()"
   ]
  },
  {
   "cell_type": "code",
   "execution_count": 7863,
   "metadata": {},
   "outputs": [
    {
     "name": "stderr",
     "output_type": "stream",
     "text": [
      "C:\\Users\\Chirag Garg\\Anaconda3\\lib\\site-packages\\matplotlib\\axes\\_axes.py:6462: UserWarning: The 'normed' kwarg is deprecated, and has been replaced by the 'density' kwarg.\n",
      "  warnings.warn(\"The 'normed' kwarg is deprecated, and has been \"\n"
     ]
    },
    {
     "data": {
      "text/plain": [
       "<matplotlib.axes._subplots.AxesSubplot at 0x16fa72a2588>"
      ]
     },
     "execution_count": 7863,
     "metadata": {},
     "output_type": "execute_result"
    },
    {
     "data": {
      "image/png": "[encoded data removed]",
      "text/plain": [
       "<Figure size 432x288 with 1 Axes>"
      ]
     },
     "metadata": {},
     "output_type": "display_data"
    }
   ],
   "source": [
    "df15 = df[df['mvar30'].notnull()]\n",
    "sns.distplot(df15['mvar30'])"
   ]
  },
  {
   "cell_type": "code",
   "execution_count": 7864,
   "metadata": {},
   "outputs": [],
   "source": [
    "df.drop(['mvar30','mvar31'],axis=1,inplace=True)"
   ]
  },
  {
   "cell_type": "code",
   "execution_count": 7865,
   "metadata": {},
   "outputs": [
    {
     "data": {
      "text/plain": [
       "count    24842.000000\n",
       "mean      8838.908139\n",
       "std      13566.837115\n",
       "min          0.000000\n",
       "25%         30.000000\n",
       "50%        243.000000\n",
       "75%      30386.000000\n",
       "max      30386.000000\n",
       "Name: mvar28, dtype: float64"
      ]
     },
     "execution_count": 7865,
     "metadata": {},
     "output_type": "execute_result"
    }
   ],
   "source": [
    "df['mvar28'].describe()"
   ]
  },
  {
   "cell_type": "code",
   "execution_count": 7866,
   "metadata": {},
   "outputs": [
    {
     "name": "stdout",
     "output_type": "stream",
     "text": [
      "nan\n",
      "<class 'numpy.ndarray'>\n"
     ]
    }
   ],
   "source": [
    "arr=np.array(df['mvar28'].tolist())\n",
    "import random\n",
    "print (np.nan)\n",
    "print (type(arr))\n",
    "for i in range (len(arr)):\n",
    "    if np.isnan(arr[i]):\n",
    "        arr[i]=random.randint(1500,9000)\n",
    "df['mvar28']=arr"
   ]
  },
  {
   "cell_type": "code",
   "execution_count": 7867,
   "metadata": {},
   "outputs": [
    {
     "data": {
      "text/plain": [
       "count    24842.000000\n",
       "mean      5493.759118\n",
       "std       3254.915936\n",
       "min          0.000000\n",
       "25%       3224.000000\n",
       "50%       5019.000000\n",
       "75%       7239.000000\n",
       "max      23847.000000\n",
       "Name: mvar29, dtype: float64"
      ]
     },
     "execution_count": 7867,
     "metadata": {},
     "output_type": "execute_result"
    }
   ],
   "source": [
    "df['mvar29'].describe()"
   ]
  },
  {
   "cell_type": "code",
   "execution_count": 7868,
   "metadata": {},
   "outputs": [],
   "source": [
    "df['mvar29'] = df['mvar29'].fillna(5493.759118)"
   ]
  },
  {
   "cell_type": "code",
   "execution_count": 7869,
   "metadata": {},
   "outputs": [],
   "source": [
    "dframe = df[['mvar25','mvar26','mvar27','mvar28','mvar29']]"
   ]
  },
  {
   "cell_type": "code",
   "execution_count": 7870,
   "metadata": {},
   "outputs": [],
   "source": [
    "from sklearn.decomposition import PCA\n",
    "pca = PCA(n_components= None)\n",
    "dframe = pca.fit_transform(dframe)\n",
    "explained_variance = pca.explained_variance_ratio_"
   ]
  },
  {
   "cell_type": "code",
   "execution_count": 7871,
   "metadata": {},
   "outputs": [
    {
     "data": {
      "text/plain": [
       "array([0.88004563, 0.09291819, 0.02077865, 0.00378759, 0.00246993])"
      ]
     },
     "execution_count": 7871,
     "metadata": {},
     "output_type": "execute_result"
    }
   ],
   "source": [
    "explained_variance"
   ]
  },
  {
   "cell_type": "code",
   "execution_count": 7872,
   "metadata": {},
   "outputs": [],
   "source": [
    "df['mvar50'] = dframe[:,0]\n",
    "df['mvar51'] = dframe[:,1]"
   ]
  },
  {
   "cell_type": "code",
   "execution_count": 7873,
   "metadata": {},
   "outputs": [],
   "source": [
    "df.drop(['mvar25','mvar26','mvar27','mvar28','mvar29'],axis=1,inplace=True)"
   ]
  },
  {
   "cell_type": "code",
   "execution_count": 4707,
   "metadata": {},
   "outputs": [
    {
     "data": {
      "text/plain": [
       "count    22621.000000\n",
       "mean       466.639627\n",
       "std        512.257726\n",
       "min          0.000000\n",
       "25%         98.000000\n",
       "50%        300.000000\n",
       "75%        666.000000\n",
       "max       6965.000000\n",
       "Name: mvar32, dtype: float64"
      ]
     },
     "execution_count": 4707,
     "metadata": {},
     "output_type": "execute_result"
    }
   ],
   "source": [
    "df['mvar32'].describe()"
   ]
  },
  {
   "cell_type": "code",
   "execution_count": 7874,
   "metadata": {},
   "outputs": [],
   "source": [
    "bins = [-1,102.000000,307.000000,10653.000000]\n",
    "labels = [1,2,3]\n",
    "df['binned_mvar32'] = pd.cut(df['mvar32'], bins=bins, labels=labels)"
   ]
  },
  {
   "cell_type": "code",
   "execution_count": 7875,
   "metadata": {},
   "outputs": [
    {
     "name": "stdout",
     "output_type": "stream",
     "text": [
      "nan\n",
      "<class 'numpy.ndarray'>\n"
     ]
    }
   ],
   "source": [
    "arr=np.array(df['binned_mvar32'].tolist())\n",
    "import random\n",
    "print (np.nan)\n",
    "print (type(arr))\n",
    "for i in range (len(arr)):\n",
    "    if np.isnan(arr[i]):\n",
    "        arr[i]=random.randint(1,1)\n",
    "df['binned_mvar32']=arr"
   ]
  },
  {
   "cell_type": "code",
   "execution_count": 7876,
   "metadata": {},
   "outputs": [
    {
     "data": {
      "text/plain": [
       "count    24461.000000\n",
       "mean         6.920566\n",
       "std          7.655343\n",
       "min          0.083300\n",
       "25%          1.166700\n",
       "50%          3.833300\n",
       "75%         10.500000\n",
       "max         76.500000\n",
       "Name: mvar33, dtype: float64"
      ]
     },
     "execution_count": 7876,
     "metadata": {},
     "output_type": "execute_result"
    }
   ],
   "source": [
    "df['mvar33'].describe()"
   ]
  },
  {
   "cell_type": "code",
   "execution_count": 7877,
   "metadata": {},
   "outputs": [
    {
     "name": "stdout",
     "output_type": "stream",
     "text": [
      "nan\n",
      "<class 'numpy.ndarray'>\n"
     ]
    }
   ],
   "source": [
    "bins = [-1,1.250000,3,10.750000,76.000000]\n",
    "labels = [1,2,3,4]\n",
    "df['binned_mvar33'] = pd.cut(df['mvar33'], bins=bins, labels=labels)\n",
    "arr=np.array(df['binned_mvar33'].tolist())\n",
    "import random\n",
    "print (np.nan)\n",
    "print (type(arr))\n",
    "for i in range (len(arr)):\n",
    "    if np.isnan(arr[i]):\n",
    "        arr[i]=random.randint(3,3)\n",
    "df['binned_mvar33']=arr"
   ]
  },
  {
   "cell_type": "code",
   "execution_count": 7878,
   "metadata": {},
   "outputs": [],
   "source": [
    "df.drop(['mvar32','mvar33'],axis=1,inplace=True)"
   ]
  },
  {
   "cell_type": "code",
   "execution_count": 7879,
   "metadata": {},
   "outputs": [
    {
     "data": {
      "text/plain": [
       "0.0     20998\n",
       "1.0      2764\n",
       "2.0       693\n",
       "3.0       218\n",
       "4.0        87\n",
       "5.0        39\n",
       "6.0        17\n",
       "7.0         6\n",
       "8.0         6\n",
       "10.0        4\n",
       "9.0         3\n",
       "12.0        3\n",
       "14.0        2\n",
       "20.0        1\n",
       "13.0        1\n",
       "Name: mvar34, dtype: int64"
      ]
     },
     "execution_count": 7879,
     "metadata": {},
     "output_type": "execute_result"
    }
   ],
   "source": [
    "df['mvar34'].value_counts()"
   ]
  },
  {
   "cell_type": "code",
   "execution_count": 7880,
   "metadata": {},
   "outputs": [],
   "source": [
    "df['mvar34'] = df['mvar34'].fillna(0)"
   ]
  },
  {
   "cell_type": "code",
   "execution_count": 7881,
   "metadata": {},
   "outputs": [],
   "source": [
    "df['mvar34'] = df['mvar34'].replace([0,1,2,3,4,5,6,7,8,9,10,11,12,13,14,15,16,17,18,19,20,21],[0,1,2,3,3,3,3,3,3,3,3,3,3,3,3,3,3,3,3,3,3,3])"
   ]
  },
  {
   "cell_type": "code",
   "execution_count": 7882,
   "metadata": {},
   "outputs": [],
   "source": [
    "df.drop('mvar35',axis=1,inplace=True)"
   ]
  },
  {
   "cell_type": "code",
   "execution_count": 7883,
   "metadata": {},
   "outputs": [
    {
     "name": "stdout",
     "output_type": "stream",
     "text": [
      "<class 'pandas.core.frame.DataFrame'>\n",
      "RangeIndex: 25000 entries, 0 to 24999\n",
      "Data columns (total 35 columns):\n",
      "application_key    25000 non-null float64\n",
      "mvar2              25000 non-null float64\n",
      "mvar4              25000 non-null float64\n",
      "mvar5              25000 non-null float64\n",
      "mvar34             25000 non-null float64\n",
      "mvar36             24021 non-null float64\n",
      "mvar37             22621 non-null float64\n",
      "mvar38             24842 non-null float64\n",
      "mvar39             23078 non-null float64\n",
      "mvar40             5458 non-null float64\n",
      "mvar41             7748 non-null float64\n",
      "mvar42             24367 non-null float64\n",
      "mvar43             24723 non-null float64\n",
      "mvar44             22538 non-null float64\n",
      "mvar45             11027 non-null float64\n",
      "mvar46             17851 non-null float64\n",
      "mvar47             25000 non-null float64\n",
      "binned_mvar6       25000 non-null float64\n",
      "binned_mvar1       25000 non-null float64\n",
      "binned_mvar7       25000 non-null float64\n",
      "binned_mvar9       25000 non-null float64\n",
      "mvar48             25000 non-null float64\n",
      "binned_mvar10      25000 non-null float64\n",
      "binned_mvar12      25000 non-null float64\n",
      "binned_mvar13      25000 non-null float64\n",
      "binned_mvar14      25000 non-null category\n",
      "mvar52             25000 non-null float64\n",
      "mvar53             25000 non-null float64\n",
      "binned_mvar21      25000 non-null float64\n",
      "binned_mvar22      25000 non-null float64\n",
      "binned_mvar24      25000 non-null float64\n",
      "mvar50             25000 non-null float64\n",
      "mvar51             25000 non-null float64\n",
      "binned_mvar32      25000 non-null float64\n",
      "binned_mvar33      25000 non-null float64\n",
      "dtypes: category(1), float64(34)\n",
      "memory usage: 6.5 MB\n"
     ]
    }
   ],
   "source": [
    "df.info()"
   ]
  },
  {
   "cell_type": "code",
   "execution_count": 4715,
   "metadata": {},
   "outputs": [
    {
     "data": {
      "text/plain": [
       "count    24021.000000\n",
       "mean         6.391657\n",
       "std          5.263733\n",
       "min          1.000000\n",
       "25%          3.000000\n",
       "50%          5.000000\n",
       "75%          8.000000\n",
       "max         99.000000\n",
       "Name: mvar36, dtype: float64"
      ]
     },
     "execution_count": 4715,
     "metadata": {},
     "output_type": "execute_result"
    }
   ],
   "source": [
    "df['mvar36'].describe()"
   ]
  },
  {
   "cell_type": "code",
   "execution_count": 7884,
   "metadata": {},
   "outputs": [],
   "source": [
    "df['mvar36'] = df['mvar36'].replace([1,2],[1,1])\n",
    "df['mvar36'] = df['mvar36'].replace([3,4,5,6,7,8,9],[2,3,4,5,6,7,8])\n",
    "df['mvar36'] = df['mvar36'].replace([10,11,12,13],[9,9,9,9])\n",
    "df['mvar36'] = df['mvar36'].replace([14,15,16,17,18,19,20],[10,10,10,10,11,11,11])"
   ]
  },
  {
   "cell_type": "code",
   "execution_count": 7885,
   "metadata": {},
   "outputs": [
    {
     "name": "stdout",
     "output_type": "stream",
     "text": [
      "nan\n",
      "<class 'numpy.ndarray'>\n"
     ]
    }
   ],
   "source": [
    "arr=np.array(df['mvar36'].tolist())\n",
    "import random\n",
    "print (np.nan)\n",
    "print (type(arr))\n",
    "for i in range (len(arr)):\n",
    "    if arr[i]>20:\n",
    "        arr[i]=12\n",
    "df['mvar36']=arr\n",
    "    "
   ]
  },
  {
   "cell_type": "code",
   "execution_count": 7886,
   "metadata": {},
   "outputs": [
    {
     "name": "stdout",
     "output_type": "stream",
     "text": [
      "nan\n",
      "<class 'numpy.ndarray'>\n"
     ]
    }
   ],
   "source": [
    "arr=np.array(df['mvar36'].tolist())\n",
    "import random\n",
    "print (np.nan)\n",
    "print (type(arr))\n",
    "for i in range (len(arr)):\n",
    "    if np.isnan(arr[i]):\n",
    "        arr[i]=random.randint(1,3)\n",
    "df['mvar36']=arr"
   ]
  },
  {
   "cell_type": "code",
   "execution_count": 7887,
   "metadata": {},
   "outputs": [
    {
     "data": {
      "text/plain": [
       "count    22621.000000\n",
       "mean         4.237832\n",
       "std          4.678669\n",
       "min          0.000000\n",
       "25%          1.000000\n",
       "50%          3.000000\n",
       "75%          6.000000\n",
       "max         77.000000\n",
       "Name: mvar37, dtype: float64"
      ]
     },
     "execution_count": 7887,
     "metadata": {},
     "output_type": "execute_result"
    }
   ],
   "source": [
    "df['mvar37'].describe()"
   ]
  },
  {
   "cell_type": "code",
   "execution_count": 7888,
   "metadata": {},
   "outputs": [
    {
     "name": "stdout",
     "output_type": "stream",
     "text": [
      "nan\n",
      "<class 'numpy.ndarray'>\n"
     ]
    }
   ],
   "source": [
    "arr=np.array(df['mvar37'].tolist())\n",
    "import random\n",
    "print (np.nan)\n",
    "print (type(arr))\n",
    "for i in range (len(arr)):\n",
    "    if arr[i]>6:\n",
    "        arr[i]=7\n",
    "df['mvar37']=arr"
   ]
  },
  {
   "cell_type": "code",
   "execution_count": 7889,
   "metadata": {},
   "outputs": [
    {
     "name": "stdout",
     "output_type": "stream",
     "text": [
      "nan\n",
      "<class 'numpy.ndarray'>\n"
     ]
    }
   ],
   "source": [
    "arr=np.array(df['mvar37'].tolist())\n",
    "import random\n",
    "print (np.nan)\n",
    "print (type(arr))\n",
    "for i in range (len(arr)):\n",
    "    if np.isnan(arr[i]):\n",
    "        arr[i]=random.randint(0,1)\n",
    "df['mvar37']=arr"
   ]
  },
  {
   "cell_type": "code",
   "execution_count": 4719,
   "metadata": {},
   "outputs": [
    {
     "data": {
      "text/plain": [
       "2.0     3753\n",
       "1.0     3570\n",
       "3.0     3539\n",
       "4.0     2836\n",
       "5.0     2212\n",
       "0.0     2209\n",
       "6.0     1637\n",
       "7.0     1254\n",
       "8.0      974\n",
       "9.0      744\n",
       "10.0     511\n",
       "11.0     397\n",
       "12.0     268\n",
       "13.0     217\n",
       "14.0     182\n",
       "15.0     130\n",
       "16.0      78\n",
       "17.0      71\n",
       "18.0      53\n",
       "19.0      37\n",
       "20.0      27\n",
       "21.0      22\n",
       "23.0      19\n",
       "24.0      18\n",
       "22.0      18\n",
       "26.0      11\n",
       "28.0      10\n",
       "25.0       8\n",
       "27.0       7\n",
       "29.0       5\n",
       "30.0       5\n",
       "31.0       4\n",
       "35.0       3\n",
       "32.0       2\n",
       "41.0       2\n",
       "56.0       1\n",
       "49.0       1\n",
       "38.0       1\n",
       "33.0       1\n",
       "73.0       1\n",
       "34.0       1\n",
       "37.0       1\n",
       "52.0       1\n",
       "39.0       1\n",
       "Name: mvar38, dtype: int64"
      ]
     },
     "execution_count": 4719,
     "metadata": {},
     "output_type": "execute_result"
    }
   ],
   "source": [
    "df['mvar38'].value_counts()"
   ]
  },
  {
   "cell_type": "code",
   "execution_count": 4720,
   "metadata": {},
   "outputs": [
    {
     "name": "stdout",
     "output_type": "stream",
     "text": [
      "nan\n",
      "<class 'numpy.ndarray'>\n"
     ]
    }
   ],
   "source": [
    "arr=np.array(df['mvar38'].tolist())\n",
    "import random\n",
    "print (np.nan)\n",
    "print (type(arr))\n",
    "for i in range (len(arr)):\n",
    "    if np.isnan(arr[i]):\n",
    "        arr[i]=random.randint(1,3)\n",
    "df['mvar38']=arr"
   ]
  },
  {
   "cell_type": "code",
   "execution_count": 4721,
   "metadata": {},
   "outputs": [
    {
     "data": {
      "text/plain": [
       "0.0     21518\n",
       "1.0      1272\n",
       "2.0       199\n",
       "3.0        53\n",
       "4.0        14\n",
       "5.0         7\n",
       "8.0         5\n",
       "10.0        3\n",
       "14.0        2\n",
       "6.0         2\n",
       "20.0        1\n",
       "13.0        1\n",
       "12.0        1\n",
       "Name: mvar39, dtype: int64"
      ]
     },
     "execution_count": 4721,
     "metadata": {},
     "output_type": "execute_result"
    }
   ],
   "source": [
    "df['mvar39'].value_counts()"
   ]
  },
  {
   "cell_type": "code",
   "execution_count": 4722,
   "metadata": {},
   "outputs": [],
   "source": [
    "df['mvar39'] = df['mvar39'].fillna(0)"
   ]
  },
  {
   "cell_type": "code",
   "execution_count": 4723,
   "metadata": {},
   "outputs": [],
   "source": [
    "df['mvar39'] = df['mvar39'].replace([0,1,2,3,4,5,6,7,8,9,10,11,12,13,14,15,21],[0,1,2,3,3,3,3,3,3,3,3,3,3,3,3,3,3])"
   ]
  },
  {
   "cell_type": "code",
   "execution_count": 4724,
   "metadata": {},
   "outputs": [
    {
     "name": "stdout",
     "output_type": "stream",
     "text": [
      "<class 'pandas.core.frame.DataFrame'>\n",
      "RangeIndex: 25000 entries, 0 to 24999\n",
      "Data columns (total 32 columns):\n",
      "application_key    25000 non-null float64\n",
      "mvar2              25000 non-null float64\n",
      "mvar4              25000 non-null float64\n",
      "mvar5              25000 non-null float64\n",
      "mvar17             25000 non-null float64\n",
      "mvar19             25000 non-null float64\n",
      "mvar32             25000 non-null float64\n",
      "mvar33             25000 non-null float64\n",
      "mvar34             25000 non-null float64\n",
      "mvar36             25000 non-null float64\n",
      "mvar37             25000 non-null float64\n",
      "mvar38             25000 non-null float64\n",
      "mvar39             25000 non-null float64\n",
      "mvar40             5458 non-null float64\n",
      "mvar41             7748 non-null float64\n",
      "mvar42             24367 non-null float64\n",
      "mvar43             24723 non-null float64\n",
      "mvar44             22538 non-null float64\n",
      "mvar45             11027 non-null float64\n",
      "mvar46             17851 non-null float64\n",
      "mvar47             25000 non-null float64\n",
      "binned_mvar6       25000 non-null float64\n",
      "binned_mvar1       25000 non-null float64\n",
      "binned_mvar7       25000 non-null float64\n",
      "binned_mvar9       25000 non-null float64\n",
      "mvar48             25000 non-null float64\n",
      "binned_mvar10      25000 non-null float64\n",
      "binned_mvar12      25000 non-null float64\n",
      "binned_mvar13      25000 non-null float64\n",
      "binned_mvar14      25000 non-null category\n",
      "pca_per            25000 non-null float64\n",
      "mvar50             25000 non-null float64\n",
      "dtypes: category(1), float64(31)\n",
      "memory usage: 5.9 MB\n"
     ]
    }
   ],
   "source": [
    "df.info()"
   ]
  },
  {
   "cell_type": "code",
   "execution_count": 4725,
   "metadata": {},
   "outputs": [],
   "source": [
    "df.drop(['mvar40','mvar41'],axis=1,inplace=True)"
   ]
  },
  {
   "cell_type": "code",
   "execution_count": 4726,
   "metadata": {},
   "outputs": [
    {
     "data": {
      "text/plain": [
       "count    24367.000000\n",
       "mean         0.331992\n",
       "std          0.374753\n",
       "min          0.000000\n",
       "25%          0.000000\n",
       "50%          0.200000\n",
       "75%          0.561950\n",
       "max          2.000000\n",
       "Name: mvar42, dtype: float64"
      ]
     },
     "execution_count": 4726,
     "metadata": {},
     "output_type": "execute_result"
    }
   ],
   "source": [
    "df['mvar42'].describe()"
   ]
  },
  {
   "cell_type": "code",
   "execution_count": 4727,
   "metadata": {},
   "outputs": [],
   "source": [
    "df['mvar42'] = df['mvar42'].fillna(0)"
   ]
  },
  {
   "cell_type": "code",
   "execution_count": 4728,
   "metadata": {},
   "outputs": [
    {
     "name": "stdout",
     "output_type": "stream",
     "text": [
      "nan\n",
      "<class 'numpy.ndarray'>\n"
     ]
    }
   ],
   "source": [
    "arr=np.array(df['mvar43'].tolist())\n",
    "import random\n",
    "print (np.nan)\n",
    "print (type(arr))\n",
    "for i in range (len(arr)):\n",
    "    if np.isnan(arr[i]):\n",
    "        arr[i]=random.randint(0,3)\n",
    "df['mvar43']=arr"
   ]
  },
  {
   "cell_type": "code",
   "execution_count": 4729,
   "metadata": {},
   "outputs": [
    {
     "data": {
      "text/plain": [
       "count    22538.000000\n",
       "mean         0.702558\n",
       "std          0.246612\n",
       "min          0.072760\n",
       "25%          0.509132\n",
       "50%          0.732740\n",
       "75%          0.942372\n",
       "max          1.000000\n",
       "Name: mvar44, dtype: float64"
      ]
     },
     "execution_count": 4729,
     "metadata": {},
     "output_type": "execute_result"
    }
   ],
   "source": [
    "df['mvar44'].describe()"
   ]
  },
  {
   "cell_type": "code",
   "execution_count": 4730,
   "metadata": {},
   "outputs": [],
   "source": [
    "df['mvar44']= df['mvar44'].fillna(0.702558)"
   ]
  },
  {
   "cell_type": "code",
   "execution_count": 4731,
   "metadata": {},
   "outputs": [
    {
     "name": "stdout",
     "output_type": "stream",
     "text": [
      "<class 'pandas.core.frame.DataFrame'>\n",
      "RangeIndex: 25000 entries, 0 to 24999\n",
      "Data columns (total 30 columns):\n",
      "application_key    25000 non-null float64\n",
      "mvar2              25000 non-null float64\n",
      "mvar4              25000 non-null float64\n",
      "mvar5              25000 non-null float64\n",
      "mvar17             25000 non-null float64\n",
      "mvar19             25000 non-null float64\n",
      "mvar32             25000 non-null float64\n",
      "mvar33             25000 non-null float64\n",
      "mvar34             25000 non-null float64\n",
      "mvar36             25000 non-null float64\n",
      "mvar37             25000 non-null float64\n",
      "mvar38             25000 non-null float64\n",
      "mvar39             25000 non-null float64\n",
      "mvar42             25000 non-null float64\n",
      "mvar43             25000 non-null float64\n",
      "mvar44             25000 non-null float64\n",
      "mvar45             11027 non-null float64\n",
      "mvar46             17851 non-null float64\n",
      "mvar47             25000 non-null float64\n",
      "binned_mvar6       25000 non-null float64\n",
      "binned_mvar1       25000 non-null float64\n",
      "binned_mvar7       25000 non-null float64\n",
      "binned_mvar9       25000 non-null float64\n",
      "mvar48             25000 non-null float64\n",
      "binned_mvar10      25000 non-null float64\n",
      "binned_mvar12      25000 non-null float64\n",
      "binned_mvar13      25000 non-null float64\n",
      "binned_mvar14      25000 non-null category\n",
      "pca_per            25000 non-null float64\n",
      "mvar50             25000 non-null float64\n",
      "dtypes: category(1), float64(29)\n",
      "memory usage: 5.6 MB\n"
     ]
    }
   ],
   "source": [
    "df.info()"
   ]
  },
  {
   "cell_type": "code",
   "execution_count": 4732,
   "metadata": {},
   "outputs": [],
   "source": [
    "df.drop('mvar45',axis=1,inplace=True)"
   ]
  },
  {
   "cell_type": "code",
   "execution_count": 4733,
   "metadata": {},
   "outputs": [
    {
     "data": {
      "text/plain": [
       "0.0    16355\n",
       "1.0     1352\n",
       "2.0      129\n",
       "3.0       15\n",
       "Name: mvar46, dtype: int64"
      ]
     },
     "execution_count": 4733,
     "metadata": {},
     "output_type": "execute_result"
    }
   ],
   "source": [
    "df['mvar46'].value_counts()"
   ]
  },
  {
   "cell_type": "code",
   "execution_count": 4734,
   "metadata": {},
   "outputs": [],
   "source": [
    "df['mvar46']= df['mvar46'].fillna(0)"
   ]
  },
  {
   "cell_type": "code",
   "execution_count": 4735,
   "metadata": {},
   "outputs": [
    {
     "name": "stdout",
     "output_type": "stream",
     "text": [
      "<class 'pandas.core.frame.DataFrame'>\n",
      "RangeIndex: 25000 entries, 0 to 24999\n",
      "Data columns (total 29 columns):\n",
      "application_key    25000 non-null float64\n",
      "mvar2              25000 non-null float64\n",
      "mvar4              25000 non-null float64\n",
      "mvar5              25000 non-null float64\n",
      "mvar17             25000 non-null float64\n",
      "mvar19             25000 non-null float64\n",
      "mvar32             25000 non-null float64\n",
      "mvar33             25000 non-null float64\n",
      "mvar34             25000 non-null float64\n",
      "mvar36             25000 non-null float64\n",
      "mvar37             25000 non-null float64\n",
      "mvar38             25000 non-null float64\n",
      "mvar39             25000 non-null float64\n",
      "mvar42             25000 non-null float64\n",
      "mvar43             25000 non-null float64\n",
      "mvar44             25000 non-null float64\n",
      "mvar46             25000 non-null float64\n",
      "mvar47             25000 non-null float64\n",
      "binned_mvar6       25000 non-null float64\n",
      "binned_mvar1       25000 non-null float64\n",
      "binned_mvar7       25000 non-null float64\n",
      "binned_mvar9       25000 non-null float64\n",
      "mvar48             25000 non-null float64\n",
      "binned_mvar10      25000 non-null float64\n",
      "binned_mvar12      25000 non-null float64\n",
      "binned_mvar13      25000 non-null float64\n",
      "binned_mvar14      25000 non-null category\n",
      "pca_per            25000 non-null float64\n",
      "mvar50             25000 non-null float64\n",
      "dtypes: category(1), float64(28)\n",
      "memory usage: 5.4 MB\n"
     ]
    }
   ],
   "source": [
    "df.info()"
   ]
  },
  {
   "cell_type": "code",
   "execution_count": 4736,
   "metadata": {},
   "outputs": [],
   "source": [
    "df.drop(['mvar36','mvar38'],axis=1,inplace=True)"
   ]
  },
  {
   "cell_type": "code",
   "execution_count": 4737,
   "metadata": {},
   "outputs": [],
   "source": [
    "y = df['application_key']"
   ]
  },
  {
   "cell_type": "code",
   "execution_count": 4738,
   "metadata": {},
   "outputs": [],
   "source": [
    "df.drop(['application_key'],axis=1,inplace=True)"
   ]
  },
  {
   "cell_type": "code",
   "execution_count": 4739,
   "metadata": {},
   "outputs": [],
   "source": [
    "x = df.iloc[:,:].values"
   ]
  },
  {
   "cell_type": "code",
   "execution_count": 4740,
   "metadata": {},
   "outputs": [
    {
     "name": "stderr",
     "output_type": "stream",
     "text": [
      "C:\\Users\\Chirag Garg\\Anaconda3\\lib\\site-packages\\sklearn\\utils\\validation.py:475: DataConversionWarning: Data with input dtype object was converted to float64 by StandardScaler.\n",
      "  warnings.warn(msg, DataConversionWarning)\n"
     ]
    }
   ],
   "source": [
    "x = sc.transform(x)"
   ]
  },
  {
   "cell_type": "code",
   "execution_count": 4741,
   "metadata": {},
   "outputs": [],
   "source": [
    "pred1 = lreg.predict_proba(x)"
   ]
  },
  {
   "cell_type": "code",
   "execution_count": 4742,
   "metadata": {},
   "outputs": [],
   "source": [
    "pred2=clf.predict(x)"
   ]
  },
  {
   "cell_type": "code",
   "execution_count": 4743,
   "metadata": {},
   "outputs": [],
   "source": [
    "df['lg_1'] = pred1[:,1]\n",
    "df['lgb_1'] = pred2"
   ]
  },
  {
   "cell_type": "code",
   "execution_count": 4744,
   "metadata": {},
   "outputs": [],
   "source": [
    "dframe = df[['lg_1','lgb_1']]\n",
    "X_ = dframe.iloc[:,:].values"
   ]
  },
  {
   "cell_type": "code",
   "execution_count": 4745,
   "metadata": {},
   "outputs": [],
   "source": [
    "prediction2 = lreg1.predict_proba(X_)"
   ]
  },
  {
   "cell_type": "code",
   "execution_count": 4746,
   "metadata": {},
   "outputs": [],
   "source": [
    "y_pred7 = model3.predict(X_)"
   ]
  },
  {
   "cell_type": "code",
   "execution_count": 4747,
   "metadata": {},
   "outputs": [],
   "source": [
    "df['application_key'] = y\n"
   ]
  },
  {
   "cell_type": "code",
   "execution_count": 4748,
   "metadata": {},
   "outputs": [],
   "source": [
    "df['default_ind'] = prediction2[:,1]\n"
   ]
  },
  {
   "cell_type": "code",
   "execution_count": 4779,
   "metadata": {},
   "outputs": [],
   "source": [
    "df['xyz'] = prediction2[:,1]"
   ]
  },
  {
   "cell_type": "code",
   "execution_count": 4780,
   "metadata": {},
   "outputs": [
    {
     "name": "stdout",
     "output_type": "stream",
     "text": [
      "nan\n",
      "<class 'numpy.ndarray'>\n"
     ]
    }
   ],
   "source": [
    "#df['mvar55']\n",
    "arr=np.array(df['xyz'].tolist())\n",
    "import random\n",
    "print (np.nan)\n",
    "print (type(arr))\n",
    "for i in range (len(arr)):\n",
    "    if arr[i]>0.140:\n",
    "        arr[i]=1\n",
    "    else:\n",
    "        arr[i]=0\n",
    "df['xyz']=arr"
   ]
  },
  {
   "cell_type": "code",
   "execution_count": 4781,
   "metadata": {},
   "outputs": [],
   "source": [
    "df['proba'] = pred1[:,1]"
   ]
  },
  {
   "cell_type": "code",
   "execution_count": 4782,
   "metadata": {},
   "outputs": [],
   "source": [
    "dframe = df[['application_key','default_ind','proba','xyz']]"
   ]
  },
  {
   "cell_type": "code",
   "execution_count": 4783,
   "metadata": {},
   "outputs": [
    {
     "data": {
      "text/plain": [
       "1.0    12707\n",
       "0.0    12293\n",
       "Name: xyz, dtype: int64"
      ]
     },
     "execution_count": 4783,
     "metadata": {},
     "output_type": "execute_result"
    }
   ],
   "source": [
    "df['xyz'].value_counts()"
   ]
  },
  {
   "cell_type": "code",
   "execution_count": 4784,
   "metadata": {},
   "outputs": [],
   "source": [
    "dframe.to_csv('F:/AMEX/submissionfinal.csv',index = False)"
   ]
  },
  {
   "cell_type": "code",
   "execution_count": null,
   "metadata": {},
   "outputs": [],
   "source": []
  }
 ],
 "metadata": {
  "kernelspec": {
   "display_name": "Python 3",
   "language": "python",
   "name": "python3"
  },
  "language_info": {
   "codemirror_mode": {
    "name": "ipython",
    "version": 3
   },
   "file_extension": ".py",
   "mimetype": "text/x-python",
   "name": "python",
   "nbconvert_exporter": "python",
   "pygments_lexer": "ipython3",
   "version": "3.6.5"
  }
 },
 "nbformat": 4,
 "nbformat_minor": 2
}
